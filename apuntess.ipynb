{
 "cells": [
  {
   "cell_type": "markdown",
   "metadata": {},
   "source": [
    "# For"
   ]
  },
  {
   "cell_type": "code",
   "execution_count": null,
   "metadata": {},
   "outputs": [],
   "source": [
    "                          \n",
    "\n",
    "                                           #####FOR#####\n",
    "    \n",
    "                                   #loop for iterador (hay más tipos)#\n",
    "\n",
    "#tu en un loop puedes iterar sobre una secuencia \n",
    "#(es decir, una lista, una tupla, un diccionario, un conjunto o una cadena).\n",
    "\n",
    "# String\n",
    "x = \"Hello World\"\n",
    "\n",
    "for i in x:\n",
    "    print(i)\n",
    "\n",
    "# Lists\n",
    "x = [\"apple\", \"banana\", \"cherry\"]\n",
    "for i in x:\n",
    "    print(i)\n",
    "\n",
    "# Tuples\n",
    "x = (31,'prog',4.0)\n",
    "for i in x:\n",
    "    print(i)\n",
    "\n",
    "# Dicts\n",
    "x = dict(name=\"John\", age=36)\n",
    "for i in x:\n",
    "    print(i)\n",
    "\n",
    "# Set\n",
    "x = set((\"apple\", \"banana\", \"cherry\"))\n",
    "for i in x:\n",
    "    print(i)\n",
    "\n"
   ]
  },
  {
   "cell_type": "code",
   "execution_count": 81,
   "metadata": {},
   "outputs": [
    {
     "name": "stdout",
     "output_type": "stream",
     "text": [
      "0.5\n",
      "1.5\n"
     ]
    }
   ],
   "source": [
    "#que no es un iterador y como podemos hacerlo?\n",
    " #Iter, Float y built in funcion\n",
    "    \n",
    "\n",
    "\n",
    "#Integer\n",
    "\n",
    "numero =str(456) #hay que hacerlo iterable para el for, osea un acadena x ej\n",
    "suma =0\n",
    "for cifra in numero:\n",
    "    suma += int(cifra)#aqui se vuelve a pasar a entero porque noo se puede sumar un entero con cadena\n",
    "    print(suma)        #importante que el += esten pegados o da error\n",
    "    \n",
    "    \n",
    "    #otro ejemplo de iterar integer\n",
    "\n",
    "x= 456\n",
    "\n",
    "for i in range(x):    #utilizar un range para iterarlo \n",
    "    print(i)\n",
    "\n",
    "#Float\n",
    "import numpy\n",
    "x = numpy.arange(0,2.2)\n",
    "\n",
    "for i in x: \n",
    "    print(i)                    #para los float =numpy.arange or numpy.linspace (si se quiere poner el numero de muestras (entrada,salida,muestra)\n",
    "                             #se obtiene un array\n",
    "                            \n",
    "                             #otra opcion puede ser enumerate \n",
    "    \n",
    "    \n",
    "\n",
    "#curiosidad: for i = 1 to 10 \n",
    "\n",
    "#esto es lo mismo que for i in rage810\n",
    "    "
   ]
  },
  {
   "cell_type": "markdown",
   "metadata": {},
   "source": [
    "# SUM"
   ]
  },
  {
   "cell_type": "code",
   "execution_count": 56,
   "metadata": {},
   "outputs": [
    {
     "name": "stdout",
     "output_type": "stream",
     "text": [
      "115.2\n",
      "115\n",
      "115\n",
      "115\n",
      "1118192146\n",
      "1241\n",
      "1ho2ho4ho1\n"
     ]
    }
   ],
   "source": [
    "                                         ######SUM####\n",
    "                                       #se usa para sumar valores d euna lista, set, dict, o tupla .\n",
    "                                        #estos valores pueden ser numeros enteros o float no string\n",
    "        \n",
    "        \n",
    "#List\n",
    "\n",
    "listA = [\n",
    "    11.2,\n",
    "    18,\n",
    "    19,\n",
    "    21,\n",
    "    46\n",
    "]\n",
    "\n",
    "print(sum(listA))\n",
    "\n",
    "#tupla\n",
    "tupA = (\n",
    "    11,\n",
    "    18,\n",
    "    19,\n",
    "    21,\n",
    "    46\n",
    ")\n",
    "\n",
    "print(sum(tupA))\n",
    "\n",
    "#set\n",
    "setA = {\n",
    "    11,\n",
    "    18,\n",
    "    19,\n",
    "    21,\n",
    "    46\n",
    "}\n",
    "\n",
    "print(sum(setA))\n",
    "\n",
    "#dict\n",
    "dictA = {\n",
    "    11: 'Eleven',\n",
    "    18: 'Dustin',\n",
    "    19: 'Mike',\n",
    "    21: 'Lucas',\n",
    "    46: 'Noah'\n",
    "}\n",
    "\n",
    "print(sum(dictA))\n",
    "\n",
    "dictA = {\n",
    "    '11': 'Eleven',\n",
    "    '18': 'Dustin',\n",
    "    '19': 'Mike',\n",
    "    '21': 'Lucas',\n",
    "    '46': 'Noah'\n",
    "}\n",
    "\n",
    "print(\"\".join(dictA))\n",
    "\n",
    "\n",
    "                                                    #si lo que s equiere unir son string, utilizar \"loquelouna\"join.un_iterable\n",
    "#otro ejemplo de join aunque no viene al caso\n",
    "print(''.join(['1','2','4','1']))\n",
    "print('ho'.join(['1','2','4','1']))\n",
    "\n"
   ]
  },
  {
   "cell_type": "markdown",
   "metadata": {},
   "source": [
    "# Append"
   ]
  },
  {
   "cell_type": "code",
   "execution_count": 45,
   "metadata": {},
   "outputs": [
    {
     "name": "stdout",
     "output_type": "stream",
     "text": [
      "['French', 2]\n",
      "['French', (2, 5)]\n",
      "['French', {'Chinese', 'Japanese'}]\n",
      "['French', 'Chinese', 'Japanese']\n",
      "[2, 3, 'Rodrigo', 4]\n"
     ]
    }
   ],
   "source": [
    "#sirve para meter elementos dentro de una lista NO ES PARA SET , NI DICT , NI TUPLA\n",
    "\n",
    "#Estos elementos pueden ser desde un valor/valores , string , TAMBN TUPLAS, LISTAS, SETS  Y DICTS\n",
    "#pero semeten dentro con sus parentesis, corchetes o llaves\n",
    "\n",
    "language = ['French']\n",
    "\n",
    "valor_a_añadir = 2\n",
    "\n",
    "language.append(valor_a_añadir)\n",
    "\n",
    "print(language)\n",
    "\n",
    "language = ['French']\n",
    "valor_a_añadir = 2,5\n",
    "\n",
    "language.append(valor_a_añadir)\n",
    "print(language)\n",
    "\n",
    "#tuplas/dict/list/set en listas s emeten con sus parentesis o lo que sea\n",
    "\n",
    "language = ['French']\n",
    "set_a_añadir = {'Chinese', 'Japanese'}\n",
    "\n",
    "language.append(set_a_añadir)\n",
    "print(language)\n",
    "\n",
    "\n",
    "#si queremos que se metan sin los parentesis y demás entonces utilizar¡OJO solo los iterables, sino append\n",
    "\n"
   ]
  },
  {
   "cell_type": "code",
   "execution_count": null,
   "metadata": {},
   "outputs": [],
   "source": [
    "#APPEND.EXTEND\n",
    "\n",
    "language = ['French']\n",
    "set_a_añadir = {'Chinese', 'Japanese'}\n",
    "\n",
    "language.extend(set_a_añadir)\n",
    "print(language)\n",
    "\n",
    "#insert , es igual que extend\n",
    "\n",
    "#insert nos permite agregar un elemento (“Rodrigo”) en donde queramos introduciendo el indice (3):\n",
    "mi_lista= [2,3,4]\n",
    "mi_lista.insert(2, \"Rodrigo\")\n",
    "print(mi_lista)"
   ]
  },
  {
   "cell_type": "markdown",
   "metadata": {},
   "source": [
    "# COMO HACER UN APPEND EN UNA TUPLA"
   ]
  },
  {
   "cell_type": "code",
   "execution_count": 12,
   "metadata": {},
   "outputs": [
    {
     "name": "stdout",
     "output_type": "stream",
     "text": [
      "['Product', '500.00', '1200.00', 2]\n",
      "['hola', 'adios', 2]\n",
      "[5, 10, 7, 4, 15, 3]\n"
     ]
    }
   ],
   "source": [
    "#convert tuple a list\n",
    "tuples=('Product', '500.00', '1200.00')  #al hacer una comprehensive s ecombierte en lista\n",
    "result = [e for e in tuples]\n",
    "result.append(2)\n",
    "print(result)\n",
    "\n",
    "\n",
    "tuples=()  \n",
    "result = [\"hola\", \"adios\"]\n",
    "result.append(2)\n",
    "print(result)\n",
    "\n",
    "#Convert list to tuple\n",
    "tuplex = (5, 10, 7, 4, 15, 3)           # usando list.\n",
    "listx = list(tuplex) \n",
    "print(listx)\n",
    "\n"
   ]
  },
  {
   "cell_type": "code",
   "execution_count": 9,
   "metadata": {},
   "outputs": [
    {
     "name": "stdout",
     "output_type": "stream",
     "text": [
      "(5, 10, 7, 4, 15, 3)\n",
      "(5, 10, 7, 4, 15, 3)\n"
     ]
    }
   ],
   "source": [
    "#Convert list to tuple\n",
    "listx = [5, 10, 7, 4, 15, 3]          #usando tuple.\n",
    "tuplex = tuple(listx)\n",
    "print(tuplex)\n",
    "\n",
    "listx = [5, 10, 7, 4, 15, 3]          #usando tuple.\n",
    "listx = tuple(listx)\n",
    "print(tuplex)\n",
    "\n",
    "\n",
    "#Convert list to tuple\n",
    "listx = [5, 10, 7, 4, 15, 3]   #desempaquetar elementos de una lista en una tupla\n",
    "tuplex =(*listx,)\n",
    "print(tuplex)"
   ]
  },
  {
   "cell_type": "markdown",
   "metadata": {},
   "source": [
    "# APEND EN UN SET"
   ]
  },
  {
   "cell_type": "code",
   "execution_count": null,
   "metadata": {},
   "outputs": [],
   "source": []
  },
  {
   "cell_type": "code",
   "execution_count": 72,
   "metadata": {
    "scrolled": true
   },
   "outputs": [
    {
     "name": "stdout",
     "output_type": "stream",
     "text": [
      "{2, 'French'}\n",
      "{(2, 5, 9, 10), 'French'}\n",
      "{('Chinese', 'Japanese'), 'French'}\n"
     ]
    },
    {
     "data": {
      "text/plain": [
       "'\\nLista de tipos inmutables:\\n\\nint, float, decimal, complex, bool, string, tuple, range, frozenset, bytes\\nLista de tipos mutables:\\n\\nlist, dict, set, bytearray, user-defined classes\\n'"
      ]
     },
     "execution_count": 72,
     "metadata": {},
     "output_type": "execute_result"
    }
   ],
   "source": [
    "#ad. equivaldría a el append que mete valor/valores pero en un set\n",
    "\n",
    "language = {'French'}\n",
    "\n",
    "valor_a_añadir = 2\n",
    "\n",
    "language.add(valor_a_añadir)\n",
    "\n",
    "print(language)\n",
    "\n",
    "language = {'French'}\n",
    "valor_a_añadir = 2,5,9,10\n",
    "\n",
    "language.add(valor_a_añadir)\n",
    "print(language)\n",
    "\n",
    "#¿pero porque al añadir listas da error? Edit: \n",
    "#some explanation: The documentation defines a set as an unordered collection of distinct hashable objects.\n",
    "#si quiero añadir una lista es mutable\n",
    "\n",
    "\"\"\"\n",
    "language = {'French'}\n",
    "lista_a_añadir = ['Chinese', 'Japanese']       #error unhashabletype\n",
    "language.add(lista_a_añadir)\n",
    "print(language)\n",
    "\"\"\"\n",
    "\n",
    "language = {'French'}\n",
    "lista_a_añadir = ['Chinese', 'Japanese']       #error unhashabletype\n",
    "tupla_a_añadir =tuple(lista_a_añadir)\n",
    "language.add(tupla_a_añadir)\n",
    "print(language)                                #como vemos no puede haber listas dentro de un set, solo inmutables\n",
    "                                            #si aceptaría una tupla\n",
    "\"\"\"\n",
    "Lista de tipos inmutables:\n",
    "\n",
    "int, float, decimal, complex, bool, string, tuple, range, frozenset, bytes\n",
    "Lista de tipos mutables:\n",
    "\n",
    "list, dict, set, bytearray, user-defined classes\n",
    "\"\"\"\n",
    "\n",
    "#language = {'French'}\n",
    "#lista_a_añadir = {\n",
    "#   11: 'Eleven',\n",
    "#    18: 'Dustin',\n",
    "#   19: 'Mike',                                   #y si intentamos añadir un dict? ##error\n",
    "#   21: 'Lucas',\n",
    "#   46: 'Noah'\n",
    "#}                  \n",
    "#language.add(lista_a_añadir)\n",
    "#print(language)\n"
   ]
  },
  {
   "cell_type": "code",
   "execution_count": 71,
   "metadata": {},
   "outputs": [
    {
     "ename": "IndentationError",
     "evalue": "unexpected indent (<ipython-input-71-57d300c82f1c>, line 6)",
     "output_type": "error",
     "traceback": [
      "\u001b[0;36m  File \u001b[0;32m\"<ipython-input-71-57d300c82f1c>\"\u001b[0;36m, line \u001b[0;32m6\u001b[0m\n\u001b[0;31m    solo valores, de ahi que deje meter set y dics dentro\u001b[0m\n\u001b[0m    ^\u001b[0m\n\u001b[0;31mIndentationError\u001b[0m\u001b[0;31m:\u001b[0m unexpected indent\n"
     ]
    }
   ],
   "source": [
    " \n",
    "    \n",
    "language = {'French'}\n",
    "set_a_añadir = ['Chinese', 'Japanese']\n",
    "language.update(set_a_añadir)\n",
    "print(language)\n",
    "                                                       #update equivaldría a extend , que no mete parentesis,\n",
    "                                                        solo valores, de ahi que deje meter set y dics dentro\n",
    "        \n",
    "language = {'French'}\n",
    "set_a_añadir = {'Chinese', 'Japanese'}\n",
    "language.update(set_a_añadir)\n",
    "print(language)\n",
    "                                                            #ojoSI queremos añadir a un set no sería language= {}\n",
    "\n",
    "language = set()\n",
    "set_a_añadir = {'Chinese', 'Japanese'}\n",
    "language.update(set_a_añadir)\n",
    "print(language)\n"
   ]
  },
  {
   "cell_type": "markdown",
   "metadata": {},
   "source": [
    "# APPEND EN UN DICT"
   ]
  },
  {
   "cell_type": "code",
   "execution_count": 109,
   "metadata": {},
   "outputs": [
    {
     "name": "stdout",
     "output_type": "stream",
     "text": [
      "{'key': 'value', 'mynewkey': 'mynewvalue'}\n",
      "{'1': 'frances', (3, 3): ['CSharp', 'hola', 'adios']}\n",
      "{'1': 'frances', (3, 3): {'1': 'frances'}}\n",
      "{'1': 'frances', '3': ('CSharp', 'hola', 'adios')}\n",
      "{'1': 'frances', '3': {'hola', 'CSharp', 'adios'}}\n",
      "{'1': 'frances', '3': ['CSharp', 'hola', 'adios']}\n"
     ]
    }
   ],
   "source": [
    "\n",
    "\n",
    "d = {'key':'value'}\n",
    "d['mynewkey'] = 'mynewvalue'     ## Updates if 'a' exists, else adds 'a' \n",
    "                                 #por eso no se pone ni add ni update #mas bn asigna elementos\n",
    "print(d)\n",
    "\n",
    "                                #el apend de lista y el add. de set , este si mete lo sparentesis,\n",
    "                                 #COMO LE PASA AL ADD DE SET , NO PUEDEN METERSE MUTABLES, EN LAS KEYS, SIN \n",
    "                                    #EMBARGO SI , EN LOS VALUES\n",
    "  #EJ          \n",
    "\"\"\" \n",
    "dicionario= {'1': \"frances\"} \n",
    "dicionario{3:3} = [\"CSharp\",\"hola\",\"adios\"]    # METIENDO UN DIC EN KEYS SALE ERROR\n",
    "print(dicionario)\n",
    "\"\"\"\n",
    "\n",
    "dicionario= {'1': \"frances\"} \n",
    "dicionario [(3,3)] = [\"CSharp\",\"hola\",\"adios\"]   # METIENDO UNA DUPLA EN KEYS NO SALE\n",
    "print(dicionario)\n",
    "\n",
    "\n",
    "dicionario= {'1': \"frances\"} \n",
    "dicionario [(3,3)] = {'1': \"frances\"}   # METIENDO UN DIC EN VALUES, SI SE PUEDE\n",
    "print(dicionario)\n",
    "                                 \n",
    "dicionario= {'1': \"frances\"} \n",
    "dicionario[\"3\"] = \"CSharp\",\"hola\",\"adios\"\n",
    "print(dicionario)                \n",
    "\n",
    "\n",
    "dicionario= {'1': \"frances\"} \n",
    "dicionario[\"3\"] = {\"CSharp\",\"hola\",\"adios\"}\n",
    "print(dicionario)\n",
    "\n",
    "\n",
    "\n",
    "dicionario= {'1': \"frances\"} \n",
    "dicionario[\"3\"] = [\"CSharp\",\"hola\",\"adios\"]\n",
    "print(dicionario)\n"
   ]
  },
  {
   "cell_type": "code",
   "execution_count": null,
   "metadata": {},
   "outputs": [],
   "source": []
  },
  {
   "cell_type": "code",
   "execution_count": 66,
   "metadata": {},
   "outputs": [
    {
     "name": "stdout",
     "output_type": "stream",
     "text": [
      "{'key': 'value', 'mynewkey': 'mynewvalue'}\n",
      "{'1': 'frances', '3': {'hola', 'CSharp', 'adios'}}\n",
      "{'1': 'frances', 3: 4, 5: 6, 7: 8}\n",
      "{'1': 'frances', 'a': 34, 'b': 6, 'c': 8}\n",
      "{3: 4, 5: 6, 7: 8}\n",
      "{'a': 1, 'b': 2, 'c': 3, '1': 'frances'}\n",
      "{'1': 'frances', 'a': 1, 'b': 2, 'c': 3}\n"
     ]
    }
   ],
   "source": [
    "\n",
    "#recordatorio: update no incluye parentesis y se utiliza en set . sería el extend de lista \n",
    "\n",
    "dicionario = {'1': \"frances\"}\n",
    "\n",
    "valor_a_añadir = {3:4, 5:6, 7:8}\n",
    "\n",
    "dicionario.update(valor_a_añadir)\n",
    "\n",
    "print(dicionario)\n",
    "\n",
    "\n",
    "\n",
    "\n",
    "                                            #recordemos que para igualar numeros lo hacemos con llaves\n",
    "dicionario = {'1': \"frances\"}\n",
    "valor_a_añadir = dict(a=34, b=6, c=8)\n",
    "dicionario.update(valor_a_añadir)\n",
    "\n",
    "print(dicionario)\n",
    "\n",
    "#OJO CON ESCRIBIRLO ROLLO DICT \n",
    "\n",
    "\"\"\"\n",
    "                                                 #esto da el error\"SyntaxError: keyword can't be an expression\"\n",
    "   dicionario = dict(1=1, 4=2, 5=3)                                              #you're trying to call a function called \"dict\" with two keyword arguments,\n",
    "                                                but your keywords doesn't match Python's identifier syntax.\n",
    "                                                dicionario.update(valor_a_añadir)\n",
    "                                                #da igual que lleve comillas en key or value, da error, igualar a letra\n",
    "\"\"\"\n",
    "\n",
    "dicionario = {} #dict()                           #igual añadiendo desde un dicionario vacio .Tambn se puede dict()\n",
    "\n",
    "valor_a_añadir = {3:4, 5:6, 7:8}\n",
    "\n",
    "dicionario.update(valor_a_añadir)\n",
    "\n",
    "print(dicionario)\n",
    "\n",
    "\n",
    "dicionario = dict(a=1, b=2, c=3)\n",
    "valor_a_añadir= {'1': \"frances\"}                                    \n",
    "dicionario.update(valor_a_añadir)                       #otra forma d eescribir un dic, se puede usar como dic o para añadir partes\n",
    "print(dicionario)\n",
    "\n",
    "\n",
    "\n",
    "\n",
    "\n",
    "dicionario= {'1': \"frances\"} \n",
    "valor_a_añadir = dict(a=1, b=2, c=3)\n",
    "dicionario.update(valor_a_añadir)                       #otra forma d eescribir un dic, se puede usar como dic o para añadir partes\n",
    "print(dicionario)\n",
    "\n"
   ]
  },
  {
   "cell_type": "markdown",
   "metadata": {},
   "source": [
    "# MÁS SOBRE DICCIONARIOS"
   ]
  },
  {
   "cell_type": "code",
   "execution_count": 130,
   "metadata": {},
   "outputs": [
    {
     "data": {
      "text/plain": [
       "((0, 'Juan'), (1, 'Pepe'), (2, 'Marta'))"
      ]
     },
     "execution_count": 130,
     "metadata": {},
     "output_type": "execute_result"
    }
   ],
   "source": [
    "nombres = [\"Juan\",\"Pepe\",\"Marta\"]\n",
    "tuple(enumerate(nombres))"
   ]
  },
  {
   "cell_type": "code",
   "execution_count": 125,
   "metadata": {},
   "outputs": [
    {
     "name": "stdout",
     "output_type": "stream",
     "text": [
      "<enumerate object at 0x7f8538581fc0>\n"
     ]
    }
   ],
   "source": [
    "nombres = [\"Juan\",\"Pepe\",\"Marta\"]\n",
    "print(enumerate(nombres))"
   ]
  },
  {
   "cell_type": "code",
   "execution_count": 128,
   "metadata": {},
   "outputs": [
    {
     "name": "stdout",
     "output_type": "stream",
     "text": [
      "0 Juan\n",
      "1 Pepe\n",
      "2 Marta\n"
     ]
    }
   ],
   "source": [
    "nombres = [\"Juan\",\"Pepe\",\"Marta\"]\n",
    "\n",
    "for n in enumerate(nombres):\n",
    "    print(n[0],n[1])"
   ]
  },
  {
   "cell_type": "code",
   "execution_count": 131,
   "metadata": {},
   "outputs": [
    {
     "name": "stdout",
     "output_type": "stream",
     "text": [
      "[0, 'Juan']\n",
      "[1, 'Pepe']\n",
      "[2, 'Marta']\n"
     ]
    }
   ],
   "source": [
    "nombres = [\"Juan\",\"Pepe\",\"Marta\"]\n",
    "\n",
    "for n in enumerate(nombres):\n",
    "    print(list(n))"
   ]
  },
  {
   "cell_type": "code",
   "execution_count": 132,
   "metadata": {},
   "outputs": [
    {
     "name": "stdout",
     "output_type": "stream",
     "text": [
      "👨\n",
      "hola 0\n",
      "👨\n",
      "1 Pepe\n",
      "👨\n",
      "hola 2\n"
     ]
    }
   ],
   "source": [
    "nombres = [\"Juan\",\"Pepe\",\"Marta\"]\n",
    "\n",
    "for i,e in enumerate(nombres):\n",
    "    print(\"👨\")\n",
    "    if e == \"Pepe\":\n",
    "        print(i,e)\n",
    "    else:\n",
    "        print(\"hola\",i)"
   ]
  },
  {
   "cell_type": "code",
   "execution_count": 134,
   "metadata": {},
   "outputs": [
    {
     "name": "stdout",
     "output_type": "stream",
     "text": [
      "0 Juan\n",
      "1 Pepe\n",
      "2 Marta\n"
     ]
    }
   ],
   "source": [
    "nombres = [\"Juan\",\"Pepe\",\"Marta\"]\n",
    "\n",
    "for i,e in enumerate(nombres):\n",
    "    print(i,e)\n",
    " "
   ]
  },
  {
   "cell_type": "code",
   "execution_count": 135,
   "metadata": {},
   "outputs": [
    {
     "name": "stdout",
     "output_type": "stream",
     "text": [
      "Nombre: Juan Apellido: García\n",
      "Nombre: Juan Apellido: García\n",
      "Nombre: Marta Apellido: López\n",
      "Nombre: Marta Apellido: López\n",
      "Nombre: David Apellido: Pérez\n",
      "Nombre: David Apellido: Pérez\n"
     ]
    }
   ],
   "source": [
    "\n",
    "nombres = [\"Juan\",\"Marta\",\"David\",\"Ana\"]\n",
    "apellidos = [\"García\", \"López\",\"Pérez\"]\n",
    "\n",
    "for n,a in zip(nombres, apellidos):\n",
    "    print(\"Nombre:\",n,\"Apellido:\",a)\n",
    "    print(f\"Nombre: {n} Apellido: {a}\")"
   ]
  },
  {
   "cell_type": "code",
   "execution_count": 143,
   "metadata": {},
   "outputs": [
    {
     "name": "stdout",
     "output_type": "stream",
     "text": [
      "[3]\n"
     ]
    }
   ],
   "source": [
    "nombres = [\"Pepe\",\"Marta\",\"Ana\"]\n",
    "apellidos = [\"Garcia\",\"Lopez\",\"Perez\"]\n",
    "notas = [[5,3],[2,5,9],[3]]\n",
    "\n",
    "\n",
    "\n",
    "print( notas[i])\n"
   ]
  },
  {
   "cell_type": "markdown",
   "metadata": {},
   "source": [
    "# LEN"
   ]
  },
  {
   "cell_type": "code",
   "execution_count": 145,
   "metadata": {},
   "outputs": [
    {
     "name": "stdout",
     "output_type": "stream",
     "text": [
      "0\n",
      "3\n",
      "3\n",
      "9\n"
     ]
    }
   ],
   "source": [
    "#¿Cómo funciona len () con tuplas, listas y rangos?\n",
    "\n",
    "testList = []\n",
    "print(len(testList))\n",
    "\n",
    "testList = [1, 2, 3]\n",
    "print(len(testList))\n",
    "\n",
    "testTuple = (1, 2, 3)\n",
    "print(len(testTuple))\n",
    "\n",
    "testRange = range(1, 10)\n",
    "print(len(testRange))                         #AQUI EL ULTIMO NUMERO DEL RANGO NO LO CUENTA , ES 9"
   ]
  },
  {
   "cell_type": "code",
   "execution_count": 146,
   "metadata": {},
   "outputs": [
    {
     "name": "stdout",
     "output_type": "stream",
     "text": [
      "0\n",
      "6\n"
     ]
    }
   ],
   "source": [
    "#¿Cómo funciona len () con cadenas ?\n",
    "testString = ''\n",
    "print(len(testString))\n",
    "\n",
    "testString = 'Python'\n",
    "print(len(testString))                #CUENTA CADA UNA DE LAS LETRAS\n",
    "\n",
    "\n",
    "\n",
    "\n"
   ]
  },
  {
   "cell_type": "code",
   "execution_count": null,
   "metadata": {},
   "outputs": [],
   "source": [
    "#¿Cómo funciona len () con diccionarios y conjuntos?\n",
    "testSet = {1, 2, 3}\n",
    "print(len(testSet))\n",
    "\n",
    "# Empty Set\n",
    "testSet = set()\n",
    "print(len(testSet))\n",
    "\n",
    "testDict = {1: 'one', 2: 'two'}\n",
    "print(len(testDict))\n",
    "\n",
    "testDict = {}\n",
    "print(len(testDict))\n",
    "\n",
    "testSet = {1, 2}\n",
    "# frozenSet\n",
    "frozenTestSet = frozenset(testSet)\n",
    "print(len(frozenTestSet))\n"
   ]
  },
  {
   "cell_type": "code",
   "execution_count": 2,
   "metadata": {},
   "outputs": [
    {
     "ename": "SyntaxError",
     "evalue": "unexpected EOF while parsing (<ipython-input-2-b8e122529c79>, line 2)",
     "output_type": "error",
     "traceback": [
      "\u001b[0;36m  File \u001b[0;32m\"<ipython-input-2-b8e122529c79>\"\u001b[0;36m, line \u001b[0;32m2\u001b[0m\n\u001b[0;31m    \u001b[0m\n\u001b[0m    ^\u001b[0m\n\u001b[0;31mSyntaxError\u001b[0m\u001b[0;31m:\u001b[0m unexpected EOF while parsing\n"
     ]
    }
   ],
   "source": [
    "\n",
    "\n",
    " print(len(range(10))\n",
    "\n"
   ]
  },
  {
   "cell_type": "code",
   "execution_count": 6,
   "metadata": {},
   "outputs": [
    {
     "ename": "TypeError",
     "evalue": "object of type 'int' has no len()",
     "output_type": "error",
     "traceback": [
      "\u001b[0;31m---------------------------------------------------------------------------\u001b[0m",
      "\u001b[0;31mTypeError\u001b[0m                                 Traceback (most recent call last)",
      "\u001b[0;32m<ipython-input-6-73683f3e38ab>\u001b[0m in \u001b[0;36m<module>\u001b[0;34m\u001b[0m\n\u001b[1;32m      1\u001b[0m \u001b[0ma\u001b[0m\u001b[0;34m=\u001b[0m\u001b[0mlen\u001b[0m\u001b[0;34m(\u001b[0m\u001b[0mrange\u001b[0m\u001b[0;34m(\u001b[0m\u001b[0;36m10\u001b[0m\u001b[0;34m)\u001b[0m\u001b[0;34m)\u001b[0m\u001b[0;34m\u001b[0m\u001b[0;34m\u001b[0m\u001b[0m\n\u001b[0;32m----> 2\u001b[0;31m \u001b[0;32mfor\u001b[0m \u001b[0mi\u001b[0m \u001b[0;32min\u001b[0m \u001b[0mrange\u001b[0m\u001b[0;34m(\u001b[0m\u001b[0mlen\u001b[0m\u001b[0;34m(\u001b[0m\u001b[0ma\u001b[0m\u001b[0;34m)\u001b[0m\u001b[0;34m)\u001b[0m\u001b[0;34m:\u001b[0m\u001b[0;34m\u001b[0m\u001b[0;34m\u001b[0m\u001b[0m\n\u001b[0m\u001b[1;32m      3\u001b[0m     \u001b[0mprint\u001b[0m\u001b[0;34m(\u001b[0m\u001b[0ma\u001b[0m\u001b[0;34m[\u001b[0m\u001b[0mi\u001b[0m\u001b[0;34m]\u001b[0m\u001b[0;34m)\u001b[0m\u001b[0;34m\u001b[0m\u001b[0;34m\u001b[0m\u001b[0m\n",
      "\u001b[0;31mTypeError\u001b[0m: object of type 'int' has no len()"
     ]
    }
   ],
   "source": [
    "a=len(range(10))\n",
    "for i in range(len(a)):\n",
    "    print(a[i])"
   ]
  },
  {
   "cell_type": "code",
   "execution_count": 16,
   "metadata": {},
   "outputs": [
    {
     "ename": "TypeError",
     "evalue": "'list' object is not callable",
     "output_type": "error",
     "traceback": [
      "\u001b[0;31m---------------------------------------------------------------------------\u001b[0m",
      "\u001b[0;31mTypeError\u001b[0m                                 Traceback (most recent call last)",
      "\u001b[0;32m<ipython-input-16-aeda43d51884>\u001b[0m in \u001b[0;36m<module>\u001b[0;34m\u001b[0m\n\u001b[1;32m      2\u001b[0m \u001b[0;34m\u001b[0m\u001b[0m\n\u001b[1;32m      3\u001b[0m \u001b[0;32mfor\u001b[0m \u001b[0mi\u001b[0m \u001b[0;32min\u001b[0m \u001b[0mrange\u001b[0m\u001b[0;34m(\u001b[0m\u001b[0;36m0\u001b[0m\u001b[0;34m,\u001b[0m\u001b[0mlen\u001b[0m\u001b[0;34m(\u001b[0m\u001b[0mlista\u001b[0m\u001b[0;34m)\u001b[0m\u001b[0;34m)\u001b[0m\u001b[0;34m:\u001b[0m\u001b[0;34m\u001b[0m\u001b[0;34m\u001b[0m\u001b[0m\n\u001b[0;32m----> 4\u001b[0;31m     \u001b[0mprint\u001b[0m\u001b[0;34m(\u001b[0m \u001b[0mlista\u001b[0m\u001b[0;34m(\u001b[0m\u001b[0mi\u001b[0m\u001b[0;34m)\u001b[0m\u001b[0;34m)\u001b[0m\u001b[0;34m\u001b[0m\u001b[0;34m\u001b[0m\u001b[0m\n\u001b[0m",
      "\u001b[0;31mTypeError\u001b[0m: 'list' object is not callable"
     ]
    }
   ],
   "source": [
    "lista = [\"carmen\",\"elena\",\"lucia\",\"sara\",\"patricia\",\"sonsoles\"] \n",
    "\n",
    "for i in range(0,len(lista)):\n",
    "    print( lista(i))"
   ]
  },
  {
   "cell_type": "code",
   "execution_count": 11,
   "metadata": {},
   "outputs": [
    {
     "name": "stdout",
     "output_type": "stream",
     "text": [
      "{'name': 'Fake School 2', 'classRooms': [{'teacher': {'firstName': 'Lucas', 'lastName': 'Schroeder', 'age': 29}, 'students': [{'firstName': 'Giuseppe', 'lastName': 'Hegmann', 'age': 24}, {'firstName': 'Jennyfer', 'lastName': 'Hane', 'age': 19}, {'firstName': 'Mikayla', 'lastName': 'Braun', 'age': 23}, {'firstName': 'Rickie', 'lastName': 'White', 'age': 22}, {'firstName': 'Rose', 'lastName': 'Collins', 'age': 30}, {'firstName': 'Lucille D.', 'lastName': 'Lozano', 'age': 'NA'}]}, {'teacher': {'firstName': 'Green', 'lastName': 'Sauer', 'age': 25}, 'students': [{'firstName': 'Melany', 'lastName': 'Welch', 'age': 25}, {'firstName': 'Paxton', 'lastName': 'Corkery', 'age': 22}, {'firstName': 'Nellie', 'lastName': 'Hauck', 'age': 26}, {'firstName': 'Eunice', 'lastName': 'Hirthe', 'age': 26}, {'firstName': 'Aylin', 'lastName': 'Barrows', 'age': 26}]}]}\n"
     ]
    }
   ],
   "source": [
    "print(schoolSystem['schools'][1])"
   ]
  },
  {
   "cell_type": "code",
   "execution_count": 13,
   "metadata": {},
   "outputs": [
    {
     "name": "stdout",
     "output_type": "stream",
     "text": [
      "classRooms\n"
     ]
    }
   ],
   "source": [
    "print(['classRooms'][0])"
   ]
  },
  {
   "cell_type": "markdown",
   "metadata": {},
   "source": [
    "# ITERAR INDICES"
   ]
  },
  {
   "cell_type": "code",
   "execution_count": 68,
   "metadata": {},
   "outputs": [
    {
     "name": "stdout",
     "output_type": "stream",
     "text": [
      "0 1\n",
      "0 1\n",
      "1 2\n",
      "1 2\n",
      "2 3\n",
      "2 3\n",
      "<class 'tuple'>\n"
     ]
    }
   ],
   "source": [
    "#listas\n",
    "n = 1,2,3\n",
    "\n",
    "for i in range(len(n)):\n",
    "    print(i,n[i])\n",
    "    print(i ,n[i])\n",
    " \n",
    "print(type(n))   \n",
    "    "
   ]
  },
  {
   "cell_type": "code",
   "execution_count": 57,
   "metadata": {},
   "outputs": [
    {
     "name": "stdout",
     "output_type": "stream",
     "text": [
      "0 Marta\n",
      "1 Ana\n",
      "2 Laura\n"
     ]
    }
   ],
   "source": [
    "\n",
    "#listas\n",
    "n = [\"Marta\",\"Ana\",\"Laura\"]\n",
    "for i in range(len(n)):\n",
    "    print(i,n[i])\n",
    " \n",
    "    \n",
    "\n"
   ]
  },
  {
   "cell_type": "code",
   "execution_count": 58,
   "metadata": {},
   "outputs": [
    {
     "name": "stdout",
     "output_type": "stream",
     "text": [
      "0 Marta\n",
      "1 Ana\n",
      "2 Laura\n",
      "1 2\n",
      "2 3\n",
      "3 4\n"
     ]
    }
   ],
   "source": [
    "#tuplas\n",
    "n = (\"Marta\",\"Ana\",\"Laura\")\n",
    "for i in range(len(n)):\n",
    "    print(i,n[i])\n",
    "\n",
    "a = ((1,2),(2,3),(3,4))    \n",
    "for e in a:\n",
    "    print(e[0],e[1])"
   ]
  },
  {
   "cell_type": "code",
   "execution_count": 65,
   "metadata": {},
   "outputs": [
    {
     "name": "stdout",
     "output_type": "stream",
     "text": [
      "Aldrich 1.97\n",
      "Enrico 8.49\n",
      "Christoper 9.79\n",
      "Cherice 8.53\n",
      "Margi 0.43\n"
     ]
    }
   ],
   "source": [
    "#diccionarios iterar con o sin indice\n",
    "\n",
    "#con\n",
    "\n",
    "clients = {'Aldrich': 1.97,\n",
    "           'Enrico': 8.49,\n",
    "           'Christoper': 9.79,\n",
    "           'Cherice': 8.53,\n",
    "           'Margi': 0.43 \n",
    "          }\n",
    "\n",
    "for name in enumerate(clients):\n",
    "    print(name[1],clients[name[1]])\n",
    "    \n",
    "    "
   ]
  },
  {
   "cell_type": "code",
   "execution_count": 41,
   "metadata": {},
   "outputs": [
    {
     "name": "stdout",
     "output_type": "stream",
     "text": [
      "Aldrich\n",
      "1.97\n",
      "Enrico\n",
      "8.49\n",
      "Christoper\n",
      "9.79\n",
      "Cherice\n",
      "8.53\n",
      "Margi\n",
      "0.43\n"
     ]
    }
   ],
   "source": [
    "#sin\n",
    "clients = {'Aldrich': 1.97,\n",
    "           'Enrico': 8.49,\n",
    "           'Christoper': 9.79,\n",
    "           'Cherice': 8.53,\n",
    "           'Margi': 0.43}\n",
    "\n",
    "for name in (clients):\n",
    "    print(name)\n",
    "    print(clients[name])"
   ]
  },
  {
   "cell_type": "code",
   "execution_count": 54,
   "metadata": {},
   "outputs": [
    {
     "name": "stdout",
     "output_type": "stream",
     "text": [
      "1\n",
      "2\n",
      "3\n",
      "1\n",
      "2\n",
      "3\n"
     ]
    }
   ],
   "source": [
    "\n",
    "a = {1, 2, 3}\n",
    "\n",
    "for e in a:\n",
    "    print(e)\n",
    "    \n",
    "\n",
    "a = {1, 2, 3}\n",
    "\n",
    "for e,i in enumerate(a):\n",
    "   \n",
    "    print(i,)"
   ]
  },
  {
   "cell_type": "markdown",
   "metadata": {},
   "source": [
    "# Pruebas"
   ]
  },
  {
   "cell_type": "code",
   "execution_count": 71,
   "metadata": {},
   "outputs": [
    {
     "name": "stdout",
     "output_type": "stream",
     "text": [
      "Hello World\n",
      "hola\n",
      "adios\n",
      "apple\n",
      "banana\n",
      "cherry\n",
      "31\n",
      "prog\n",
      "4.0\n",
      "Hello\n",
      "at\n",
      "test\n",
      "this\n",
      "banana\n",
      "cherry\n",
      "apple\n"
     ]
    }
   ],
   "source": [
    "                                   #loop for iterador (hay más tipos)#\n",
    "\n",
    "#tu en un loop puedes iterar sobre una secuencia \n",
    "#(es decir, una lista, una tupla, un diccionario, un conjunto o una cadena).\n",
    "\n",
    "# String\n",
    "x = \"Hello World\",\"hola\", \"adios\"\n",
    "\n",
    "for i in x:\n",
    "    print(i)\n",
    "\n",
    "# Lists\n",
    "x = [\"apple\", \"banana\", \"cherry\"]\n",
    "for i in x:\n",
    "    print(i)\n",
    "\n",
    "# Tuples\n",
    "x = (31,'prog',4.0)\n",
    "for i in x:\n",
    "    print(i)\n",
    "\n",
    "# Dicts\n",
    "x = dict1 = {\n",
    "    \"Hello\": 56,\n",
    "    \"at\" : 23 ,\n",
    "    \"test\" : 43,\n",
    "    \"this\" : 43\n",
    "    }\n",
    "dict2 = { 'where' : 4 ,\n",
    "     'who' : 5 ,\n",
    "     'why': 6 ,\n",
    "     'this' : 20 \n",
    "     }\n",
    "for i in x:\n",
    "    print(i)\n",
    "\n",
    "# Set\n",
    "x = set((\"apple\", \"banana\", \"cherry\"))\n",
    "for i in x:\n",
    "    print(i)"
   ]
  },
  {
   "cell_type": "code",
   "execution_count": 2,
   "metadata": {},
   "outputs": [
    {
     "ename": "TypeError",
     "evalue": "tuple indices must be integers or slices, not str",
     "output_type": "error",
     "traceback": [
      "\u001b[0;31m---------------------------------------------------------------------------\u001b[0m",
      "\u001b[0;31mTypeError\u001b[0m                                 Traceback (most recent call last)",
      "\u001b[0;32m<ipython-input-2-a80638102be0>\u001b[0m in \u001b[0;36m<module>\u001b[0;34m\u001b[0m\n\u001b[1;32m      2\u001b[0m \u001b[0mString\u001b[0m \u001b[0;34m=\u001b[0m \u001b[0;34m\"Hello World\"\u001b[0m\u001b[0;34m,\u001b[0m\u001b[0;34m\"hola\"\u001b[0m\u001b[0;34m,\u001b[0m \u001b[0;34m\"adios\"\u001b[0m\u001b[0;34m\u001b[0m\u001b[0;34m\u001b[0m\u001b[0m\n\u001b[1;32m      3\u001b[0m \u001b[0;32mfor\u001b[0m \u001b[0mkey\u001b[0m \u001b[0;32min\u001b[0m \u001b[0;34m(\u001b[0m\u001b[0mString\u001b[0m\u001b[0;34m)\u001b[0m\u001b[0;34m:\u001b[0m\u001b[0;34m\u001b[0m\u001b[0;34m\u001b[0m\u001b[0m\n\u001b[0;32m----> 4\u001b[0;31m     \u001b[0mprint\u001b[0m\u001b[0;34m(\u001b[0m\u001b[0mkey\u001b[0m\u001b[0;34m,\u001b[0m\u001b[0mString\u001b[0m\u001b[0;34m[\u001b[0m\u001b[0mkey\u001b[0m\u001b[0;34m]\u001b[0m\u001b[0;34m)\u001b[0m\u001b[0;34m\u001b[0m\u001b[0;34m\u001b[0m\u001b[0m\n\u001b[0m",
      "\u001b[0;31mTypeError\u001b[0m: tuple indices must be integers or slices, not str"
     ]
    }
   ],
   "source": [
    "# String\n",
    "String = \"Hello World\",\"hola\", \"adios\"\n",
    "for key in (String):\n",
    "    print(key,String[key])"
   ]
  },
  {
   "cell_type": "code",
   "execution_count": 4,
   "metadata": {},
   "outputs": [
    {
     "name": "stdout",
     "output_type": "stream",
     "text": [
      "1 Hello World\n",
      "2 hola\n",
      "3 adios\n"
     ]
    }
   ],
   "source": [
    "letras = \"Hello World\",\"hola\", \"adios\"\n",
    "for i, letra in enumerate(letras, 1):\n",
    "  print(i, letra)\n"
   ]
  },
  {
   "cell_type": "code",
   "execution_count": null,
   "metadata": {},
   "outputs": [],
   "source": [
    "for name in (clients):\n",
    "    print(name,clients[name])\n",
    "    "
   ]
  },
  {
   "cell_type": "markdown",
   "metadata": {},
   "source": [
    "# ENUMERATE"
   ]
  },
  {
   "cell_type": "code",
   "execution_count": 10,
   "metadata": {},
   "outputs": [
    {
     "name": "stdout",
     "output_type": "stream",
     "text": [
      "0 Java\n",
      "1 C\n",
      "2 C++\n",
      "3 Rust\n",
      "4 Elixir\n"
     ]
    },
    {
     "data": {
      "text/plain": [
       "[(0, 'Java'), (1, 'C'), (2, 'C++'), (3, 'Rust'), (4, 'Elixir')]"
      ]
     },
     "execution_count": 10,
     "metadata": {},
     "output_type": "execute_result"
    }
   ],
   "source": [
    "\n",
    "#Opera recibiendo como argumento cualquier objeto iterable---TODOS MENOS ENTEROS Y FLOAT\n",
    "#y retornando uno nuevo cuyos elementos son tuplas de dos elementos\n",
    "\n",
    "\n",
    "\n",
    "#LIIIIIISTA\n",
    "\n",
    "#ejemplo\n",
    "lenguajes = [\"Java\", \"C\", \"C++\", \"Rust\", \"Elixir\"]\n",
    "list(enumerate(lenguajes))\n",
    "\n",
    "# [(0, 'Java'), (1, 'C'), (2, 'C++'), (3, 'Rust'), (4, 'Elixir')] # el primero, un índice (empezando por el cero);\n",
    "                                                                #el segundo, el elemento que se encuentra en esa posición en el objeto iterable original.\n",
    "\n",
    "\n",
    "# los elementos de enumerate() (es decir, las tuplas) se generan a medida que son utilizadas, \n",
    "#de ahí que si queremos ver el resultado completo debamos convertirlo a una lista\n",
    "#No es necesario si tenemos un for, pues se pueden imprimir en pantalla cada uno de los elementos en la lista\n",
    "lenguajes = [\"Java\", \"C\", \"C++\", \"Rust\", \"Elixir\"]\n",
    "for i, lenguaje in enumerate(lenguajes):\n",
    "    print(i, lenguaje)\n",
    "\n",
    "list(enumerate(lenguajes))\n"
   ]
  },
  {
   "cell_type": "code",
   "execution_count": 12,
   "metadata": {},
   "outputs": [
    {
     "name": "stdout",
     "output_type": "stream",
     "text": [
      "2 Java\n",
      "3 C\n",
      "4 C++\n",
      "5 Rust\n",
      "6 Elixir\n"
     ]
    }
   ],
   "source": [
    "lenguajes = [\"Java\", \"C\", \"C++\", \"Rust\", \"Elixir\"]\n",
    "for i, lenguaje in enumerate(lenguajes, 2):         #si se le pone un valor al lado del iterable\n",
    "    print(i, lenguaje)"
   ]
  },
  {
   "cell_type": "code",
   "execution_count": 16,
   "metadata": {},
   "outputs": [
    {
     "name": "stdout",
     "output_type": "stream",
     "text": [
      "1 a\n",
      "2 b\n",
      "3 c\n",
      "4 d\n",
      "5 e\n",
      "6 f\n",
      "7 g\n",
      "8 h\n",
      "9 i\n",
      "10 j\n",
      "11 k\n"
     ]
    }
   ],
   "source": [
    "#STRIIIING\n",
    "\n",
    "letras = \"abcdefghijk\"\n",
    "for i, letra in enumerate(letras, 1):\n",
    "    print(i, letra)"
   ]
  },
  {
   "cell_type": "code",
   "execution_count": 17,
   "metadata": {},
   "outputs": [
    {
     "name": "stdout",
     "output_type": "stream",
     "text": [
      "1 3\n",
      "2 4\n"
     ]
    }
   ],
   "source": [
    "#TUPLA\n",
    "letras = (3,4)\n",
    "for i, letra in enumerate(letras, 1):\n",
    "    print(i, letra)"
   ]
  },
  {
   "cell_type": "code",
   "execution_count": 21,
   "metadata": {},
   "outputs": [
    {
     "name": "stdout",
     "output_type": "stream",
     "text": [
      "1 {'frutas': {' manzanas': [' verdes', ' 7', ' rojas', ' 5'], 'uvas': [' negras', ' 5', ' verdes', ' 3']}}\n"
     ]
    }
   ],
   "source": [
    "#dicionario\n",
    "productos = {\n",
    "  'frutas': {\n",
    "     ' manzanas': [' verdes', ' 7', ' rojas', ' 5'],\n",
    "      'uvas': [' negras', ' 5', ' verdes', ' 3']\n",
    "   }\n",
    "}\n",
    "    \n",
    "for i, letra in enumerate(productos, 1):\n",
    "    print(i, productos)"
   ]
  },
  {
   "cell_type": "code",
   "execution_count": 44,
   "metadata": {},
   "outputs": [
    {
     "name": "stdout",
     "output_type": "stream",
     "text": [
      "1 2\n",
      "2 3\n",
      "3 4\n",
      "4 5\n",
      "5 6\n"
     ]
    },
    {
     "ename": "IndexError",
     "evalue": "range object index out of range",
     "output_type": "error",
     "traceback": [
      "\u001b[0;31m---------------------------------------------------------------------------\u001b[0m",
      "\u001b[0;31mIndexError\u001b[0m                                Traceback (most recent call last)",
      "\u001b[0;32m<ipython-input-44-1950c05c1de1>\u001b[0m in \u001b[0;36m<module>\u001b[0;34m\u001b[0m\n\u001b[1;32m      7\u001b[0m \u001b[0mlenguajes\u001b[0m\u001b[0;34m=\u001b[0m \u001b[0mrange\u001b[0m\u001b[0;34m(\u001b[0m\u001b[0;36m1\u001b[0m\u001b[0;34m,\u001b[0m\u001b[0;36m7\u001b[0m\u001b[0;34m)\u001b[0m\u001b[0;34m\u001b[0m\u001b[0;34m\u001b[0m\u001b[0m\n\u001b[1;32m      8\u001b[0m \u001b[0;32mfor\u001b[0m \u001b[0mi\u001b[0m \u001b[0;32min\u001b[0m \u001b[0mlenguajes\u001b[0m\u001b[0;34m:\u001b[0m\u001b[0;34m\u001b[0m\u001b[0;34m\u001b[0m\u001b[0m\n\u001b[0;32m----> 9\u001b[0;31m     \u001b[0mprint\u001b[0m\u001b[0;34m(\u001b[0m\u001b[0mi\u001b[0m\u001b[0;34m,\u001b[0m \u001b[0mlenguajes\u001b[0m\u001b[0;34m[\u001b[0m\u001b[0mi\u001b[0m\u001b[0;34m]\u001b[0m\u001b[0;34m)\u001b[0m             \u001b[0;31m#tener en cuenta en poner un numero mas o dos en ete caso al poner coma\u001b[0m\u001b[0;34m\u001b[0m\u001b[0;34m\u001b[0m\u001b[0m\n\u001b[0m\u001b[1;32m     10\u001b[0m \u001b[0;34m\u001b[0m\u001b[0m\n\u001b[1;32m     11\u001b[0m \u001b[0;34m\u001b[0m\u001b[0m\n",
      "\u001b[0;31mIndexError\u001b[0m: range object index out of range"
     ]
    }
   ],
   "source": [
    "#entero\n",
    "\n",
    "#letras = 4\n",
    "#for i, letra in enumerate(letras, 1):   #da error porque no es iterable ,por eso hay que hacerlo de la siguiente forma\n",
    "    #print(i, letra)\n",
    "    \n",
    "lenguajes= range(1,7)  \n",
    "for i in lenguajes:\n",
    "    print(i, lenguajes[i])             #tener en cuenta en poner un numero mas o dos en ete caso al poner coma\n",
    "\n",
    "\n",
    " \n",
    "    import numpy as np\n",
    "x=np.arange(0.3)\n",
    "for i in x:\n",
    "    print(i, x[i])\n"
   ]
  },
  {
   "cell_type": "code",
   "execution_count": 47,
   "metadata": {},
   "outputs": [
    {
     "name": "stdout",
     "output_type": "stream",
     "text": [
      "1490\n"
     ]
    }
   ],
   "source": [
    "def calcular(importe, descuento): \n",
    "    return importe - descuento\n",
    "\n",
    "datos = [1500, 10] \n",
    "print(calcular(*datos))"
   ]
  },
  {
   "cell_type": "code",
   "execution_count": 3,
   "metadata": {},
   "outputs": [
    {
     "ename": "IndentationError",
     "evalue": "expected an indented block (<ipython-input-3-81f1a1a58341>, line 4)",
     "output_type": "error",
     "traceback": [
      "\u001b[0;36m  File \u001b[0;32m\"<ipython-input-3-81f1a1a58341>\"\u001b[0;36m, line \u001b[0;32m4\u001b[0m\n\u001b[0;31m    print(simbolo,'La casa de la pradera, pedazo serie...',simbolo)\u001b[0m\n\u001b[0m        ^\u001b[0m\n\u001b[0;31mIndentationError\u001b[0m\u001b[0;31m:\u001b[0m expected an indented block\n"
     ]
    }
   ],
   "source": [
    "def praderazo(simbolo,veces=5):\n",
    "    print(simbolo*42)\n",
    "for n in range(veces):\n",
    "    print(simbolo,'La casa de la pradera, pedazo serie...',simbolo)\n",
    "    print(simbolo*42)"
   ]
  },
  {
   "cell_type": "code",
   "execution_count": 5,
   "metadata": {},
   "outputs": [],
   "source": [
    "def praderazo(simbolo,veces=5):\n",
    "    print(simbolo*42)\n",
    "    for n in range(veces):\n",
    "      print(simbolo,'La casa de la pradera, pedazo serie...',simbolo)\n",
    "    return print(simbolo*42)"
   ]
  },
  {
   "cell_type": "code",
   "execution_count": 7,
   "metadata": {},
   "outputs": [
    {
     "name": "stdout",
     "output_type": "stream",
     "text": [
      "Abder\n"
     ]
    }
   ],
   "source": [
    "employee_name = 'Abder'\n",
    " \n",
    "def print_name(name):\n",
    "    print(name)\n",
    "     \n",
    "print_name(employee_name)"
   ]
  },
  {
   "cell_type": "code",
   "execution_count": 9,
   "metadata": {},
   "outputs": [
    {
     "name": "stdout",
     "output_type": "stream",
     "text": [
      "Jorge\n",
      "Universidad de la vida\n"
     ]
    }
   ],
   "source": [
    "class Person:\n",
    "    name = ''\n",
    "    school = ''\n",
    "     \n",
    "    def print_information(self, name, school):\n",
    "        print(self.name)\n",
    "        print(self.school)\n",
    "             \n",
    "jorge = Person()\n",
    "jorge.name = 'Jorge'\n",
    "jorge.school = 'Universidad de la vida'\n",
    "jorge.print_information(jorge.name, jorge.school)"
   ]
  },
  {
   "cell_type": "code",
   "execution_count": null,
   "metadata": {},
   "outputs": [],
   "source": []
  }
 ],
 "metadata": {
  "kernelspec": {
   "display_name": "Python 3",
   "language": "python",
   "name": "python3"
  },
  "language_info": {
   "codemirror_mode": {
    "name": "ipython",
    "version": 3
   },
   "file_extension": ".py",
   "mimetype": "text/x-python",
   "name": "python",
   "nbconvert_exporter": "python",
   "pygments_lexer": "ipython3",
   "version": "3.6.9"
  }
 },
 "nbformat": 4,
 "nbformat_minor": 4
}
