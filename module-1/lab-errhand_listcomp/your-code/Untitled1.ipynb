{
 "cells": [
  {
   "cell_type": "code",
   "execution_count": null,
   "metadata": {},
   "outputs": [],
   "source": []
  },
  {
   "cell_type": "code",
   "execution_count": 44,
   "metadata": {},
   "outputs": [
    {
     "name": "stdout",
     "output_type": "stream",
     "text": [
      "[0, 1, 4, 9, 16, 25, 36, 49, 64, 81, 100, 121, 144, 169, 196, 225, 256, 289, 324, 361, 400]\n",
      "[0, 1, 8, 27, 64, 125, 216, 343, 512, 729, 1000, 1331, 1728, 2197, 2744, 3375, 4096, 4913, 5832, 6859, 8000, 9261, 10648, 12167, 13824, 15625, 17576, 19683, 21952, 24389, 27000, 29791, 32768, 35937, 39304, 42875, 46656, 50653, 54872, 59319, 64000, 68921, 74088, 79507, 85184, 91125, 97336, 103823, 110592, 117649, 125000]\n"
     ]
    }
   ],
   "source": [
    "#Insert here the module/library import statements \n",
    "import random\n",
    "import os\n",
    "from math import sqrt\n",
    "import sys\n",
    "\n",
    "#1. Calculate the square number of the first 20 numbers. Use square as the name of the list.\n",
    "# Remember to use list comprehensions and to print your results\n",
    "\n",
    "square=[e**2 for e in range(21)]\n",
    "print(square)\n",
    "\n",
    "#2. Calculate the first 50 power of two. Use power_of_two as the name of the list.\n",
    "# Remember to use list comprehensions and to print your results\n",
    "\n",
    "\n",
    "power_of_two=[e**3 for e in range(51)]\n",
    "print(power_of_two)\n"
   ]
  },
  {
   "cell_type": "code",
   "execution_count": 45,
   "metadata": {},
   "outputs": [
    {
     "name": "stdout",
     "output_type": "stream",
     "text": [
      "[0.0, 1.0, 1.4142135623730951, 1.7320508075688772, 2.0, 2.23606797749979, 2.449489742783178, 2.6457513110645907, 2.8284271247461903, 3.0, 3.1622776601683795, 3.3166247903554, 3.4641016151377544, 3.605551275463989, 3.7416573867739413, 3.872983346207417, 4.0, 4.123105625617661, 4.242640687119285, 4.358898943540674, 4.47213595499958, 4.58257569495584, 4.69041575982343, 4.795831523312719, 4.898979485566356, 5.0, 5.0990195135927845, 5.196152422706632, 5.291502622129181, 5.385164807134504, 5.477225575051661, 5.5677643628300215, 5.656854249492381, 5.744562646538029, 5.830951894845301, 5.916079783099616, 6.0, 6.082762530298219, 6.164414002968976, 6.244997998398398, 6.324555320336759, 6.4031242374328485, 6.48074069840786, 6.557438524302, 6.6332495807108, 6.708203932499369, 6.782329983125268, 6.855654600401044, 6.928203230275509, 7.0, 7.0710678118654755, 7.14142842854285, 7.211102550927978, 7.280109889280518, 7.3484692283495345, 7.416198487095663, 7.483314773547883, 7.54983443527075, 7.615773105863909, 7.681145747868608, 7.745966692414834, 7.810249675906654, 7.874007874011811, 7.937253933193772, 8.0, 8.06225774829855, 8.12403840463596, 8.18535277187245, 8.246211251235321, 8.306623862918075, 8.366600265340756, 8.426149773176359, 8.48528137423857, 8.54400374531753, 8.602325267042627, 8.660254037844387, 8.717797887081348, 8.774964387392123, 8.831760866327848, 8.888194417315589, 8.94427190999916, 9.0, 9.055385138137417, 9.1104335791443, 9.16515138991168, 9.219544457292887, 9.273618495495704, 9.327379053088816, 9.38083151964686, 9.433981132056603, 9.486832980505138, 9.539392014169456, 9.591663046625438, 9.643650760992955, 9.695359714832659, 9.746794344808963, 9.797958971132712, 9.848857801796104, 9.899494936611665, 9.9498743710662, 10.0]\n"
     ]
    }
   ],
   "source": [
    "#3. Calculate the square root of the first 100 numbers. Use sqrt as the name of the list.\n",
    "# You will probably need to install math library with pip and import it in this file.  \n",
    "# Remember to use list comprehensions and to print your results\n",
    "\n",
    "from math import sqrt\n",
    "sqrt=[sqrt(e)for e in range(101)]\n",
    "print(sqrt)"
   ]
  },
  {
   "cell_type": "code",
   "execution_count": 46,
   "metadata": {},
   "outputs": [
    {
     "name": "stdout",
     "output_type": "stream",
     "text": [
      "[-11, -10, -9, -8, -7, -6, -5, -4, -3, -2, -1, 0]\n"
     ]
    }
   ],
   "source": [
    "#4. Create this list [-10,-9,-8,-7,-6,-5,-4,-3,-2,-1,0]. Use my_list as the name of the list.\n",
    "# Remember to use list comprehensions and to print your results\n",
    "my_list=[e for e in range(-11,1)]\n",
    "print(my_list)"
   ]
  },
  {
   "cell_type": "code",
   "execution_count": 47,
   "metadata": {},
   "outputs": [
    {
     "name": "stdout",
     "output_type": "stream",
     "text": [
      "[1, 3, 5, 7, 9, 11, 13, 15, 17, 19, 21, 23, 25, 27, 29, 31, 33, 35, 37, 39, 41, 43, 45, 47, 49, 51, 53, 55, 57, 59, 61, 63, 65, 67, 69, 71, 73, 75, 77, 79, 81, 83, 85, 87, 89, 91, 93, 95, 97, 99]\n"
     ]
    }
   ],
   "source": [
    "#5. Find the odd numbers from 1-100. Use odds as the name of the list. \n",
    "# Remember to use list comprehensions and to print your results\n",
    "odds= [e for e in range(1,101) if e%2!=0]\n",
    "print(odds)"
   ]
  },
  {
   "cell_type": "code",
   "execution_count": 48,
   "metadata": {},
   "outputs": [
    {
     "name": "stdout",
     "output_type": "stream",
     "text": [
      "[7, 14, 21, 28, 35, 42, 49, 56, 63, 70, 77, 84, 91, 98, 105, 112, 119, 126, 133, 140, 147, 154, 161, 168, 175, 182, 189, 196, 203, 210, 217, 224, 231, 238, 245, 252, 259, 266, 273, 280, 287, 294, 301, 308, 315, 322, 329, 336, 343, 350, 357, 364, 371, 378, 385, 392, 399, 406, 413, 420, 427, 434, 441, 448, 455, 462, 469, 476, 483, 490, 497, 504, 511, 518, 525, 532, 539, 546, 553, 560, 567, 574, 581, 588, 595, 602, 609, 616, 623, 630, 637, 644, 651, 658, 665, 672, 679, 686, 693, 700, 707, 714, 721, 728, 735, 742, 749, 756, 763, 770, 777, 784, 791, 798, 805, 812, 819, 826, 833, 840, 847, 854, 861, 868, 875, 882, 889, 896, 903, 910, 917, 924, 931, 938, 945, 952, 959, 966, 973, 980, 987, 994]\n"
     ]
    }
   ],
   "source": [
    "#6. Find all of the numbers from 1-1000 that are divisible by 7. Use divisible_by_seven as the name of the list.\n",
    "# Remember to use list comprehensions and to print your results\n",
    "\n",
    "divisible_by_seven= [e for e in range(1,1001) if e%7==0]\n",
    "print(divisible_by_seven)"
   ]
  },
  {
   "cell_type": "code",
   "execution_count": 49,
   "metadata": {},
   "outputs": [
    {
     "name": "stdout",
     "output_type": "stream",
     "text": [
      "['F', 'n', 'd', 'l', 'l', 'f', 't', 'h', 'w', 'r', 'd', 's', 'n', 's', 't', 'r', 'n', 'g', 't', 'h', 't', 'r', 'm', 'n', 's', 'y', 'l', 'l', 'b', 'c']\n"
     ]
    }
   ],
   "source": [
    "#7. Remove all of the vowels in a string. Hint: make a list of the non-vowels. Use non_vowels as the name of the list.\n",
    "# Remember to use list comprehensions and to print your results\n",
    "# You can use the following test string but feel free to modify at your convenience\n",
    "\n",
    "teststring = 'Find all of the words in a string that are monosyllabic'\n",
    "vowels=['a','e','i','o','u',\" \"]\n",
    "\n",
    "non_vowels=[e for e in teststring if e not in vowels]\n",
    "\n",
    "print(non_vowels)\n",
    "\n"
   ]
  },
  {
   "cell_type": "code",
   "execution_count": 6,
   "metadata": {},
   "outputs": [
    {
     "name": "stdout",
     "output_type": "stream",
     "text": [
      "['T', 'Q', 'B', 'F', 'J', 'O', 'T', 'L', 'D']\n"
     ]
    }
   ],
   "source": [
    "#8. Find the capital letters (and not white space) in the sentence 'The Quick Brown Fox Jumped Over The Lazy Dog'. \n",
    "# Use capital_letters as the name of the list.  \n",
    "# Remember to use list comprehensions and to print your results\n",
    "\n",
    "\n",
    "sentence= \"The Quick Brown Fox Jumped Over The Lazy Dog\"\n",
    "capital_letters=[cap for cap in sentence if cap.isupper()==True]\n",
    "print(capital_letters)\n",
    "          \n",
    "          \n",
    "          \n"
   ]
  },
  {
   "cell_type": "code",
   "execution_count": 5,
   "metadata": {},
   "outputs": [
    {
     "name": "stdout",
     "output_type": "stream",
     "text": [
      "['T', 'h', 'q', 'c', 'k', 'b', 'r', 'w', 'n', 'f', 'x', 'j', 'm', 'p', 'd', 'v', 'r', 't', 'h', 'l', 'z', 'y', 'd', 'g']\n"
     ]
    }
   ],
   "source": [
    "#9. Find all the consonants in the sentence 'The quick brown fox jumped over the lazy dog'.\n",
    "# Use consonants as the name of the list.\n",
    "# Remember to use list comprehensions and to print your results.\n",
    "\n",
    "sentence = 'The quick brown fox jumped over the lazy dog'\n",
    "consonants = [ e for e in sentence if e not in ('a','e','i','o','u',' ')]\n",
    "print(consonants)"
   ]
  },
  {
   "cell_type": "code",
   "execution_count": 51,
   "metadata": {},
   "outputs": [
    {
     "name": "stdout",
     "output_type": "stream",
     "text": [
      "['untitled', 'Untitled.ipynb', 'Untitled1.ipynb', '.ipynb_checkpoints', 'Untitled2.ipynb', 'main.py']\n"
     ]
    }
   ],
   "source": [
    "#10. Find the folders you have in your datamad0620 local repo. Use files as name of the list.  \n",
    "# You will probably need to import os library and some of its modules. You will need to make some online research.\n",
    "# Remember to use list comprehensions and to print your results.\n",
    "import os, sys\n",
    "files= os.listdir( \"/home/usuario/datamad0620/module-1/lab-errhand_listcomp/your-code\" )\n",
    "find_folder =[e for e in files]\n",
    "print(find_folder)"
   ]
  },
  {
   "cell_type": "code",
   "execution_count": 6,
   "metadata": {},
   "outputs": [
    {
     "name": "stdout",
     "output_type": "stream",
     "text": [
      "[[48, 43, 5, 63, 73, 8, 94, 76, 9, 64], [51, 21, 62, 17, 23, 95, 98, 41, 61, 42], [94, 42, 83, 80, 20, 74, 29, 29, 85, 81], [36, 83, 59, 68, 16, 20, 8, 70, 88, 60]]\n"
     ]
    }
   ],
   "source": [
    "#11. Create 4 lists of 10 random numbers between 0 and 100 each. Use random_lists as the name of the list. \n",
    "#You will probably need to import random module\n",
    "# Remember to use list comprehensions and to print your results\n",
    "import random\n",
    "random_lists= [ [random.choice(range(1,101)) for x in range(10)] for e in range(4)]\n",
    "print(random_lists)"
   ]
  },
  {
   "cell_type": "code",
   "execution_count": 15,
   "metadata": {},
   "outputs": [
    {
     "name": "stdout",
     "output_type": "stream",
     "text": [
      "[1, 2, 3, 4, 5, 6, 7, 8, 9]\n"
     ]
    }
   ],
   "source": [
    "#12. Flatten the following list of lists. Use flatten_list as the name of the output.\n",
    "# Remember to use list comprehensions and to print your results\n",
    "list_of_lists = [[1,2,3],[4,5,6],[7,8,9]]\n",
    "flatten_list = [e for i in list_of_lists for e in i]\n",
    "print(flatten_list)"
   ]
  },
  {
   "cell_type": "code",
   "execution_count": 16,
   "metadata": {},
   "outputs": [
    {
     "name": "stdout",
     "output_type": "stream",
     "text": [
      "[[0.0, 1.0, 2.0, 3.0], [0.0, 1.0, 2.0, 3.0, 4.0, 5.0, 6.0], [0.0, 1.0, 2.0, 3.0, 4.0, 5.0, 6.0, 7.0, 8.0], [0.0, 1.0], [0.0, 1.0, 2.0, 3.0, 4.0], [0.0, 1.0, 2.0, 3.0]]\n"
     ]
    }
   ],
   "source": [
    "#13. Convert the numbers of the following nested list to floats. Use floats as the name of the list. \n",
    "# Remember to use list comprehensions and to print your results.\n",
    "\n",
    "list_of_lists = [['40', '20', '10', '30'], ['20', '20', '20', '20', '20', '30', '20'], \\\n",
    "['30', '20', '30', '50', '10', '30', '20', '20', '20'], ['100', '100'], ['100', '100', '100', '100', '100'], \\\n",
    "['100', '100', '100', '100']]\n",
    "\n",
    "floats=[[float(num) for num in range(len(lista))] for lista in list_of_lists]\n",
    "print(floats)"
   ]
  },
  {
   "cell_type": "code",
   "execution_count": 33,
   "metadata": {},
   "outputs": [
    {
     "name": "stdout",
     "output_type": "stream",
     "text": [
      "ooh algo estas poniendo mal\n"
     ]
    }
   ],
   "source": [
    "#14. Handle the exception thrown by the code below by using try and except blocks. \n",
    "\n",
    "try:\n",
    "    for i in ['a','b','c']:\n",
    "        print(i**2)\n",
    "    \n",
    "except TypeError:\n",
    "    print(\"ooh algo estas poniendo mal\")\n",
    "    "
   ]
  },
  {
   "cell_type": "code",
   "execution_count": 55,
   "metadata": {},
   "outputs": [
    {
     "name": "stdout",
     "output_type": "stream",
     "text": [
      "eh!no puedes dividir x 0\n",
      "Todo hecho\n"
     ]
    }
   ],
   "source": [
    "#15. Handle the exception thrown by the code below by using try and except blocks. \n",
    "#Then use a finally block to print 'All Done.'\n",
    "# Check in provided resources the type of error you may use. \n",
    "\n",
    "try:\n",
    "    z = x/y\n",
    "    print(z)\n",
    "except ZeroDivisionError:\n",
    "    print (\"eh!no puedes dividir x 0\") \n",
    "finally:\n",
    "    print('Todo hecho')"
   ]
  },
  {
   "cell_type": "code",
   "execution_count": 60,
   "metadata": {},
   "outputs": [],
   "source": [
    "#16. Handle the exception thrown by the code below by using try and except blocks. \n",
    "# Check in provided resources the type of error you may use. \n",
    "try:\n",
    "    abc=[10,20,20]\n",
    "    print(abc[3])\n",
    "except IndexError:\n",
    "    print:(\"eh,el indice de la lista esta fuera de rango\")\n",
    "\n",
    "\n"
   ]
  },
  {
   "cell_type": "code",
   "execution_count": null,
   "metadata": {},
   "outputs": [],
   "source": [
    "#17. Handle at least two kind of different exceptions when dividing a couple of numbers provided by the user. \n",
    "# Hint: take a look on python input function. \n",
    "# Check in provided resources the type of error you may use. \n"
   ]
  },
  {
   "cell_type": "code",
   "execution_count": 63,
   "metadata": {},
   "outputs": [],
   "source": [
    "#18. Handle the exception thrown by the code below by using try and except blocks. \n",
    "# Check in provided resources the type of error you may use. \n",
    "\n",
    "try:\n",
    "    f = open('testfile','r')\n",
    "    f.write('Test write this')\n",
    "except FileNotFoundError:\n",
    "    print:(\"no se encuentra este fichero\")\n"
   ]
  },
  {
   "cell_type": "code",
   "execution_count": 68,
   "metadata": {},
   "outputs": [
    {
     "name": "stdout",
     "output_type": "stream",
     "text": [
      "no se ha encontrado este fichero\n"
     ]
    }
   ],
   "source": [
    "#19. Handle the exceptions that can be thrown by the code below using try and except blocks. \n",
    "#Hint: the file could not exist and the data could not be convertable to int\n",
    "\n",
    "try:\n",
    "    fp = open('myfile.txt')\n",
    "    line = f.readline()\n",
    "    i = int(s.strip())\n",
    "except (FileNotFoundError):\n",
    "    print(\"no se ha encontrado este fichero\")\n"
   ]
  },
  {
   "cell_type": "code",
   "execution_count": 67,
   "metadata": {},
   "outputs": [],
   "source": [
    "#20. The following function can only run on a Linux system. \n",
    "# The assert in this function will throw an exception if you call it on an operating system other than Linux. \n",
    "# Handle this exception using try and except blocks. \n",
    "# You will probably need to import sys \n",
    "\n",
    "def linux_interaction():\n",
    "    assert ('linux' in sys.platform), \"Function can only run on Linux systems.\"\n",
    "    print('Doing something.')"
   ]
  },
  {
   "cell_type": "code",
   "execution_count": null,
   "metadata": {},
   "outputs": [],
   "source": [
    "# Bonus Questions:\n",
    "\n",
    "# You will need to make some research on dictionary comprehension to solve the following questions"
   ]
  },
  {
   "cell_type": "code",
   "execution_count": null,
   "metadata": {},
   "outputs": [],
   "source": [
    "#21.  Write a function that asks for an integer and prints the square of it. \n",
    "# Hint: we need to continually keep checking until we get an integer.\n",
    "# Use a while loop with a try,except, else block to account for incorrect inputs."
   ]
  },
  {
   "cell_type": "code",
   "execution_count": null,
   "metadata": {},
   "outputs": [],
   "source": [
    "# 22. Find all of the numbers from 1-1000 that are divisible by any single digit besides 1 (2-9). \n",
    "# Use results as the name of the list "
   ]
  },
  {
   "cell_type": "code",
   "execution_count": null,
   "metadata": {},
   "outputs": [],
   "source": [
    "# 23. Define random_lists= [  [random.choice(range(1,101)) for x in range(10)] for e in range(4)]\n",
    "print(random_lists)a customised exception to handle not accepted values. \n",
    "# You have the following user inputs and the Num_of_sections can not be less than 2.\n",
    "# Hint: Create a class derived from the pre-defined Exception class in Python\n",
    "\n",
    "Total_Marks = int(input(\"Enter Total Marks Scored: \")) \n",
    "Num_of_Sections = int(input(\"Enter Num of Sections: \"))"
   ]
  }
 ],
 "metadata": {
  "kernelspec": {
   "display_name": "Python 3",
   "language": "python",
   "name": "python3"
  },
  "language_info": {
   "codemirror_mode": {
    "name": "ipython",
    "version": 3
   },
   "file_extension": ".py",
   "mimetype": "text/x-python",
   "name": "python",
   "nbconvert_exporter": "python",
   "pygments_lexer": "ipython3",
   "version": "3.6.9"
  }
 },
 "nbformat": 4,
 "nbformat_minor": 4
}
