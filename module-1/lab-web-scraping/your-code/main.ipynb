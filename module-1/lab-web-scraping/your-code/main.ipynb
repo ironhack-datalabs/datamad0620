{
 "cells": [
  {
   "cell_type": "markdown",
   "metadata": {},
   "source": [
    "# Web Scraping Lab\n",
    "\n",
    "You will find in this notebook some scrapy exercises to practise your scraping skills.\n",
    "\n",
    "**Tips:**\n",
    "\n",
    "- Check the response status code for each request to ensure you have obtained the intended contennt.\n",
    "- Print the response text in each request to understand the kind of info you are getting and its format.\n",
    "- Check for patterns in the response text to extract the data/info requested in each question.\n",
    "- Visit each url and take a look at its source through Chrome DevTools. You'll need to identify the html tags, special class names etc. used for the html content you are expected to extract."
   ]
  },
  {
   "cell_type": "markdown",
   "metadata": {},
   "source": [
    "- [Requests library](http://docs.python-requests.org/en/master/#the-user-guide) documentation \n",
    "- [Beautiful Soup Doc](https://www.crummy.com/software/BeautifulSoup/bs4/doc/)\n",
    "- [Urllib](https://docs.python.org/3/library/urllib.html#module-urllib)\n",
    "- [re lib](https://docs.python.org/3/library/re.html)\n",
    "- [lxml lib](https://lxml.de/)\n",
    "- [Scrapy](https://scrapy.org/)\n",
    "- [List of HTTP status codes](https://en.wikipedia.org/wiki/List_of_HTTP_status_codes)\n",
    "- [HTML basics](http://www.simplehtmlguide.com/cheatsheet.php)\n",
    "- [CSS basics](https://www.cssbasics.com/#page_start)"
   ]
  },
  {
   "cell_type": "markdown",
   "metadata": {},
   "source": [
    "#### Below are the libraries and modules you may need. `requests`,  `BeautifulSoup` and `pandas` are imported for you. If you prefer to use additional libraries feel free to uncomment them."
   ]
  },
  {
   "cell_type": "code",
   "execution_count": 75,
   "metadata": {},
   "outputs": [],
   "source": [
    "import requests\n",
    "from bs4 import BeautifulSoup\n",
    "import pandas as pd\n",
    "from pprint import pprint\n",
    "# from lxml import html\n",
    "# from lxml.html import fromstring\n",
    "# import urllib.request\n",
    "# from urllib.request import urlopen\n",
    "# import random\n",
    "import re\n",
    "# import scrapy\n",
    "from IPython.display import Image"
   ]
  },
  {
   "cell_type": "markdown",
   "metadata": {},
   "source": [
    "#### Download, parse (using BeautifulSoup), and print the content from the Trending Developers page from GitHub:"
   ]
  },
  {
   "cell_type": "code",
   "execution_count": 2,
   "metadata": {},
   "outputs": [],
   "source": [
    "# This is the url you will scrape in this exercise\n",
    "url = 'https://github.com/trending/developers'"
   ]
  },
  {
   "cell_type": "code",
   "execution_count": 3,
   "metadata": {},
   "outputs": [],
   "source": [
    "re = requests.get(url)\n",
    "res = re.text\n",
    "soup = BeautifulSoup(res) "
   ]
  },
  {
   "cell_type": "markdown",
   "metadata": {},
   "source": [
    "#### Display the names of the trending developers retrieved in the previous step.\n",
    "\n",
    "Your output should be a Python list of developer names. Each name should not contain any html tag.\n",
    "\n",
    "**Instructions:**\n",
    "\n",
    "1. Find out the html tag and class names used for the developer names. You can achieve this using Chrome DevTools.\n",
    "\n",
    "1. Use BeautifulSoup to extract all the html elements that contain the developer names.\n",
    "\n",
    "1. Use string manipulation techniques to replace whitespaces and linebreaks (i.e. `\\n`) in the *text* of each html element. Use a list to store the clean names.\n",
    "\n",
    "1. Print the list of names.\n",
    "\n",
    "Your output should look like below:\n",
    "\n",
    "```\n",
    "['trimstray (@trimstray)',\n",
    " 'joewalnes (JoeWalnes)',\n",
    " 'charlax (Charles-AxelDein)',\n",
    " 'ForrestKnight (ForrestKnight)',\n",
    " 'revery-ui (revery-ui)',\n",
    " 'alibaba (Alibaba)',\n",
    " 'Microsoft (Microsoft)',\n",
    " 'github (GitHub)',\n",
    " 'facebook (Facebook)',\n",
    " 'boazsegev (Bo)',\n",
    " 'google (Google)',\n",
    " 'cloudfetch',\n",
    " 'sindresorhus (SindreSorhus)',\n",
    " 'tensorflow',\n",
    " 'apache (TheApacheSoftwareFoundation)',\n",
    " 'DevonCrawford (DevonCrawford)',\n",
    " 'ARMmbed (ArmMbed)',\n",
    " 'vuejs (vuejs)',\n",
    " 'fastai (fast.ai)',\n",
    " 'QiShaoXuan (Qi)',\n",
    " 'joelparkerhenderson (JoelParkerHenderson)',\n",
    " 'torvalds (LinusTorvalds)',\n",
    " 'CyC2018',\n",
    " 'komeiji-satori (神楽坂覚々)',\n",
    " 'script-8']\n",
    " ```"
   ]
  },
  {
   "cell_type": "code",
   "execution_count": 4,
   "metadata": {},
   "outputs": [],
   "source": [
    "\n",
    "names = soup.find_all(\"h1\", class_=\"h3 lh-condensed\" )"
   ]
  },
  {
   "cell_type": "code",
   "execution_count": 5,
   "metadata": {},
   "outputs": [
    {
     "data": {
      "text/plain": [
       "['Gleb Bahmutov',\n",
       " 'Han Xiao',\n",
       " 'Ariel Mashraki',\n",
       " 'Oleksandr Fediashov',\n",
       " 'Michael Waskom',\n",
       " 'Artem Zakharchenko',\n",
       " 'Niels Lohmann',\n",
       " 'Andrey Okonetchnikov',\n",
       " 'Christian Clauss',\n",
       " 'Chris Long',\n",
       " 'Kévin Dunglas',\n",
       " 'Carlos Cuesta',\n",
       " 'Florimond Manca',\n",
       " 'Gavin Wood',\n",
       " 'Diego Sampaio',\n",
       " 'Don Jayamanne',\n",
       " 'Julien Bouquillon',\n",
       " 'Nader Dabit',\n",
       " 'Ben Manes',\n",
       " 'Marcos Iglesias',\n",
       " 'Jed Watson',\n",
       " 'Vadim Dalecky',\n",
       " 'Megan Marsh',\n",
       " 'Ahmet Alp Balkan',\n",
       " 'William Falcon']"
      ]
     },
     "execution_count": 5,
     "metadata": {},
     "output_type": "execute_result"
    }
   ],
   "source": [
    "lst_name = [name.text.strip() for name in names]\n",
    "lst_name"
   ]
  },
  {
   "cell_type": "code",
   "execution_count": 6,
   "metadata": {},
   "outputs": [],
   "source": [
    "#estoy intentando buscar tanto el nombre como el tag pero no lo consigo.\n",
    "def extractname(soup):\n",
    "    try:\n",
    "        data = {\n",
    "            \"name\":soup.find_all(\"h1\", class_=\"h3 lh-condensed\"),\n",
    "            \"tags\":soup.find_all(\"h1\", class_=\"f4 text-normal mb-1\")\n",
    "        }\n",
    "        return data\n",
    "    except Exception as e:\n",
    "        return None"
   ]
  },
  {
   "cell_type": "code",
   "execution_count": 7,
   "metadata": {},
   "outputs": [
    {
     "ename": "SyntaxError",
     "evalue": "invalid syntax (<ipython-input-7-34936f4140c6>, line 1)",
     "output_type": "error",
     "traceback": [
      "\u001b[0;36m  File \u001b[0;32m\"<ipython-input-7-34936f4140c6>\"\u001b[0;36m, line \u001b[0;32m1\u001b[0m\n\u001b[0;31m    restData = [name extractname(soup) for name in names]\u001b[0m\n\u001b[0m                               ^\u001b[0m\n\u001b[0;31mSyntaxError\u001b[0m\u001b[0;31m:\u001b[0m invalid syntax\n"
     ]
    }
   ],
   "source": [
    "restData = [name extractname(soup) for name in names]\n",
    "restData"
   ]
  },
  {
   "cell_type": "markdown",
   "metadata": {},
   "source": [
    "#### Display the trending Python repositories in GitHub\n",
    "\n",
    "The steps to solve this problem is similar to the previous one except that you need to find out the repository names instead of developer names."
   ]
  },
  {
   "cell_type": "code",
   "execution_count": null,
   "metadata": {},
   "outputs": [],
   "source": [
    "# This is the url you will scrape in this exercise\n",
    "url = 'https://github.com/trending/python?since=daily'"
   ]
  },
  {
   "cell_type": "code",
   "execution_count": null,
   "metadata": {},
   "outputs": [],
   "source": [
    "re = requests.get(url)\n",
    "res = re.text\n",
    "soup = BeautifulSoup(res)\n"
   ]
  },
  {
   "cell_type": "code",
   "execution_count": null,
   "metadata": {},
   "outputs": [],
   "source": [
    "repo_names = soup.find_all(\"h1\", class_=\"h3 lh-condensed\")\n",
    "repo_names[0].text\n"
   ]
  },
  {
   "cell_type": "code",
   "execution_count": null,
   "metadata": {},
   "outputs": [],
   "source": [
    "cleaning_names = [(name.text).split(\"/\")[0] for name in repo_names]\n"
   ]
  },
  {
   "cell_type": "code",
   "execution_count": null,
   "metadata": {},
   "outputs": [],
   "source": [
    "cleaning_name_strip = [(cleaning_name).strip() for cleaning_name in cleaning_names]\n",
    "cleaning_name_strip"
   ]
  },
  {
   "cell_type": "markdown",
   "metadata": {},
   "source": [
    "#### Display all the image links from Walt Disney wikipedia page"
   ]
  },
  {
   "cell_type": "code",
   "execution_count": 11,
   "metadata": {},
   "outputs": [],
   "source": [
    "# This is the url you will scrape in this exercise\n",
    "url = 'https://en.wikipedia.org/wiki/Walt_Disney'"
   ]
  },
  {
   "cell_type": "code",
   "execution_count": 10,
   "metadata": {},
   "outputs": [],
   "source": [
    "re = requests.get(url)\n",
    "res = re.text\n",
    "soap = BeautifulSoup(res)"
   ]
  },
  {
   "cell_type": "code",
   "execution_count": 43,
   "metadata": {},
   "outputs": [],
   "source": [
    "images_WaltDisney = soup.find_all(\"img\")\n",
    "images_WaltDisney[0].get('scr')"
   ]
  },
  {
   "cell_type": "code",
   "execution_count": 71,
   "metadata": {},
   "outputs": [
    {
     "data": {
      "text/plain": [
       "'https://github.githubassets.com/images/search-key-slash.svg'"
      ]
     },
     "execution_count": 71,
     "metadata": {},
     "output_type": "execute_result"
    }
   ],
   "source": [
    "image_urls = [image.get('src') for image in images_WaltDisney]\n",
    "image_urls[0]"
   ]
  },
  {
   "cell_type": "code",
   "execution_count": 163,
   "metadata": {
    "scrolled": true
   },
   "outputs": [
    {
     "data": {
      "text/html": [
       "<img src=\"https:https://github.githubassets.com/images/search-key-slash.svg\"/>"
      ],
      "text/plain": [
       "<IPython.core.display.Image object>"
      ]
     },
     "metadata": {},
     "output_type": "display_data"
    },
    {
     "data": {
      "text/html": [
       "<img src=\"https:\"/>"
      ],
      "text/plain": [
       "<IPython.core.display.Image object>"
      ]
     },
     "metadata": {},
     "output_type": "display_data"
    },
    {
     "data": {
      "text/html": [
       "<img src=\"https:\"/>"
      ],
      "text/plain": [
       "<IPython.core.display.Image object>"
      ]
     },
     "metadata": {},
     "output_type": "display_data"
    },
    {
     "data": {
      "text/html": [
       "<img src=\"https:\"/>"
      ],
      "text/plain": [
       "<IPython.core.display.Image object>"
      ]
     },
     "metadata": {},
     "output_type": "display_data"
    },
    {
     "data": {
      "text/html": [
       "<img src=\"https:https://avatars2.githubusercontent.com/u/2212006?s=96&v=4\"/>"
      ],
      "text/plain": [
       "<IPython.core.display.Image object>"
      ]
     },
     "metadata": {},
     "output_type": "display_data"
    },
    {
     "data": {
      "text/html": [
       "<img src=\"https:https://avatars3.githubusercontent.com/u/2041322?s=96&v=4\"/>"
      ],
      "text/plain": [
       "<IPython.core.display.Image object>"
      ]
     },
     "metadata": {},
     "output_type": "display_data"
    },
    {
     "data": {
      "text/html": [
       "<img src=\"https:https://avatars2.githubusercontent.com/u/7413593?s=96&v=4\"/>"
      ],
      "text/plain": [
       "<IPython.core.display.Image object>"
      ]
     },
     "metadata": {},
     "output_type": "display_data"
    },
    {
     "data": {
      "text/html": [
       "<img src=\"https:https://avatars3.githubusercontent.com/u/14183168?s=96&v=4\"/>"
      ],
      "text/plain": [
       "<IPython.core.display.Image object>"
      ]
     },
     "metadata": {},
     "output_type": "display_data"
    },
    {
     "data": {
      "text/html": [
       "<img src=\"https:https://avatars3.githubusercontent.com/u/315810?s=96&v=4\"/>"
      ],
      "text/plain": [
       "<IPython.core.display.Image object>"
      ]
     },
     "metadata": {},
     "output_type": "display_data"
    },
    {
     "data": {
      "text/html": [
       "<img src=\"https:https://avatars3.githubusercontent.com/u/14984911?s=96&v=4\"/>"
      ],
      "text/plain": [
       "<IPython.core.display.Image object>"
      ]
     },
     "metadata": {},
     "output_type": "display_data"
    },
    {
     "data": {
      "text/html": [
       "<img src=\"https:https://avatars2.githubusercontent.com/u/159488?s=96&v=4\"/>"
      ],
      "text/plain": [
       "<IPython.core.display.Image object>"
      ]
     },
     "metadata": {},
     "output_type": "display_data"
    },
    {
     "data": {
      "text/html": [
       "<img src=\"https:https://avatars1.githubusercontent.com/u/11071?s=96&v=4\"/>"
      ],
      "text/plain": [
       "<IPython.core.display.Image object>"
      ]
     },
     "metadata": {},
     "output_type": "display_data"
    },
    {
     "data": {
      "text/html": [
       "<img src=\"https:https://avatars1.githubusercontent.com/u/3709715?s=96&v=4\"/>"
      ],
      "text/plain": [
       "<IPython.core.display.Image object>"
      ]
     },
     "metadata": {},
     "output_type": "display_data"
    },
    {
     "data": {
      "text/html": [
       "<img src=\"https:https://avatars0.githubusercontent.com/u/5092699?s=96&v=4\"/>"
      ],
      "text/plain": [
       "<IPython.core.display.Image object>"
      ]
     },
     "metadata": {},
     "output_type": "display_data"
    },
    {
     "data": {
      "text/html": [
       "<img src=\"https:https://avatars2.githubusercontent.com/u/57224?s=96&v=4\"/>"
      ],
      "text/plain": [
       "<IPython.core.display.Image object>"
      ]
     },
     "metadata": {},
     "output_type": "display_data"
    },
    {
     "data": {
      "text/html": [
       "<img src=\"https:https://avatars1.githubusercontent.com/u/7629661?s=96&v=4\"/>"
      ],
      "text/plain": [
       "<IPython.core.display.Image object>"
      ]
     },
     "metadata": {},
     "output_type": "display_data"
    },
    {
     "data": {
      "text/html": [
       "<img src=\"https:https://avatars3.githubusercontent.com/u/15911462?s=96&v=4\"/>"
      ],
      "text/plain": [
       "<IPython.core.display.Image object>"
      ]
     },
     "metadata": {},
     "output_type": "display_data"
    },
    {
     "data": {
      "text/html": [
       "<img src=\"https:https://avatars2.githubusercontent.com/u/138296?s=96&v=4\"/>"
      ],
      "text/plain": [
       "<IPython.core.display.Image object>"
      ]
     },
     "metadata": {},
     "output_type": "display_data"
    },
    {
     "data": {
      "text/html": [
       "<img src=\"https:https://avatars0.githubusercontent.com/u/8591547?s=96&v=4\"/>"
      ],
      "text/plain": [
       "<IPython.core.display.Image object>"
      ]
     },
     "metadata": {},
     "output_type": "display_data"
    },
    {
     "data": {
      "text/html": [
       "<img src=\"https:https://avatars1.githubusercontent.com/u/1948812?s=96&v=4\"/>"
      ],
      "text/plain": [
       "<IPython.core.display.Image object>"
      ]
     },
     "metadata": {},
     "output_type": "display_data"
    },
    {
     "data": {
      "text/html": [
       "<img src=\"https:https://avatars3.githubusercontent.com/u/124937?s=96&v=4\"/>"
      ],
      "text/plain": [
       "<IPython.core.display.Image object>"
      ]
     },
     "metadata": {},
     "output_type": "display_data"
    },
    {
     "data": {
      "text/html": [
       "<img src=\"https:https://avatars2.githubusercontent.com/u/1857282?s=96&v=4\"/>"
      ],
      "text/plain": [
       "<IPython.core.display.Image object>"
      ]
     },
     "metadata": {},
     "output_type": "display_data"
    },
    {
     "data": {
      "text/html": [
       "<img src=\"https:https://avatars3.githubusercontent.com/u/378614?s=96&v=4\"/>"
      ],
      "text/plain": [
       "<IPython.core.display.Image object>"
      ]
     },
     "metadata": {},
     "output_type": "display_data"
    },
    {
     "data": {
      "text/html": [
       "<img src=\"https:https://avatars1.githubusercontent.com/u/190833?s=96&v=4\"/>"
      ],
      "text/plain": [
       "<IPython.core.display.Image object>"
      ]
     },
     "metadata": {},
     "output_type": "display_data"
    },
    {
     "data": {
      "text/html": [
       "<img src=\"https:https://avatars1.githubusercontent.com/u/872310?s=96&v=4\"/>"
      ],
      "text/plain": [
       "<IPython.core.display.Image object>"
      ]
     },
     "metadata": {},
     "output_type": "display_data"
    },
    {
     "data": {
      "text/html": [
       "<img src=\"https:https://avatars1.githubusercontent.com/u/9773803?s=96&v=4\"/>"
      ],
      "text/plain": [
       "<IPython.core.display.Image object>"
      ]
     },
     "metadata": {},
     "output_type": "display_data"
    },
    {
     "data": {
      "text/html": [
       "<img src=\"https:https://avatars1.githubusercontent.com/u/1008838?s=96&v=4\"/>"
      ],
      "text/plain": [
       "<IPython.core.display.Image object>"
      ]
     },
     "metadata": {},
     "output_type": "display_data"
    },
    {
     "data": {
      "text/html": [
       "<img src=\"https:https://avatars1.githubusercontent.com/u/159209?s=96&v=4\"/>"
      ],
      "text/plain": [
       "<IPython.core.display.Image object>"
      ]
     },
     "metadata": {},
     "output_type": "display_data"
    },
    {
     "data": {
      "text/html": [
       "<img src=\"https:https://avatars3.githubusercontent.com/u/3640001?s=96&v=4\"/>"
      ],
      "text/plain": [
       "<IPython.core.display.Image object>"
      ]
     },
     "metadata": {},
     "output_type": "display_data"
    }
   ],
   "source": [
    "for e in image_urls:\n",
    "    display(Image(url=f\"https:{e}\"))"
   ]
  },
  {
   "cell_type": "markdown",
   "metadata": {},
   "source": [
    "#### Retrieve an arbitary Wikipedia page of \"Python\" and create a list of links on that page"
   ]
  },
  {
   "cell_type": "code",
   "execution_count": 77,
   "metadata": {},
   "outputs": [],
   "source": [
    "# This is the url you will scrape in this exercise\n",
    "url ='https://en.wikipedia.org/wiki/Python' "
   ]
  },
  {
   "cell_type": "code",
   "execution_count": 82,
   "metadata": {},
   "outputs": [],
   "source": [
    "re = requests.get(url)\n",
    "res = re.text\n",
    "soup = BeautifulSoup(res)"
   ]
  },
  {
   "cell_type": "code",
   "execution_count": 96,
   "metadata": {},
   "outputs": [],
   "source": [
    "links_wiki = soup.find_all('a')\n"
   ]
  },
  {
   "cell_type": "code",
   "execution_count": 100,
   "metadata": {},
   "outputs": [
    {
     "name": "stdout",
     "output_type": "stream",
     "text": [
      "None\n",
      "#mw-head\n",
      "#p-search\n",
      "https://en.wiktionary.org/wiki/Python\n",
      "https://en.wiktionary.org/wiki/python\n",
      "#Snakes\n",
      "#Ancient_Greece\n",
      "#Media_and_entertainment\n",
      "#Computing\n",
      "#Engineering\n",
      "#Roller_coasters\n",
      "#Vehicles\n",
      "#Weaponry\n",
      "#People\n",
      "#Other_uses\n",
      "#See_also\n",
      "/w/index.php?title=Python&action=edit&section=1\n",
      "/wiki/Pythonidae\n",
      "/wiki/Python_(genus)\n",
      "/w/index.php?title=Python&action=edit&section=2\n",
      "/wiki/Python_(mythology)\n",
      "/wiki/Python_of_Aenus\n",
      "/wiki/Python_(painter)\n",
      "/wiki/Python_of_Byzantium\n",
      "/wiki/Python_of_Catana\n",
      "/w/index.php?title=Python&action=edit&section=3\n",
      "/wiki/Python_(film)\n",
      "/wiki/Pythons_2\n",
      "/wiki/Monty_Python\n",
      "/wiki/Python_(Monty)_Pictures\n",
      "/w/index.php?title=Python&action=edit&section=4\n",
      "/wiki/Python_(programming_language)\n",
      "/wiki/CPython\n",
      "/wiki/CMU_Common_Lisp\n",
      "/wiki/PERQ#PERQ_3\n",
      "/w/index.php?title=Python&action=edit&section=5\n",
      "/w/index.php?title=Python&action=edit&section=6\n",
      "/wiki/Python_(Busch_Gardens_Tampa_Bay)\n",
      "/wiki/Python_(Coney_Island,_Cincinnati,_Ohio)\n",
      "/wiki/Python_(Efteling)\n",
      "/w/index.php?title=Python&action=edit&section=7\n",
      "/wiki/Python_(automobile_maker)\n",
      "/wiki/Python_(Ford_prototype)\n",
      "/w/index.php?title=Python&action=edit&section=8\n",
      "/wiki/Colt_Python\n",
      "/wiki/Python_(missile)\n",
      "/wiki/Python_(nuclear_primary)\n",
      "/w/index.php?title=Python&action=edit&section=9\n",
      "/wiki/Python_Anghelo\n",
      "/w/index.php?title=Python&action=edit&section=10\n",
      "/wiki/PYTHON\n",
      "/w/index.php?title=Python&action=edit&section=11\n",
      "/wiki/Cython\n",
      "/wiki/Pyton\n",
      "/wiki/File:Disambig_gray.svg\n",
      "/wiki/Help:Disambiguation\n",
      "https://en.wikipedia.org/w/index.php?title=Special:WhatLinksHere/Python&namespace=0\n",
      "https://en.wikipedia.org/w/index.php?title=Python&oldid=963092579\n",
      "/wiki/Help:Category\n",
      "/wiki/Category:Disambiguation_pages\n",
      "/wiki/Category:Disambiguation_pages_with_short_descriptions\n",
      "/wiki/Category:All_article_disambiguation_pages\n",
      "/wiki/Category:All_disambiguation_pages\n",
      "/wiki/Category:Animal_common_name_disambiguation_pages\n",
      "/wiki/Special:MyTalk\n",
      "/wiki/Special:MyContributions\n",
      "/w/index.php?title=Special:CreateAccount&returnto=Python\n",
      "/w/index.php?title=Special:UserLogin&returnto=Python\n",
      "/wiki/Python\n",
      "/wiki/Talk:Python\n",
      "/wiki/Python\n",
      "/w/index.php?title=Python&action=edit\n",
      "/w/index.php?title=Python&action=history\n",
      "/wiki/Main_Page\n",
      "/wiki/Main_Page\n",
      "/wiki/Wikipedia:Contents\n",
      "/wiki/Portal:Current_events\n",
      "/wiki/Special:Random\n",
      "/wiki/Wikipedia:About\n",
      "//en.wikipedia.org/wiki/Wikipedia:Contact_us\n",
      "https://donate.wikimedia.org/wiki/Special:FundraiserRedirector?utm_source=donate&utm_medium=sidebar&utm_campaign=C13_en.wikipedia.org&uselang=en\n",
      "//shop.wikimedia.org\n",
      "/wiki/Help:Contents\n",
      "/wiki/Wikipedia:Community_portal\n",
      "/wiki/Special:RecentChanges\n",
      "/wiki/Wikipedia:File_Upload_Wizard\n",
      "/wiki/Special:WhatLinksHere/Python\n",
      "/wiki/Special:RecentChangesLinked/Python\n",
      "/wiki/Wikipedia:File_Upload_Wizard\n",
      "/wiki/Special:SpecialPages\n",
      "/w/index.php?title=Python&oldid=963092579\n",
      "/w/index.php?title=Python&action=info\n",
      "https://www.wikidata.org/wiki/Special:EntityPage/Q747452\n",
      "/w/index.php?title=Special:CiteThisPage&page=Python&id=963092579&wpFormIdentifier=titleform\n",
      "https://af.wikipedia.org/wiki/Python\n",
      "https://als.wikipedia.org/wiki/Python\n",
      "https://ar.wikipedia.org/wiki/%D8%A8%D8%A7%D9%8A%D8%AB%D9%88%D9%86\n",
      "https://az.wikipedia.org/wiki/Python\n",
      "https://bn.wikipedia.org/wiki/%E0%A6%AA%E0%A6%BE%E0%A6%87%E0%A6%A5%E0%A6%A8_(%E0%A6%A6%E0%A7%8D%E0%A6%AC%E0%A7%8D%E0%A6%AF%E0%A6%B0%E0%A7%8D%E0%A6%A5%E0%A6%A4%E0%A6%BE_%E0%A6%A8%E0%A6%BF%E0%A6%B0%E0%A6%B8%E0%A6%A8)\n",
      "https://be.wikipedia.org/wiki/Python\n",
      "https://bg.wikipedia.org/wiki/%D0%9F%D0%B8%D1%82%D0%BE%D0%BD_(%D0%BF%D0%BE%D1%8F%D1%81%D0%BD%D0%B5%D0%BD%D0%B8%D0%B5)\n",
      "https://cs.wikipedia.org/wiki/Python_(rozcestn%C3%ADk)\n",
      "https://da.wikipedia.org/wiki/Python\n",
      "https://de.wikipedia.org/wiki/Python\n",
      "https://eo.wikipedia.org/wiki/Pitono_(apartigilo)\n",
      "https://eu.wikipedia.org/wiki/Python_(argipena)\n",
      "https://fa.wikipedia.org/wiki/%D9%BE%D8%A7%DB%8C%D8%AA%D9%88%D9%86\n",
      "https://fr.wikipedia.org/wiki/Python\n",
      "https://ko.wikipedia.org/wiki/%ED%8C%8C%EC%9D%B4%EC%84%A0\n",
      "https://hr.wikipedia.org/wiki/Python_(razdvojba)\n",
      "https://io.wikipedia.org/wiki/Pitono\n",
      "https://id.wikipedia.org/wiki/Python\n",
      "https://ia.wikipedia.org/wiki/Python_(disambiguation)\n",
      "https://is.wikipedia.org/wiki/Python_(a%C3%B0greining)\n",
      "https://it.wikipedia.org/wiki/Python_(disambigua)\n",
      "https://he.wikipedia.org/wiki/%D7%A4%D7%99%D7%AA%D7%95%D7%9F\n",
      "https://ka.wikipedia.org/wiki/%E1%83%9E%E1%83%98%E1%83%97%E1%83%9D%E1%83%9C%E1%83%98_(%E1%83%9B%E1%83%A0%E1%83%90%E1%83%95%E1%83%90%E1%83%9A%E1%83%9B%E1%83%9C%E1%83%98%E1%83%A8%E1%83%95%E1%83%9C%E1%83%94%E1%83%9A%E1%83%9D%E1%83%95%E1%83%90%E1%83%9C%E1%83%98)\n",
      "https://kg.wikipedia.org/wiki/Mboma_(nyoka)\n",
      "https://la.wikipedia.org/wiki/Python_(discretiva)\n",
      "https://lb.wikipedia.org/wiki/Python\n",
      "https://hu.wikipedia.org/wiki/Python_(egy%C3%A9rtelm%C5%B1s%C3%ADt%C5%91_lap)\n",
      "https://mr.wikipedia.org/wiki/%E0%A4%AA%E0%A4%BE%E0%A4%AF%E0%A4%A5%E0%A5%89%E0%A4%A8_(%E0%A4%86%E0%A4%9C%E0%A5%8D%E0%A4%9E%E0%A4%BE%E0%A4%B5%E0%A4%B2%E0%A5%80_%E0%A4%AD%E0%A4%BE%E0%A4%B7%E0%A4%BE)\n",
      "https://nl.wikipedia.org/wiki/Python\n",
      "https://ja.wikipedia.org/wiki/%E3%83%91%E3%82%A4%E3%82%BD%E3%83%B3\n",
      "https://no.wikipedia.org/wiki/Pyton\n",
      "https://pl.wikipedia.org/wiki/Pyton\n",
      "https://pt.wikipedia.org/wiki/Python_(desambigua%C3%A7%C3%A3o)\n",
      "https://ru.wikipedia.org/wiki/Python_(%D0%B7%D0%BD%D0%B0%D1%87%D0%B5%D0%BD%D0%B8%D1%8F)\n",
      "https://sk.wikipedia.org/wiki/Python\n",
      "https://sr.wikipedia.org/wiki/%D0%9F%D0%B8%D1%82%D0%BE%D0%BD_(%D0%B2%D0%B8%D1%88%D0%B5%D0%B7%D0%BD%D0%B0%D1%87%D0%BD%D0%B0_%D0%BE%D0%B4%D1%80%D0%B5%D0%B4%D0%BD%D0%B8%D1%86%D0%B0)\n",
      "https://sh.wikipedia.org/wiki/Python\n",
      "https://fi.wikipedia.org/wiki/Python\n",
      "https://sv.wikipedia.org/wiki/Pyton\n",
      "https://th.wikipedia.org/wiki/%E0%B9%84%E0%B8%9E%E0%B8%97%E0%B8%AD%E0%B8%99\n",
      "https://tr.wikipedia.org/wiki/Python\n",
      "https://uk.wikipedia.org/wiki/%D0%9F%D1%96%D1%84%D0%BE%D0%BD\n",
      "https://ur.wikipedia.org/wiki/%D9%BE%D8%A7%D8%A6%DB%8C%D8%AA%DA%BE%D9%88%D9%86\n",
      "https://vi.wikipedia.org/wiki/Python\n",
      "https://zh.wikipedia.org/wiki/Python_(%E6%B6%88%E6%AD%A7%E4%B9%89)\n",
      "https://www.wikidata.org/wiki/Special:EntityPage/Q747452#sitelinks-wikipedia\n",
      "https://commons.wikimedia.org/wiki/Category:Python\n",
      "/w/index.php?title=Special:ElectronPdf&page=Python&action=show-download-screen\n",
      "/w/index.php?title=Python&printable=yes\n",
      "//en.wikipedia.org/wiki/Wikipedia:Text_of_Creative_Commons_Attribution-ShareAlike_3.0_Unported_License\n",
      "//creativecommons.org/licenses/by-sa/3.0/\n",
      "//foundation.wikimedia.org/wiki/Terms_of_Use\n",
      "//foundation.wikimedia.org/wiki/Privacy_policy\n",
      "//www.wikimediafoundation.org/\n",
      "https://foundation.wikimedia.org/wiki/Privacy_policy\n",
      "/wiki/Wikipedia:About\n",
      "/wiki/Wikipedia:General_disclaimer\n",
      "//en.wikipedia.org/wiki/Wikipedia:Contact_us\n",
      "https://www.mediawiki.org/wiki/Special:MyLanguage/How_to_contribute\n",
      "https://stats.wikimedia.org/#/en.wikipedia.org\n",
      "https://foundation.wikimedia.org/wiki/Cookie_statement\n",
      "//en.m.wikipedia.org/w/index.php?title=Python&mobileaction=toggle_view_mobile\n",
      "https://wikimediafoundation.org/\n",
      "https://www.mediawiki.org/\n"
     ]
    }
   ],
   "source": [
    "links = [links.get('href') for links in links_wiki]\n",
    "for link in links:\n",
    "    print(link)"
   ]
  },
  {
   "cell_type": "markdown",
   "metadata": {},
   "source": [
    "#### Number of Titles that have changed in the United States Code since its last release point "
   ]
  },
  {
   "cell_type": "code",
   "execution_count": 101,
   "metadata": {},
   "outputs": [],
   "source": [
    "# This is the url you will scrape in this exercise\n",
    "url = 'http://uscode.house.gov/download/download.shtml'"
   ]
  },
  {
   "cell_type": "code",
   "execution_count": 102,
   "metadata": {},
   "outputs": [],
   "source": [
    "re = requests.get(url)\n",
    "res = re.text\n",
    "soup = BeautifulSoup(res)"
   ]
  },
  {
   "cell_type": "code",
   "execution_count": 133,
   "metadata": {},
   "outputs": [
    {
     "data": {
      "text/plain": [
       "'\\n\\n          Title 15 - Commerce and Trade\\n\\n        '"
      ]
     },
     "execution_count": 133,
     "metadata": {},
     "output_type": "execute_result"
    }
   ],
   "source": [
    "number_titles = soup.find_all(class_='usctitlechanged')\n",
    "number_titles[0].text"
   ]
  },
  {
   "cell_type": "code",
   "execution_count": 134,
   "metadata": {},
   "outputs": [
    {
     "data": {
      "text/plain": [
       "['Title 15 - Commerce and Trade', 'Title 26 - Internal Revenue Code']"
      ]
     },
     "execution_count": 134,
     "metadata": {},
     "output_type": "execute_result"
    }
   ],
   "source": [
    "title_uscode = [(titles.text).strip() for titles in number_titles]\n",
    "title_uscode"
   ]
  },
  {
   "cell_type": "markdown",
   "metadata": {},
   "source": [
    "#### A Python list with the top ten FBI's Most Wanted names "
   ]
  },
  {
   "cell_type": "code",
   "execution_count": 135,
   "metadata": {},
   "outputs": [],
   "source": [
    "# This is the url you will scrape in this exercise\n",
    "url = 'https://www.fbi.gov/wanted/topten'"
   ]
  },
  {
   "cell_type": "code",
   "execution_count": 136,
   "metadata": {},
   "outputs": [],
   "source": [
    "re = requests.get(url)\n",
    "res = re.text\n",
    "soup = BeautifulSoup(res)"
   ]
  },
  {
   "cell_type": "code",
   "execution_count": 153,
   "metadata": {
    "scrolled": true
   },
   "outputs": [
    {
     "data": {
      "text/plain": [
       "'\\nROBERT WILLIAM FISHER\\n'"
      ]
     },
     "execution_count": 153,
     "metadata": {},
     "output_type": "execute_result"
    }
   ],
   "source": [
    "names_wanted = soup.find_all('h3')\n",
    "names_wanted[5].text"
   ]
  },
  {
   "cell_type": "code",
   "execution_count": 160,
   "metadata": {},
   "outputs": [
    {
     "name": "stdout",
     "output_type": "stream",
     "text": [
      "YASER ABDEL SAID\n",
      "ALEXIS FLORES\n",
      "EUGENE PALMER\n",
      "SANTIAGO VILLALBA MEDEROS\n",
      "RAFAEL CARO-QUINTERO\n",
      "ROBERT WILLIAM FISHER\n",
      "BHADRESHKUMAR CHETANBHAI PATEL\n",
      "ALEJANDRO ROSALES CASTILLO\n",
      "ARNOLDO JIMENEZ\n",
      "JASON DEREK BROWN\n"
     ]
    }
   ],
   "source": [
    "names_mostwanted = [(names.text).strip() for names in names_wanted]\n",
    "for names in names_mostwanted:\n",
    "    print(names)"
   ]
  },
  {
   "cell_type": "markdown",
   "metadata": {},
   "source": [
    "####  20 latest earthquakes info (date, time, latitude, longitude and region name) by the EMSC as a pandas dataframe"
   ]
  },
  {
   "cell_type": "code",
   "execution_count": 164,
   "metadata": {},
   "outputs": [],
   "source": [
    "# This is the url you will scrape in this exercise\n",
    "url = 'https://www.emsc-csem.org/Earthquake/'"
   ]
  },
  {
   "cell_type": "code",
   "execution_count": 165,
   "metadata": {},
   "outputs": [],
   "source": [
    "re = requests.get(url)\n",
    "res = re.text\n",
    "soup = BeautifulSoup(res)"
   ]
  },
  {
   "cell_type": "code",
   "execution_count": 183,
   "metadata": {},
   "outputs": [
    {
     "data": {
      "text/plain": [
       "5"
      ]
     },
     "execution_count": 183,
     "metadata": {},
     "output_type": "execute_result"
    }
   ],
   "source": [
    "table = soup.find_all('table')\n",
    "len(table)"
   ]
  },
  {
   "cell_type": "code",
   "execution_count": 187,
   "metadata": {},
   "outputs": [
    {
     "name": "stdout",
     "output_type": "stream",
     "text": [
      "['CitizenResponse', 'Date & Time UTC', 'Latitude degrees', 'Longitude degrees', 'Depth km', 'Mag  [+]', 'Region name  [+]', 'Last update [-]']\n"
     ]
    }
   ],
   "source": [
    "#header\n",
    "tab_header = soup.select(\"th\" ,class_=\"th2\")\n",
    "tab_header[0].text\n",
    "cabecera = [e.text for e in tab_header]\n",
    "print(cabecera)\n"
   ]
  },
  {
   "cell_type": "code",
   "execution_count": 200,
   "metadata": {},
   "outputs": [
    {
     "data": {
      "text/plain": [
       "'earthquake2020-06-18\\xa0\\xa0\\xa016:42:16.630min ago24.81\\xa0N\\xa0\\xa0123.22\\xa0E\\xa0\\xa024mb5.0\\xa0SOUTHWESTERN RYUKYU ISL., JAPAN2020-06-18 17:05'"
      ]
     },
     "execution_count": 200,
     "metadata": {},
     "output_type": "execute_result"
    }
   ],
   "source": [
    "#body\n",
    "tab_body = soup.select(\"tbody tr[class^=ligne]\")\n",
    "tab_body[0].text\n"
   ]
  },
  {
   "cell_type": "code",
   "execution_count": 202,
   "metadata": {},
   "outputs": [],
   "source": [
    "body = [(e.text).split(\"\\xa0\") for e in tab_body]\n"
   ]
  },
  {
   "cell_type": "code",
   "execution_count": 230,
   "metadata": {},
   "outputs": [
    {
     "data": {
      "text/html": [
       "<div>\n",
       "<style scoped>\n",
       "    .dataframe tbody tr th:only-of-type {\n",
       "        vertical-align: middle;\n",
       "    }\n",
       "\n",
       "    .dataframe tbody tr th {\n",
       "        vertical-align: top;\n",
       "    }\n",
       "\n",
       "    .dataframe thead th {\n",
       "        text-align: right;\n",
       "    }\n",
       "</style>\n",
       "<table border=\"1\" class=\"dataframe\">\n",
       "  <thead>\n",
       "    <tr style=\"text-align: right;\">\n",
       "      <th></th>\n",
       "      <th>0</th>\n",
       "      <th>1</th>\n",
       "      <th>2</th>\n",
       "      <th>3</th>\n",
       "      <th>4</th>\n",
       "      <th>5</th>\n",
       "      <th>6</th>\n",
       "      <th>7</th>\n",
       "      <th>8</th>\n",
       "      <th>9</th>\n",
       "      <th>10</th>\n",
       "    </tr>\n",
       "  </thead>\n",
       "  <tbody>\n",
       "    <tr>\n",
       "      <th>0</th>\n",
       "      <td>earthquake2020-06-18</td>\n",
       "      <td></td>\n",
       "      <td></td>\n",
       "      <td>16:42:16.630min ago24.81</td>\n",
       "      <td>N</td>\n",
       "      <td></td>\n",
       "      <td>123.22</td>\n",
       "      <td>E</td>\n",
       "      <td></td>\n",
       "      <td>24mb5.0</td>\n",
       "      <td>SOUTHWESTERN RYUKYU ISL., JAPAN2020-06-18 17:05</td>\n",
       "    </tr>\n",
       "    <tr>\n",
       "      <th>1</th>\n",
       "      <td>earthquake2020-06-18</td>\n",
       "      <td></td>\n",
       "      <td></td>\n",
       "      <td>16:37:36.035min ago20.25</td>\n",
       "      <td>S</td>\n",
       "      <td></td>\n",
       "      <td>69.08</td>\n",
       "      <td>W</td>\n",
       "      <td></td>\n",
       "      <td>96ML3.8</td>\n",
       "      <td>TARAPACA, CHILE2020-06-18 16:56</td>\n",
       "    </tr>\n",
       "    <tr>\n",
       "      <th>2</th>\n",
       "      <td>earthquake2020-06-18</td>\n",
       "      <td></td>\n",
       "      <td></td>\n",
       "      <td>16:32:56.840min ago6.71</td>\n",
       "      <td>N</td>\n",
       "      <td></td>\n",
       "      <td>82.38</td>\n",
       "      <td>W</td>\n",
       "      <td></td>\n",
       "      <td>20mb4.7</td>\n",
       "      <td>SOUTH OF PANAMA2020-06-18 16:50</td>\n",
       "    </tr>\n",
       "    <tr>\n",
       "      <th>3</th>\n",
       "      <td>earthquake2020-06-18</td>\n",
       "      <td></td>\n",
       "      <td></td>\n",
       "      <td>16:23:49.849min ago17.95</td>\n",
       "      <td>N</td>\n",
       "      <td></td>\n",
       "      <td>66.82</td>\n",
       "      <td>W</td>\n",
       "      <td></td>\n",
       "      <td>9Md2.4</td>\n",
       "      <td>PUERTO RICO REGION2020-06-18 16:46</td>\n",
       "    </tr>\n",
       "    <tr>\n",
       "      <th>4</th>\n",
       "      <td>earthquake2020-06-18</td>\n",
       "      <td></td>\n",
       "      <td></td>\n",
       "      <td>16:22:16.150min ago35.60</td>\n",
       "      <td>N</td>\n",
       "      <td></td>\n",
       "      <td>117.41</td>\n",
       "      <td>W</td>\n",
       "      <td></td>\n",
       "      <td>9Ml2.3</td>\n",
       "      <td>SOUTHERN CALIFORNIA2020-06-18 16:25</td>\n",
       "    </tr>\n",
       "  </tbody>\n",
       "</table>\n",
       "</div>"
      ],
      "text/plain": [
       "                      0 1 2                         3  4 5       6  7 8  \\\n",
       "0  earthquake2020-06-18      16:42:16.630min ago24.81  N    123.22  E     \n",
       "1  earthquake2020-06-18      16:37:36.035min ago20.25  S     69.08  W     \n",
       "2  earthquake2020-06-18       16:32:56.840min ago6.71  N     82.38  W     \n",
       "3  earthquake2020-06-18      16:23:49.849min ago17.95  N     66.82  W     \n",
       "4  earthquake2020-06-18      16:22:16.150min ago35.60  N    117.41  W     \n",
       "\n",
       "         9                                               10  \n",
       "0  24mb5.0  SOUTHWESTERN RYUKYU ISL., JAPAN2020-06-18 17:05  \n",
       "1  96ML3.8                  TARAPACA, CHILE2020-06-18 16:56  \n",
       "2  20mb4.7                  SOUTH OF PANAMA2020-06-18 16:50  \n",
       "3   9Md2.4               PUERTO RICO REGION2020-06-18 16:46  \n",
       "4   9Ml2.3              SOUTHERN CALIFORNIA2020-06-18 16:25  "
      ]
     },
     "execution_count": 230,
     "metadata": {},
     "output_type": "execute_result"
    }
   ],
   "source": [
    "df = pd.DataFrame(body)\n",
    "df.head()"
   ]
  },
  {
   "cell_type": "code",
   "execution_count": 313,
   "metadata": {},
   "outputs": [],
   "source": [
    "new_df = df.drop(columns =[1,2,5,8])\n"
   ]
  },
  {
   "cell_type": "code",
   "execution_count": 314,
   "metadata": {},
   "outputs": [
    {
     "ename": "ValueError",
     "evalue": "Length mismatch: Expected axis has 6 elements, new values have 11 elements",
     "output_type": "error",
     "traceback": [
      "\u001b[0;31m---------------------------------------------------------------------------\u001b[0m",
      "\u001b[0;31mValueError\u001b[0m                                Traceback (most recent call last)",
      "\u001b[0;32m<ipython-input-314-e7ac1bf9fbb1>\u001b[0m in \u001b[0;36m<module>\u001b[0;34m\u001b[0m\n\u001b[0;32m----> 1\u001b[0;31m \u001b[0mnew_df\u001b[0m\u001b[0;34m.\u001b[0m\u001b[0mcolumns\u001b[0m \u001b[0;34m=\u001b[0m \u001b[0;34m[\u001b[0m\u001b[0;34m'CitizenResponse'\u001b[0m\u001b[0;34m,\u001b[0m \u001b[0;34m'Date & Time UTC'\u001b[0m\u001b[0;34m,\u001b[0m \u001b[0;34m'Latitude degrees'\u001b[0m\u001b[0;34m,\u001b[0m \u001b[0;34m'Longitude degrees'\u001b[0m\u001b[0;34m,\u001b[0m \u001b[0;34m'Depth km'\u001b[0m\u001b[0;34m,\u001b[0m \u001b[0;34m'Mag  [+]'\u001b[0m\u001b[0;34m,\u001b[0m \u001b[0;34m'Region name  [+]'\u001b[0m\u001b[0;34m,\u001b[0m \u001b[0;34m'Last update [-]'\u001b[0m\u001b[0;34m,\u001b[0m\u001b[0;34m\"\"\u001b[0m\u001b[0;34m,\u001b[0m\u001b[0;34m\"\"\u001b[0m\u001b[0;34m,\u001b[0m\u001b[0;34m\"\"\u001b[0m\u001b[0;34m]\u001b[0m\u001b[0;34m\u001b[0m\u001b[0;34m\u001b[0m\u001b[0m\n\u001b[0m",
      "\u001b[0;32m/usr/local/lib/python3.7/site-packages/pandas/core/generic.py\u001b[0m in \u001b[0;36m__setattr__\u001b[0;34m(self, name, value)\u001b[0m\n\u001b[1;32m   5285\u001b[0m         \u001b[0;32mtry\u001b[0m\u001b[0;34m:\u001b[0m\u001b[0;34m\u001b[0m\u001b[0;34m\u001b[0m\u001b[0m\n\u001b[1;32m   5286\u001b[0m             \u001b[0mobject\u001b[0m\u001b[0;34m.\u001b[0m\u001b[0m__getattribute__\u001b[0m\u001b[0;34m(\u001b[0m\u001b[0mself\u001b[0m\u001b[0;34m,\u001b[0m \u001b[0mname\u001b[0m\u001b[0;34m)\u001b[0m\u001b[0;34m\u001b[0m\u001b[0;34m\u001b[0m\u001b[0m\n\u001b[0;32m-> 5287\u001b[0;31m             \u001b[0;32mreturn\u001b[0m \u001b[0mobject\u001b[0m\u001b[0;34m.\u001b[0m\u001b[0m__setattr__\u001b[0m\u001b[0;34m(\u001b[0m\u001b[0mself\u001b[0m\u001b[0;34m,\u001b[0m \u001b[0mname\u001b[0m\u001b[0;34m,\u001b[0m \u001b[0mvalue\u001b[0m\u001b[0;34m)\u001b[0m\u001b[0;34m\u001b[0m\u001b[0;34m\u001b[0m\u001b[0m\n\u001b[0m\u001b[1;32m   5288\u001b[0m         \u001b[0;32mexcept\u001b[0m \u001b[0mAttributeError\u001b[0m\u001b[0;34m:\u001b[0m\u001b[0;34m\u001b[0m\u001b[0;34m\u001b[0m\u001b[0m\n\u001b[1;32m   5289\u001b[0m             \u001b[0;32mpass\u001b[0m\u001b[0;34m\u001b[0m\u001b[0;34m\u001b[0m\u001b[0m\n",
      "\u001b[0;32mpandas/_libs/properties.pyx\u001b[0m in \u001b[0;36mpandas._libs.properties.AxisProperty.__set__\u001b[0;34m()\u001b[0m\n",
      "\u001b[0;32m/usr/local/lib/python3.7/site-packages/pandas/core/generic.py\u001b[0m in \u001b[0;36m_set_axis\u001b[0;34m(self, axis, labels)\u001b[0m\n\u001b[1;32m    659\u001b[0m \u001b[0;34m\u001b[0m\u001b[0m\n\u001b[1;32m    660\u001b[0m     \u001b[0;32mdef\u001b[0m \u001b[0m_set_axis\u001b[0m\u001b[0;34m(\u001b[0m\u001b[0mself\u001b[0m\u001b[0;34m,\u001b[0m \u001b[0maxis\u001b[0m\u001b[0;34m,\u001b[0m \u001b[0mlabels\u001b[0m\u001b[0;34m)\u001b[0m \u001b[0;34m->\u001b[0m \u001b[0;32mNone\u001b[0m\u001b[0;34m:\u001b[0m\u001b[0;34m\u001b[0m\u001b[0;34m\u001b[0m\u001b[0m\n\u001b[0;32m--> 661\u001b[0;31m         \u001b[0mself\u001b[0m\u001b[0;34m.\u001b[0m\u001b[0m_data\u001b[0m\u001b[0;34m.\u001b[0m\u001b[0mset_axis\u001b[0m\u001b[0;34m(\u001b[0m\u001b[0maxis\u001b[0m\u001b[0;34m,\u001b[0m \u001b[0mlabels\u001b[0m\u001b[0;34m)\u001b[0m\u001b[0;34m\u001b[0m\u001b[0;34m\u001b[0m\u001b[0m\n\u001b[0m\u001b[1;32m    662\u001b[0m         \u001b[0mself\u001b[0m\u001b[0;34m.\u001b[0m\u001b[0m_clear_item_cache\u001b[0m\u001b[0;34m(\u001b[0m\u001b[0;34m)\u001b[0m\u001b[0;34m\u001b[0m\u001b[0;34m\u001b[0m\u001b[0m\n\u001b[1;32m    663\u001b[0m \u001b[0;34m\u001b[0m\u001b[0m\n",
      "\u001b[0;32m/usr/local/lib/python3.7/site-packages/pandas/core/internals/managers.py\u001b[0m in \u001b[0;36mset_axis\u001b[0;34m(self, axis, new_labels)\u001b[0m\n\u001b[1;32m    176\u001b[0m         \u001b[0;32mif\u001b[0m \u001b[0mnew_len\u001b[0m \u001b[0;34m!=\u001b[0m \u001b[0mold_len\u001b[0m\u001b[0;34m:\u001b[0m\u001b[0;34m\u001b[0m\u001b[0;34m\u001b[0m\u001b[0m\n\u001b[1;32m    177\u001b[0m             raise ValueError(\n\u001b[0;32m--> 178\u001b[0;31m                 \u001b[0;34mf\"Length mismatch: Expected axis has {old_len} elements, new \"\u001b[0m\u001b[0;34m\u001b[0m\u001b[0;34m\u001b[0m\u001b[0m\n\u001b[0m\u001b[1;32m    179\u001b[0m                 \u001b[0;34mf\"values have {new_len} elements\"\u001b[0m\u001b[0;34m\u001b[0m\u001b[0;34m\u001b[0m\u001b[0m\n\u001b[1;32m    180\u001b[0m             )\n",
      "\u001b[0;31mValueError\u001b[0m: Length mismatch: Expected axis has 6 elements, new values have 11 elements"
     ]
    }
   ],
   "source": [
    "new_df.columns = ['CitizenResponse', 'Date & Time UTC', 'Latitude degrees', 'Longitude degrees', 'Depth km', 'Mag  [+]', 'Region name  [+]', 'Last update [-]',\"\",\"\",\"\"]"
   ]
  },
  {
   "cell_type": "code",
   "execution_count": 237,
   "metadata": {},
   "outputs": [
    {
     "data": {
      "text/html": [
       "<div>\n",
       "<style scoped>\n",
       "    .dataframe tbody tr th:only-of-type {\n",
       "        vertical-align: middle;\n",
       "    }\n",
       "\n",
       "    .dataframe tbody tr th {\n",
       "        vertical-align: top;\n",
       "    }\n",
       "\n",
       "    .dataframe thead th {\n",
       "        text-align: right;\n",
       "    }\n",
       "</style>\n",
       "<table border=\"1\" class=\"dataframe\">\n",
       "  <thead>\n",
       "    <tr style=\"text-align: right;\">\n",
       "      <th></th>\n",
       "      <th>CitizenResponse</th>\n",
       "      <th>Date &amp; Time UTC</th>\n",
       "      <th>Latitude degrees</th>\n",
       "      <th>Longitude degrees</th>\n",
       "      <th>Depth km</th>\n",
       "      <th>Mag  [+]</th>\n",
       "      <th>Region name  [+]</th>\n",
       "      <th>Last update [-]</th>\n",
       "      <th></th>\n",
       "      <th></th>\n",
       "      <th></th>\n",
       "    </tr>\n",
       "  </thead>\n",
       "  <tbody>\n",
       "    <tr>\n",
       "      <th>0</th>\n",
       "      <td>earthquake2020-06-18</td>\n",
       "      <td></td>\n",
       "      <td></td>\n",
       "      <td>16:42:16.630min ago24.81</td>\n",
       "      <td>N</td>\n",
       "      <td></td>\n",
       "      <td>123.22</td>\n",
       "      <td>E</td>\n",
       "      <td></td>\n",
       "      <td>24mb5.0</td>\n",
       "      <td>SOUTHWESTERN RYUKYU ISL., JAPAN2020-06-18 17:05</td>\n",
       "    </tr>\n",
       "    <tr>\n",
       "      <th>1</th>\n",
       "      <td>earthquake2020-06-18</td>\n",
       "      <td></td>\n",
       "      <td></td>\n",
       "      <td>16:37:36.035min ago20.25</td>\n",
       "      <td>S</td>\n",
       "      <td></td>\n",
       "      <td>69.08</td>\n",
       "      <td>W</td>\n",
       "      <td></td>\n",
       "      <td>96ML3.8</td>\n",
       "      <td>TARAPACA, CHILE2020-06-18 16:56</td>\n",
       "    </tr>\n",
       "    <tr>\n",
       "      <th>2</th>\n",
       "      <td>earthquake2020-06-18</td>\n",
       "      <td></td>\n",
       "      <td></td>\n",
       "      <td>16:32:56.840min ago6.71</td>\n",
       "      <td>N</td>\n",
       "      <td></td>\n",
       "      <td>82.38</td>\n",
       "      <td>W</td>\n",
       "      <td></td>\n",
       "      <td>20mb4.7</td>\n",
       "      <td>SOUTH OF PANAMA2020-06-18 16:50</td>\n",
       "    </tr>\n",
       "    <tr>\n",
       "      <th>3</th>\n",
       "      <td>earthquake2020-06-18</td>\n",
       "      <td></td>\n",
       "      <td></td>\n",
       "      <td>16:23:49.849min ago17.95</td>\n",
       "      <td>N</td>\n",
       "      <td></td>\n",
       "      <td>66.82</td>\n",
       "      <td>W</td>\n",
       "      <td></td>\n",
       "      <td>9Md2.4</td>\n",
       "      <td>PUERTO RICO REGION2020-06-18 16:46</td>\n",
       "    </tr>\n",
       "    <tr>\n",
       "      <th>4</th>\n",
       "      <td>earthquake2020-06-18</td>\n",
       "      <td></td>\n",
       "      <td></td>\n",
       "      <td>16:22:16.150min ago35.60</td>\n",
       "      <td>N</td>\n",
       "      <td></td>\n",
       "      <td>117.41</td>\n",
       "      <td>W</td>\n",
       "      <td></td>\n",
       "      <td>9Ml2.3</td>\n",
       "      <td>SOUTHERN CALIFORNIA2020-06-18 16:25</td>\n",
       "    </tr>\n",
       "    <tr>\n",
       "      <th>5</th>\n",
       "      <td>earthquake2020-06-18</td>\n",
       "      <td></td>\n",
       "      <td></td>\n",
       "      <td>16:13:40.959min ago17.90</td>\n",
       "      <td>N</td>\n",
       "      <td></td>\n",
       "      <td>66.75</td>\n",
       "      <td>W</td>\n",
       "      <td></td>\n",
       "      <td>4MD2.6</td>\n",
       "      <td>PUERTO RICO REGION2020-06-18 16:46</td>\n",
       "    </tr>\n",
       "    <tr>\n",
       "      <th>6</th>\n",
       "      <td>earthquake2020-06-18</td>\n",
       "      <td></td>\n",
       "      <td></td>\n",
       "      <td>16:11:39.71hr 01min ago33.52</td>\n",
       "      <td>S</td>\n",
       "      <td></td>\n",
       "      <td>177.85</td>\n",
       "      <td>W</td>\n",
       "      <td></td>\n",
       "      <td>2mb5.4</td>\n",
       "      <td>SOUTH OF KERMADEC ISLANDS2020-06-18 16:27</td>\n",
       "    </tr>\n",
       "    <tr>\n",
       "      <th>7</th>\n",
       "      <td>earthquake2020-06-18</td>\n",
       "      <td></td>\n",
       "      <td></td>\n",
       "      <td>16:06:41.91hr 06min ago40.35</td>\n",
       "      <td>N</td>\n",
       "      <td></td>\n",
       "      <td>124.32</td>\n",
       "      <td>W</td>\n",
       "      <td></td>\n",
       "      <td>0Md2.3</td>\n",
       "      <td>NORTHERN CALIFORNIA2020-06-18 16:08</td>\n",
       "    </tr>\n",
       "    <tr>\n",
       "      <th>8</th>\n",
       "      <td>earthquake2020-06-18</td>\n",
       "      <td></td>\n",
       "      <td></td>\n",
       "      <td>15:26:07.01hr 46min ago45.64</td>\n",
       "      <td>N</td>\n",
       "      <td></td>\n",
       "      <td>26.47</td>\n",
       "      <td>E</td>\n",
       "      <td></td>\n",
       "      <td>140ML3.2</td>\n",
       "      <td>ROMANIA2020-06-18 15:44</td>\n",
       "    </tr>\n",
       "    <tr>\n",
       "      <th>9</th>\n",
       "      <td>earthquake2020-06-18</td>\n",
       "      <td></td>\n",
       "      <td></td>\n",
       "      <td>15:20:53.91hr 52min ago46.88</td>\n",
       "      <td>S</td>\n",
       "      <td></td>\n",
       "      <td>10.89</td>\n",
       "      <td>W</td>\n",
       "      <td></td>\n",
       "      <td>10mb4.9</td>\n",
       "      <td>SOUTHERN MID-ATLANTIC RIDGE2020-06-18 16:46</td>\n",
       "    </tr>\n",
       "    <tr>\n",
       "      <th>10</th>\n",
       "      <td>earthquake2020-06-18</td>\n",
       "      <td></td>\n",
       "      <td></td>\n",
       "      <td>15:07:51.92hr 05min ago38.15</td>\n",
       "      <td>N</td>\n",
       "      <td></td>\n",
       "      <td>118.00</td>\n",
       "      <td>W</td>\n",
       "      <td></td>\n",
       "      <td>5ML2.7</td>\n",
       "      <td>NEVADA2020-06-18 15:43</td>\n",
       "    </tr>\n",
       "    <tr>\n",
       "      <th>11</th>\n",
       "      <td>earthquake2020-06-18</td>\n",
       "      <td></td>\n",
       "      <td></td>\n",
       "      <td>15:06:15.72hr 06min ago33.33</td>\n",
       "      <td>S</td>\n",
       "      <td></td>\n",
       "      <td>177.98</td>\n",
       "      <td>W</td>\n",
       "      <td></td>\n",
       "      <td>10mb5.5</td>\n",
       "      <td>SOUTH OF KERMADEC ISLANDS2020-06-18 15:44</td>\n",
       "    </tr>\n",
       "    <tr>\n",
       "      <th>12</th>\n",
       "      <td>earthquake2020-06-18</td>\n",
       "      <td></td>\n",
       "      <td></td>\n",
       "      <td>14:53:30.02hr 19min ago9.44</td>\n",
       "      <td>N</td>\n",
       "      <td></td>\n",
       "      <td>83.64</td>\n",
       "      <td>W</td>\n",
       "      <td></td>\n",
       "      <td>3 M3.2</td>\n",
       "      <td>COSTA RICA2020-06-18 15:31</td>\n",
       "    </tr>\n",
       "    <tr>\n",
       "      <th>13</th>\n",
       "      <td>earthquake2020-06-18</td>\n",
       "      <td></td>\n",
       "      <td></td>\n",
       "      <td>14:52:53.82hr 20min ago33.21</td>\n",
       "      <td>S</td>\n",
       "      <td></td>\n",
       "      <td>178.00</td>\n",
       "      <td>W</td>\n",
       "      <td></td>\n",
       "      <td>40mb5.0</td>\n",
       "      <td>SOUTH OF KERMADEC ISLANDS2020-06-18 16:34</td>\n",
       "    </tr>\n",
       "    <tr>\n",
       "      <th>14</th>\n",
       "      <td>earthquake2020-06-18</td>\n",
       "      <td></td>\n",
       "      <td></td>\n",
       "      <td>14:38:30.02hr 34min ago9.30</td>\n",
       "      <td>N</td>\n",
       "      <td></td>\n",
       "      <td>84.12</td>\n",
       "      <td>W</td>\n",
       "      <td></td>\n",
       "      <td>20 M3.3</td>\n",
       "      <td>COSTA RICA2020-06-18 15:15</td>\n",
       "    </tr>\n",
       "    <tr>\n",
       "      <th>15</th>\n",
       "      <td>earthquake2020-06-18</td>\n",
       "      <td></td>\n",
       "      <td></td>\n",
       "      <td>14:17:49.72hr 55min ago47.63</td>\n",
       "      <td>N</td>\n",
       "      <td></td>\n",
       "      <td>8.08</td>\n",
       "      <td>E</td>\n",
       "      <td></td>\n",
       "      <td>-1ML1.6</td>\n",
       "      <td>GERMANY2020-06-18 14:22</td>\n",
       "    </tr>\n",
       "    <tr>\n",
       "      <th>16</th>\n",
       "      <td>earthquake2020-06-18</td>\n",
       "      <td></td>\n",
       "      <td></td>\n",
       "      <td>14:07:04.63hr 05min ago26.62</td>\n",
       "      <td>S</td>\n",
       "      <td></td>\n",
       "      <td>178.52</td>\n",
       "      <td>E</td>\n",
       "      <td></td>\n",
       "      <td>626mb4.9</td>\n",
       "      <td>SOUTH OF FIJI ISLANDS2020-06-18 14:29</td>\n",
       "    </tr>\n",
       "    <tr>\n",
       "      <th>17</th>\n",
       "      <td>1Fearthquake2020-06-18</td>\n",
       "      <td></td>\n",
       "      <td></td>\n",
       "      <td>13:59:18.83hr 13min ago22.37</td>\n",
       "      <td>N</td>\n",
       "      <td></td>\n",
       "      <td>94.43</td>\n",
       "      <td>E</td>\n",
       "      <td></td>\n",
       "      <td>80mb5.0</td>\n",
       "      <td>MYANMAR2020-06-18 14:28</td>\n",
       "    </tr>\n",
       "    <tr>\n",
       "      <th>18</th>\n",
       "      <td>earthquake2020-06-18</td>\n",
       "      <td></td>\n",
       "      <td></td>\n",
       "      <td>13:57:11.03hr 15min ago8.99</td>\n",
       "      <td>S</td>\n",
       "      <td></td>\n",
       "      <td>111.39</td>\n",
       "      <td>E</td>\n",
       "      <td></td>\n",
       "      <td>10 M4.6</td>\n",
       "      <td>JAVA, INDONESIA2020-06-18 14:06</td>\n",
       "    </tr>\n",
       "    <tr>\n",
       "      <th>19</th>\n",
       "      <td>earthquake2020-06-18</td>\n",
       "      <td></td>\n",
       "      <td></td>\n",
       "      <td>13:53:19.03hr 19min ago6.34</td>\n",
       "      <td>S</td>\n",
       "      <td></td>\n",
       "      <td>104.92</td>\n",
       "      <td>E</td>\n",
       "      <td></td>\n",
       "      <td>10 M4.0</td>\n",
       "      <td>SUNDA STRAIT, INDONESIA2020-06-18 14:06</td>\n",
       "    </tr>\n",
       "    <tr>\n",
       "      <th>20</th>\n",
       "      <td>earthquake2020-06-18</td>\n",
       "      <td></td>\n",
       "      <td></td>\n",
       "      <td>13:43:02.13hr 30min ago38.03</td>\n",
       "      <td>N</td>\n",
       "      <td></td>\n",
       "      <td>118.82</td>\n",
       "      <td>W</td>\n",
       "      <td></td>\n",
       "      <td>0ml2.2</td>\n",
       "      <td>CENTRAL CALIFORNIA2020-06-18 13:46</td>\n",
       "    </tr>\n",
       "    <tr>\n",
       "      <th>21</th>\n",
       "      <td>earthquake2020-06-18</td>\n",
       "      <td></td>\n",
       "      <td></td>\n",
       "      <td>13:34:46.73hr 38min ago56.21</td>\n",
       "      <td>N</td>\n",
       "      <td></td>\n",
       "      <td>149.17</td>\n",
       "      <td>W</td>\n",
       "      <td></td>\n",
       "      <td>22ML3.5</td>\n",
       "      <td>GULF OF ALASKA2020-06-18 14:30</td>\n",
       "    </tr>\n",
       "    <tr>\n",
       "      <th>22</th>\n",
       "      <td>earthquake2020-06-18</td>\n",
       "      <td></td>\n",
       "      <td></td>\n",
       "      <td>13:23:58.13hr 49min ago37.27</td>\n",
       "      <td>N</td>\n",
       "      <td></td>\n",
       "      <td>43.00</td>\n",
       "      <td>E</td>\n",
       "      <td></td>\n",
       "      <td>7ML2.2</td>\n",
       "      <td>TURKEY-IRAQ BORDER REGION2020-06-18 14:04</td>\n",
       "    </tr>\n",
       "    <tr>\n",
       "      <th>23</th>\n",
       "      <td>earthquake2020-06-18</td>\n",
       "      <td></td>\n",
       "      <td></td>\n",
       "      <td>13:09:20.04hr 03min ago65.85</td>\n",
       "      <td>N</td>\n",
       "      <td></td>\n",
       "      <td>18.14</td>\n",
       "      <td>W</td>\n",
       "      <td></td>\n",
       "      <td>86 M4.1</td>\n",
       "      <td>ICELAND2020-06-18 13:20</td>\n",
       "    </tr>\n",
       "    <tr>\n",
       "      <th>24</th>\n",
       "      <td>earthquake2020-06-18</td>\n",
       "      <td></td>\n",
       "      <td></td>\n",
       "      <td>13:03:43.74hr 09min ago40.83</td>\n",
       "      <td>N</td>\n",
       "      <td></td>\n",
       "      <td>27.96</td>\n",
       "      <td>E</td>\n",
       "      <td></td>\n",
       "      <td>7ML2.0</td>\n",
       "      <td>WESTERN TURKEY2020-06-18 13:54</td>\n",
       "    </tr>\n",
       "    <tr>\n",
       "      <th>25</th>\n",
       "      <td>earthquake2020-06-18</td>\n",
       "      <td></td>\n",
       "      <td></td>\n",
       "      <td>12:59:33.44hr 13min ago39.10</td>\n",
       "      <td>N</td>\n",
       "      <td></td>\n",
       "      <td>29.04</td>\n",
       "      <td>E</td>\n",
       "      <td></td>\n",
       "      <td>9ML2.5</td>\n",
       "      <td>WESTERN TURKEY2020-06-18 14:27</td>\n",
       "    </tr>\n",
       "    <tr>\n",
       "      <th>26</th>\n",
       "      <td>earthquake2020-06-18</td>\n",
       "      <td></td>\n",
       "      <td></td>\n",
       "      <td>12:56:15.74hr 16min ago35.88</td>\n",
       "      <td>N</td>\n",
       "      <td></td>\n",
       "      <td>37.03</td>\n",
       "      <td>E</td>\n",
       "      <td></td>\n",
       "      <td>7ML2.2</td>\n",
       "      <td>SYRIA2020-06-18 13:28</td>\n",
       "    </tr>\n",
       "    <tr>\n",
       "      <th>27</th>\n",
       "      <td>1earthquake2020-06-18</td>\n",
       "      <td></td>\n",
       "      <td></td>\n",
       "      <td>12:49:53.44hr 23min ago33.41</td>\n",
       "      <td>S</td>\n",
       "      <td></td>\n",
       "      <td>177.81</td>\n",
       "      <td>W</td>\n",
       "      <td></td>\n",
       "      <td>8Mw7.4</td>\n",
       "      <td>SOUTH OF KERMADEC ISLANDS2020-06-18 15:48</td>\n",
       "    </tr>\n",
       "    <tr>\n",
       "      <th>28</th>\n",
       "      <td>earthquake2020-06-18</td>\n",
       "      <td></td>\n",
       "      <td></td>\n",
       "      <td>12:33:18.04hr 39min ago6.37</td>\n",
       "      <td>S</td>\n",
       "      <td></td>\n",
       "      <td>104.94</td>\n",
       "      <td>E</td>\n",
       "      <td></td>\n",
       "      <td>10 M3.3</td>\n",
       "      <td>SUNDA STRAIT, INDONESIA2020-06-18 13:02</td>\n",
       "    </tr>\n",
       "    <tr>\n",
       "      <th>29</th>\n",
       "      <td>earthquake2020-06-18</td>\n",
       "      <td></td>\n",
       "      <td></td>\n",
       "      <td>12:30:11.04hr 42min ago18.96</td>\n",
       "      <td>S</td>\n",
       "      <td></td>\n",
       "      <td>70.71</td>\n",
       "      <td>W</td>\n",
       "      <td></td>\n",
       "      <td>32ML2.7</td>\n",
       "      <td>OFFSHORE TARAPACA, CHILE2020-06-18 12:39</td>\n",
       "    </tr>\n",
       "    <tr>\n",
       "      <th>30</th>\n",
       "      <td>earthquake2020-06-18</td>\n",
       "      <td></td>\n",
       "      <td></td>\n",
       "      <td>12:22:26.24hr 50min ago17.95</td>\n",
       "      <td>N</td>\n",
       "      <td></td>\n",
       "      <td>66.82</td>\n",
       "      <td>W</td>\n",
       "      <td></td>\n",
       "      <td>10Md2.6</td>\n",
       "      <td>PUERTO RICO REGION2020-06-18 12:40</td>\n",
       "    </tr>\n",
       "    <tr>\n",
       "      <th>31</th>\n",
       "      <td>earthquake2020-06-18</td>\n",
       "      <td></td>\n",
       "      <td></td>\n",
       "      <td>12:21:02.74hr 52min ago17.95</td>\n",
       "      <td>N</td>\n",
       "      <td></td>\n",
       "      <td>66.82</td>\n",
       "      <td>W</td>\n",
       "      <td></td>\n",
       "      <td>11Md2.2</td>\n",
       "      <td>PUERTO RICO REGION2020-06-18 12:40</td>\n",
       "    </tr>\n",
       "    <tr>\n",
       "      <th>32</th>\n",
       "      <td>earthquake2020-06-18</td>\n",
       "      <td></td>\n",
       "      <td></td>\n",
       "      <td>12:15:33.04hr 57min ago18.49</td>\n",
       "      <td>S</td>\n",
       "      <td></td>\n",
       "      <td>70.90</td>\n",
       "      <td>W</td>\n",
       "      <td></td>\n",
       "      <td>37ML4.1</td>\n",
       "      <td>OFFSHORE TARAPACA, CHILE2020-06-18 12:34</td>\n",
       "    </tr>\n",
       "    <tr>\n",
       "      <th>33</th>\n",
       "      <td>earthquake2020-06-18</td>\n",
       "      <td></td>\n",
       "      <td></td>\n",
       "      <td>11:52:33.05hr 20min ago6.36</td>\n",
       "      <td>S</td>\n",
       "      <td></td>\n",
       "      <td>104.95</td>\n",
       "      <td>E</td>\n",
       "      <td></td>\n",
       "      <td>10 M4.0</td>\n",
       "      <td>SUNDA STRAIT, INDONESIA2020-06-18 12:00</td>\n",
       "    </tr>\n",
       "    <tr>\n",
       "      <th>34</th>\n",
       "      <td>earthquake2020-06-18</td>\n",
       "      <td></td>\n",
       "      <td></td>\n",
       "      <td>11:43:43.05hr 29min ago20.78</td>\n",
       "      <td>S</td>\n",
       "      <td></td>\n",
       "      <td>173.93</td>\n",
       "      <td>W</td>\n",
       "      <td></td>\n",
       "      <td>10mb5.1</td>\n",
       "      <td>TONGA2020-06-18 14:27</td>\n",
       "    </tr>\n",
       "    <tr>\n",
       "      <th>35</th>\n",
       "      <td>earthquake2020-06-18</td>\n",
       "      <td></td>\n",
       "      <td></td>\n",
       "      <td>11:40:21.05hr 32min ago13.14</td>\n",
       "      <td>N</td>\n",
       "      <td></td>\n",
       "      <td>120.88</td>\n",
       "      <td>E</td>\n",
       "      <td></td>\n",
       "      <td>18 M3.6</td>\n",
       "      <td>MINDORO, PHILIPPINES2020-06-18 12:00</td>\n",
       "    </tr>\n",
       "    <tr>\n",
       "      <th>36</th>\n",
       "      <td>earthquake2020-06-18</td>\n",
       "      <td></td>\n",
       "      <td></td>\n",
       "      <td>11:38:19.05hr 34min ago30.77</td>\n",
       "      <td>S</td>\n",
       "      <td></td>\n",
       "      <td>72.10</td>\n",
       "      <td>W</td>\n",
       "      <td></td>\n",
       "      <td>30ML2.9</td>\n",
       "      <td>OFFSHORE COQUIMBO, CHILE2020-06-18 12:31</td>\n",
       "    </tr>\n",
       "    <tr>\n",
       "      <th>37</th>\n",
       "      <td>earthquake2020-06-18</td>\n",
       "      <td></td>\n",
       "      <td></td>\n",
       "      <td>11:26:21.65hr 46min ago17.92</td>\n",
       "      <td>N</td>\n",
       "      <td></td>\n",
       "      <td>66.96</td>\n",
       "      <td>W</td>\n",
       "      <td></td>\n",
       "      <td>11Md2.8</td>\n",
       "      <td>PUERTO RICO REGION2020-06-18 12:06</td>\n",
       "    </tr>\n",
       "    <tr>\n",
       "      <th>38</th>\n",
       "      <td>earthquake2020-06-18</td>\n",
       "      <td></td>\n",
       "      <td></td>\n",
       "      <td>11:23:14.65hr 49min ago38.17</td>\n",
       "      <td>N</td>\n",
       "      <td></td>\n",
       "      <td>117.83</td>\n",
       "      <td>W</td>\n",
       "      <td></td>\n",
       "      <td>8ml2.5</td>\n",
       "      <td>NEVADA2020-06-18 16:07</td>\n",
       "    </tr>\n",
       "    <tr>\n",
       "      <th>39</th>\n",
       "      <td>earthquake2020-06-18</td>\n",
       "      <td></td>\n",
       "      <td></td>\n",
       "      <td>11:17:30.65hr 55min ago37.31</td>\n",
       "      <td>N</td>\n",
       "      <td></td>\n",
       "      <td>20.44</td>\n",
       "      <td>E</td>\n",
       "      <td></td>\n",
       "      <td>1ML3.1</td>\n",
       "      <td>IONIAN SEA2020-06-18 11:40</td>\n",
       "    </tr>\n",
       "    <tr>\n",
       "      <th>40</th>\n",
       "      <td>earthquake2020-06-18</td>\n",
       "      <td></td>\n",
       "      <td></td>\n",
       "      <td>11:17:00.05hr 56min ago8.87</td>\n",
       "      <td>S</td>\n",
       "      <td></td>\n",
       "      <td>127.46</td>\n",
       "      <td>E</td>\n",
       "      <td></td>\n",
       "      <td>10 M4.6</td>\n",
       "      <td>EAST TIMOR REGION2020-06-18 11:31</td>\n",
       "    </tr>\n",
       "    <tr>\n",
       "      <th>41</th>\n",
       "      <td>earthquake2020-06-18</td>\n",
       "      <td></td>\n",
       "      <td></td>\n",
       "      <td>11:08:12.06hr 04min ago5.83</td>\n",
       "      <td>N</td>\n",
       "      <td></td>\n",
       "      <td>95.13</td>\n",
       "      <td>E</td>\n",
       "      <td></td>\n",
       "      <td>15 M3.9</td>\n",
       "      <td>NORTHERN SUMATRA, INDONESIA2020-06-18 11:31</td>\n",
       "    </tr>\n",
       "    <tr>\n",
       "      <th>42</th>\n",
       "      <td>earthquake2020-06-18</td>\n",
       "      <td></td>\n",
       "      <td></td>\n",
       "      <td>10:59:54.56hr 13min ago17.93</td>\n",
       "      <td>N</td>\n",
       "      <td></td>\n",
       "      <td>66.59</td>\n",
       "      <td>W</td>\n",
       "      <td></td>\n",
       "      <td>9Md2.4</td>\n",
       "      <td>PUERTO RICO REGION2020-06-18 11:31</td>\n",
       "    </tr>\n",
       "    <tr>\n",
       "      <th>43</th>\n",
       "      <td>IIIearthquake2020-06-18</td>\n",
       "      <td></td>\n",
       "      <td></td>\n",
       "      <td>10:56:57.06hr 16min ago5.76</td>\n",
       "      <td>N</td>\n",
       "      <td></td>\n",
       "      <td>95.30</td>\n",
       "      <td>E</td>\n",
       "      <td></td>\n",
       "      <td>10 M4.4</td>\n",
       "      <td>NORTHERN SUMATRA, INDONESIA2020-06-18 11:40</td>\n",
       "    </tr>\n",
       "    <tr>\n",
       "      <th>44</th>\n",
       "      <td>earthquake2020-06-18</td>\n",
       "      <td></td>\n",
       "      <td></td>\n",
       "      <td>10:55:35.46hr 17min ago17.90</td>\n",
       "      <td>N</td>\n",
       "      <td></td>\n",
       "      <td>66.76</td>\n",
       "      <td>W</td>\n",
       "      <td></td>\n",
       "      <td>5Md2.6</td>\n",
       "      <td>PUERTO RICO REGION2020-06-18 11:31</td>\n",
       "    </tr>\n",
       "    <tr>\n",
       "      <th>45</th>\n",
       "      <td>earthquake2020-06-18</td>\n",
       "      <td></td>\n",
       "      <td></td>\n",
       "      <td>10:55:00.06hr 18min ago6.84</td>\n",
       "      <td>N</td>\n",
       "      <td></td>\n",
       "      <td>73.14</td>\n",
       "      <td>W</td>\n",
       "      <td></td>\n",
       "      <td>151 M3.7</td>\n",
       "      <td>NORTHERN COLOMBIA2020-06-18 11:00</td>\n",
       "    </tr>\n",
       "    <tr>\n",
       "      <th>46</th>\n",
       "      <td>earthquake2020-06-18</td>\n",
       "      <td></td>\n",
       "      <td></td>\n",
       "      <td>10:52:25.26hr 20min ago17.94</td>\n",
       "      <td>N</td>\n",
       "      <td></td>\n",
       "      <td>66.82</td>\n",
       "      <td>W</td>\n",
       "      <td></td>\n",
       "      <td>11Md2.1</td>\n",
       "      <td>PUERTO RICO REGION2020-06-18 11:20</td>\n",
       "    </tr>\n",
       "    <tr>\n",
       "      <th>47</th>\n",
       "      <td>earthquake2020-06-18</td>\n",
       "      <td></td>\n",
       "      <td></td>\n",
       "      <td>10:47:13.06hr 25min ago5.30</td>\n",
       "      <td>N</td>\n",
       "      <td></td>\n",
       "      <td>95.64</td>\n",
       "      <td>E</td>\n",
       "      <td></td>\n",
       "      <td>10 M2.7</td>\n",
       "      <td>NORTHERN SUMATRA, INDONESIA2020-06-18 11:05</td>\n",
       "    </tr>\n",
       "    <tr>\n",
       "      <th>48</th>\n",
       "      <td>earthquake2020-06-18</td>\n",
       "      <td></td>\n",
       "      <td></td>\n",
       "      <td>10:41:52.46hr 31min ago17.95</td>\n",
       "      <td>N</td>\n",
       "      <td></td>\n",
       "      <td>66.82</td>\n",
       "      <td>W</td>\n",
       "      <td></td>\n",
       "      <td>9Md2.8</td>\n",
       "      <td>PUERTO RICO REGION2020-06-18 11:16</td>\n",
       "    </tr>\n",
       "    <tr>\n",
       "      <th>49</th>\n",
       "      <td>earthquake2020-06-18</td>\n",
       "      <td></td>\n",
       "      <td></td>\n",
       "      <td>10:33:30.06hr 39min ago9.57</td>\n",
       "      <td>N</td>\n",
       "      <td></td>\n",
       "      <td>84.58</td>\n",
       "      <td>W</td>\n",
       "      <td></td>\n",
       "      <td>13 M3.1</td>\n",
       "      <td>COSTA RICA2020-06-18 13:55</td>\n",
       "    </tr>\n",
       "  </tbody>\n",
       "</table>\n",
       "</div>"
      ],
      "text/plain": [
       "            CitizenResponse Date & Time UTC Latitude degrees  \\\n",
       "0      earthquake2020-06-18                                    \n",
       "1      earthquake2020-06-18                                    \n",
       "2      earthquake2020-06-18                                    \n",
       "3      earthquake2020-06-18                                    \n",
       "4      earthquake2020-06-18                                    \n",
       "5      earthquake2020-06-18                                    \n",
       "6      earthquake2020-06-18                                    \n",
       "7      earthquake2020-06-18                                    \n",
       "8      earthquake2020-06-18                                    \n",
       "9      earthquake2020-06-18                                    \n",
       "10     earthquake2020-06-18                                    \n",
       "11     earthquake2020-06-18                                    \n",
       "12     earthquake2020-06-18                                    \n",
       "13     earthquake2020-06-18                                    \n",
       "14     earthquake2020-06-18                                    \n",
       "15     earthquake2020-06-18                                    \n",
       "16     earthquake2020-06-18                                    \n",
       "17   1Fearthquake2020-06-18                                    \n",
       "18     earthquake2020-06-18                                    \n",
       "19     earthquake2020-06-18                                    \n",
       "20     earthquake2020-06-18                                    \n",
       "21     earthquake2020-06-18                                    \n",
       "22     earthquake2020-06-18                                    \n",
       "23     earthquake2020-06-18                                    \n",
       "24     earthquake2020-06-18                                    \n",
       "25     earthquake2020-06-18                                    \n",
       "26     earthquake2020-06-18                                    \n",
       "27    1earthquake2020-06-18                                    \n",
       "28     earthquake2020-06-18                                    \n",
       "29     earthquake2020-06-18                                    \n",
       "30     earthquake2020-06-18                                    \n",
       "31     earthquake2020-06-18                                    \n",
       "32     earthquake2020-06-18                                    \n",
       "33     earthquake2020-06-18                                    \n",
       "34     earthquake2020-06-18                                    \n",
       "35     earthquake2020-06-18                                    \n",
       "36     earthquake2020-06-18                                    \n",
       "37     earthquake2020-06-18                                    \n",
       "38     earthquake2020-06-18                                    \n",
       "39     earthquake2020-06-18                                    \n",
       "40     earthquake2020-06-18                                    \n",
       "41     earthquake2020-06-18                                    \n",
       "42     earthquake2020-06-18                                    \n",
       "43  IIIearthquake2020-06-18                                    \n",
       "44     earthquake2020-06-18                                    \n",
       "45     earthquake2020-06-18                                    \n",
       "46     earthquake2020-06-18                                    \n",
       "47     earthquake2020-06-18                                    \n",
       "48     earthquake2020-06-18                                    \n",
       "49     earthquake2020-06-18                                    \n",
       "\n",
       "               Longitude degrees Depth km Mag  [+] Region name  [+]  \\\n",
       "0       16:42:16.630min ago24.81        N                    123.22   \n",
       "1       16:37:36.035min ago20.25        S                     69.08   \n",
       "2        16:32:56.840min ago6.71        N                     82.38   \n",
       "3       16:23:49.849min ago17.95        N                     66.82   \n",
       "4       16:22:16.150min ago35.60        N                    117.41   \n",
       "5       16:13:40.959min ago17.90        N                     66.75   \n",
       "6   16:11:39.71hr 01min ago33.52        S                    177.85   \n",
       "7   16:06:41.91hr 06min ago40.35        N                    124.32   \n",
       "8   15:26:07.01hr 46min ago45.64        N                     26.47   \n",
       "9   15:20:53.91hr 52min ago46.88        S                     10.89   \n",
       "10  15:07:51.92hr 05min ago38.15        N                    118.00   \n",
       "11  15:06:15.72hr 06min ago33.33        S                    177.98   \n",
       "12   14:53:30.02hr 19min ago9.44        N                     83.64   \n",
       "13  14:52:53.82hr 20min ago33.21        S                    178.00   \n",
       "14   14:38:30.02hr 34min ago9.30        N                     84.12   \n",
       "15  14:17:49.72hr 55min ago47.63        N                      8.08   \n",
       "16  14:07:04.63hr 05min ago26.62        S                    178.52   \n",
       "17  13:59:18.83hr 13min ago22.37        N                     94.43   \n",
       "18   13:57:11.03hr 15min ago8.99        S                    111.39   \n",
       "19   13:53:19.03hr 19min ago6.34        S                    104.92   \n",
       "20  13:43:02.13hr 30min ago38.03        N                    118.82   \n",
       "21  13:34:46.73hr 38min ago56.21        N                    149.17   \n",
       "22  13:23:58.13hr 49min ago37.27        N                     43.00   \n",
       "23  13:09:20.04hr 03min ago65.85        N                     18.14   \n",
       "24  13:03:43.74hr 09min ago40.83        N                     27.96   \n",
       "25  12:59:33.44hr 13min ago39.10        N                     29.04   \n",
       "26  12:56:15.74hr 16min ago35.88        N                     37.03   \n",
       "27  12:49:53.44hr 23min ago33.41        S                    177.81   \n",
       "28   12:33:18.04hr 39min ago6.37        S                    104.94   \n",
       "29  12:30:11.04hr 42min ago18.96        S                     70.71   \n",
       "30  12:22:26.24hr 50min ago17.95        N                     66.82   \n",
       "31  12:21:02.74hr 52min ago17.95        N                     66.82   \n",
       "32  12:15:33.04hr 57min ago18.49        S                     70.90   \n",
       "33   11:52:33.05hr 20min ago6.36        S                    104.95   \n",
       "34  11:43:43.05hr 29min ago20.78        S                    173.93   \n",
       "35  11:40:21.05hr 32min ago13.14        N                    120.88   \n",
       "36  11:38:19.05hr 34min ago30.77        S                     72.10   \n",
       "37  11:26:21.65hr 46min ago17.92        N                     66.96   \n",
       "38  11:23:14.65hr 49min ago38.17        N                    117.83   \n",
       "39  11:17:30.65hr 55min ago37.31        N                     20.44   \n",
       "40   11:17:00.05hr 56min ago8.87        S                    127.46   \n",
       "41   11:08:12.06hr 04min ago5.83        N                     95.13   \n",
       "42  10:59:54.56hr 13min ago17.93        N                     66.59   \n",
       "43   10:56:57.06hr 16min ago5.76        N                     95.30   \n",
       "44  10:55:35.46hr 17min ago17.90        N                     66.76   \n",
       "45   10:55:00.06hr 18min ago6.84        N                     73.14   \n",
       "46  10:52:25.26hr 20min ago17.94        N                     66.82   \n",
       "47   10:47:13.06hr 25min ago5.30        N                     95.64   \n",
       "48  10:41:52.46hr 31min ago17.95        N                     66.82   \n",
       "49   10:33:30.06hr 39min ago9.57        N                     84.58   \n",
       "\n",
       "   Last update [-]              \\\n",
       "0                E     24mb5.0   \n",
       "1                W     96ML3.8   \n",
       "2                W     20mb4.7   \n",
       "3                W      9Md2.4   \n",
       "4                W      9Ml2.3   \n",
       "5                W      4MD2.6   \n",
       "6                W      2mb5.4   \n",
       "7                W      0Md2.3   \n",
       "8                E    140ML3.2   \n",
       "9                W     10mb4.9   \n",
       "10               W      5ML2.7   \n",
       "11               W     10mb5.5   \n",
       "12               W      3 M3.2   \n",
       "13               W     40mb5.0   \n",
       "14               W     20 M3.3   \n",
       "15               E     -1ML1.6   \n",
       "16               E    626mb4.9   \n",
       "17               E     80mb5.0   \n",
       "18               E     10 M4.6   \n",
       "19               E     10 M4.0   \n",
       "20               W      0ml2.2   \n",
       "21               W     22ML3.5   \n",
       "22               E      7ML2.2   \n",
       "23               W     86 M4.1   \n",
       "24               E      7ML2.0   \n",
       "25               E      9ML2.5   \n",
       "26               E      7ML2.2   \n",
       "27               W      8Mw7.4   \n",
       "28               E     10 M3.3   \n",
       "29               W     32ML2.7   \n",
       "30               W     10Md2.6   \n",
       "31               W     11Md2.2   \n",
       "32               W     37ML4.1   \n",
       "33               E     10 M4.0   \n",
       "34               W     10mb5.1   \n",
       "35               E     18 M3.6   \n",
       "36               W     30ML2.9   \n",
       "37               W     11Md2.8   \n",
       "38               W      8ml2.5   \n",
       "39               E      1ML3.1   \n",
       "40               E     10 M4.6   \n",
       "41               E     15 M3.9   \n",
       "42               W      9Md2.4   \n",
       "43               E     10 M4.4   \n",
       "44               W      5Md2.6   \n",
       "45               W    151 M3.7   \n",
       "46               W     11Md2.1   \n",
       "47               E     10 M2.7   \n",
       "48               W      9Md2.8   \n",
       "49               W     13 M3.1   \n",
       "\n",
       "                                                     \n",
       "0   SOUTHWESTERN RYUKYU ISL., JAPAN2020-06-18 17:05  \n",
       "1                   TARAPACA, CHILE2020-06-18 16:56  \n",
       "2                   SOUTH OF PANAMA2020-06-18 16:50  \n",
       "3                PUERTO RICO REGION2020-06-18 16:46  \n",
       "4               SOUTHERN CALIFORNIA2020-06-18 16:25  \n",
       "5                PUERTO RICO REGION2020-06-18 16:46  \n",
       "6         SOUTH OF KERMADEC ISLANDS2020-06-18 16:27  \n",
       "7               NORTHERN CALIFORNIA2020-06-18 16:08  \n",
       "8                           ROMANIA2020-06-18 15:44  \n",
       "9       SOUTHERN MID-ATLANTIC RIDGE2020-06-18 16:46  \n",
       "10                           NEVADA2020-06-18 15:43  \n",
       "11        SOUTH OF KERMADEC ISLANDS2020-06-18 15:44  \n",
       "12                       COSTA RICA2020-06-18 15:31  \n",
       "13        SOUTH OF KERMADEC ISLANDS2020-06-18 16:34  \n",
       "14                       COSTA RICA2020-06-18 15:15  \n",
       "15                          GERMANY2020-06-18 14:22  \n",
       "16            SOUTH OF FIJI ISLANDS2020-06-18 14:29  \n",
       "17                          MYANMAR2020-06-18 14:28  \n",
       "18                  JAVA, INDONESIA2020-06-18 14:06  \n",
       "19          SUNDA STRAIT, INDONESIA2020-06-18 14:06  \n",
       "20               CENTRAL CALIFORNIA2020-06-18 13:46  \n",
       "21                   GULF OF ALASKA2020-06-18 14:30  \n",
       "22        TURKEY-IRAQ BORDER REGION2020-06-18 14:04  \n",
       "23                          ICELAND2020-06-18 13:20  \n",
       "24                   WESTERN TURKEY2020-06-18 13:54  \n",
       "25                   WESTERN TURKEY2020-06-18 14:27  \n",
       "26                            SYRIA2020-06-18 13:28  \n",
       "27        SOUTH OF KERMADEC ISLANDS2020-06-18 15:48  \n",
       "28          SUNDA STRAIT, INDONESIA2020-06-18 13:02  \n",
       "29         OFFSHORE TARAPACA, CHILE2020-06-18 12:39  \n",
       "30               PUERTO RICO REGION2020-06-18 12:40  \n",
       "31               PUERTO RICO REGION2020-06-18 12:40  \n",
       "32         OFFSHORE TARAPACA, CHILE2020-06-18 12:34  \n",
       "33          SUNDA STRAIT, INDONESIA2020-06-18 12:00  \n",
       "34                            TONGA2020-06-18 14:27  \n",
       "35             MINDORO, PHILIPPINES2020-06-18 12:00  \n",
       "36         OFFSHORE COQUIMBO, CHILE2020-06-18 12:31  \n",
       "37               PUERTO RICO REGION2020-06-18 12:06  \n",
       "38                           NEVADA2020-06-18 16:07  \n",
       "39                       IONIAN SEA2020-06-18 11:40  \n",
       "40                EAST TIMOR REGION2020-06-18 11:31  \n",
       "41      NORTHERN SUMATRA, INDONESIA2020-06-18 11:31  \n",
       "42               PUERTO RICO REGION2020-06-18 11:31  \n",
       "43      NORTHERN SUMATRA, INDONESIA2020-06-18 11:40  \n",
       "44               PUERTO RICO REGION2020-06-18 11:31  \n",
       "45                NORTHERN COLOMBIA2020-06-18 11:00  \n",
       "46               PUERTO RICO REGION2020-06-18 11:20  \n",
       "47      NORTHERN SUMATRA, INDONESIA2020-06-18 11:05  \n",
       "48               PUERTO RICO REGION2020-06-18 11:16  \n",
       "49                       COSTA RICA2020-06-18 13:55  "
      ]
     },
     "execution_count": 237,
     "metadata": {},
     "output_type": "execute_result"
    }
   ],
   "source": [
    "df"
   ]
  },
  {
   "cell_type": "markdown",
   "metadata": {},
   "source": [
    "#### Display the date, days, title, city, country of next 25 hackathon events as a Pandas dataframe table"
   ]
  },
  {
   "cell_type": "code",
   "execution_count": 238,
   "metadata": {},
   "outputs": [],
   "source": [
    "# This is the url you will scrape in this exercise\n",
    "url ='https://hackevents.co/hackathons'"
   ]
  },
  {
   "cell_type": "code",
   "execution_count": 239,
   "metadata": {},
   "outputs": [],
   "source": [
    "#no me es posible encontrar los datos de los hackathon "
   ]
  },
  {
   "cell_type": "code",
   "execution_count": null,
   "metadata": {},
   "outputs": [],
   "source": []
  },
  {
   "cell_type": "markdown",
   "metadata": {},
   "source": [
    "#### Count number of tweets by a given Twitter account."
   ]
  },
  {
   "cell_type": "markdown",
   "metadata": {},
   "source": [
    "You will need to include a ***try/except block*** for account names not found. \n",
    "<br>***Hint:*** the program should count the number of tweets for any provided account"
   ]
  },
  {
   "cell_type": "code",
   "execution_count": null,
   "metadata": {},
   "outputs": [],
   "source": [
    "# This is the url you will scrape in this exercise \n",
    "# You will need to add the account credentials to this url\n",
    "url = 'https://twitter.com/'"
   ]
  },
  {
   "cell_type": "code",
   "execution_count": null,
   "metadata": {},
   "outputs": [],
   "source": [
    "#no tengo twitter!"
   ]
  },
  {
   "cell_type": "markdown",
   "metadata": {},
   "source": [
    "#### Number of followers of a given twitter account"
   ]
  },
  {
   "cell_type": "markdown",
   "metadata": {},
   "source": [
    "You will need to include a ***try/except block*** in case account/s name not found. \n",
    "<br>***Hint:*** the program should count the followers for any provided account"
   ]
  },
  {
   "cell_type": "code",
   "execution_count": null,
   "metadata": {},
   "outputs": [],
   "source": [
    "# This is the url you will scrape in this exercise \n",
    "# You will need to add the account credentials to this url\n",
    "url = 'https://twitter.com/'"
   ]
  },
  {
   "cell_type": "code",
   "execution_count": null,
   "metadata": {},
   "outputs": [],
   "source": [
    "#your code"
   ]
  },
  {
   "cell_type": "markdown",
   "metadata": {},
   "source": [
    "#### List all language names and number of related articles in the order they appear in wikipedia.org"
   ]
  },
  {
   "cell_type": "code",
   "execution_count": 241,
   "metadata": {},
   "outputs": [],
   "source": [
    "# This is the url you will scrape in this exercise\n",
    "url = 'https://www.wikipedia.org/'"
   ]
  },
  {
   "cell_type": "code",
   "execution_count": 255,
   "metadata": {},
   "outputs": [],
   "source": [
    "re = requests.get(url)\n",
    "res = re.text\n",
    "soup = BeautifulSoup(res)"
   ]
  },
  {
   "cell_type": "code",
   "execution_count": 254,
   "metadata": {},
   "outputs": [
    {
     "ename": "AttributeError",
     "evalue": "ResultSet object has no attribute 'text'. You're probably treating a list of elements like a single element. Did you call find_all() when you meant to call find()?",
     "output_type": "error",
     "traceback": [
      "\u001b[0;31m---------------------------------------------------------------------------\u001b[0m",
      "\u001b[0;31mAttributeError\u001b[0m                            Traceback (most recent call last)",
      "\u001b[0;32m<ipython-input-254-15b7d27ab209>\u001b[0m in \u001b[0;36m<module>\u001b[0;34m\u001b[0m\n\u001b[1;32m      1\u001b[0m \u001b[0mlenguajes\u001b[0m \u001b[0;34m=\u001b[0m \u001b[0msoup\u001b[0m\u001b[0;34m.\u001b[0m\u001b[0mselect\u001b[0m\u001b[0;34m(\u001b[0m\u001b[0;34m\"div[class_^= central-featured-lang]\"\u001b[0m\u001b[0;34m)\u001b[0m\u001b[0;34m\u001b[0m\u001b[0;34m\u001b[0m\u001b[0m\n\u001b[0;32m----> 2\u001b[0;31m \u001b[0mlenguajes\u001b[0m\u001b[0;34m.\u001b[0m\u001b[0mtext\u001b[0m\u001b[0;34m\u001b[0m\u001b[0;34m\u001b[0m\u001b[0m\n\u001b[0m",
      "\u001b[0;32m/usr/local/lib/python3.7/site-packages/bs4/element.py\u001b[0m in \u001b[0;36m__getattr__\u001b[0;34m(self, key)\u001b[0m\n\u001b[1;32m   2159\u001b[0m         \u001b[0;34m\"\"\"Raise a helpful exception to explain a common code fix.\"\"\"\u001b[0m\u001b[0;34m\u001b[0m\u001b[0;34m\u001b[0m\u001b[0m\n\u001b[1;32m   2160\u001b[0m         raise AttributeError(\n\u001b[0;32m-> 2161\u001b[0;31m             \u001b[0;34m\"ResultSet object has no attribute '%s'. You're probably treating a list of elements like a single element. Did you call find_all() when you meant to call find()?\"\u001b[0m \u001b[0;34m%\u001b[0m \u001b[0mkey\u001b[0m\u001b[0;34m\u001b[0m\u001b[0;34m\u001b[0m\u001b[0m\n\u001b[0m\u001b[1;32m   2162\u001b[0m         )\n",
      "\u001b[0;31mAttributeError\u001b[0m: ResultSet object has no attribute 'text'. You're probably treating a list of elements like a single element. Did you call find_all() when you meant to call find()?"
     ]
    }
   ],
   "source": [
    "lenguajes = soup.select(\"div[class_^= central-featured-lang]\")\n",
    "lenguajes.text"
   ]
  },
  {
   "cell_type": "markdown",
   "metadata": {},
   "source": [
    "#### A list with the different kind of datasets available in data.gov.uk "
   ]
  },
  {
   "cell_type": "code",
   "execution_count": null,
   "metadata": {},
   "outputs": [],
   "source": [
    "# This is the url you will scrape in this exercise\n",
    "url = 'https://data.gov.uk/'"
   ]
  },
  {
   "cell_type": "code",
   "execution_count": null,
   "metadata": {},
   "outputs": [],
   "source": [
    "#your code "
   ]
  },
  {
   "cell_type": "markdown",
   "metadata": {},
   "source": [
    "#### Top 10 languages by number of native speakers stored in a Pandas Dataframe"
   ]
  },
  {
   "cell_type": "code",
   "execution_count": 256,
   "metadata": {},
   "outputs": [],
   "source": [
    "# This is the url you will scrape in this exercise\n",
    "url = 'https://en.wikipedia.org/wiki/List_of_languages_by_number_of_native_speakers'"
   ]
  },
  {
   "cell_type": "code",
   "execution_count": 257,
   "metadata": {},
   "outputs": [],
   "source": [
    "re = requests.get(url)\n",
    "res = re.text\n",
    "soup = BeautifulSoup(res)"
   ]
  },
  {
   "cell_type": "code",
   "execution_count": 296,
   "metadata": {},
   "outputs": [],
   "source": [
    "lang_num = soup.select('table')\n",
    "rows = table[0].select('tr')"
   ]
  },
  {
   "cell_type": "code",
   "execution_count": 312,
   "metadata": {},
   "outputs": [
    {
     "data": {
      "text/html": [
       "<div>\n",
       "<style scoped>\n",
       "    .dataframe tbody tr th:only-of-type {\n",
       "        vertical-align: middle;\n",
       "    }\n",
       "\n",
       "    .dataframe tbody tr th {\n",
       "        vertical-align: top;\n",
       "    }\n",
       "\n",
       "    .dataframe thead th {\n",
       "        text-align: right;\n",
       "    }\n",
       "</style>\n",
       "<table border=\"1\" class=\"dataframe\">\n",
       "  <thead>\n",
       "    <tr style=\"text-align: right;\">\n",
       "      <th></th>\n",
       "      <th>0</th>\n",
       "      <th>1</th>\n",
       "      <th>2</th>\n",
       "      <th>3</th>\n",
       "      <th>4</th>\n",
       "      <th>5</th>\n",
       "      <th>6</th>\n",
       "      <th>7</th>\n",
       "      <th>8</th>\n",
       "      <th>9</th>\n",
       "    </tr>\n",
       "  </thead>\n",
       "  <tbody>\n",
       "    <tr>\n",
       "      <th>0</th>\n",
       "      <td>\\n</td>\n",
       "      <td>[Rank\\n]</td>\n",
       "      <td>\\n</td>\n",
       "      <td>[Language\\n]</td>\n",
       "      <td>\\n</td>\n",
       "      <td>[Speakers, [], [(millions)], \\n]</td>\n",
       "      <td>\\n</td>\n",
       "      <td>[% of World pop., [], [(March 2019), [&lt;a href=...</td>\n",
       "      <td>\\n</td>\n",
       "      <td>[Language family, [], [Branch], \\n]</td>\n",
       "    </tr>\n",
       "    <tr>\n",
       "      <th>1</th>\n",
       "      <td>\\n</td>\n",
       "      <td>[1\\n]</td>\n",
       "      <td>\\n</td>\n",
       "      <td>[[Mandarin Chinese], \\n]</td>\n",
       "      <td>\\n</td>\n",
       "      <td>[918\\n]</td>\n",
       "      <td>\\n</td>\n",
       "      <td>[11.922\\n]</td>\n",
       "      <td>\\n</td>\n",
       "      <td>[[Sino-Tibetan], [], [[Sinitic]], \\n]</td>\n",
       "    </tr>\n",
       "    <tr>\n",
       "      <th>2</th>\n",
       "      <td>\\n</td>\n",
       "      <td>[2\\n]</td>\n",
       "      <td>\\n</td>\n",
       "      <td>[[Spanish], \\n]</td>\n",
       "      <td>\\n</td>\n",
       "      <td>[480\\n]</td>\n",
       "      <td>\\n</td>\n",
       "      <td>[5.994\\n]</td>\n",
       "      <td>\\n</td>\n",
       "      <td>[[Indo-European], [], [[Romance]], \\n]</td>\n",
       "    </tr>\n",
       "    <tr>\n",
       "      <th>3</th>\n",
       "      <td>\\n</td>\n",
       "      <td>[3\\n]</td>\n",
       "      <td>\\n</td>\n",
       "      <td>[[English], \\n]</td>\n",
       "      <td>\\n</td>\n",
       "      <td>[379\\n]</td>\n",
       "      <td>\\n</td>\n",
       "      <td>[4.922\\n]</td>\n",
       "      <td>\\n</td>\n",
       "      <td>[[Indo-European], [], [[Germanic]], \\n]</td>\n",
       "    </tr>\n",
       "    <tr>\n",
       "      <th>4</th>\n",
       "      <td>\\n</td>\n",
       "      <td>[4\\n]</td>\n",
       "      <td>\\n</td>\n",
       "      <td>[[Hindi],  (Sanskritised , [Hindustani], ), [[...</td>\n",
       "      <td>\\n</td>\n",
       "      <td>[341\\n]</td>\n",
       "      <td>\\n</td>\n",
       "      <td>[4.429\\n]</td>\n",
       "      <td>\\n</td>\n",
       "      <td>[[Indo-European], [], [[Indo-Aryan]], \\n]</td>\n",
       "    </tr>\n",
       "  </tbody>\n",
       "</table>\n",
       "</div>"
      ],
      "text/plain": [
       "    0         1   2                                                  3   4  \\\n",
       "0  \\n  [Rank\\n]  \\n                                       [Language\\n]  \\n   \n",
       "1  \\n     [1\\n]  \\n                           [[Mandarin Chinese], \\n]  \\n   \n",
       "2  \\n     [2\\n]  \\n                                    [[Spanish], \\n]  \\n   \n",
       "3  \\n     [3\\n]  \\n                                    [[English], \\n]  \\n   \n",
       "4  \\n     [4\\n]  \\n  [[Hindi],  (Sanskritised , [Hindustani], ), [[...  \\n   \n",
       "\n",
       "                                  5   6  \\\n",
       "0  [Speakers, [], [(millions)], \\n]  \\n   \n",
       "1                           [918\\n]  \\n   \n",
       "2                           [480\\n]  \\n   \n",
       "3                           [379\\n]  \\n   \n",
       "4                           [341\\n]  \\n   \n",
       "\n",
       "                                                   7   8  \\\n",
       "0  [% of World pop., [], [(March 2019), [<a href=...  \\n   \n",
       "1                                         [11.922\\n]  \\n   \n",
       "2                                          [5.994\\n]  \\n   \n",
       "3                                          [4.922\\n]  \\n   \n",
       "4                                          [4.429\\n]  \\n   \n",
       "\n",
       "                                           9  \n",
       "0        [Language family, [], [Branch], \\n]  \n",
       "1      [[Sino-Tibetan], [], [[Sinitic]], \\n]  \n",
       "2     [[Indo-European], [], [[Romance]], \\n]  \n",
       "3    [[Indo-European], [], [[Germanic]], \\n]  \n",
       "4  [[Indo-European], [], [[Indo-Aryan]], \\n]  "
      ]
     },
     "execution_count": 312,
     "metadata": {},
     "output_type": "execute_result"
    }
   ],
   "source": [
    "df = pd.DataFrame(rows)\n",
    "df.head()"
   ]
  },
  {
   "cell_type": "code",
   "execution_count": null,
   "metadata": {},
   "outputs": [],
   "source": [
    "df."
   ]
  },
  {
   "cell_type": "markdown",
   "metadata": {},
   "source": [
    "### BONUS QUESTIONS"
   ]
  },
  {
   "cell_type": "markdown",
   "metadata": {},
   "source": [
    "#### Scrape a certain number of tweets of a given Twitter account."
   ]
  },
  {
   "cell_type": "code",
   "execution_count": null,
   "metadata": {},
   "outputs": [],
   "source": [
    "# This is the url you will scrape in this exercise \n",
    "# You will need to add the account credentials to this url\n",
    "url = 'https://twitter.com/'"
   ]
  },
  {
   "cell_type": "code",
   "execution_count": null,
   "metadata": {},
   "outputs": [],
   "source": [
    "# your code"
   ]
  },
  {
   "cell_type": "markdown",
   "metadata": {},
   "source": [
    "#### IMDB's Top 250 data (movie name, Initial release, director name and stars) as a pandas dataframe"
   ]
  },
  {
   "cell_type": "code",
   "execution_count": null,
   "metadata": {},
   "outputs": [],
   "source": [
    "# This is the url you will scrape in this exercise \n",
    "url = 'https://www.imdb.com/chart/top'"
   ]
  },
  {
   "cell_type": "code",
   "execution_count": null,
   "metadata": {},
   "outputs": [],
   "source": [
    "# your code"
   ]
  },
  {
   "cell_type": "markdown",
   "metadata": {},
   "source": [
    "#### Movie name, year and a brief summary of the top 10 random movies (IMDB) as a pandas dataframe."
   ]
  },
  {
   "cell_type": "code",
   "execution_count": null,
   "metadata": {},
   "outputs": [],
   "source": [
    "#This is the url you will scrape in this exercise\n",
    "url = 'http://www.imdb.com/chart/top'"
   ]
  },
  {
   "cell_type": "code",
   "execution_count": null,
   "metadata": {},
   "outputs": [],
   "source": [
    "#your code"
   ]
  },
  {
   "cell_type": "markdown",
   "metadata": {},
   "source": [
    "#### Find the live weather report (temperature, wind speed, description and weather) of a given city."
   ]
  },
  {
   "cell_type": "code",
   "execution_count": null,
   "metadata": {},
   "outputs": [],
   "source": [
    "#https://openweathermap.org/current\n",
    "city = city=input('Enter the city:')\n",
    "url = 'http://api.openweathermap.org/data/2.5/weather?'+'q='+city+'&APPID=b35975e18dc93725acb092f7272cc6b8&units=metric'"
   ]
  },
  {
   "cell_type": "code",
   "execution_count": null,
   "metadata": {},
   "outputs": [],
   "source": [
    "# your code"
   ]
  },
  {
   "cell_type": "markdown",
   "metadata": {},
   "source": [
    "#### Book name,price and stock availability as a pandas dataframe."
   ]
  },
  {
   "cell_type": "code",
   "execution_count": null,
   "metadata": {},
   "outputs": [],
   "source": [
    "# This is the url you will scrape in this exercise. \n",
    "# It is a fictional bookstore created to be scraped. \n",
    "url = 'http://books.toscrape.com/'"
   ]
  },
  {
   "cell_type": "code",
   "execution_count": null,
   "metadata": {},
   "outputs": [],
   "source": [
    "#your code"
   ]
  }
 ],
 "metadata": {
  "kernelspec": {
   "display_name": "Python 3",
   "language": "python",
   "name": "python3"
  }
 },
 "nbformat": 4,
 "nbformat_minor": 2
}
