{
 "cells": [
  {
   "cell_type": "markdown",
   "metadata": {},
   "source": [
    "## Challenge 1: Tuples\n",
    "\n",
    "#### Do you know you can create tuples with only one element?\n",
    "\n",
    "**In the cell below, define a variable `tup` with a single element `\"I\"`.**\n",
    "\n",
    "*Hint: you need to add a comma (`,`) after the single element.*"
   ]
  },
  {
   "cell_type": "code",
   "execution_count": 13,
   "metadata": {},
   "outputs": [],
   "source": [
    "# Your code here\n",
    "tup = (\"I\",)\n"
   ]
  },
  {
   "cell_type": "markdown",
   "metadata": {},
   "source": [
    "#### Print the type of `tup`. \n",
    "\n",
    "Make sure its type is correct (i.e. *tuple* instead of *str*)."
   ]
  },
  {
   "cell_type": "code",
   "execution_count": 14,
   "metadata": {},
   "outputs": [
    {
     "name": "stdout",
     "output_type": "stream",
     "text": [
      "<class 'tuple'>\n"
     ]
    }
   ],
   "source": [
    "# Your code here\n",
    "print (type(tup))"
   ]
  },
  {
   "cell_type": "markdown",
   "metadata": {},
   "source": [
    "#### Now try to append the following elements to `tup`. \n",
    "\n",
    "Are you able to do it? Explain.\n",
    "\n",
    "```\n",
    "\"r\", \"o\", \"n\", \"h\", \"a\", \"c\", \"k',\n",
    "```"
   ]
  },
  {
   "cell_type": "code",
   "execution_count": 15,
   "metadata": {},
   "outputs": [
    {
     "ename": "AttributeError",
     "evalue": "'tuple' object has no attribute 'append'",
     "output_type": "error",
     "traceback": [
      "\u001b[0;31m---------------------------------------------------------------------------\u001b[0m",
      "\u001b[0;31mAttributeError\u001b[0m                            Traceback (most recent call last)",
      "\u001b[0;32m<ipython-input-15-e4e99cebebed>\u001b[0m in \u001b[0;36m<module>\u001b[0;34m\u001b[0m\n\u001b[1;32m      3\u001b[0m \u001b[0;34m\u001b[0m\u001b[0m\n\u001b[1;32m      4\u001b[0m \u001b[0;32mfor\u001b[0m \u001b[0mr\u001b[0m \u001b[0;32min\u001b[0m \u001b[0mstring\u001b[0m\u001b[0;34m:\u001b[0m\u001b[0;34m\u001b[0m\u001b[0;34m\u001b[0m\u001b[0m\n\u001b[0;32m----> 5\u001b[0;31m     \u001b[0mtup\u001b[0m\u001b[0;34m.\u001b[0m\u001b[0mappend\u001b[0m\u001b[0;34m(\u001b[0m\u001b[0mr\u001b[0m\u001b[0;34m)\u001b[0m\u001b[0;34m\u001b[0m\u001b[0;34m\u001b[0m\u001b[0m\n\u001b[0m\u001b[1;32m      6\u001b[0m \u001b[0;34m\u001b[0m\u001b[0m\n\u001b[1;32m      7\u001b[0m \u001b[0mprint\u001b[0m\u001b[0;34m(\u001b[0m\u001b[0mtup\u001b[0m\u001b[0;34m)\u001b[0m\u001b[0;34m\u001b[0m\u001b[0;34m\u001b[0m\u001b[0m\n",
      "\u001b[0;31mAttributeError\u001b[0m: 'tuple' object has no attribute 'append'"
     ]
    }
   ],
   "source": [
    "# Your code here\n",
    "string = \"ronhack\"\n",
    "\n",
    "for r in string:\n",
    "    tup.append(r)\n",
    "\n",
    "print(tup)\n",
    "# Your explanation here\n",
    "# It cannot be done because tuples cannot be modified\n"
   ]
  },
  {
   "cell_type": "markdown",
   "metadata": {},
   "source": [
    "#### How about re-assign a new value to an existing tuple?\n",
    "\n",
    "Re-assign the following elements to `tup`. Are you able to do it? Explain.\n",
    "\n",
    "```\n",
    "\"I\", \"r\", \"o\", \"n\", \"h\", \"a\", \"c\", \"k\"\n",
    "```"
   ]
  },
  {
   "cell_type": "code",
   "execution_count": 16,
   "metadata": {},
   "outputs": [
    {
     "name": "stdout",
     "output_type": "stream",
     "text": [
      "('I', 'r', 'o', 'n', 'h', 'a', 'c', 'k')\n"
     ]
    }
   ],
   "source": [
    "# Your code here\n",
    "string = \"ronhack\"\n",
    "newList = list(tup)\n",
    "\n",
    "for r in string:\n",
    "    newList.append(r)\n",
    "    \n",
    "tup = tuple(newList)\n",
    "print(tup)\n",
    "\n",
    "\n",
    "# Your explanation here\n",
    "# I can do it because I transformed the tup into a list\n"
   ]
  },
  {
   "cell_type": "markdown",
   "metadata": {},
   "source": [
    "#### Split `tup` into `tup1` and `tup2` with 4 elements in each. \n",
    "\n",
    "`tup1` should be `(\"I\", \"r\", \"o\", \"n\")` and `tup2` should be `(\"h\", \"a\", \"c\", \"k\")`.\n",
    "\n",
    "*Hint: use positive index numbers for `tup1` assignment and use negative index numbers for `tup2` assignment. Positive index numbers count from the beginning whereas negative index numbers count from the end of the sequence.*\n",
    "\n",
    "Also print `tup1` and `tup2`."
   ]
  },
  {
   "cell_type": "code",
   "execution_count": 42,
   "metadata": {},
   "outputs": [
    {
     "name": "stdout",
     "output_type": "stream",
     "text": [
      "('I', 'r', 'o', 'n')\n",
      "('h', 'a', 'c', 'k')\n"
     ]
    }
   ],
   "source": [
    "# Your code here\n",
    "list2 = []\n",
    "\n",
    "tup1 = tuple(newList[0:4])\n",
    "list2 = newList[-4:-1]\n",
    "list2.append(newList[-1])  \n",
    "tup2 = tuple(list2)\n",
    "\n",
    "print(tup1)\n",
    "print(tup2)\n",
    "    \n",
    "    \n",
    "\n"
   ]
  },
  {
   "cell_type": "markdown",
   "metadata": {},
   "source": [
    "#### Add `tup1` and `tup2` into `tup3` using the `+` operator.\n",
    "\n",
    "Then print `tup3` and check if `tup3` equals to `tup`."
   ]
  },
  {
   "cell_type": "code",
   "execution_count": 45,
   "metadata": {},
   "outputs": [
    {
     "name": "stdout",
     "output_type": "stream",
     "text": [
      "('I', 'r', 'o', 'n', 'h', 'a', 'c', 'k')\n",
      "tup3 = tup is verified\n"
     ]
    }
   ],
   "source": [
    "tup3 = tup1 + tup2\n",
    "\n",
    "print(tup3)\n",
    "\n",
    "if tup3 == tup:\n",
    "    print(\"tup3 = tup is verified\")\n"
   ]
  },
  {
   "cell_type": "markdown",
   "metadata": {},
   "source": [
    "#### Count the number of elements in `tup1` and `tup2`. Then add the two counts together and check if the sum is the same as the number of elements in `tup3`"
   ]
  },
  {
   "cell_type": "code",
   "execution_count": 46,
   "metadata": {},
   "outputs": [
    {
     "name": "stdout",
     "output_type": "stream",
     "text": [
      "tup1 + tup2 have the same number of elements combined as tup 3\n"
     ]
    }
   ],
   "source": [
    "count1 = 0\n",
    "count2 = 0\n",
    "count3 = 0 \n",
    "\n",
    "for e in tup1:\n",
    "    count1 += 1\n",
    "for e in tup2:\n",
    "    count2 += 1\n",
    "for e in tup3:\n",
    "    count3 += 1\n",
    "\n",
    "addition = count1 + count2\n",
    "\n",
    "if addition == count3:\n",
    "    print(\"tup1 + tup2 have the same number of elements combined as tup 3\")\n"
   ]
  },
  {
   "cell_type": "markdown",
   "metadata": {},
   "source": [
    "#### What is the index number of `\"h\"` in `tup3`?"
   ]
  },
  {
   "cell_type": "code",
   "execution_count": 47,
   "metadata": {},
   "outputs": [
    {
     "name": "stdout",
     "output_type": "stream",
     "text": [
      "The index number for 'h' is 4\n"
     ]
    }
   ],
   "source": [
    "for i,e in enumerate(tup3):\n",
    "    if e == \"h\":\n",
    "        print(\"The index number for 'h' is\", i)\n"
   ]
  },
  {
   "cell_type": "markdown",
   "metadata": {},
   "source": [
    "#### Now, use a FOR loop to check whether each letter in the following list is present in `tup3`:\n",
    "\n",
    "```\n",
    "letters = [\"a\", \"b\", \"c\", \"d\", \"e\"]\n",
    "```\n",
    "\n",
    "For each letter you check, print `True` if it is present in `tup3` otherwise print `False`.\n",
    "\n",
    "*Hint: you only need to loop `letters`. You don't need to loop `tup3` because there is a Python operator `in` you can use. See [reference](https://stackoverflow.com/questions/17920147/how-to-check-if-a-tuple-contains-an-element-in-python).*"
   ]
  },
  {
   "cell_type": "code",
   "execution_count": 48,
   "metadata": {},
   "outputs": [
    {
     "name": "stdout",
     "output_type": "stream",
     "text": [
      "I in letters = False\n",
      "r in letters = False\n",
      "o in letters = False\n",
      "n in letters = False\n",
      "h in letters = False\n",
      "a in letters = True\n",
      "c in letters = True\n",
      "k in letters = False\n"
     ]
    }
   ],
   "source": [
    "# Your code here\n",
    "letters = [\"a\", \"b\", \"c\", \"d\", \"e\"]\n",
    "\n",
    "for t in tup3:\n",
    "    if t in letters:\n",
    "        print (t, \"in letters = True\")\n",
    "    else:\n",
    "        print (t, \"in letters = False\")\n"
   ]
  },
  {
   "cell_type": "markdown",
   "metadata": {},
   "source": [
    "#### How many times does each letter in `letters` appear in `tup3`?\n",
    "\n",
    "Print out the number of occurrence of each letter."
   ]
  },
  {
   "cell_type": "code",
   "execution_count": 49,
   "metadata": {},
   "outputs": [
    {
     "name": "stdout",
     "output_type": "stream",
     "text": [
      "I appears 0 times.\n",
      "I appears 0 times.\n",
      "I appears 0 times.\n",
      "I appears 0 times.\n",
      "I appears 0 times.\n",
      "I appears 1 times.\n",
      "I appears 1 times.\n",
      "I appears 0 times.\n"
     ]
    }
   ],
   "source": [
    "# Your code here\n",
    "counter_i = 0\n",
    "counter_r = 0\n",
    "counter_o = 0\n",
    "counter_n = 0\n",
    "counter_h = 0\n",
    "counter_a = 0\n",
    "counter_c = 0\n",
    "counter_k = 0\n",
    "\n",
    "for l in letters:\n",
    "    for t in tup3:\n",
    "        if l == t and l == \"I\":\n",
    "            counter_i += 1\n",
    "        elif l == t and l == \"r\":\n",
    "            counter_r += 1\n",
    "        elif l == t and l == \"o\":\n",
    "            counter_o += 1\n",
    "        elif l == t and l == \"n\":\n",
    "            counter_n += 1\n",
    "        elif l == t and l == \"h\":\n",
    "            counter_h += 1\n",
    "        elif l == t and l == \"a\":\n",
    "            counter_a += 1\n",
    "        elif l == t and l == \"c\":\n",
    "            counter_c += 1\n",
    "        elif l == t and l == \"k\":\n",
    "            counter_k += 1\n",
    "\n",
    "print(\"I appears\",counter_i, \"times.\")\n",
    "print(\"I appears\",counter_r, \"times.\")\n",
    "print(\"I appears\",counter_o, \"times.\")\n",
    "print(\"I appears\",counter_n, \"times.\")\n",
    "print(\"I appears\",counter_h, \"times.\")\n",
    "print(\"I appears\",counter_a, \"times.\")\n",
    "print(\"I appears\",counter_c, \"times.\")\n",
    "print(\"I appears\",counter_k, \"times.\")\n",
    "\n",
    "\n"
   ]
  },
  {
   "cell_type": "code",
   "execution_count": null,
   "metadata": {},
   "outputs": [],
   "source": []
  }
 ],
 "metadata": {
  "kernelspec": {
   "display_name": "Python 3",
   "language": "python",
   "name": "python3"
  },
  "language_info": {
   "codemirror_mode": {
    "name": "ipython",
    "version": 3
   },
   "file_extension": ".py",
   "mimetype": "text/x-python",
   "name": "python",
   "nbconvert_exporter": "python",
   "pygments_lexer": "ipython3",
   "version": "3.8.2"
  }
 },
 "nbformat": 4,
 "nbformat_minor": 2
}
