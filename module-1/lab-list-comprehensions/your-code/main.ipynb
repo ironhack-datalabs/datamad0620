{
 "cells": [
  {
   "cell_type": "markdown",
   "metadata": {},
   "source": [
    "# List Comprehensions Lab\n",
    "\n",
    "Complete the following set of exercises to solidify your knowledge of list comprehensions."
   ]
  },
  {
   "cell_type": "code",
   "execution_count": 64,
   "metadata": {},
   "outputs": [],
   "source": [
    "import os\n",
    "import numpy as np\n",
    "import pandas as pd"
   ]
  },
  {
   "cell_type": "markdown",
   "metadata": {},
   "source": [
    "### 1. Use a list comprehension to create and print a list of consecutive integers starting with 1 and ending with 50."
   ]
  },
  {
   "cell_type": "code",
   "execution_count": 65,
   "metadata": {},
   "outputs": [
    {
     "name": "stdout",
     "output_type": "stream",
     "text": [
      "[1, 2, 3, 4, 5, 6, 7, 8, 9, 10, 11, 12, 13, 14, 15, 16, 17, 18, 19, 20, 21, 22, 23, 24, 25, 26, 27, 28, 29, 30, 31, 32, 33, 34, 35, 36, 37, 38, 39, 40, 41, 42, 43, 44, 45, 46, 47, 48, 49, 50]\n"
     ]
    }
   ],
   "source": [
    "print([i for i in range(1,51)])\n"
   ]
  },
  {
   "cell_type": "markdown",
   "metadata": {},
   "source": [
    "### 2. Use a list comprehension to create and print a list of even numbers starting with 2 and ending with 200."
   ]
  },
  {
   "cell_type": "code",
   "execution_count": 66,
   "metadata": {},
   "outputs": [
    {
     "data": {
      "text/plain": [
       "[3, 5, 7, 9, 11]"
      ]
     },
     "execution_count": 66,
     "metadata": {},
     "output_type": "execute_result"
    }
   ],
   "source": [
    "[i for i in range(2,200) if i%2!=0][:5]"
   ]
  },
  {
   "cell_type": "markdown",
   "metadata": {},
   "source": [
    "### 3. Use a list comprehension to create and print a list containing all elements of the 10 x 4 Numpy array below."
   ]
  },
  {
   "cell_type": "code",
   "execution_count": 280,
   "metadata": {},
   "outputs": [],
   "source": [
    "a = np.array([[0.84062117, 0.48006452, 0.7876326 , 0.77109654],\n",
    "       [0.44409793, 0.09014516, 0.81835917, 0.87645456],\n",
    "       [0.7066597 , 0.09610873, 0.41247947, 0.57433389],\n",
    "       [0.29960807, 0.42315023, 0.34452557, 0.4751035 ],\n",
    "       [0.17003563, 0.46843998, 0.92796258, 0.69814654],\n",
    "       [0.41290051, 0.19561071, 0.16284783, 0.97016248],\n",
    "       [0.71725408, 0.87702738, 0.31244595, 0.76615487],\n",
    "       [0.20754036, 0.57871812, 0.07214068, 0.40356048],\n",
    "       [0.12149553, 0.53222417, 0.9976855 , 0.12536346],\n",
    "       [0.80930099, 0.50962849, 0.94555126, 0.33364763]])"
   ]
  },
  {
   "cell_type": "code",
   "execution_count": 281,
   "metadata": {},
   "outputs": [
    {
     "name": "stdout",
     "output_type": "stream",
     "text": [
      "<class 'list'>\n",
      "[0.84062117, 0.48006452, 0.7876326, 0.77109654, 0.44409793, 0.09014516, 0.81835917, 0.87645456, 0.7066597, 0.09610873, 0.41247947, 0.57433389, 0.29960807, 0.42315023, 0.34452557, 0.4751035, 0.17003563, 0.46843998, 0.92796258, 0.69814654, 0.41290051, 0.19561071, 0.16284783, 0.97016248, 0.71725408, 0.87702738, 0.31244595, 0.76615487, 0.20754036, 0.57871812, 0.07214068, 0.40356048, 0.12149553, 0.53222417, 0.9976855, 0.12536346, 0.80930099, 0.50962849, 0.94555126, 0.33364763]\n"
     ]
    }
   ],
   "source": [
    "v=a.tolist()\n",
    "v=[x for l in a for x in l]\n",
    "print(type(v))\n",
    "print(v)"
   ]
  },
  {
   "cell_type": "markdown",
   "metadata": {},
   "source": [
    "### 4. Add a condition to the list comprehension above so that only values greater than or equal to 0.5 are printed."
   ]
  },
  {
   "cell_type": "code",
   "execution_count": 105,
   "metadata": {},
   "outputs": [],
   "source": [
    "v1=[x for l in a for x in l if x>0.5]\n",
    "\n",
    "            \n",
    "\n"
   ]
  },
  {
   "cell_type": "markdown",
   "metadata": {},
   "source": [
    "### 5. Use a list comprehension to create and print a list containing all elements of the 5 x 2 x 3 Numpy array below."
   ]
  },
  {
   "cell_type": "code",
   "execution_count": 154,
   "metadata": {},
   "outputs": [],
   "source": [
    "b = np.array([[[0.55867166, 0.06210792, 0.08147297],\n",
    "        [0.82579068, 0.91512478, 0.06833034]],\n",
    "\n",
    "       [[0.05440634, 0.65857693, 0.30296619],\n",
    "        [0.06769833, 0.96031863, 0.51293743]],\n",
    "\n",
    "       [[0.09143215, 0.71893382, 0.45850679],\n",
    "        [0.58256464, 0.59005654, 0.56266457]],\n",
    "\n",
    "       [[0.71600294, 0.87392666, 0.11434044],\n",
    "        [0.8694668 , 0.65669313, 0.10708681]],\n",
    "\n",
    "       [[0.07529684, 0.46470767, 0.47984544],\n",
    "        [0.65368638, 0.14901286, 0.23760688]]])\n",
    "b=b.tolist()"
   ]
  },
  {
   "cell_type": "code",
   "execution_count": 155,
   "metadata": {},
   "outputs": [
    {
     "name": "stdout",
     "output_type": "stream",
     "text": [
      "0.55867166\n",
      "0.82579068\n",
      "0.91512478\n",
      "0.65857693\n",
      "0.96031863\n",
      "0.71893382\n",
      "0.58256464\n",
      "0.59005654\n",
      "0.71600294\n",
      "0.87392666\n",
      "0.8694668\n",
      "0.65669313\n",
      "0.65368638\n",
      "[0.55867166, 0.06210792, 0.08147297, 0.82579068, 0.91512478, 0.06833034, 0.05440634, 0.65857693, 0.30296619, 0.06769833, 0.96031863, 0.51293743, 0.09143215, 0.71893382, 0.45850679, 0.58256464, 0.59005654, 0.56266457, 0.71600294, 0.87392666, 0.11434044, 0.8694668, 0.65669313, 0.10708681, 0.07529684, 0.46470767, 0.47984544, 0.65368638, 0.14901286, 0.23760688]\n"
     ]
    }
   ],
   "source": [
    "for x in b:\n",
    "    for e in x:\n",
    "        for z in e[:2]:\n",
    "            if z>0.5:\n",
    "                print(z)\n",
    "            \n",
    "print([z for x in b for e in x for z in e])"
   ]
  },
  {
   "cell_type": "markdown",
   "metadata": {},
   "source": [
    "### 5. Add a condition to the list comprehension above so that the last value in each subarray is printed, but only if it is less than or equal to 0.5."
   ]
  },
  {
   "cell_type": "code",
   "execution_count": 159,
   "metadata": {},
   "outputs": [
    {
     "data": {
      "text/plain": [
       "[0.08147297,\n",
       " 0.06833034,\n",
       " 0.30296619,\n",
       " 0.45850679,\n",
       " 0.11434044,\n",
       " 0.10708681,\n",
       " 0.47984544,\n",
       " 0.23760688]"
      ]
     },
     "execution_count": 159,
     "metadata": {},
     "output_type": "execute_result"
    }
   ],
   "source": [
    "[e[-1] for x in b for e in x if e[-1] <= 0.5]"
   ]
  },
  {
   "cell_type": "markdown",
   "metadata": {},
   "source": [
    "### 6. Use a list comprehension to select and print the names of all CSV files in the */data* directory."
   ]
  },
  {
   "cell_type": "code",
   "execution_count": 228,
   "metadata": {},
   "outputs": [
    {
     "data": {
      "text/plain": [
       "['sample_file_1.csv',\n",
       " 'sample_file_0.csv',\n",
       " 'sample_file_2.csv',\n",
       " 'sample_file_3.csv',\n",
       " 'sample_file_7.csv',\n",
       " 'sample_file_6.csv',\n",
       " 'sample_file_4.csv',\n",
       " 'sample_file_5.csv',\n",
       " 'sample_file_8.csv',\n",
       " 'sample_file_9.csv']"
      ]
     },
     "execution_count": 228,
     "metadata": {},
     "output_type": "execute_result"
    }
   ],
   "source": [
    "[i for i in os.listdir(\"../data\") if i.endswith(\".csv\")]\n"
   ]
  },
  {
   "cell_type": "markdown",
   "metadata": {},
   "source": [
    "### 7. Use a list comprehension and the Pandas `read_csv` and `concat` methods to read all CSV files in the */data* directory and combine them into a single data frame. Display the top 10 rows of the resulting data frame."
   ]
  },
  {
   "cell_type": "code",
   "execution_count": 230,
   "metadata": {},
   "outputs": [
    {
     "name": "stdout",
     "output_type": "stream",
     "text": [
      "           0         1         2         3         4         5         6  \\\n",
      "0   0.132453  0.106635  0.673568  0.507253  0.162925  0.130042  0.980388   \n",
      "1   0.384938  0.767604  0.850528  0.605998  0.826172  0.667488  0.142045   \n",
      "2   0.318691  0.675720  0.807189  0.752518  0.531342  0.703225  0.598293   \n",
      "3   0.538593  0.291241  0.407187  0.613260  0.851424  0.962086  0.590512   \n",
      "4   0.713271  0.156210  0.392800  0.702348  0.009400  0.030304  0.960066   \n",
      "..       ...       ...       ...       ...       ...       ...       ...   \n",
      "0   0.702566  0.092336  0.245083  0.918402  0.695110  0.886921  0.588605   \n",
      "1   0.177005  0.649551  0.467321  0.449597  0.458872  0.815586  0.455132   \n",
      "2   0.689556  0.445586  0.005691  0.150171  0.554146  0.492320  0.185612   \n",
      "3   0.047188  0.854596  0.833368  0.043878  0.883505  0.786302  0.980916   \n",
      "4   0.936065  0.725831  0.184239  0.677391  0.242726  0.125457  0.356254   \n",
      "\n",
      "           7         8         9        10        11        12        13  \\\n",
      "0   0.623167  0.074066  0.111557  0.864664  0.093637  0.446974  0.022525   \n",
      "1   0.086904  0.912348  0.892183  0.426389  0.776552  0.429496  0.602056   \n",
      "2   0.921508  0.563333  0.184300  0.667625  0.270017  0.573440  0.163669   \n",
      "3   0.980700  0.159022  0.684265  0.898633  0.470113  0.756593  0.282408   \n",
      "4   0.688937  0.260252  0.634608  0.273775  0.264145  0.682941  0.908499   \n",
      "..       ...       ...       ...       ...       ...       ...       ...   \n",
      "0   0.950970  0.168079  0.783107  0.698836  0.120857  0.207432  0.824789   \n",
      "1   0.729812  0.998528  0.048724  0.377391  0.729498  0.721515  0.566724   \n",
      "2   0.060855  0.457443  0.847337  0.603072  0.346574  0.898464  0.482963   \n",
      "3   0.004030  0.619601  0.547769  0.160962  0.545281  0.931623  0.991855   \n",
      "4   0.937350  0.215774  0.212762  0.483018  0.573162  0.634487  0.423924   \n",
      "\n",
      "          14        15        16        17        18        19  \n",
      "0   0.713369  0.707874  0.563506  0.982256  0.562498  0.968681  \n",
      "1   0.283769  0.166793  0.316878  0.688337  0.169525  0.966198  \n",
      "2   0.032852  0.689315  0.973684  0.719610  0.163670  0.724486  \n",
      "3   0.551369  0.732153  0.494100  0.792803  0.794426  0.837695  \n",
      "4   0.450950  0.200761  0.968324  0.221165  0.891382  0.398914  \n",
      "..       ...       ...       ...       ...       ...       ...  \n",
      "0   0.349212  0.818606  0.376941  0.886644  0.472826  0.551858  \n",
      "1   0.338366  0.877239  0.129824  0.773155  0.485385  0.686294  \n",
      "2   0.443979  0.430132  0.713078  0.302786  0.051382  0.203699  \n",
      "3   0.821099  0.654592  0.346710  0.183948  0.372739  0.739383  \n",
      "4   0.394633  0.766967  0.606719  0.538712  0.885516  0.667051  \n",
      "\n",
      "[100 rows x 20 columns]\n"
     ]
    }
   ],
   "source": [
    "myfirstconcat= pd.concat([pd.read_csv(f\"../data/{i}\") for i in os.listdir(\"../data\")])\n",
    "print(myfirstconcat)"
   ]
  },
  {
   "cell_type": "markdown",
   "metadata": {},
   "source": [
    "### 8. Use a list comprehension to select and print the column numbers for columns from the data set whose median is less than 0.48."
   ]
  },
  {
   "cell_type": "code",
   "execution_count": 214,
   "metadata": {},
   "outputs": [
    {
     "data": {
      "text/plain": [
       "['0',\n",
       " '1',\n",
       " '3',\n",
       " '4',\n",
       " '5',\n",
       " '6',\n",
       " '7',\n",
       " '8',\n",
       " '10',\n",
       " '11',\n",
       " '13',\n",
       " '15',\n",
       " '16',\n",
       " '18',\n",
       " '19']"
      ]
     },
     "execution_count": 214,
     "metadata": {},
     "output_type": "execute_result"
    }
   ],
   "source": [
    "import statistics\n",
    "\n",
    "#for i in myfirstconcat:\n",
    "    #print(statistics.median((myfirstconcat[i])))\n",
    "    #if statistics.median((myfirstconcat[i])) > 0.48:\n",
    "        #print(i)\n",
    "\n",
    "[i for i in myfirstconcat if statistics.median(myfirstconcat[i])>0.48]"
   ]
  },
  {
   "cell_type": "markdown",
   "metadata": {},
   "source": [
    "### 9. Use a list comprehension to add a new column (20) to the data frame whose values are the values in column 19 minus 0.1. Display the top 10 rows of the resulting data frame."
   ]
  },
  {
   "cell_type": "code",
   "execution_count": 241,
   "metadata": {},
   "outputs": [
    {
     "name": "stdout",
     "output_type": "stream",
     "text": [
      "           0         1         2         3         4         5         6  \\\n",
      "0   0.132453  0.106635  0.673568  0.507253  0.162925  0.130042  0.980388   \n",
      "1   0.384938  0.767604  0.850528  0.605998  0.826172  0.667488  0.142045   \n",
      "2   0.318691  0.675720  0.807189  0.752518  0.531342  0.703225  0.598293   \n",
      "3   0.538593  0.291241  0.407187  0.613260  0.851424  0.962086  0.590512   \n",
      "4   0.713271  0.156210  0.392800  0.702348  0.009400  0.030304  0.960066   \n",
      "..       ...       ...       ...       ...       ...       ...       ...   \n",
      "0   0.702566  0.092336  0.245083  0.918402  0.695110  0.886921  0.588605   \n",
      "1   0.177005  0.649551  0.467321  0.449597  0.458872  0.815586  0.455132   \n",
      "2   0.689556  0.445586  0.005691  0.150171  0.554146  0.492320  0.185612   \n",
      "3   0.047188  0.854596  0.833368  0.043878  0.883505  0.786302  0.980916   \n",
      "4   0.936065  0.725831  0.184239  0.677391  0.242726  0.125457  0.356254   \n",
      "\n",
      "           7         8         9  ...        11        12        13        14  \\\n",
      "0   0.623167  0.074066  0.111557  ...  0.093637  0.446974  0.022525  0.713369   \n",
      "1   0.086904  0.912348  0.892183  ...  0.776552  0.429496  0.602056  0.283769   \n",
      "2   0.921508  0.563333  0.184300  ...  0.270017  0.573440  0.163669  0.032852   \n",
      "3   0.980700  0.159022  0.684265  ...  0.470113  0.756593  0.282408  0.551369   \n",
      "4   0.688937  0.260252  0.634608  ...  0.264145  0.682941  0.908499  0.450950   \n",
      "..       ...       ...       ...  ...       ...       ...       ...       ...   \n",
      "0   0.950970  0.168079  0.783107  ...  0.120857  0.207432  0.824789  0.349212   \n",
      "1   0.729812  0.998528  0.048724  ...  0.729498  0.721515  0.566724  0.338366   \n",
      "2   0.060855  0.457443  0.847337  ...  0.346574  0.898464  0.482963  0.443979   \n",
      "3   0.004030  0.619601  0.547769  ...  0.545281  0.931623  0.991855  0.821099   \n",
      "4   0.937350  0.215774  0.212762  ...  0.573162  0.634487  0.423924  0.394633   \n",
      "\n",
      "          15        16        17        18        19        20  \n",
      "0   0.707874  0.563506  0.982256  0.562498  0.968681  0.868681  \n",
      "1   0.166793  0.316878  0.688337  0.169525  0.966198  0.866198  \n",
      "2   0.689315  0.973684  0.719610  0.163670  0.724486  0.624486  \n",
      "3   0.732153  0.494100  0.792803  0.794426  0.837695  0.737695  \n",
      "4   0.200761  0.968324  0.221165  0.891382  0.398914  0.298914  \n",
      "..       ...       ...       ...       ...       ...       ...  \n",
      "0   0.818606  0.376941  0.886644  0.472826  0.551858  0.451858  \n",
      "1   0.877239  0.129824  0.773155  0.485385  0.686294  0.586294  \n",
      "2   0.430132  0.713078  0.302786  0.051382  0.203699  0.103699  \n",
      "3   0.654592  0.346710  0.183948  0.372739  0.739383  0.639383  \n",
      "4   0.766967  0.606719  0.538712  0.885516  0.667051  0.567051  \n",
      "\n",
      "[100 rows x 21 columns]\n"
     ]
    }
   ],
   "source": [
    "myfirstconcat[\"20\"]= [i-0.1 for i in myfirstconcat[\"19\"]]\n",
    "print (myfirstconcat)\n",
    "    \n",
    "#myfirstconcat[\"20\"]=myfirstconcat[\"19\"]-0.1\n",
    "\n",
    "#print(myfirstconcat)"
   ]
  },
  {
   "cell_type": "markdown",
   "metadata": {},
   "source": [
    "### 10. Use a list comprehension to extract and print all values from the data set that are between 0.7 and 0.75."
   ]
  },
  {
   "cell_type": "code",
   "execution_count": 307,
   "metadata": {
    "scrolled": true
   },
   "outputs": [
    {
     "name": "stdout",
     "output_type": "stream",
     "text": [
      "[0.7133690799930356, 0.7078738356977186, 0.7032248108904495, 0.7196096371031628, 0.7244863338885654, 0.7321533684342264, 0.7376946446827494, 0.7132714209987683, 0.7023481768180954, 0.7051334608870933]\n",
      "<class 'pandas.core.frame.DataFrame'>\n",
      "<class 'list'>\n",
      "<class 'numpy.ndarray'>\n"
     ]
    }
   ],
   "source": [
    "c = [y for x in myfirstconcat.values.tolist() for y in x if 0.7<=float(y)<=0.75]\n",
    "print(c[:10])\n",
    "#print(type(myfirstconcat))\n",
    "#print(type(myfirstconcat.values.tolist()))\n",
    "#print(type(myfirstconcat.values))\n",
    "# pandas.DataFrame: .index, .values\n",
    "\n",
    "#for i in myfirstconcat.values:\n",
    "    #for x in i:\n",
    "        #if 0.7<=x<=0.75:\n",
    "            #c.append(x)\n",
    "#print(c)\n",
    "\n",
    "\n"
   ]
  },
  {
   "cell_type": "code",
   "execution_count": null,
   "metadata": {},
   "outputs": [],
   "source": []
  },
  {
   "cell_type": "code",
   "execution_count": null,
   "metadata": {},
   "outputs": [],
   "source": []
  }
 ],
 "metadata": {
  "kernelspec": {
   "display_name": "Python 3",
   "language": "python",
   "name": "python3"
  },
  "language_info": {
   "codemirror_mode": {
    "name": "ipython",
    "version": 3
   },
   "file_extension": ".py",
   "mimetype": "text/x-python",
   "name": "python",
   "nbconvert_exporter": "python",
   "pygments_lexer": "ipython3",
   "version": "3.8.2"
  }
 },
 "nbformat": 4,
 "nbformat_minor": 2
}
