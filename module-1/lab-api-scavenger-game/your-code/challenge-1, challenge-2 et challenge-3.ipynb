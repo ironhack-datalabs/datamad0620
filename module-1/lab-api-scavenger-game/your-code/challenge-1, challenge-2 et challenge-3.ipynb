{
 "cells": [
  {
   "cell_type": "code",
   "execution_count": 29,
   "metadata": {},
   "outputs": [
    {
     "data": {
      "text/plain": [
       "True"
      ]
     },
     "execution_count": 29,
     "metadata": {},
     "output_type": "execute_result"
    }
   ],
   "source": [
    "import os\n",
    "import requests\n",
    "from dotenv import load_dotenv\n",
    "load_dotenv()"
   ]
  },
  {
   "cell_type": "code",
   "execution_count": 30,
   "metadata": {},
   "outputs": [],
   "source": [
    "apiKey=os.getenv(\"GITHUB_APIKEY\")"
   ]
  },
  {
   "cell_type": "code",
   "execution_count": 31,
   "metadata": {},
   "outputs": [],
   "source": [
    "def GitHub(endpoint, queryParams={}):\n",
    "    url = f\"https://api.github.com{endpoint}\"\n",
    "    headers = {\n",
    "        \"Authorization\": f\"token {apiKey}\"\n",
    "    }\n",
    "    res = requests.get(url, headers=headers, params=queryParams)\n",
    "    print(res.url)\n",
    "    return res.json()"
   ]
  },
  {
   "cell_type": "markdown",
   "metadata": {},
   "source": [
    "## Challenge 1"
   ]
  },
  {
   "cell_type": "code",
   "execution_count": 32,
   "metadata": {},
   "outputs": [
    {
     "name": "stdout",
     "output_type": "stream",
     "text": [
      "https://api.github.com/repos/ironhack-datalabs/datamad0620/forks\n"
     ]
    }
   ],
   "source": [
    "list_forks=GitHub(\"/repos/ironhack-datalabs/datamad0620/forks\")"
   ]
  },
  {
   "cell_type": "code",
   "execution_count": 33,
   "metadata": {},
   "outputs": [
    {
     "data": {
      "text/plain": [
       "[None, 'Jupyter Notebook']"
      ]
     },
     "execution_count": 33,
     "metadata": {},
     "output_type": "execute_result"
    }
   ],
   "source": [
    "language_array=[]\n",
    "for fork in list_forks:\n",
    "    if fork[\"language\"] not in language_array:\n",
    "        language_array.append(fork[\"language\"])\n",
    "language_array"
   ]
  },
  {
   "cell_type": "markdown",
   "metadata": {},
   "source": [
    "## Challenge 2"
   ]
  },
  {
   "cell_type": "code",
   "execution_count": 34,
   "metadata": {},
   "outputs": [
    {
     "name": "stdout",
     "output_type": "stream",
     "text": [
      "https://api.github.com/repos/ironhack-datalabs/datamad0620/commits\n"
     ]
    }
   ],
   "source": [
    "commits=GitHub(\"/repos/ironhack-datalabs/datamad0620/commits\")"
   ]
  },
  {
   "cell_type": "code",
   "execution_count": 35,
   "metadata": {},
   "outputs": [
    {
     "data": {
      "text/plain": [
       "4"
      ]
     },
     "execution_count": 35,
     "metadata": {},
     "output_type": "execute_result"
    }
   ],
   "source": [
    "number_commits=len(commits)\n",
    "number_commits"
   ]
  },
  {
   "cell_type": "code",
   "execution_count": 36,
   "metadata": {},
   "outputs": [
    {
     "name": "stdout",
     "output_type": "stream",
     "text": [
      "https://api.github.com/repos/ironhack-datalabs/datamad0620/commits?since=2018-06-17\n"
     ]
    }
   ],
   "source": [
    "past_year_commits=GitHub(\"/repos/ironhack-datalabs/datamad0620/commits\",{\"since\":\"2018-06-17\"})"
   ]
  },
  {
   "cell_type": "markdown",
   "metadata": {},
   "source": [
    "## Challenge 3"
   ]
  },
  {
   "cell_type": "code",
   "execution_count": 37,
   "metadata": {},
   "outputs": [],
   "source": [
    "import textwrap"
   ]
  },
  {
   "cell_type": "code",
   "execution_count": 39,
   "metadata": {},
   "outputs": [
    {
     "name": "stdout",
     "output_type": "stream",
     "text": [
      "https://api.github.com/repos/ironhack-datalabs/scavenger/contents\n",
      "https://api.github.com/repos/ironhack-datalabs/scavenger/contents/15024\n",
      "https://api.github.com/repos/ironhack-datalabs/scavenger/contents/15534\n",
      "https://api.github.com/repos/ironhack-datalabs/scavenger/contents/17020\n",
      "https://api.github.com/repos/ironhack-datalabs/scavenger/contents/30351\n",
      "https://api.github.com/repos/ironhack-datalabs/scavenger/contents/40303\n",
      "https://api.github.com/repos/ironhack-datalabs/scavenger/contents/44639\n",
      "https://api.github.com/repos/ironhack-datalabs/scavenger/contents/45525\n",
      "https://api.github.com/repos/ironhack-datalabs/scavenger/contents/47222\n",
      "https://api.github.com/repos/ironhack-datalabs/scavenger/contents/47830\n",
      "https://api.github.com/repos/ironhack-datalabs/scavenger/contents/49418\n",
      "https://api.github.com/repos/ironhack-datalabs/scavenger/contents/50896\n",
      "https://api.github.com/repos/ironhack-datalabs/scavenger/contents/55417\n",
      "https://api.github.com/repos/ironhack-datalabs/scavenger/contents/55685\n",
      "https://api.github.com/repos/ironhack-datalabs/scavenger/contents/60224\n",
      "https://api.github.com/repos/ironhack-datalabs/scavenger/contents/64880\n",
      "https://api.github.com/repos/ironhack-datalabs/scavenger/contents/66032\n",
      "https://api.github.com/repos/ironhack-datalabs/scavenger/contents/68848\n",
      "https://api.github.com/repos/ironhack-datalabs/scavenger/contents/70751\n",
      "https://api.github.com/repos/ironhack-datalabs/scavenger/contents/70985\n",
      "https://api.github.com/repos/ironhack-datalabs/scavenger/contents/88596\n",
      "https://api.github.com/repos/ironhack-datalabs/scavenger/contents/89046\n",
      "https://api.github.com/repos/ironhack-datalabs/scavenger/contents/89338\n",
      "https://api.github.com/repos/ironhack-datalabs/scavenger/contents/91701\n",
      "https://api.github.com/repos/ironhack-datalabs/scavenger/contents/97881\n",
      "https://api.github.com/repos/ironhack-datalabs/scavenger/contents/98750\n"
     ]
    }
   ],
   "source": [
    "content=GitHub(f\"/repos/ironhack-datalabs/scavenger/contents\")\n",
    "directories=[dictionary[\"name\"] for dictionary in content if dictionary[\"name\"]!=\".gitignore\"]\n",
    "lista=[]\n",
    "for directory in directories:\n",
    "    lista.append(GitHub(f\"/repos/ironhack-datalabs/scavenger/contents/{directory}\"))"
   ]
  },
  {
   "cell_type": "code",
   "execution_count": 40,
   "metadata": {},
   "outputs": [],
   "source": [
    "import base64\n",
    "import requests"
   ]
  },
  {
   "cell_type": "code",
   "execution_count": 41,
   "metadata": {},
   "outputs": [
    {
     "data": {
      "text/plain": [
       "['https://api.github.com/repos/ironhack-datalabs/scavenger/contents/98750/.0001.scavengerhunt?ref=master',\n",
       " 'https://api.github.com/repos/ironhack-datalabs/scavenger/contents/88596/.0002.scavengerhunt?ref=master',\n",
       " 'https://api.github.com/repos/ironhack-datalabs/scavenger/contents/60224/.0003.scavengerhunt?ref=master',\n",
       " 'https://api.github.com/repos/ironhack-datalabs/scavenger/contents/68848/.0004.scavengerhunt?ref=master',\n",
       " 'https://api.github.com/repos/ironhack-datalabs/scavenger/contents/44639/.0005.scavengerhunt?ref=master',\n",
       " 'https://api.github.com/repos/ironhack-datalabs/scavenger/contents/15024/.0006.scavengerhunt?ref=master',\n",
       " 'https://api.github.com/repos/ironhack-datalabs/scavenger/contents/17020/.0007.scavengerhunt?ref=master',\n",
       " 'https://api.github.com/repos/ironhack-datalabs/scavenger/contents/15534/.0008.scavengerhunt?ref=master',\n",
       " 'https://api.github.com/repos/ironhack-datalabs/scavenger/contents/97881/.0009.scavengerhunt?ref=master',\n",
       " 'https://api.github.com/repos/ironhack-datalabs/scavenger/contents/47830/.0010.scavengerhunt?ref=master',\n",
       " 'https://api.github.com/repos/ironhack-datalabs/scavenger/contents/50896/.0011.scavengerhunt?ref=master',\n",
       " 'https://api.github.com/repos/ironhack-datalabs/scavenger/contents/15534/.0012.scavengerhunt?ref=master',\n",
       " 'https://api.github.com/repos/ironhack-datalabs/scavenger/contents/89338/.0013.scavengerhunt?ref=master',\n",
       " 'https://api.github.com/repos/ironhack-datalabs/scavenger/contents/49418/.0014.scavengerhunt?ref=master',\n",
       " 'https://api.github.com/repos/ironhack-datalabs/scavenger/contents/91701/.0015.scavengerhunt?ref=master',\n",
       " 'https://api.github.com/repos/ironhack-datalabs/scavenger/contents/47222/.0016.scavengerhunt?ref=master',\n",
       " 'https://api.github.com/repos/ironhack-datalabs/scavenger/contents/70985/.0017.scavengerhunt?ref=master',\n",
       " 'https://api.github.com/repos/ironhack-datalabs/scavenger/contents/45525/.0018.scavengerhunt?ref=master',\n",
       " 'https://api.github.com/repos/ironhack-datalabs/scavenger/contents/70751/.0019.scavengerhunt?ref=master',\n",
       " 'https://api.github.com/repos/ironhack-datalabs/scavenger/contents/55685/.0020.scavengerhunt?ref=master',\n",
       " 'https://api.github.com/repos/ironhack-datalabs/scavenger/contents/30351/.0021.scavengerhunt?ref=master',\n",
       " 'https://api.github.com/repos/ironhack-datalabs/scavenger/contents/40303/.0022.scavengerhunt?ref=master',\n",
       " 'https://api.github.com/repos/ironhack-datalabs/scavenger/contents/55417/.0023.scavengerhunt?ref=master',\n",
       " 'https://api.github.com/repos/ironhack-datalabs/scavenger/contents/47222/.0024.scavengerhunt?ref=master']"
      ]
     },
     "execution_count": 41,
     "metadata": {},
     "output_type": "execute_result"
    }
   ],
   "source": [
    "links=[]\n",
    "for directory in lista:\n",
    "    for files in directory:\n",
    "        for letters in files[\"name\"]:\n",
    "            if letters[0]==\".\":\n",
    "                links.append(files[\"url\"])\n",
    "unique=set(links)\n",
    "ordering=list(unique)\n",
    "url_list=ordering.sort(key=lambda x: x.split(\"/.\")[1])\n",
    "ordering"
   ]
  },
  {
   "cell_type": "code",
   "execution_count": 57,
   "metadata": {},
   "outputs": [],
   "source": [
    "def getJoke():\n",
    "    global joke\n",
    "    joke=[]\n",
    "    for item in range(len(ordering)):\n",
    "        url=ordering[item]\n",
    "        req = requests.get(url)\n",
    "        if req.status_code == requests.codes.ok:\n",
    "            req = req.json()  \n",
    "            content = base64.b64decode(req['content'])\n",
    "            joke.append(content)\n",
    "            "
   ]
  },
  {
   "cell_type": "code",
   "execution_count": 58,
   "metadata": {},
   "outputs": [],
   "source": [
    "getJoke()"
   ]
  },
  {
   "cell_type": "code",
   "execution_count": 19,
   "metadata": {},
   "outputs": [
    {
     "name": "stdout",
     "output_type": "stream",
     "text": [
      "Content was not found.\n"
     ]
    }
   ],
   "source": [
    "url = 'https://api.github.com/repos/ironhack-datalabs/scavenger/contents/98750/.0001.scavengerhunt?ref=master'\n",
    "req = requests.get(url)\n",
    "if req.status_code == requests.codes.ok:\n",
    "    req = req.json()\n",
    "    content = base64.b64decode(req['content'])\n",
    "else:\n",
    "    print('Content was not found.')"
   ]
  },
  {
   "cell_type": "code",
   "execution_count": 52,
   "metadata": {},
   "outputs": [
    {
     "name": "stdout",
     "output_type": "stream",
     "text": [
      "[b'In\\n', b'data\\n', b'science,\\n', b'80\\n', b'percent\\n', b'of\\n', b'time\\n', b'spent\\n', b'is\\n', b'preparing\\n', b'data,\\n', b'20\\n', b'percent\\n', b'of\\n', b'time\\n', b'is\\n', b'spent\\n', b'complaining\\n', b'about\\n', b'the\\n', b'need\\n', b'to\\n', b'prepare\\n', b'data.\\n']\n"
     ]
    }
   ],
   "source": [
    "print(joke)"
   ]
  },
  {
   "cell_type": "code",
   "execution_count": 53,
   "metadata": {},
   "outputs": [],
   "source": [
    "jajaja=[palabra.decode(\"utf-8\") for palabra in joke]"
   ]
  },
  {
   "cell_type": "code",
   "execution_count": 54,
   "metadata": {},
   "outputs": [],
   "source": [
    "broma=[palabra.replace(\"\\n\", \" \") for palabra in jajaja]"
   ]
  },
  {
   "cell_type": "code",
   "execution_count": 55,
   "metadata": {},
   "outputs": [],
   "source": [
    "yanotienegracia=''.join(broma)"
   ]
  },
  {
   "cell_type": "code",
   "execution_count": 56,
   "metadata": {},
   "outputs": [
    {
     "data": {
      "text/plain": [
       "'In data science, 80 percent of time spent is preparing data, 20 percent of time is spent complaining about the need to prepare data. '"
      ]
     },
     "execution_count": 56,
     "metadata": {},
     "output_type": "execute_result"
    }
   ],
   "source": [
    "yanotienegracia"
   ]
  },
  {
   "cell_type": "code",
   "execution_count": null,
   "metadata": {},
   "outputs": [],
   "source": []
  }
 ],
 "metadata": {
  "kernelspec": {
   "display_name": "Python 3",
   "language": "python",
   "name": "python3"
  },
  "language_info": {
   "codemirror_mode": {
    "name": "ipython",
    "version": 3
   },
   "file_extension": ".py",
   "mimetype": "text/x-python",
   "name": "python",
   "nbconvert_exporter": "python",
   "pygments_lexer": "ipython3",
   "version": "3.7.7"
  }
 },
 "nbformat": 4,
 "nbformat_minor": 4
}
