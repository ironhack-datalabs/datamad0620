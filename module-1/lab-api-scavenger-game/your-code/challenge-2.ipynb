{
 "cells": [
  {
   "cell_type": "code",
   "execution_count": 55,
   "metadata": {},
   "outputs": [
    {
     "data": {
      "text/plain": [
       "True"
      ]
     },
     "execution_count": 55,
     "metadata": {},
     "output_type": "execute_result"
    }
   ],
   "source": [
    "import json\n",
    "import requests\n",
    "import os\n",
    "from dotenv import load_dotenv\n",
    "import datetime\n",
    "from dateutil.parser import parse\n",
    "load_dotenv()\n"
   ]
  },
  {
   "cell_type": "markdown",
   "metadata": {},
   "source": [
    "# Challenge 2: Count Commits"
   ]
  },
  {
   "cell_type": "code",
   "execution_count": 57,
   "metadata": {},
   "outputs": [
    {
     "name": "stdout",
     "output_type": "stream",
     "text": [
      "https://api.github.com/repos/ironhack-datalabs/datamad0620/commits\n"
     ]
    },
    {
     "data": {
      "text/plain": [
       "4"
      ]
     },
     "execution_count": 57,
     "metadata": {},
     "output_type": "execute_result"
    }
   ],
   "source": [
    "def getFromGithub(endpoint, queryParams={}):\n",
    "    url = f\"https://api.github.com{endpoint}\"\n",
    "\n",
    "    apiKey = os.getenv(\"personal_key\")\n",
    "    if not apiKey:\n",
    "        raise ValueError(\"Please setup the personal_key env variable\")\n",
    "    headers = {\n",
    "        \"Authorization\": f\"token {apiKey}\"\n",
    "    }\n",
    "    \n",
    "    res = requests.get(url, headers=headers, params=queryParams)\n",
    "    print(res.url)\n",
    "    return res.json()\n",
    "path=\"/repos/ironhack-datalabs/datamad0620/commits\"\n",
    "queryParams = {\"since\":\"Jun 01, 2020\"}\n",
    "a = getFromGithub(\"/repos/ironhack-datalabs/datamad0620/commits\")\n",
    "len(a)\n",
    "\n"
   ]
  },
  {
   "cell_type": "code",
   "execution_count": null,
   "metadata": {},
   "outputs": [],
   "source": []
  },
  {
   "cell_type": "code",
   "execution_count": null,
   "metadata": {},
   "outputs": [],
   "source": []
  }
 ],
 "metadata": {
  "kernelspec": {
   "display_name": "Python 3",
   "language": "python",
   "name": "python3"
  },
  "language_info": {
   "codemirror_mode": {
    "name": "ipython",
    "version": 3
   },
   "file_extension": ".py",
   "mimetype": "text/x-python",
   "name": "python",
   "nbconvert_exporter": "python",
   "pygments_lexer": "ipython3",
   "version": "3.8.3"
  }
 },
 "nbformat": 4,
 "nbformat_minor": 4
}
