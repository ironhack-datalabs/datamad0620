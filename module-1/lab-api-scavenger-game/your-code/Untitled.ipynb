{
 "cells": [
  {
   "cell_type": "markdown",
   "metadata": {},
   "source": [
    "# Utilizo API GIThub\n",
    "Guión general\n",
    "* 1 Crear token\n",
    "* 2 Test token -> $ curl -u **MY_Username**:**MY_APIKEY** https://api.github.com/user`\n",
    "* 3 guardar MY_APIKEY en mi espacio virtual -> echo **\"APIKEY = 'TOKEN'** >> .env\n",
    "* 4 Añadir el fichero .env en el .gitignore\n",
    "AHORA PUEDES ESTAR TRANQUI! NUNCA SUBIR KEY! "
   ]
  },
  {
   "cell_type": "code",
   "execution_count": 1,
   "metadata": {},
   "outputs": [],
   "source": [
    "import os\n",
    "import requests\n",
    "from dotenv import load_dotenv"
   ]
  },
  {
   "cell_type": "code",
   "execution_count": 2,
   "metadata": {},
   "outputs": [],
   "source": [
    "apikey = os.getenv(\"APIKEY\")"
   ]
  },
  {
   "cell_type": "code",
   "execution_count": 3,
   "metadata": {},
   "outputs": [
    {
     "data": {
      "text/plain": [
       "<Response [200]>"
      ]
     },
     "execution_count": 3,
     "metadata": {},
     "output_type": "execute_result"
    }
   ],
   "source": [
    "# enviar una request. Si sale un numero que empieza con 2 todo bien, \n",
    "# o si no ver los errores de los gatos a ver que dicen!\n",
    "url = 'https://api.github.com/repos/ironhack-datalabs/datamad0620'\n",
    "res = requests.get(url)\n",
    "res"
   ]
  },
  {
   "cell_type": "code",
   "execution_count": 4,
   "metadata": {},
   "outputs": [],
   "source": [
    "#from dotenv import load_dotenv --> modulo para importar desde .env\n",
    "# la funcion permite hace una get requests\n",
    "# endpoint ej= /ironhack-datalabs/datamad0620\n",
    "load_dotenv()\n",
    "\n",
    "def getFromGithub(endpoint, queryParams={}):\n",
    "    url = f\"https://api.github.com{endpoint}\"\n",
    "\n",
    "    apikey = os.getenv(\"APIKEY\")\n",
    "    if not apikey:\n",
    "        raise ValueError(\"Please setup the GITHUB_APIKEY env variable\")\n",
    "    headers = {\n",
    "        \"Authorization\": f\"token {apikey}\"\n",
    "    }\n",
    "    \n",
    "    res = requests.get(url, headers=headers, params=queryParams)\n",
    "    #print(res.url)\n",
    "    return res.json()\n",
    "# el print lo he dejado en la funcion por comodidad"
   ]
  },
  {
   "cell_type": "code",
   "execution_count": 5,
   "metadata": {},
   "outputs": [
    {
     "data": {
      "text/plain": [
       "{'id': 268509421,\n",
       " 'node_id': 'MDEwOlJlcG9zaXRvcnkyNjg1MDk0MjE=',\n",
       " 'name': 'datamad0620',\n",
       " 'full_name': 'ironhack-datalabs/datamad0620',\n",
       " 'private': False,\n",
       " 'owner': {'login': 'ironhack-datalabs',\n",
       "  'id': 44225188,\n",
       "  'node_id': 'MDEyOk9yZ2FuaXphdGlvbjQ0MjI1MTg4',\n",
       "  'avatar_url': 'https://avatars2.githubusercontent.com/u/44225188?v=4',\n",
       "  'gravatar_id': '',\n",
       "  'url': 'https://api.github.com/users/ironhack-datalabs',\n",
       "  'html_url': 'https://github.com/ironhack-datalabs',\n",
       "  'followers_url': 'https://api.github.com/users/ironhack-datalabs/followers',\n",
       "  'following_url': 'https://api.github.com/users/ironhack-datalabs/following{/other_user}',\n",
       "  'gists_url': 'https://api.github.com/users/ironhack-datalabs/gists{/gist_id}',\n",
       "  'starred_url': 'https://api.github.com/users/ironhack-datalabs/starred{/owner}{/repo}',\n",
       "  'subscriptions_url': 'https://api.github.com/users/ironhack-datalabs/subscriptions',\n",
       "  'organizations_url': 'https://api.github.com/users/ironhack-datalabs/orgs',\n",
       "  'repos_url': 'https://api.github.com/users/ironhack-datalabs/repos',\n",
       "  'events_url': 'https://api.github.com/users/ironhack-datalabs/events{/privacy}',\n",
       "  'received_events_url': 'https://api.github.com/users/ironhack-datalabs/received_events',\n",
       "  'type': 'Organization',\n",
       "  'site_admin': False},\n",
       " 'html_url': 'https://github.com/ironhack-datalabs/datamad0620',\n",
       " 'description': None,\n",
       " 'fork': False,\n",
       " 'url': 'https://api.github.com/repos/ironhack-datalabs/datamad0620',\n",
       " 'forks_url': 'https://api.github.com/repos/ironhack-datalabs/datamad0620/forks',\n",
       " 'keys_url': 'https://api.github.com/repos/ironhack-datalabs/datamad0620/keys{/key_id}',\n",
       " 'collaborators_url': 'https://api.github.com/repos/ironhack-datalabs/datamad0620/collaborators{/collaborator}',\n",
       " 'teams_url': 'https://api.github.com/repos/ironhack-datalabs/datamad0620/teams',\n",
       " 'hooks_url': 'https://api.github.com/repos/ironhack-datalabs/datamad0620/hooks',\n",
       " 'issue_events_url': 'https://api.github.com/repos/ironhack-datalabs/datamad0620/issues/events{/number}',\n",
       " 'events_url': 'https://api.github.com/repos/ironhack-datalabs/datamad0620/events',\n",
       " 'assignees_url': 'https://api.github.com/repos/ironhack-datalabs/datamad0620/assignees{/user}',\n",
       " 'branches_url': 'https://api.github.com/repos/ironhack-datalabs/datamad0620/branches{/branch}',\n",
       " 'tags_url': 'https://api.github.com/repos/ironhack-datalabs/datamad0620/tags',\n",
       " 'blobs_url': 'https://api.github.com/repos/ironhack-datalabs/datamad0620/git/blobs{/sha}',\n",
       " 'git_tags_url': 'https://api.github.com/repos/ironhack-datalabs/datamad0620/git/tags{/sha}',\n",
       " 'git_refs_url': 'https://api.github.com/repos/ironhack-datalabs/datamad0620/git/refs{/sha}',\n",
       " 'trees_url': 'https://api.github.com/repos/ironhack-datalabs/datamad0620/git/trees{/sha}',\n",
       " 'statuses_url': 'https://api.github.com/repos/ironhack-datalabs/datamad0620/statuses/{sha}',\n",
       " 'languages_url': 'https://api.github.com/repos/ironhack-datalabs/datamad0620/languages',\n",
       " 'stargazers_url': 'https://api.github.com/repos/ironhack-datalabs/datamad0620/stargazers',\n",
       " 'contributors_url': 'https://api.github.com/repos/ironhack-datalabs/datamad0620/contributors',\n",
       " 'subscribers_url': 'https://api.github.com/repos/ironhack-datalabs/datamad0620/subscribers',\n",
       " 'subscription_url': 'https://api.github.com/repos/ironhack-datalabs/datamad0620/subscription',\n",
       " 'commits_url': 'https://api.github.com/repos/ironhack-datalabs/datamad0620/commits{/sha}',\n",
       " 'git_commits_url': 'https://api.github.com/repos/ironhack-datalabs/datamad0620/git/commits{/sha}',\n",
       " 'comments_url': 'https://api.github.com/repos/ironhack-datalabs/datamad0620/comments{/number}',\n",
       " 'issue_comment_url': 'https://api.github.com/repos/ironhack-datalabs/datamad0620/issues/comments{/number}',\n",
       " 'contents_url': 'https://api.github.com/repos/ironhack-datalabs/datamad0620/contents/{+path}',\n",
       " 'compare_url': 'https://api.github.com/repos/ironhack-datalabs/datamad0620/compare/{base}...{head}',\n",
       " 'merges_url': 'https://api.github.com/repos/ironhack-datalabs/datamad0620/merges',\n",
       " 'archive_url': 'https://api.github.com/repos/ironhack-datalabs/datamad0620/{archive_format}{/ref}',\n",
       " 'downloads_url': 'https://api.github.com/repos/ironhack-datalabs/datamad0620/downloads',\n",
       " 'issues_url': 'https://api.github.com/repos/ironhack-datalabs/datamad0620/issues{/number}',\n",
       " 'pulls_url': 'https://api.github.com/repos/ironhack-datalabs/datamad0620/pulls{/number}',\n",
       " 'milestones_url': 'https://api.github.com/repos/ironhack-datalabs/datamad0620/milestones{/number}',\n",
       " 'notifications_url': 'https://api.github.com/repos/ironhack-datalabs/datamad0620/notifications{?since,all,participating}',\n",
       " 'labels_url': 'https://api.github.com/repos/ironhack-datalabs/datamad0620/labels{/name}',\n",
       " 'releases_url': 'https://api.github.com/repos/ironhack-datalabs/datamad0620/releases{/id}',\n",
       " 'deployments_url': 'https://api.github.com/repos/ironhack-datalabs/datamad0620/deployments',\n",
       " 'created_at': '2020-06-01T11:58:07Z',\n",
       " 'updated_at': '2020-06-01T12:02:55Z',\n",
       " 'pushed_at': '2020-06-17T20:21:09Z',\n",
       " 'git_url': 'git://github.com/ironhack-datalabs/datamad0620.git',\n",
       " 'ssh_url': 'git@github.com:ironhack-datalabs/datamad0620.git',\n",
       " 'clone_url': 'https://github.com/ironhack-datalabs/datamad0620.git',\n",
       " 'svn_url': 'https://github.com/ironhack-datalabs/datamad0620',\n",
       " 'homepage': None,\n",
       " 'size': 162761,\n",
       " 'stargazers_count': 0,\n",
       " 'watchers_count': 0,\n",
       " 'language': 'Jupyter Notebook',\n",
       " 'has_issues': True,\n",
       " 'has_projects': True,\n",
       " 'has_downloads': True,\n",
       " 'has_wiki': True,\n",
       " 'has_pages': False,\n",
       " 'forks_count': 23,\n",
       " 'mirror_url': None,\n",
       " 'archived': False,\n",
       " 'disabled': False,\n",
       " 'open_issues_count': 33,\n",
       " 'license': {'key': 'agpl-3.0',\n",
       "  'name': 'GNU Affero General Public License v3.0',\n",
       "  'spdx_id': 'AGPL-3.0',\n",
       "  'url': 'https://api.github.com/licenses/agpl-3.0',\n",
       "  'node_id': 'MDc6TGljZW5zZTE='},\n",
       " 'forks': 23,\n",
       " 'open_issues': 33,\n",
       " 'watchers': 0,\n",
       " 'default_branch': 'master',\n",
       " 'temp_clone_token': None,\n",
       " 'organization': {'login': 'ironhack-datalabs',\n",
       "  'id': 44225188,\n",
       "  'node_id': 'MDEyOk9yZ2FuaXphdGlvbjQ0MjI1MTg4',\n",
       "  'avatar_url': 'https://avatars2.githubusercontent.com/u/44225188?v=4',\n",
       "  'gravatar_id': '',\n",
       "  'url': 'https://api.github.com/users/ironhack-datalabs',\n",
       "  'html_url': 'https://github.com/ironhack-datalabs',\n",
       "  'followers_url': 'https://api.github.com/users/ironhack-datalabs/followers',\n",
       "  'following_url': 'https://api.github.com/users/ironhack-datalabs/following{/other_user}',\n",
       "  'gists_url': 'https://api.github.com/users/ironhack-datalabs/gists{/gist_id}',\n",
       "  'starred_url': 'https://api.github.com/users/ironhack-datalabs/starred{/owner}{/repo}',\n",
       "  'subscriptions_url': 'https://api.github.com/users/ironhack-datalabs/subscriptions',\n",
       "  'organizations_url': 'https://api.github.com/users/ironhack-datalabs/orgs',\n",
       "  'repos_url': 'https://api.github.com/users/ironhack-datalabs/repos',\n",
       "  'events_url': 'https://api.github.com/users/ironhack-datalabs/events{/privacy}',\n",
       "  'received_events_url': 'https://api.github.com/users/ironhack-datalabs/received_events',\n",
       "  'type': 'Organization',\n",
       "  'site_admin': False},\n",
       " 'network_count': 23,\n",
       " 'subscribers_count': 2}"
      ]
     },
     "execution_count": 5,
     "metadata": {},
     "output_type": "execute_result"
    }
   ],
   "source": [
    "forks = getFromGithub(\"/repos/ironhack-datalabs/datamad0620/forks\")\n",
    "data = res.json()\n",
    "data"
   ]
  },
  {
   "cell_type": "code",
   "execution_count": 6,
   "metadata": {},
   "outputs": [
    {
     "name": "stdout",
     "output_type": "stream",
     "text": [
      "/repos/ironhack-datalabs/datamad0620/languages\n"
     ]
    },
    {
     "data": {
      "text/plain": [
       "['Jupyter Notebook', 'HTML', 'Python']"
      ]
     },
     "execution_count": 6,
     "metadata": {},
     "output_type": "execute_result"
    }
   ],
   "source": [
    "# esto fue el bucle mas dificil de la historía jajajja!\n",
    "array = []\n",
    "for i in data.keys():\n",
    "    if 'language' in i:\n",
    "        array.append((data[f'{i}'][22::]))\n",
    "print(''.join(array))\n",
    "list(set(getFromGithub((''.join(array)))))"
   ]
  },
  {
   "cell_type": "code",
   "execution_count": 7,
   "metadata": {},
   "outputs": [
    {
     "name": "stdout",
     "output_type": "stream",
     "text": [
      "4\n"
     ]
    }
   ],
   "source": [
    "# los commits que se encuentran en el repositorio\n",
    "commit = getFromGithub(\"/repos/ironhack-datalabs/datamad0620/commits\")\n",
    "print(len(commit))"
   ]
  },
  {
   "cell_type": "markdown",
   "metadata": {},
   "source": [
    "# Challenge 3: Hidden Cold Joke"
   ]
  },
  {
   "cell_type": "code",
   "execution_count": 61,
   "metadata": {},
   "outputs": [
    {
     "name": "stdout",
     "output_type": "stream",
     "text": [
      "9308ccc8a4c34c5e3a991ee815222a9691c32476\n",
      "https://api.github.com/repos/ironhack-datalabs/scavenger/commits/9308ccc8a4c34c5e3a991ee815222a9691c32476\n"
     ]
    }
   ],
   "source": [
    "# entro en el arbol y busco el sha\n",
    "commit1 = getFromGithub(\"/repos/ironhack-datalabs/scavenger/commits\")\n",
    "commit2 = commit1[0]['sha']\n",
    "print(commit2)\n",
    "# y lo utilizo en el parametro\n",
    "tree = getFromGithub(\"/repos/ironhack-datalabs/scavenger/commits\", {'sha': f'{commit2}'})\n",
    "print(tree[0]['url'])"
   ]
  },
  {
   "cell_type": "code",
   "execution_count": 62,
   "metadata": {},
   "outputs": [],
   "source": [
    "scavengerhunt = getFromGithub('/repos/ironhack-datalabs/scavenger/commits/9308ccc8a4c34c5e3a991ee815222a9691c32476')"
   ]
  },
  {
   "cell_type": "code",
   "execution_count": 63,
   "metadata": {},
   "outputs": [
    {
     "name": "stdout",
     "output_type": "stream",
     "text": [
      "@@ -0,0 +1 @@\n",
      "+.DS_Store\n",
      "@@ -0,0 +1 @@\n",
      "+of\n",
      "@@ -0,0 +1 @@\n",
      "+spent\n",
      "@@ -0,0 +1 @@\n",
      "+20\n",
      "@@ -0,0 +1 @@\n",
      "+time\n",
      "@@ -0,0 +1 @@\n",
      "+need\n",
      "@@ -0,0 +1 @@\n",
      "+to\n",
      "@@ -0,0 +1 @@\n",
      "+percent\n",
      "@@ -0,0 +1 @@\n",
      "+complaining\n",
      "@@ -0,0 +1 @@\n",
      "+is\n",
      "@@ -0,0 +1 @@\n",
      "+data.\n",
      "@@ -0,0 +1 @@\n",
      "+preparing\n",
      "@@ -0,0 +1 @@\n",
      "+of\n",
      "@@ -0,0 +1 @@\n",
      "+data,\n",
      "@@ -0,0 +1 @@\n",
      "+prepare\n",
      "@@ -0,0 +1 @@\n",
      "+the\n",
      "@@ -0,0 +1 @@\n",
      "+science,\n",
      "@@ -0,0 +1 @@\n",
      "+80\n",
      "@@ -0,0 +1 @@\n",
      "+about\n",
      "@@ -0,0 +1 @@\n",
      "+spent\n",
      "@@ -0,0 +1 @@\n",
      "+data\n",
      "@@ -0,0 +1 @@\n",
      "+percent\n",
      "@@ -0,0 +1 @@\n",
      "+time\n",
      "@@ -0,0 +1 @@\n",
      "+is\n",
      "@@ -0,0 +1 @@\n",
      "+In\n"
     ]
    }
   ],
   "source": [
    "#print(scavengerhunt)\n",
    "for i in range(len(scavengerhunt['files'])):\n",
    "    try:\n",
    "        print(scavengerhunt['files'][i]['patch'])\n",
    "    except:\n",
    "        pass\n",
    "# Habría que hacer un sort pero así lo dejamos jejjee  \n",
    "# In data science 80 percent of time spent is preparing 20 percent of time is spent \n",
    "# complaining about the need to prepare data\n"
   ]
  },
  {
   "cell_type": "code",
   "execution_count": null,
   "metadata": {},
   "outputs": [],
   "source": []
  }
 ],
 "metadata": {
  "kernelspec": {
   "display_name": "Python 3",
   "language": "python",
   "name": "python3"
  },
  "language_info": {
   "codemirror_mode": {
    "name": "ipython",
    "version": 3
   },
   "file_extension": ".py",
   "mimetype": "text/x-python",
   "name": "python",
   "nbconvert_exporter": "python",
   "pygments_lexer": "ipython3",
   "version": "3.7.6"
  }
 },
 "nbformat": 4,
 "nbformat_minor": 4
}
