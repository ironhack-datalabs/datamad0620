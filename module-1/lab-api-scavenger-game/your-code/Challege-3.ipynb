{
 "cells": [
  {
   "cell_type": "markdown",
   "metadata": {},
   "source": [
    "# Utilizo API GIThub\n",
    "Guión general\n",
    "* 1 Crear token\n",
    "* 2 Test token -> $ curl -u **MY_Username**:**MY_APIKEY** https://api.github.com/user`\n",
    "* 3 guardar MY_APIKEY en mi espacio virtual -> echo **\"APIKEY = 'TOKEN'** >> .env\n",
    "* 4 Añadir el fichero .env en el .gitignore\n",
    "AHORA PUEDES ESTAR TRANQUI! NUNCA SUBIR KEY! "
   ]
  },
  {
   "cell_type": "code",
   "execution_count": 1,
   "metadata": {},
   "outputs": [],
   "source": [
    "import os\n",
    "import requests\n",
    "from dotenv import load_dotenv"
   ]
  },
  {
   "cell_type": "code",
   "execution_count": 2,
   "metadata": {},
   "outputs": [],
   "source": [
    "apikey = os.getenv(\"APIKEY\")"
   ]
  },
  {
   "cell_type": "code",
   "execution_count": 3,
   "metadata": {},
   "outputs": [
    {
     "data": {
      "text/plain": [
       "<Response [200]>"
      ]
     },
     "execution_count": 3,
     "metadata": {},
     "output_type": "execute_result"
    }
   ],
   "source": [
    "# enviar una request. Si sale un numero que empieza con 2 todo bien, \n",
    "# o si no ver los errores de los gatos a ver que dicen!\n",
    "url = 'https://api.github.com/repos/ironhack-datalabs/datamad0620'\n",
    "res = requests.get(url)\n",
    "res"
   ]
  },
  {
   "cell_type": "code",
   "execution_count": 4,
   "metadata": {},
   "outputs": [],
   "source": [
    "#from dotenv import load_dotenv --> modulo para importar desde .env\n",
    "# la funcion permite hace una get requests\n",
    "# endpoint ej= /ironhack-datalabs/datamad0620\n",
    "load_dotenv()\n",
    "\n",
    "def getFromGithub(endpoint, queryParams={}):\n",
    "    url = f\"https://api.github.com{endpoint}\"\n",
    "\n",
    "    apikey = os.getenv(\"APIKEY\")\n",
    "    if not apikey:\n",
    "        raise ValueError(\"Please setup the GITHUB_APIKEY env variable\")\n",
    "    headers = {\n",
    "        \"Authorization\": f\"token {apikey}\"\n",
    "    }\n",
    "    \n",
    "    res = requests.get(url, headers=headers, params=queryParams)\n",
    "    #print(res.url)\n",
    "    return res.json()\n",
    "# el print lo he dejado en la funcion por comodidad"
   ]
  },
  {
   "cell_type": "markdown",
   "metadata": {},
   "source": [
    "# Challenge 3: Hidden Cold Joke"
   ]
  },
  {
   "cell_type": "code",
   "execution_count": 5,
   "metadata": {},
   "outputs": [
    {
     "name": "stdout",
     "output_type": "stream",
     "text": [
      "9308ccc8a4c34c5e3a991ee815222a9691c32476\n",
      "https://api.github.com/repos/ironhack-datalabs/scavenger/commits/9308ccc8a4c34c5e3a991ee815222a9691c32476\n"
     ]
    }
   ],
   "source": [
    "# entro en el arbol y busco el sha\n",
    "commit1 = getFromGithub(\"/repos/ironhack-datalabs/scavenger/commits\")\n",
    "sha = commit1[0]['sha']\n",
    "print(sha)\n",
    "# y lo utilizo en el parametro\n",
    "tree = getFromGithub(\"/repos/ironhack-datalabs/scavenger/commits\", {'sha': f'{sha}'})\n",
    "print(tree[0]['url'])"
   ]
  },
  {
   "cell_type": "code",
   "execution_count": 6,
   "metadata": {},
   "outputs": [],
   "source": [
    "scavengerhunt = getFromGithub('/repos/ironhack-datalabs/scavenger/commits/9308ccc8a4c34c5e3a991ee815222a9691c32476')"
   ]
  },
  {
   "cell_type": "code",
   "execution_count": 7,
   "metadata": {},
   "outputs": [
    {
     "name": "stdout",
     "output_type": "stream",
     "text": [
      "@@ -0,0 +1 @@\n",
      "+.DS_Store\n",
      "@@ -0,0 +1 @@\n",
      "+of\n",
      "@@ -0,0 +1 @@\n",
      "+spent\n",
      "@@ -0,0 +1 @@\n",
      "+20\n",
      "@@ -0,0 +1 @@\n",
      "+time\n",
      "@@ -0,0 +1 @@\n",
      "+need\n",
      "@@ -0,0 +1 @@\n",
      "+to\n",
      "@@ -0,0 +1 @@\n",
      "+percent\n",
      "@@ -0,0 +1 @@\n",
      "+complaining\n",
      "@@ -0,0 +1 @@\n",
      "+is\n",
      "@@ -0,0 +1 @@\n",
      "+data.\n",
      "@@ -0,0 +1 @@\n",
      "+preparing\n",
      "@@ -0,0 +1 @@\n",
      "+of\n",
      "@@ -0,0 +1 @@\n",
      "+data,\n",
      "@@ -0,0 +1 @@\n",
      "+prepare\n",
      "@@ -0,0 +1 @@\n",
      "+the\n",
      "@@ -0,0 +1 @@\n",
      "+science,\n",
      "@@ -0,0 +1 @@\n",
      "+80\n",
      "@@ -0,0 +1 @@\n",
      "+about\n",
      "@@ -0,0 +1 @@\n",
      "+spent\n",
      "@@ -0,0 +1 @@\n",
      "+data\n",
      "@@ -0,0 +1 @@\n",
      "+percent\n",
      "@@ -0,0 +1 @@\n",
      "+time\n",
      "@@ -0,0 +1 @@\n",
      "+is\n",
      "@@ -0,0 +1 @@\n",
      "+In\n"
     ]
    }
   ],
   "source": [
    "#print(scavengerhunt)\n",
    "for i in range(len(scavengerhunt['files'])):\n",
    "    try:\n",
    "        print(scavengerhunt['files'][i]['patch'])\n",
    "    except:\n",
    "        pass\n",
    "# Habría que hacer un sort pero así lo dejamos jejjee  \n",
    "# In data science 80 percent of time spent is preparing 20 percent of time is spent \n",
    "# complaining about the need to prepare data\n"
   ]
  },
  {
   "cell_type": "code",
   "execution_count": null,
   "metadata": {},
   "outputs": [],
   "source": []
  }
 ],
 "metadata": {
  "kernelspec": {
   "display_name": "Python 3",
   "language": "python",
   "name": "python3"
  },
  "language_info": {
   "codemirror_mode": {
    "name": "ipython",
    "version": 3
   },
   "file_extension": ".py",
   "mimetype": "text/x-python",
   "name": "python",
   "nbconvert_exporter": "python",
   "pygments_lexer": "ipython3",
   "version": "3.7.6"
  }
 },
 "nbformat": 4,
 "nbformat_minor": 4
}
