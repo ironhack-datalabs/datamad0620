{
 "cells": [
  {
   "cell_type": "markdown",
   "metadata": {},
   "source": [
    "# Utilizo API GIThub\n",
    "Guión general\n",
    "* 1 Crear token\n",
    "* 2 Test token -> $ curl -u **MY_Username**:**MY_APIKEY** https://api.github.com/user`\n",
    "* 3 guardar MY_APIKEY en mi espacio virtual -> echo **\"APIKEY = 'TOKEN'** >> .env\n",
    "* 4 Añadir el fichero .env en el .gitignore\n",
    "AHORA PUEDES ESTAR TRANQUI! NUNCA SUBIR KEY! "
   ]
  },
  {
   "cell_type": "code",
   "execution_count": 1,
   "metadata": {},
   "outputs": [],
   "source": [
    "import os\n",
    "import requests\n",
    "from dotenv import load_dotenv"
   ]
  },
  {
   "cell_type": "code",
   "execution_count": 2,
   "metadata": {},
   "outputs": [],
   "source": [
    "apikey = os.getenv(\"APIKEY\")"
   ]
  },
  {
   "cell_type": "code",
   "execution_count": 3,
   "metadata": {},
   "outputs": [
    {
     "data": {
      "text/plain": [
       "<Response [200]>"
      ]
     },
     "execution_count": 3,
     "metadata": {},
     "output_type": "execute_result"
    }
   ],
   "source": [
    "# enviar una request. Si sale un numero que empieza con 2 todo bien, \n",
    "# o si no ver los errores de los gatos a ver que dicen!\n",
    "url = 'https://api.github.com/repos/ironhack-datalabs/datamad0620'\n",
    "res = requests.get(url)\n",
    "res"
   ]
  },
  {
   "cell_type": "code",
   "execution_count": 4,
   "metadata": {},
   "outputs": [],
   "source": [
    "#from dotenv import load_dotenv --> modulo para importar desde .env\n",
    "# la funcion permite hace una get requests\n",
    "# endpoint ej= /ironhack-datalabs/datamad0620\n",
    "load_dotenv()\n",
    "\n",
    "def getFromGithub(endpoint, queryParams={}):\n",
    "    url = f\"https://api.github.com{endpoint}\"\n",
    "\n",
    "    apikey = os.getenv(\"APIKEY\")\n",
    "    if not apikey:\n",
    "        raise ValueError(\"Please setup the GITHUB_APIKEY env variable\")\n",
    "    headers = {\n",
    "        \"Authorization\": f\"token {apikey}\"\n",
    "    }\n",
    "    \n",
    "    res = requests.get(url, headers=headers, params=queryParams)\n",
    "    #print(res.url)\n",
    "    return res.json()\n",
    "# el print lo he dejado en la funcion por comodidad"
   ]
  },
  {
   "cell_type": "code",
   "execution_count": 5,
   "metadata": {},
   "outputs": [
    {
     "name": "stdout",
     "output_type": "stream",
     "text": [
      "4\n"
     ]
    }
   ],
   "source": [
    "# los commits que se encuentran en el repositorio\n",
    "commit = getFromGithub(\"/repos/ironhack-datalabs/datamad0620/commits\", {\"since\":\"2019-06-10T00:00:00Z\"})\n",
    "print(len(commit))"
   ]
  },
  {
   "cell_type": "code",
   "execution_count": null,
   "metadata": {},
   "outputs": [],
   "source": []
  }
 ],
 "metadata": {
  "kernelspec": {
   "display_name": "Python 3",
   "language": "python",
   "name": "python3"
  },
  "language_info": {
   "codemirror_mode": {
    "name": "ipython",
    "version": 3
   },
   "file_extension": ".py",
   "mimetype": "text/x-python",
   "name": "python",
   "nbconvert_exporter": "python",
   "pygments_lexer": "ipython3",
   "version": "3.7.6"
  }
 },
 "nbformat": 4,
 "nbformat_minor": 4
}
