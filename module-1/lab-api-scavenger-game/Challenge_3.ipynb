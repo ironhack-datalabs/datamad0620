{
 "cells": [
  {
   "cell_type": "code",
   "execution_count": 67,
   "metadata": {},
   "outputs": [],
   "source": [
    "import json\n",
    "import requests\n",
    "import os\n",
    "import base64"
   ]
  },
  {
   "cell_type": "code",
   "execution_count": 2,
   "metadata": {},
   "outputs": [
    {
     "data": {
      "text/plain": [
       "True"
      ]
     },
     "execution_count": 2,
     "metadata": {},
     "output_type": "execute_result"
    }
   ],
   "source": [
    "from dotenv import load_dotenv\n",
    "load_dotenv()"
   ]
  },
  {
   "cell_type": "code",
   "execution_count": 40,
   "metadata": {},
   "outputs": [],
   "source": [
    "def getFromGithub(endpoint, queryParams={}):\n",
    "    url = f\"https://api.github.com{endpoint}\"\n",
    "\n",
    "    apiKey = os.getenv(\"GITHUB_APIKEY\")\n",
    "    if not apiKey:\n",
    "        raise ValueError(\"Please setup the GITHUB_APIKEY env variable\")\n",
    "    headers = {\n",
    "        \"Authorization\": f\"token {apiKey}\"\n",
    "    }\n",
    "    \n",
    "    res = requests.get(url, headers=headers, params=queryParams)\n",
    "    return res.json()"
   ]
  },
  {
   "cell_type": "code",
   "execution_count": 41,
   "metadata": {},
   "outputs": [],
   "source": [
    "contents = getFromGithub(\"/repos/ironhack-datalabs/scavenger/contents\")"
   ]
  },
  {
   "cell_type": "code",
   "execution_count": 42,
   "metadata": {},
   "outputs": [
    {
     "name": "stdout",
     "output_type": "stream",
     "text": [
      "['15024', '15534', '17020', '30351', '40303', '44639', '45525', '47222', '47830', '49418', '50896', '55417', '55685', '60224', '64880', '66032', '68848', '70751', '70985', '88596', '89046', '89338', '91701', '97881', '98750']\n"
     ]
    }
   ],
   "source": [
    "paths = [p[\"path\"] for p in contents if p[\"path\"] != \".gitignore\"]\n",
    "print(paths)"
   ]
  },
  {
   "cell_type": "code",
   "execution_count": 64,
   "metadata": {},
   "outputs": [
    {
     "name": "stdout",
     "output_type": "stream",
     "text": [
      "{'.0001.scavengerhunt': '98750/.0001.scavengerhunt', '.0002.scavengerhunt': '88596/.0002.scavengerhunt', '.0003.scavengerhunt': '60224/.0003.scavengerhunt', '.0004.scavengerhunt': '68848/.0004.scavengerhunt', '.0005.scavengerhunt': '44639/.0005.scavengerhunt', '.0006.scavengerhunt': '15024/.0006.scavengerhunt', '.0007.scavengerhunt': '17020/.0007.scavengerhunt', '.0008.scavengerhunt': '15534/.0008.scavengerhunt', '.0009.scavengerhunt': '97881/.0009.scavengerhunt', '.0010.scavengerhunt': '47830/.0010.scavengerhunt', '.0011.scavengerhunt': '50896/.0011.scavengerhunt', '.0012.scavengerhunt': '15534/.0012.scavengerhunt', '.0013.scavengerhunt': '89338/.0013.scavengerhunt', '.0014.scavengerhunt': '49418/.0014.scavengerhunt', '.0015.scavengerhunt': '91701/.0015.scavengerhunt', '.0016.scavengerhunt': '47222/.0016.scavengerhunt', '.0017.scavengerhunt': '70985/.0017.scavengerhunt', '.0018.scavengerhunt': '45525/.0018.scavengerhunt', '.0019.scavengerhunt': '70751/.0019.scavengerhunt', '.0020.scavengerhunt': '55685/.0020.scavengerhunt', '.0021.scavengerhunt': '30351/.0021.scavengerhunt', '.0022.scavengerhunt': '40303/.0022.scavengerhunt', '.0023.scavengerhunt': '55417/.0023.scavengerhunt', '.0024.scavengerhunt': '47222/.0024.scavengerhunt'}\n"
     ]
    }
   ],
   "source": [
    "subPaths = {}\n",
    "\n",
    "for p in paths:\n",
    "    com = getFromGithub(f\"/repos/ironhack-datalabs/scavenger/contents/{p}\")\n",
    "    for file in com:\n",
    "        if file[\"name\"].startswith(\".\"):\n",
    "            subPaths[file[\"name\"]]= file[\"path\"]\n",
    "\n",
    "            \n",
    "ordered = dict()\n",
    "for k in sorted(subPaths.keys()):\n",
    "    ordered[k]=subPaths[k]\n",
    "\n",
    "print(ordered)"
   ]
  },
  {
   "cell_type": "code",
   "execution_count": 55,
   "metadata": {},
   "outputs": [
    {
     "data": {
      "text/plain": [
       "24"
      ]
     },
     "execution_count": 55,
     "metadata": {},
     "output_type": "execute_result"
    }
   ],
   "source": [
    "len(subPaths)"
   ]
  },
  {
   "cell_type": "code",
   "execution_count": 71,
   "metadata": {},
   "outputs": [
    {
     "name": "stdout",
     "output_type": "stream",
     "text": [
      "In data science, 80 percent of time spent is preparing data, 20 percent of time is spent complaining about the need to prepare data.\n"
     ]
    }
   ],
   "source": [
    "phrase = []\n",
    "for name, p in ordered.items():\n",
    "    url = f\"/repos/ironhack-datalabs/scavenger/contents/{p}\"\n",
    "    req = getFromGithub(url)  \n",
    "    \n",
    "    content=base64.b64decode((req['content'])) \n",
    "    phrase.append(content.decode(\"utf-8\").split('\\n')[0] )\n",
    "\n",
    "print( ' '.join(phrase))"
   ]
  },
  {
   "cell_type": "code",
   "execution_count": 73,
   "metadata": {},
   "outputs": [
    {
     "data": {
      "text/plain": [
       "['2180']"
      ]
     },
     "execution_count": 73,
     "metadata": {},
     "output_type": "execute_result"
    }
   ],
   "source": []
  },
  {
   "cell_type": "code",
   "execution_count": null,
   "metadata": {},
   "outputs": [],
   "source": []
  }
 ],
 "metadata": {
  "kernelspec": {
   "display_name": "Python 3.7.7 64-bit",
   "language": "python",
   "name": "python37764bit3bf07ec6f5f5414f84b8df9ac5c5f2a2"
  },
  "language_info": {
   "codemirror_mode": {
    "name": "ipython",
    "version": 3
   },
   "file_extension": ".py",
   "mimetype": "text/x-python",
   "name": "python",
   "nbconvert_exporter": "python",
   "pygments_lexer": "ipython3",
   "version": "3.7.7"
  }
 },
 "nbformat": 4,
 "nbformat_minor": 4
}
