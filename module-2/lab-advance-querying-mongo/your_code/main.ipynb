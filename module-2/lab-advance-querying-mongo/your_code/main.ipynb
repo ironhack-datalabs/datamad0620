{
 "cells": [
  {
   "cell_type": "markdown",
   "metadata": {},
   "source": [
    "# Advanced Querying Mongo"
   ]
  },
  {
   "cell_type": "markdown",
   "metadata": {},
   "source": [
    "Importing libraries and setting up connection"
   ]
  },
  {
   "cell_type": "code",
   "execution_count": 1,
   "metadata": {},
   "outputs": [],
   "source": [
    "from pymongo import MongoClient\n",
    "#client = MongoClient(\"\")\n",
    "dbName = \"companies\"\n",
    "mongodbURL = f\"mongodb://localhost/{dbName}\"\n",
    "\n",
    "client = MongoClient(mongodbURL, connectTimeoutMS=2000, serverSelectionTimeoutMS=2000)\n",
    "db = client.get_database()"
   ]
  },
  {
   "cell_type": "code",
   "execution_count": 2,
   "metadata": {},
   "outputs": [
    {
     "data": {
      "text/plain": [
       "[{'name': 'Babelgum'}]"
      ]
     },
     "execution_count": 2,
     "metadata": {},
     "output_type": "execute_result"
    }
   ],
   "source": [
    "### 1. All the companies whose name match 'Babelgum'. Retrieve only their `name` field.\n",
    "\n",
    "cur = ({\"name\":{\"$eq\":\"Babelgum\"}})\n",
    "list(db['companies'].find(cur,{\"_id\":0,\"name\":1}))\n",
    "\n"
   ]
  },
  {
   "cell_type": "code",
   "execution_count": 3,
   "metadata": {},
   "outputs": [],
   "source": [
    "# Your Code"
   ]
  },
  {
   "cell_type": "markdown",
   "metadata": {},
   "source": [
    "### 2. All the companies that have more than 5000 employees. Limit the search to 20 companies and sort them by **number of employees**."
   ]
  },
  {
   "cell_type": "code",
   "execution_count": 169,
   "metadata": {},
   "outputs": [
    {
     "data": {
      "text/plain": [
       "[{'name': 'Siemens', 'number_of_employees': 405000},\n",
       " {'name': 'IBM', 'number_of_employees': 388000},\n",
       " {'name': 'Toyota', 'number_of_employees': 320000},\n",
       " {'name': 'PayPal', 'number_of_employees': 300000},\n",
       " {'name': 'Nippon Telegraph and Telephone Corporation',\n",
       "  'number_of_employees': 227000},\n",
       " {'name': 'Samsung Electronics', 'number_of_employees': 221726},\n",
       " {'name': 'Accenture', 'number_of_employees': 205000},\n",
       " {'name': 'Tata Consultancy Services', 'number_of_employees': 200300},\n",
       " {'name': 'Flextronics International', 'number_of_employees': 200000},\n",
       " {'name': 'Safeway', 'number_of_employees': 186000},\n",
       " {'name': 'Sony', 'number_of_employees': 180500},\n",
       " {'name': 'LG', 'number_of_employees': 177000},\n",
       " {'name': 'Ford', 'number_of_employees': 171000},\n",
       " {'name': 'Boeing', 'number_of_employees': 160000},\n",
       " {'name': 'Digital Equipment Corporation', 'number_of_employees': 140000},\n",
       " {'name': 'Nokia', 'number_of_employees': 125000},\n",
       " {'name': 'MItsubishi Electric', 'number_of_employees': 107000},\n",
       " {'name': 'MItsubishi Electric', 'number_of_employees': 107000},\n",
       " {'name': 'Comcast', 'number_of_employees': 100000},\n",
       " {'name': 'Bertelsmann', 'number_of_employees': 100000}]"
      ]
     },
     "execution_count": 169,
     "metadata": {},
     "output_type": "execute_result"
    }
   ],
   "source": [
    "# Your Code # DESCENDIGN\n",
    "#number_of_employees answer = list(db.companies.find(cur,{\"_id\":0, \"ipo\":1, \"name\":1}))\n",
    "from pymongo import ASCENDING, DESCENDING\n",
    "cur = ({\"number_of_employees\":{\"$gt\":5000}})\n",
    "\n",
    "answer = list(db.companies.find(cur,{\"_id\":0,\"name\":1,\"number_of_employees\":1}).limit(20).sort([(\"number_of_employees\",DESCENDING)]))         \n",
    "answer\n"
   ]
  },
  {
   "cell_type": "markdown",
   "metadata": {},
   "source": [
    "### 3. All the companies founded between 2000 and 2005, both years included. Retrieve only the `name` and `founded_year` fields."
   ]
  },
  {
   "cell_type": "code",
   "execution_count": 171,
   "metadata": {},
   "outputs": [
    {
     "data": {
      "text/plain": [
       "[{'name': 'Wetpaint', 'founded_year': 2005},\n",
       " {'name': 'Zoho', 'founded_year': 2005},\n",
       " {'name': 'Omnidrive', 'founded_year': 2005},\n",
       " {'name': 'Digg', 'founded_year': 2004},\n",
       " {'name': 'Gizmoz', 'founded_year': 2003}]"
      ]
     },
     "execution_count": 171,
     "metadata": {},
     "output_type": "execute_result"
    }
   ],
   "source": [
    "# Your Code\n",
    "cur = {\"$and\":[{\"founded_year\":{\"$gte\":2000}}, {\"founded_year\":{\"$lte\":2005}}]}\n",
    "answer = list(db.companies.find(cur,{\"_id\":0, \"founded_year\":1, \"name\":1}))\n",
    "answer[:5]"
   ]
  },
  {
   "cell_type": "markdown",
   "metadata": {},
   "source": [
    "### 4. All the companies that had a Valuation Amount of more than 100.000.000 and have been founded before 2010. Retrieve only the `name` and `ipo` fields."
   ]
  },
  {
   "cell_type": "code",
   "execution_count": 82,
   "metadata": {},
   "outputs": [
    {
     "data": {
      "text/plain": [
       "[{'name': 'Facebook',\n",
       "  'ipo': {'valuation_amount': 104000000000,\n",
       "   'valuation_currency_code': 'USD',\n",
       "   'pub_year': 2012,\n",
       "   'pub_month': 5,\n",
       "   'pub_day': 18,\n",
       "   'stock_symbol': 'NASDAQ:FB'}},\n",
       " {'name': 'Twitter',\n",
       "  'ipo': {'valuation_amount': 18100000000,\n",
       "   'valuation_currency_code': 'USD',\n",
       "   'pub_year': 2013,\n",
       "   'pub_month': 11,\n",
       "   'pub_day': 7,\n",
       "   'stock_symbol': 'NYSE:TWTR'}}]"
      ]
     },
     "execution_count": 82,
     "metadata": {},
     "output_type": "execute_result"
    }
   ],
   "source": [
    "# Your Code\n",
    "cur = {\"$and\":[{\"ipo.valuation_amount\":{\"$gt\":100000000}},{\"founded_year\":{\"$lt\":2010}}]}\n",
    "answer = list(db.companies.find(cur,{\"_id\":0, \"ipo\":1, \"name\":1}))\n",
    "answer[0:2]"
   ]
  },
  {
   "cell_type": "markdown",
   "metadata": {},
   "source": [
    "### 5. All the companies that have less than 1000 employees and have been founded before 2005. Order them by the number of employees and limit the search to 10 companies."
   ]
  },
  {
   "cell_type": "code",
   "execution_count": 176,
   "metadata": {},
   "outputs": [
    {
     "data": {
      "text/plain": [
       "[{'name': 'Akamai Technologies', 'number_of_employees': 1000},\n",
       " {'name': 'Omniture', 'number_of_employees': 1000},\n",
       " {'name': 'Yodle', 'number_of_employees': 1000},\n",
       " {'name': 'Sonus Networks', 'number_of_employees': 1000},\n",
       " {'name': 'Telenav', 'number_of_employees': 1000},\n",
       " {'name': 'Antal International', 'number_of_employees': 1000},\n",
       " {'name': 'SK Net Service Company Ltd', 'number_of_employees': 1000},\n",
       " {'name': 'Gumtree', 'number_of_employees': 1000},\n",
       " {'name': 'FANUC Robotics America', 'number_of_employees': 1000},\n",
       " {'name': \"OC'LIANE\", 'number_of_employees': 1000}]"
      ]
     },
     "execution_count": 176,
     "metadata": {},
     "output_type": "execute_result"
    }
   ],
   "source": [
    "# Your Cod\n",
    "cur = {\"$and\":[{\"founded_year\":{\"$lte\":2005}}, {\"number_of_employees\":{\"$lte\":1000}}]}\n",
    "cur = list(db.companies.find(cur,{\"_id\":0, \"number_of_employees\":1,\"name\":1}).limit(10).sort([(\"number_of_employees\",DESCENDING)]))\n",
    "cur\n",
    "\n"
   ]
  },
  {
   "cell_type": "markdown",
   "metadata": {},
   "source": [
    "### 6. All the companies that don't include the `partners` field."
   ]
  },
  {
   "cell_type": "code",
   "execution_count": 181,
   "metadata": {},
   "outputs": [],
   "source": [
    "# Your Codec\n",
    "cur = list(db.companies.find({ \"partners\": { \"$exists\": \"false\"}}))\n",
    "\n"
   ]
  },
  {
   "cell_type": "markdown",
   "metadata": {},
   "source": [
    "### 7. All the companies that have a null type of value on the `category_code` field."
   ]
  },
  {
   "cell_type": "code",
   "execution_count": 197,
   "metadata": {},
   "outputs": [
    {
     "data": {
      "text/plain": [
       "[{'name': 'Collective'},\n",
       " {'name': 'Snimmer'},\n",
       " {'name': 'KoolIM'},\n",
       " {'name': 'Level9 Media'},\n",
       " {'name': 'VidKing'},\n",
       " {'name': 'Drigg'},\n",
       " {'name': 'SpaceTime'},\n",
       " {'name': 'MMDAYS'},\n",
       " {'name': 'Touch Clarity'},\n",
       " {'name': 'Inside Group'}]"
      ]
     },
     "execution_count": 197,
     "metadata": {},
     "output_type": "execute_result"
    }
   ],
   "source": [
    "# Your Code\n",
    "#category_code: $null\n",
    "cur = ({\"category_code\":{\"$type\":\"null\"}})\n",
    "cur = list(db[\"companies\"].find(cur,{\"_id\":0,\"name\":1}))\n",
    "cur [0:10]\n"
   ]
  },
  {
   "cell_type": "markdown",
   "metadata": {},
   "source": [
    "### 8. All the companies that have at least 100 employees but less than 1000. Retrieve only the `name` and `number of employees` fields."
   ]
  },
  {
   "cell_type": "code",
   "execution_count": 58,
   "metadata": {},
   "outputs": [
    {
     "data": {
      "text/plain": [
       "[{'name': 'AdventNet', 'number_of_employees': 600},\n",
       " {'name': 'OpenX', 'number_of_employees': 305},\n",
       " {'name': 'AddThis', 'number_of_employees': 120},\n",
       " {'name': 'LifeLock', 'number_of_employees': 644},\n",
       " {'name': 'Jajah', 'number_of_employees': 110},\n",
       " {'name': 'Livestream', 'number_of_employees': 120},\n",
       " {'name': 'Ustream', 'number_of_employees': 250},\n",
       " {'name': 'iContact', 'number_of_employees': 300},\n",
       " {'name': 'Yelp', 'number_of_employees': 800},\n",
       " {'name': 'Dailymotion', 'number_of_employees': 120}]"
      ]
     },
     "execution_count": 58,
     "metadata": {},
     "output_type": "execute_result"
    }
   ],
   "source": [
    "# Your Code\n",
    "cur = {\"$and\":[{\"number_of_employees\":{\"$gte\":100}}, {\"number_of_employees\":{\"$lte\":1000}}]}\n",
    "cur = list(db.companies.find(cur,{\"_id\":0, \"name\":1, \"number_of_employees\":1}))\n",
    "cur[:10]"
   ]
  },
  {
   "cell_type": "markdown",
   "metadata": {},
   "source": [
    "### 9. Order all the companies by their IPO price in a descending order."
   ]
  },
  {
   "cell_type": "code",
   "execution_count": 116,
   "metadata": {},
   "outputs": [
    {
     "data": {
      "text/plain": [
       "[{'name': 'AdventNet'},\n",
       " {'name': 'Wetpaint'},\n",
       " {'name': 'Zoho'},\n",
       " {'name': 'Omnidrive'},\n",
       " {'name': 'Postini'},\n",
       " {'name': 'Flektor'},\n",
       " {'name': 'Geni'},\n",
       " {'name': 'Fox Interactive Media'},\n",
       " {'name': 'Digg'},\n",
       " {'name': 'Gizmoz'}]"
      ]
     },
     "execution_count": 116,
     "metadata": {},
     "output_type": "execute_result"
    }
   ],
   "source": [
    "# Your Code\n",
    "cur = list(db.companies.find({},{\"IPO\":1 ,\"_id\":0, \"name\":1}).limit(10).sort([(\"IPO\",DESCENDING)]))\n",
    "cur\n",
    "# pongo limit 10 aunque no lo pidan para que no explote"
   ]
  },
  {
   "cell_type": "markdown",
   "metadata": {},
   "source": [
    "### 10. Retrieve the 10 companies with more employees, order by the `number of employees`"
   ]
  },
  {
   "cell_type": "code",
   "execution_count": 118,
   "metadata": {},
   "outputs": [
    {
     "data": {
      "text/plain": [
       "[{'_id': ObjectId('52cdef7d4bab8bd67529941a'), 'number_of_employees': 405000},\n",
       " {'_id': ObjectId('52cdef7c4bab8bd67529856a'), 'number_of_employees': 388000},\n",
       " {'_id': ObjectId('52cdef7d4bab8bd675299d33'), 'number_of_employees': 320000},\n",
       " {'_id': ObjectId('52cdef7c4bab8bd675297e89'), 'number_of_employees': 300000},\n",
       " {'_id': ObjectId('52cdef7e4bab8bd67529b0fe'), 'number_of_employees': 227000},\n",
       " {'_id': ObjectId('52cdef7d4bab8bd675298aa4'), 'number_of_employees': 221726},\n",
       " {'_id': ObjectId('52cdef7d4bab8bd675298b99'), 'number_of_employees': 205000},\n",
       " {'_id': ObjectId('52cdef7e4bab8bd67529a657'), 'number_of_employees': 200300},\n",
       " {'_id': ObjectId('52cdef7e4bab8bd67529aa51'), 'number_of_employees': 200000},\n",
       " {'_id': ObjectId('52cdef7d4bab8bd675299156'), 'number_of_employees': 186000}]"
      ]
     },
     "execution_count": 118,
     "metadata": {},
     "output_type": "execute_result"
    }
   ],
   "source": [
    "# Your Code\n",
    "cur = list(db.companies.find({},{\"number_of_employees\":1}).limit(10).sort([(\"number_of_employees\",DESCENDING)]))\n",
    "cur"
   ]
  },
  {
   "cell_type": "markdown",
   "metadata": {},
   "source": [
    "### 11. All the companies founded on the second semester of the year. Limit your search to 1000 companies."
   ]
  },
  {
   "cell_type": "code",
   "execution_count": 164,
   "metadata": {},
   "outputs": [
    {
     "data": {
      "text/plain": [
       "[{'name': 'Wetpaint'},\n",
       " {'name': 'Zoho'},\n",
       " {'name': 'Omnidrive'},\n",
       " {'name': 'Digg'},\n",
       " {'name': 'Joost'},\n",
       " {'name': 'Plaxo'},\n",
       " {'name': 'Powerset'},\n",
       " {'name': 'eBay'},\n",
       " {'name': 'Kyte'},\n",
       " {'name': 'Thoof'}]"
      ]
     },
     "execution_count": 164,
     "metadata": {},
     "output_type": "execute_result"
    }
   ],
   "source": [
    "# Your Code\n",
    "cur = ({\"founded_month\":{\"$in\": list(range(7,13))}})\n",
    "cur = list(db.companies.find(cur,{\"_id\":0, \"name\":1}).limit(1000))\n",
    "cur[0:10]"
   ]
  },
  {
   "cell_type": "markdown",
   "metadata": {},
   "source": [
    "### 12. All the companies founded before 2000 that have an acquisition amount of more than 10.000.00"
   ]
  },
  {
   "cell_type": "code",
   "execution_count": 200,
   "metadata": {},
   "outputs": [
    {
     "data": {
      "text/plain": [
       "[{'name': 'Postini', 'founded_year': 1999},\n",
       " {'name': 'SideStep', 'founded_year': 1999},\n",
       " {'name': 'Recipezaar', 'founded_year': 1999},\n",
       " {'name': 'Cyworld', 'founded_year': 1999},\n",
       " {'name': 'PayPal', 'founded_year': 1998},\n",
       " {'name': 'Snapfish', 'founded_year': 1999},\n",
       " {'name': 'Neopets', 'founded_year': 1999},\n",
       " {'name': 'Zappos', 'founded_year': 1999},\n",
       " {'name': 'Sun Microsystems', 'founded_year': 1982},\n",
       " {'name': 'Alibaba', 'founded_year': 1999}]"
      ]
     },
     "execution_count": 200,
     "metadata": {},
     "output_type": "execute_result"
    }
   ],
   "source": [
    "# Your Code\n",
    "cur={\"$and\":[{\"founded_year\":{\"$lte\":2000}},{\"acquisition.price_amount\":{\"$gt\":1000000}}]}\n",
    "cur = list(db.companies.find(cur,{\"_id\":0, \"name\":1, \"founded_year\":1}).limit(10))\n",
    "cur\n"
   ]
  },
  {
   "cell_type": "markdown",
   "metadata": {},
   "source": [
    "### 13. All the companies that have been acquired after 2010, order by the acquisition amount, and retrieve only their `name` and `acquisition` field."
   ]
  },
  {
   "cell_type": "code",
   "execution_count": 209,
   "metadata": {},
   "outputs": [
    {
     "data": {
      "text/plain": [
       "[{'name': 'Wetpaint', 'acquisition': {'acquired_year': 2013}},\n",
       " {'name': 'Geni', 'acquisition': {'acquired_year': 2012}},\n",
       " {'name': 'Digg', 'acquisition': {'acquired_year': 2012}},\n",
       " {'name': 'Kyte', 'acquisition': {'acquired_year': 2011}},\n",
       " {'name': 'Veoh', 'acquisition': {'acquired_year': 2010}},\n",
       " {'name': 'Jingle Networks', 'acquisition': {'acquired_year': 2011}},\n",
       " {'name': 'blogTV', 'acquisition': {'acquired_year': 2013}},\n",
       " {'name': 'delicious', 'acquisition': {'acquired_year': 2011}},\n",
       " {'name': 'Jobster', 'acquisition': {'acquired_year': 2010}},\n",
       " {'name': 'Revision3', 'acquisition': {'acquired_year': 2012}}]"
      ]
     },
     "execution_count": 209,
     "metadata": {},
     "output_type": "execute_result"
    }
   ],
   "source": [
    "# Your Code\n",
    "cur={\"$and\":[{\"acquisition.acquired_year\":{\"$gte\":2010}}]}\n",
    "answer = list(db.companies.find(cur,{\"_id\":0, \"name\":1, \"acquisition.acquired_year\":1}).limit(10))\n",
    "answer"
   ]
  },
  {
   "cell_type": "markdown",
   "metadata": {},
   "source": [
    "### 14. Order the companies by their `founded year`, retrieving only their `name` and `founded year`."
   ]
  },
  {
   "cell_type": "code",
   "execution_count": 132,
   "metadata": {},
   "outputs": [
    {
     "data": {
      "text/plain": [
       "[{'name': 'Fixya', 'founded_year': 2013},\n",
       " {'name': 'Wamba', 'founded_year': 2013},\n",
       " {'name': 'Advaliant', 'founded_year': 2013},\n",
       " {'name': 'Fluc', 'founded_year': 2013},\n",
       " {'name': 'iBazar', 'founded_year': 2013},\n",
       " {'name': 'Gimigo', 'founded_year': 2013},\n",
       " {'name': 'SEOGroup', 'founded_year': 2013},\n",
       " {'name': 'Clowdy', 'founded_year': 2013},\n",
       " {'name': 'WhosCall', 'founded_year': 2013},\n",
       " {'name': 'Pikk', 'founded_year': 2013}]"
      ]
     },
     "execution_count": 132,
     "metadata": {},
     "output_type": "execute_result"
    }
   ],
   "source": [
    "# Your Code\n",
    "cur = list(db.companies.find({},{\"founded_year\":1, \"_id\":0, \"name\":1}).limit(10).sort([(\"founded_year\",DESCENDING)]))\n",
    "cur"
   ]
  },
  {
   "cell_type": "markdown",
   "metadata": {},
   "source": [
    "### 15. All the companies that have been founded on the first seven days of the month, including the seventh. Sort them by their `acquisition price` in a descending order. Limit the search to 10 documents."
   ]
  },
  {
   "cell_type": "code",
   "execution_count": 221,
   "metadata": {},
   "outputs": [
    {
     "data": {
      "text/plain": [
       "[{'name': 'Omnidrive'},\n",
       " {'name': 'Postini'},\n",
       " {'name': 'Geni'},\n",
       " {'name': 'Fox Interactive Media'},\n",
       " {'name': 'Gizmoz'},\n",
       " {'name': 'StumbleUpon'},\n",
       " {'name': 'Helio'},\n",
       " {'name': 'Facebook'},\n",
       " {'name': 'Joost'},\n",
       " {'name': 'Babelgum'}]"
      ]
     },
     "execution_count": 221,
     "metadata": {},
     "output_type": "execute_result"
    }
   ],
   "source": [
    "# Your Code\n",
    "\n",
    "\n",
    "cur = ({\"founded_day\":{\"$in\": list(range(1,8))}})\n",
    "cur = list(db.companies.find(cur,{\"_id\":0, \"name\":1}).limit(10).sort([(\"acquisition_price\",DESCENDING)]))\n",
    "cur\n"
   ]
  },
  {
   "cell_type": "markdown",
   "metadata": {},
   "source": [
    "### 16. All the companies on the 'web' `category` that have more than 4000 employees. Sort them by the amount of employees in ascending order."
   ]
  },
  {
   "cell_type": "code",
   "execution_count": null,
   "metadata": {},
   "outputs": [],
   "source": [
    "# Your Code\n",
    "\n"
   ]
  },
  {
   "cell_type": "markdown",
   "metadata": {},
   "source": [
    "### 17. All the companies whose acquisition amount is more than 10.000.000, and currency is 'EUR'."
   ]
  },
  {
   "cell_type": "code",
   "execution_count": 236,
   "metadata": {},
   "outputs": [
    {
     "data": {
      "text/plain": [
       "[{'name': 'ZYB'},\n",
       " {'name': 'Apertio'},\n",
       " {'name': 'Greenfield Online'},\n",
       " {'name': 'Webedia'},\n",
       " {'name': 'Wayfinder'},\n",
       " {'name': 'Tuenti Technologies'},\n",
       " {'name': 'BioMed Central'}]"
      ]
     },
     "execution_count": 236,
     "metadata": {},
     "output_type": "execute_result"
    }
   ],
   "source": [
    "# Your Code\n",
    "cur={\"$and\":[{\"acquisition.price_currency_code\":{\"$eq\":\"EUR\"}},{\"acquisition.price_amount\":{\"$gt\":10000000}}]}\n",
    "cur = list(db.companies.find(cur,{\"_id\":0, \"name\":1}).limit(10))\n",
    "cur\n"
   ]
  },
  {
   "cell_type": "markdown",
   "metadata": {},
   "source": [
    "### 18. All the companies that have been acquired on the first trimester of the year. Limit the search to 10 companies, and retrieve only their `name` and `acquisition` fields."
   ]
  },
  {
   "cell_type": "code",
   "execution_count": 239,
   "metadata": {},
   "outputs": [
    {
     "data": {
      "text/plain": [
       "[]"
      ]
     },
     "execution_count": 239,
     "metadata": {},
     "output_type": "execute_result"
    }
   ],
   "source": [
    "# Your Code\n",
    "cur = ({\"acquisition.acquired_year\":{\"$lte\":3}})\n",
    "cur = list(db.companies.find(cur,{\"_id\":0, \"name\":1}).limit(10))\n",
    "cur\n"
   ]
  },
  {
   "cell_type": "markdown",
   "metadata": {},
   "source": [
    "# Bonus\n",
    "### 19. All the companies that have been founded between 2000 and 2010, but have not been acquired before 2011."
   ]
  },
  {
   "cell_type": "code",
   "execution_count": null,
   "metadata": {},
   "outputs": [],
   "source": [
    "# Your Code"
   ]
  },
  {
   "cell_type": "markdown",
   "metadata": {},
   "source": [
    "### 20. All the companies that have been 'deadpooled' after the third year."
   ]
  },
  {
   "cell_type": "code",
   "execution_count": null,
   "metadata": {},
   "outputs": [],
   "source": [
    "# Your Code"
   ]
  }
 ],
 "metadata": {
  "kernelspec": {
   "display_name": "Python 3",
   "language": "python",
   "name": "python3"
  },
  "language_info": {
   "codemirror_mode": {
    "name": "ipython",
    "version": 3
   },
   "file_extension": ".py",
   "mimetype": "text/x-python",
   "name": "python",
   "nbconvert_exporter": "python",
   "pygments_lexer": "ipython3",
   "version": "3.8.2"
  }
 },
 "nbformat": 4,
 "nbformat_minor": 2
}
