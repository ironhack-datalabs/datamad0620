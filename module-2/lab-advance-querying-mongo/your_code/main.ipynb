{
 "cells": [
  {
   "cell_type": "markdown",
   "metadata": {},
   "source": [
    "# Advanced Querying Mongo"
   ]
  },
  {
   "cell_type": "markdown",
   "metadata": {},
   "source": [
    "Importing libraries and setting up connection"
   ]
  },
  {
   "cell_type": "code",
   "execution_count": 1,
   "metadata": {},
   "outputs": [],
   "source": [
    "from pymongo import MongoClient\n",
    "client = MongoClient(\"companies\")"
   ]
  },
  {
   "cell_type": "markdown",
   "metadata": {},
   "source": [
    "### 1. All the companies whose name match 'Babelgum'. Retrieve only their `name` field."
   ]
  },
  {
   "cell_type": "code",
   "execution_count": 2,
   "metadata": {},
   "outputs": [
    {
     "name": "stdout",
     "output_type": "stream",
     "text": [
      "Babelgum\n"
     ]
    }
   ],
   "source": [
    "# Your Code\n",
    "dbName = \"companies\"\n",
    "mongodbURL = f\"mongodb://localhost/{dbName}\"\n",
    "\n",
    "client = MongoClient(mongodbURL, connectTimeoutMS=2000, serverSelectionTimeoutMS=2000)\n",
    "db = client.get_database()\n",
    "\n",
    "\n",
    "babelg = db.companies.find({\"name\":\"Babelgum\"})\n",
    "\n",
    "babelg\n",
    "cursor = db.list_collections()\n",
    "for name in babelg:\n",
    "    print(name[\"name\"])"
   ]
  },
  {
   "cell_type": "markdown",
   "metadata": {},
   "source": [
    "### 2. All the companies that have more than 5000 employees. Limit the search to 20 companies and sort them by **number of employees**."
   ]
  },
  {
   "cell_type": "code",
   "execution_count": 16,
   "metadata": {},
   "outputs": [
    {
     "name": "stdout",
     "output_type": "stream",
     "text": [
      "Siemens 405000\n",
      "IBM 388000\n",
      "Toyota 320000\n",
      "PayPal 300000\n",
      "Nippon Telegraph and Telephone Corporation 227000\n",
      "Samsung Electronics 221726\n",
      "Accenture 205000\n",
      "Tata Consultancy Services 200300\n",
      "Flextronics International 200000\n",
      "Safeway 186000\n",
      "Sony 180500\n",
      "LG 177000\n",
      "Ford 171000\n",
      "Boeing 160000\n",
      "Digital Equipment Corporation 140000\n",
      "Nokia 125000\n",
      "MItsubishi Electric 107000\n",
      "MItsubishi Electric 107000\n",
      "Comcast 100000\n",
      "Bertelsmann 100000\n"
     ]
    }
   ],
   "source": [
    "# Your Code\n",
    "from pymongo import ASCENDING, DESCENDING\n",
    "query = {\n",
    "    \"number_of_employees\": {\n",
    "        \"$gt\": 5000\n",
    "    } \n",
    "}\n",
    "employees = db.companies.find(query).sort([(\"number_of_employees\", DESCENDING)]).limit(20)\n",
    "for e in employees:\n",
    "    print(e[\"name\"],e[\"number_of_employees\"])\n",
    "\n"
   ]
  },
  {
   "cell_type": "markdown",
   "metadata": {},
   "source": [
    "### 3. All the companies founded between 2000 and 2005, both years included. Retrieve only the `name` and `founded_year` fields."
   ]
  },
  {
   "cell_type": "code",
   "execution_count": 4,
   "metadata": {},
   "outputs": [
    {
     "name": "stdout",
     "output_type": "stream",
     "text": [
      "Wetpaint 2005\n",
      "Zoho 2005\n",
      "Omnidrive 2005\n",
      "Digg 2004\n",
      "StumbleUpon 2002\n",
      "Helio 2005\n",
      "Gizmoz 2003\n",
      "Plaxo 2002\n",
      "Facebook 2004\n",
      "Technorati 2002\n"
     ]
    }
   ],
   "source": [
    "# Your Code\n",
    "query = {\n",
    "    \"$and\":[\n",
    "        {\"founded_year\":{\"$gte\":2000}},\n",
    "        {\"founded_year\":{\"$lte\":2005}}\n",
    "    ]\n",
    "}\n",
    "founded = db.companies.find(query).limit(10)\n",
    "for e in founded:\n",
    "    print(e[\"name\"],e[\"founded_year\"])"
   ]
  },
  {
   "cell_type": "markdown",
   "metadata": {},
   "source": [
    "### 4. All the companies that had a Valuation Amount of more than 100.000.000 and have been founded before 2010. Retrieve only the `name` and `ipo` fields."
   ]
  },
  {
   "cell_type": "code",
   "execution_count": 5,
   "metadata": {},
   "outputs": [
    {
     "name": "stdout",
     "output_type": "stream",
     "text": [
      "Facebook {'valuation_amount': 104000000000, 'valuation_currency_code': 'USD', 'pub_year': 2012, 'pub_month': 5, 'pub_day': 18, 'stock_symbol': 'NASDAQ:FB'}\n"
     ]
    }
   ],
   "source": [
    "# Your Code\n",
    "query = {\n",
    "    \"$and\":[\n",
    "        {\"ipo.valuation_amount\":{\"$gt\":100000000}},\n",
    "        {\"founded_year\":{\"$lt\":2010}}\n",
    "    ]\n",
    "}\n",
    "val_am = db.companies.find(query).limit(1)\n",
    "for e in val_am:\n",
    "    print(e[\"name\"],e[\"ipo\"])"
   ]
  },
  {
   "cell_type": "markdown",
   "metadata": {},
   "source": [
    "### 5. All the companies that have less than 1000 employees and have been founded before 2005. Order them by the number of employees and limit the search to 10 companies."
   ]
  },
  {
   "cell_type": "code",
   "execution_count": 6,
   "metadata": {},
   "outputs": [
    {
     "name": "stdout",
     "output_type": "stream",
     "text": [
      "Infinera Corporation 974\n",
      "NorthPoint Communications Group 948\n",
      "888 Holdings 931\n",
      "Forrester Research 903\n",
      "SonicWALL 900\n",
      "Webmetrics 900\n",
      "Cornerstone OnDemand 881\n",
      "Yelp 800\n",
      "ZoomInfo 800\n",
      "MySpace 800\n"
     ]
    }
   ],
   "source": [
    "# Your Code\n",
    "query = {\n",
    "    \"$and\":[\n",
    "        {\"number_of_employees\":{\"$lt\":1000}},\n",
    "        {\"founded_year\":{\"$lt\":2005}}\n",
    "    ]\n",
    "}\n",
    "comp = db.companies.find(query).sort([(\"number_of_employees\", DESCENDING)]).limit(10)\n",
    "for e in comp:\n",
    "    print(e[\"name\"],e[\"number_of_employees\"])"
   ]
  },
  {
   "cell_type": "markdown",
   "metadata": {},
   "source": [
    "### 6. All the companies that don't include the `partners` field."
   ]
  },
  {
   "cell_type": "code",
   "execution_count": 15,
   "metadata": {},
   "outputs": [],
   "source": [
    "# Your Code\n",
    "query = {\n",
    "    \"partners\":{\"$exists\": False} \n",
    "}\n",
    "part = db.companies.find(query)\n",
    "for p in part:\n",
    "    print(p[\"name\"])\n",
    "    #print(len(p))\n",
    "#No sé que hice mal para que no hiciese print ni de name ni probando el len "
   ]
  },
  {
   "cell_type": "markdown",
   "metadata": {},
   "source": [
    "### 7. All the companies that have a null type of value on the `category_code` field."
   ]
  },
  {
   "cell_type": "code",
   "execution_count": 14,
   "metadata": {},
   "outputs": [
    {
     "name": "stdout",
     "output_type": "stream",
     "text": [
      "42\n",
      "42\n",
      "42\n",
      "42\n",
      "42\n",
      "42\n",
      "42\n",
      "42\n",
      "42\n",
      "42\n"
     ]
    }
   ],
   "source": [
    "# Your Code\n",
    "query = {\n",
    "    \"category_code\": None\n",
    "}\n",
    "\n",
    "categ = db.companies.find(query).limit(10)\n",
    "for c in categ:\n",
    "    print(len(c))"
   ]
  },
  {
   "cell_type": "markdown",
   "metadata": {},
   "source": [
    "### 8. All the companies that have at least 100 employees but less than 1000. Retrieve only the `name` and `number of employees` fields."
   ]
  },
  {
   "cell_type": "code",
   "execution_count": 19,
   "metadata": {},
   "outputs": [
    {
     "name": "stdout",
     "output_type": "stream",
     "text": [
      "AdventNet 600\n",
      "OpenX 305\n",
      "AddThis 120\n",
      "LifeLock 644\n",
      "Jajah 110\n",
      "Livestream 120\n",
      "Ustream 250\n",
      "iContact 300\n",
      "Yelp 800\n",
      "Dailymotion 120\n"
     ]
    }
   ],
   "source": [
    "# Your Code\n",
    "query = {\n",
    "    \"$and\":[\n",
    "        {\"number_of_employees\":{\"$gte\":100}},\n",
    "        {\"number_of_employees\":{\"$lt\":1000}}\n",
    "    ]\n",
    "}\n",
    "employ = db.companies.find(query).limit(10)\n",
    "for e in employ:\n",
    "    print(e[\"name\"],e[\"number_of_employees\"])\n",
    "\n",
    "#le pongo el límite porque da un print muy largo"
   ]
  },
  {
   "cell_type": "markdown",
   "metadata": {},
   "source": [
    "### 9. Order all the companies by their IPO price in a descending order."
   ]
  },
  {
   "cell_type": "code",
   "execution_count": 21,
   "metadata": {},
   "outputs": [],
   "source": [
    "# Your Code\n",
    "ipo = db.Crunch.find().sort([(\"ipo\",-1)]).limit(5)\n",
    "for i in ipo:\n",
    "    print(len(i))"
   ]
  },
  {
   "cell_type": "markdown",
   "metadata": {},
   "source": [
    "### 10. Retrieve the 10 companies with more employees, order by the `number of employees`"
   ]
  },
  {
   "cell_type": "code",
   "execution_count": null,
   "metadata": {},
   "outputs": [],
   "source": [
    "# Your Code"
   ]
  },
  {
   "cell_type": "markdown",
   "metadata": {},
   "source": [
    "### 11. All the companies founded on the second semester of the year. Limit your search to 1000 companies."
   ]
  },
  {
   "cell_type": "code",
   "execution_count": null,
   "metadata": {},
   "outputs": [],
   "source": [
    "# Your Code"
   ]
  },
  {
   "cell_type": "markdown",
   "metadata": {},
   "source": [
    "### 12. All the companies founded before 2000 that have an acquisition amount of more than 10.000.00"
   ]
  },
  {
   "cell_type": "code",
   "execution_count": null,
   "metadata": {},
   "outputs": [],
   "source": [
    "# Your Code"
   ]
  },
  {
   "cell_type": "markdown",
   "metadata": {},
   "source": [
    "### 13. All the companies that have been acquired after 2010, order by the acquisition amount, and retrieve only their `name` and `acquisition` field."
   ]
  },
  {
   "cell_type": "code",
   "execution_count": null,
   "metadata": {},
   "outputs": [],
   "source": [
    "# Your Code"
   ]
  },
  {
   "cell_type": "markdown",
   "metadata": {},
   "source": [
    "### 14. Order the companies by their `founded year`, retrieving only their `name` and `founded year`."
   ]
  },
  {
   "cell_type": "code",
   "execution_count": null,
   "metadata": {},
   "outputs": [],
   "source": [
    "# Your Code"
   ]
  },
  {
   "cell_type": "markdown",
   "metadata": {},
   "source": [
    "### 15. All the companies that have been founded on the first seven days of the month, including the seventh. Sort them by their `acquisition price` in a descending order. Limit the search to 10 documents."
   ]
  },
  {
   "cell_type": "code",
   "execution_count": null,
   "metadata": {},
   "outputs": [],
   "source": [
    "# Your Code"
   ]
  },
  {
   "cell_type": "markdown",
   "metadata": {},
   "source": [
    "### 16. All the companies on the 'web' `category` that have more than 4000 employees. Sort them by the amount of employees in ascending order."
   ]
  },
  {
   "cell_type": "code",
   "execution_count": null,
   "metadata": {},
   "outputs": [],
   "source": [
    "# Your Code"
   ]
  },
  {
   "cell_type": "markdown",
   "metadata": {},
   "source": [
    "### 17. All the companies whose acquisition amount is more than 10.000.000, and currency is 'EUR'."
   ]
  },
  {
   "cell_type": "code",
   "execution_count": null,
   "metadata": {},
   "outputs": [],
   "source": [
    "# Your Code"
   ]
  },
  {
   "cell_type": "markdown",
   "metadata": {},
   "source": [
    "### 18. All the companies that have been acquired on the first trimester of the year. Limit the search to 10 companies, and retrieve only their `name` and `acquisition` fields."
   ]
  },
  {
   "cell_type": "code",
   "execution_count": null,
   "metadata": {},
   "outputs": [],
   "source": [
    "# Your Code"
   ]
  },
  {
   "cell_type": "markdown",
   "metadata": {},
   "source": [
    "# Bonus\n",
    "### 19. All the companies that have been founded between 2000 and 2010, but have not been acquired before 2011."
   ]
  },
  {
   "cell_type": "code",
   "execution_count": null,
   "metadata": {},
   "outputs": [],
   "source": [
    "# Your Code"
   ]
  },
  {
   "cell_type": "markdown",
   "metadata": {},
   "source": [
    "### 20. All the companies that have been 'deadpooled' after the third year."
   ]
  },
  {
   "cell_type": "code",
   "execution_count": null,
   "metadata": {},
   "outputs": [],
   "source": [
    "# Your Code"
   ]
  }
 ],
 "metadata": {
  "kernelspec": {
   "display_name": "Python 3",
   "language": "python",
   "name": "python3"
  },
  "language_info": {
   "codemirror_mode": {
    "name": "ipython",
    "version": 3
   },
   "file_extension": ".py",
   "mimetype": "text/x-python",
   "name": "python",
   "nbconvert_exporter": "python",
   "pygments_lexer": "ipython3",
   "version": "3.8.2"
  }
 },
 "nbformat": 4,
 "nbformat_minor": 2
}
