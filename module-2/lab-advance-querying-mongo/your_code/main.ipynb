{
 "cells": [
  {
   "cell_type": "markdown",
   "metadata": {},
   "source": [
    "# Advanced Querying Mongo"
   ]
  },
  {
   "cell_type": "markdown",
   "metadata": {},
   "source": [
    "Importing libraries and setting up connection"
   ]
  },
  {
   "cell_type": "code",
   "execution_count": 18,
   "metadata": {},
   "outputs": [
    {
     "name": "stdout",
     "output_type": "stream",
     "text": [
      "companies\n"
     ]
    }
   ],
   "source": [
    "from pymongo import MongoClient\n",
    "dbName = \"companies\"\n",
    "mongodbURL = f\"mongodb://localhost/{dbName}\"\n",
    "\n",
    "client = MongoClient(mongodbURL, connectTimeoutMS=2000, serverSelectionTimeoutMS=2000)\n",
    "db = client.get_database()\n",
    "cursor = db.list_collections()\n",
    "for collection in cursor:\n",
    "    print(collection[\"name\"])"
   ]
  },
  {
   "cell_type": "markdown",
   "metadata": {},
   "source": [
    "### 1. All the companies whose name match 'Babelgum'. Retrieve only their `name` field."
   ]
  },
  {
   "cell_type": "code",
   "execution_count": 73,
   "metadata": {},
   "outputs": [
    {
     "name": "stdout",
     "output_type": "stream",
     "text": [
      "{'name': 'Babelgum'}\n"
     ]
    }
   ],
   "source": [
    "# Your Code\n",
    "\n",
    "query = {\"name\": {'$eq': 'Babelgum'}}\n",
    "\n",
    "cur = db.companies.find(query)\n",
    "data = list(cur)\n",
    "data\n",
    "for company in data:\n",
    "    print({\"name\":company['name']})"
   ]
  },
  {
   "cell_type": "markdown",
   "metadata": {},
   "source": [
    "### 2. All the companies that have more than 5000 employees. Limit the search to 20 companies and sort them by **number of employees**."
   ]
  },
  {
   "cell_type": "code",
   "execution_count": 121,
   "metadata": {},
   "outputs": [
    {
     "name": "stdout",
     "output_type": "stream",
     "text": [
      "{'name': 'Siemens', 'number_of_employees': 405000}\n",
      "{'name': 'IBM', 'number_of_employees': 388000}\n",
      "{'name': 'Toyota', 'number_of_employees': 320000}\n",
      "{'name': 'PayPal', 'number_of_employees': 300000}\n",
      "{'name': 'Nippon Telegraph and Telephone Corporation', 'number_of_employees': 227000}\n",
      "{'name': 'Samsung Electronics', 'number_of_employees': 221726}\n",
      "{'name': 'Accenture', 'number_of_employees': 205000}\n",
      "{'name': 'Tata Consultancy Services', 'number_of_employees': 200300}\n",
      "{'name': 'Flextronics International', 'number_of_employees': 200000}\n",
      "{'name': 'Safeway', 'number_of_employees': 186000}\n",
      "{'name': 'Sony', 'number_of_employees': 180500}\n",
      "{'name': 'LG', 'number_of_employees': 177000}\n",
      "{'name': 'Ford', 'number_of_employees': 171000}\n",
      "{'name': 'Boeing', 'number_of_employees': 160000}\n",
      "{'name': 'Digital Equipment Corporation', 'number_of_employees': 140000}\n",
      "{'name': 'Nokia', 'number_of_employees': 125000}\n",
      "{'name': 'MItsubishi Electric', 'number_of_employees': 107000}\n",
      "{'name': 'MItsubishi Electric', 'number_of_employees': 107000}\n",
      "{'name': 'Comcast', 'number_of_employees': 100000}\n",
      "{'name': 'Bertelsmann', 'number_of_employees': 100000}\n"
     ]
    }
   ],
   "source": [
    "from pymongo import ASCENDING, DESCENDING\n",
    "# Your Code\n",
    "query = {'number_of_employees' : {'$gt': 5000}}\n",
    "\n",
    "cur = db.companies.find(query)\n",
    "data = list((cur).limit(20).sort([(\"number_of_employees\",DESCENDING)]))\n",
    "for company in data:\n",
    "    print({\"name\":company['name'], 'number_of_employees': company['number_of_employees']})\n",
    "    \n",
    "# segunda opcion    \n",
    "def getCompanies(number=\"5000\"):\n",
    "    query = {'number_of_employees' : {'$gt': number}}\n",
    "\n",
    "    projection = {\"name\":1, \"number_of_employees\":1, \"_id\":0}\n",
    " \n",
    "    return [query, projection]\n",
    "\n",
    "#list(db.companies.find(*getCompanies(5000)))"
   ]
  },
  {
   "cell_type": "markdown",
   "metadata": {},
   "source": [
    "### 3. All the companies founded between 2000 and 2005, both years included. Retrieve only the `name` and `founded_year` fields."
   ]
  },
  {
   "cell_type": "code",
   "execution_count": 99,
   "metadata": {},
   "outputs": [
    {
     "name": "stdout",
     "output_type": "stream",
     "text": [
      "{'name': 'Zoho', 'founded_year': 2005}\n",
      "{'name': 'Wetpaint', 'founded_year': 2005}\n",
      "{'name': 'Omnidrive', 'founded_year': 2005}\n",
      "{'name': 'Digg', 'founded_year': 2004}\n",
      "{'name': 'Gizmoz', 'founded_year': 2003}\n",
      "{'name': 'Helio', 'founded_year': 2005}\n",
      "{'name': 'StumbleUpon', 'founded_year': 2002}\n",
      "{'name': 'Plaxo', 'founded_year': 2002}\n",
      "{'name': 'Technorati', 'founded_year': 2002}\n",
      "{'name': 'AddThis', 'founded_year': 2004}\n",
      "{'name': 'Veoh', 'founded_year': 2004}\n",
      "{'name': 'Facebook', 'founded_year': 2004}\n",
      "{'name': 'Jingle Networks', 'founded_year': 2005}\n",
      "{'name': 'Wesabe', 'founded_year': 2005}\n",
      "{'name': 'Meetup', 'founded_year': 2002}\n",
      "{'name': 'Jangl SMS', 'founded_year': 2005}\n",
      "{'name': 'SmugMug', 'founded_year': 2002}\n",
      "{'name': 'LifeLock', 'founded_year': 2005}\n",
      "{'name': 'Jajah', 'founded_year': 2005}\n",
      "{'name': 'Pando Networks', 'founded_year': 2004}\n"
     ]
    }
   ],
   "source": [
    "# Your Code, \n",
    "query = {'$and':[{'founded_year':{'$gte': 2000}}, {'founded_year':{'$lte':2005}}]}\n",
    "cur = db.companies.find(query)\n",
    "data = list(cur.limit(20))\n",
    "for company in data:\n",
    "    print({'name': company['name'], 'founded_year': company['founded_year']})\n",
    "    "
   ]
  },
  {
   "cell_type": "markdown",
   "metadata": {},
   "source": [
    "### 4. All the companies that had a Valuation Amount of more than 100.000.000 and have been founded before 2010. Retrieve only the `name` and `ipo` fields."
   ]
  },
  {
   "cell_type": "code",
   "execution_count": 131,
   "metadata": {},
   "outputs": [
    {
     "name": "stdout",
     "output_type": "stream",
     "text": [
      "{'name': 'Twitter', 'ipo': {'valuation_amount': 18100000000, 'valuation_currency_code': 'USD', 'pub_year': 2013, 'pub_month': 11, 'pub_day': 7, 'stock_symbol': 'NYSE:TWTR'}}\n",
      "{'name': 'Facebook', 'ipo': {'valuation_amount': 104000000000, 'valuation_currency_code': 'USD', 'pub_year': 2012, 'pub_month': 5, 'pub_day': 18, 'stock_symbol': 'NASDAQ:FB'}}\n",
      "{'name': 'Yelp', 'ipo': {'valuation_amount': 1300000000, 'valuation_currency_code': 'USD', 'pub_year': 2012, 'pub_month': 3, 'pub_day': 2, 'stock_symbol': 'NYSE:YELP'}}\n"
     ]
    }
   ],
   "source": [
    "# Your Code\n",
    "\n",
    "query = {'$and': [{'ipo.valuation_amount':{'$gt': 100000000}}, {'founded_year':{'$lt': 2010}}]}\n",
    "cur = db.companies.find(query)\n",
    "data = list(cur.limit(3))\n",
    "for company in data:\n",
    "    print({'name': company['name'], 'ipo': company['ipo']})"
   ]
  },
  {
   "cell_type": "markdown",
   "metadata": {},
   "source": [
    "### 5. All the companies that have less than 1000 employees and have been founded before 2005. Order them by the number of employees and limit the search to 10 companies."
   ]
  },
  {
   "cell_type": "code",
   "execution_count": 138,
   "metadata": {},
   "outputs": [
    {
     "name": "stdout",
     "output_type": "stream",
     "text": [
      "{'name': 'Infinera Corporation', 'number_of_employees': 974}\n",
      "{'name': 'NorthPoint Communications Group', 'number_of_employees': 948}\n",
      "{'name': '888 Holdings', 'number_of_employees': 931}\n",
      "{'name': 'Forrester Research', 'number_of_employees': 903}\n",
      "{'name': 'SonicWALL', 'number_of_employees': 900}\n",
      "{'name': 'Webmetrics', 'number_of_employees': 900}\n",
      "{'name': 'Cornerstone OnDemand', 'number_of_employees': 881}\n",
      "{'name': 'Yelp', 'number_of_employees': 800}\n",
      "{'name': 'ZoomInfo', 'number_of_employees': 800}\n",
      "{'name': 'MySpace', 'number_of_employees': 800}\n"
     ]
    }
   ],
   "source": [
    "# Your Code\n",
    "query = {'$and':[{'number_of_employees':{'$lt': 1000}}, {'founded_year':{'$lt': 2005}}]}\n",
    "cur = db.companies.find(query)\n",
    "data = list(cur.limit(10).sort('number_of_employees', DESCENDING))\n",
    "for company in data:\n",
    "    print({'name':company['name'], 'number_of_employees': company['number_of_employees']})"
   ]
  },
  {
   "cell_type": "markdown",
   "metadata": {},
   "source": [
    "### 6. All the companies that don't include the `partners` field."
   ]
  },
  {
   "cell_type": "code",
   "execution_count": 249,
   "metadata": {},
   "outputs": [
    {
     "name": "stdout",
     "output_type": "stream",
     "text": [
      "[]\n"
     ]
    }
   ],
   "source": [
    "# Your Code\n",
    "query =  {'partners': {'$exists': False} } \n",
    "cur = db.companies.find(query)\n",
    "data = list(cur.limit(20))\n",
    "print(data)"
   ]
  },
  {
   "cell_type": "markdown",
   "metadata": {},
   "source": [
    "### 7. All the companies that have a null type of value on the `category_code` field."
   ]
  },
  {
   "cell_type": "code",
   "execution_count": 159,
   "metadata": {},
   "outputs": [
    {
     "name": "stdout",
     "output_type": "stream",
     "text": [
      "{'name': 'Collective', 'category_code': None}\n",
      "{'name': 'Snimmer', 'category_code': None}\n",
      "{'name': 'KoolIM', 'category_code': None}\n",
      "{'name': 'VidKing', 'category_code': None}\n",
      "{'name': 'Level9 Media', 'category_code': None}\n",
      "{'name': 'Drigg', 'category_code': None}\n",
      "{'name': 'SpaceTime', 'category_code': None}\n",
      "{'name': 'MMDAYS', 'category_code': None}\n",
      "{'name': 'Inside Group', 'category_code': None}\n",
      "{'name': 'Touch Clarity', 'category_code': None}\n"
     ]
    }
   ],
   "source": [
    "# Your Code\n",
    "query = {'category_code':{'$eq': None}}\n",
    "cur= db.companies.find(query)\n",
    "data = list(cur.limit(10))\n",
    "for company in data:\n",
    "    print({'name': company['name'], 'category_code': company['category_code']})"
   ]
  },
  {
   "cell_type": "markdown",
   "metadata": {},
   "source": [
    "### 8. All the companies that have at least 100 employees but less than 1000. Retrieve only the `name` and `number of employees` fields."
   ]
  },
  {
   "cell_type": "code",
   "execution_count": 176,
   "metadata": {},
   "outputs": [
    {
     "name": "stdout",
     "output_type": "stream",
     "text": [
      "{'name': 'AdventNet', 'number_of_employees': 600}\n",
      "{'name': 'AddThis', 'number_of_employees': 120}\n",
      "{'name': 'OpenX', 'number_of_employees': 305}\n",
      "{'name': 'LifeLock', 'number_of_employees': 644}\n",
      "{'name': 'Jajah', 'number_of_employees': 110}\n",
      "{'name': 'Livestream', 'number_of_employees': 120}\n",
      "{'name': 'Ustream', 'number_of_employees': 250}\n",
      "{'name': 'iContact', 'number_of_employees': 300}\n",
      "{'name': 'Dailymotion', 'number_of_employees': 120}\n",
      "{'name': 'Yelp', 'number_of_employees': 800}\n"
     ]
    }
   ],
   "source": [
    "# Your Code\n",
    "query = {'number_of_employees':{'$in':list(range(100, 1000))}}\n",
    "cur = db.companies.find(query)\n",
    "data = list(cur.limit(10))\n",
    "for company in data:\n",
    "    print({'name': company['name'], 'number_of_employees': company['number_of_employees']})"
   ]
  },
  {
   "cell_type": "markdown",
   "metadata": {},
   "source": [
    "### 9. Order all the companies by their IPO price in a descending order."
   ]
  },
  {
   "cell_type": "code",
   "execution_count": 198,
   "metadata": {},
   "outputs": [
    {
     "name": "stdout",
     "output_type": "stream",
     "text": [
      "[{'name': 'GREE', 'ipo': {'valuation_amount': 108960000000}}, {'name': 'Facebook', 'ipo': {'valuation_amount': 104000000000}}, {'name': 'Amazon', 'ipo': {'valuation_amount': 100000000000}}, {'name': 'Twitter', 'ipo': {'valuation_amount': 18100000000}}, {'name': 'Groupon', 'ipo': {'valuation_amount': 12800000000}}, {'name': 'Tencent', 'ipo': {'valuation_amount': 11000000000}}, {'name': 'Western Digital', 'ipo': {'valuation_amount': 9430000000}}, {'name': 'LinkedIn', 'ipo': {'valuation_amount': 9310000000}}, {'name': 'BMC Software', 'ipo': {'valuation_amount': 6000000000}}, {'name': 'Rackspace', 'ipo': {'valuation_amount': 5440000000}}, {'name': 'Baidu', 'ipo': {'valuation_amount': 4000000000}}, {'name': 'TripAdvisor', 'ipo': {'valuation_amount': 3273770000}}, {'name': 'HomeAway', 'ipo': {'valuation_amount': 3000000000}}, {'name': 'Zillow', 'ipo': {'valuation_amount': 2550000000}}, {'name': 'Nielsen', 'ipo': {'valuation_amount': 1600000000}}, {'name': 'Yelp', 'ipo': {'valuation_amount': 1300000000}}, {'name': 'Chegg', 'ipo': {'valuation_amount': 1100000000}}, {'name': 'Chegg', 'ipo': {'valuation_amount': 1100000000}}, {'name': 'RPX Corporation', 'ipo': {'valuation_amount': 1096000000}}, {'name': 'Higher One', 'ipo': {'valuation_amount': 1060000000}}, {'name': 'OpenTable', 'ipo': {'valuation_amount': 1050000000}}, {'name': 'Jive Software', 'ipo': {'valuation_amount': 1000000000}}, {'name': 'BrightSource Energy', 'ipo': {'valuation_amount': 1000000000}}, {'name': 'QlikTech', 'ipo': {'valuation_amount': 1000000000}}, {'name': 'Millennial Media', 'ipo': {'valuation_amount': 973500000}}, {'name': 'Mixi', 'ipo': {'valuation_amount': 970000000}}, {'name': 'Cornerstone OnDemand', 'ipo': {'valuation_amount': 900000000}}, {'name': 'Infoblox', 'ipo': {'valuation_amount': 824000000}}, {'name': 'SolarWinds', 'ipo': {'valuation_amount': 803000000}}, {'name': 'Wix', 'ipo': {'valuation_amount': 750000000}}, {'name': 'Marketo', 'ipo': {'valuation_amount': 465000000}}, {'name': 'Opsware', 'ipo': {'valuation_amount': 450000000}}, {'name': 'Emdeon', 'ipo': {'valuation_amount': 367350000}}, {'name': 'Shutterfly', 'ipo': {'valuation_amount': 350000000}}, {'name': 'Telenav', 'ipo': {'valuation_amount': 337000000}}, {'name': 'Rally Software', 'ipo': {'valuation_amount': 315000000}}, {'name': 'STR', 'ipo': {'valuation_amount': 300000000}}, {'name': 'Brightcove', 'ipo': {'valuation_amount': 290000000}}, {'name': 'ChannelAdvisor', 'ipo': {'valuation_amount': 287000000}}, {'name': 'Elster Group', 'ipo': {'valuation_amount': 275000000}}, {'name': 'DemandTec', 'ipo': {'valuation_amount': 245000000}}, {'name': 'KIT digital', 'ipo': {'valuation_amount': 235000000}}, {'name': 'Tudou', 'ipo': {'valuation_amount': 174000000}}, {'name': 'DivX', 'ipo': {'valuation_amount': 160000000}}, {'name': 'QuinStreet', 'ipo': {'valuation_amount': 140000000}}, {'name': 'Geeknet', 'ipo': {'valuation_amount': 134000000}}, {'name': 'Salesforce', 'ipo': {'valuation_amount': 110000000}}, {'name': 'JumpTV', 'ipo': {'valuation_amount': 100000000}}, {'name': 'EnerNOC', 'ipo': {'valuation_amount': 95500000}}, {'name': 'Meru Networks', 'ipo': {'valuation_amount': 66600000}}]\n"
     ]
    }
   ],
   "source": [
    "# Your Code\n",
    "projection = {'_id':0,'name':1, 'ipo.valuation_amount':1}\n",
    "cur = db.companies.find( { 'ipo': { '$exists': True }}, projection)\n",
    "data = list(cur.limit(50).sort('ipo', DESCENDING))\n",
    "print(data)\n",
    "#for company in data:\n",
    "#    print({'name': company['name'], 'ipo': company['ipo']})\n",
    "    "
   ]
  },
  {
   "cell_type": "markdown",
   "metadata": {},
   "source": [
    "### 10. Retrieve the 10 companies with more employees, order by the `number of employees`"
   ]
  },
  {
   "cell_type": "code",
   "execution_count": 213,
   "metadata": {},
   "outputs": [
    {
     "name": "stdout",
     "output_type": "stream",
     "text": [
      "{'name': 'Siemens', 'number_of_employees': 405000}\n",
      "{'name': 'IBM', 'number_of_employees': 388000}\n",
      "{'name': 'Toyota', 'number_of_employees': 320000}\n",
      "{'name': 'PayPal', 'number_of_employees': 300000}\n",
      "{'name': 'Nippon Telegraph and Telephone Corporation', 'number_of_employees': 227000}\n"
     ]
    }
   ],
   "source": [
    "# Your Code\n",
    "#projection = {'_id':0,'name':1, 'ipo.number_of_employees':1}\n",
    "query = {'number_of_employees':{'$gt': 0}}\n",
    "cur = db.companies.find(query)\n",
    "data = list(cur.limit(5).sort('number_of_employees', DESCENDING))\n",
    "for company in data:\n",
    "    print({'name': company['name'], 'number_of_employees': company['number_of_employees']})"
   ]
  },
  {
   "cell_type": "markdown",
   "metadata": {},
   "source": [
    "### 11. All the companies founded on the second semester of the year. Limit your search to 1000 companies."
   ]
  },
  {
   "cell_type": "code",
   "execution_count": 215,
   "metadata": {},
   "outputs": [
    {
     "name": "stdout",
     "output_type": "stream",
     "text": [
      "{'name': 'Zoho', 'founded_month': 9}\n",
      "{'name': 'Wetpaint', 'founded_month': 10}\n",
      "{'name': 'Omnidrive', 'founded_month': 11}\n",
      "{'name': 'Digg', 'founded_month': 10}\n",
      "{'name': 'Postini', 'founded_month': 6}\n",
      "{'name': 'Geni', 'founded_month': 6}\n",
      "{'name': 'Fox Interactive Media', 'founded_month': 6}\n",
      "{'name': 'Joost', 'founded_month': 10}\n",
      "{'name': 'Plaxo', 'founded_month': 11}\n",
      "{'name': 'Powerset', 'founded_month': 10}\n"
     ]
    }
   ],
   "source": [
    "# Your Code\n",
    "query = {'founded_month':{'$gte': 6}}\n",
    "cur = db.companies.find(query)\n",
    "data = list(cur.limit(10))\n",
    "for company in data:\n",
    "    print({'name': company['name'], 'founded_month': company['founded_month']})"
   ]
  },
  {
   "cell_type": "markdown",
   "metadata": {},
   "source": [
    "### 12. All the companies founded before 2000 that have an acquisition amount of more than 10.000.00"
   ]
  },
  {
   "cell_type": "code",
   "execution_count": 226,
   "metadata": {},
   "outputs": [
    {
     "name": "stdout",
     "output_type": "stream",
     "text": [
      "{'name': 'BEA Systems', 'price_amount': 8500000000}\n",
      "{'name': 'Navteq', 'price_amount': 8100000000}\n",
      "{'name': 'Sun Microsystems', 'price_amount': 7400000000}\n",
      "{'name': 'Pixar', 'price_amount': 7400000000}\n",
      "{'name': 'LSI', 'price_amount': 6600000000}\n",
      "{'name': 'National Semiconductor', 'price_amount': 6500000000}\n",
      "{'name': 'aQuantive', 'price_amount': 6400000000}\n",
      "{'name': 'Siebel Systems', 'price_amount': 5850000000}\n",
      "{'name': 'Sybase', 'price_amount': 5800000000}\n",
      "{'name': 'Affiliated Computer Services', 'price_amount': 5750000000}\n"
     ]
    }
   ],
   "source": [
    "# Your Code\n",
    "query = {'$and':[{'founded_year':{'$lt': 2000}, 'acquisition.price_amount':{'$gt': 1000000}}]}\n",
    "cur = db.companies.find(query)\n",
    "data = list(cur.limit(10).sort('acquisition.price_amount', DESCENDING))\n",
    "for company in data:\n",
    "    print({'name': company['name'], 'price_amount': company['acquisition']['price_amount']})"
   ]
  },
  {
   "cell_type": "markdown",
   "metadata": {},
   "source": [
    "### 13. All the companies that have been acquired after 2010, order by the acquisition amount, and retrieve only their `name` and `acquisition` field."
   ]
  },
  {
   "cell_type": "code",
   "execution_count": 227,
   "metadata": {},
   "outputs": [
    {
     "name": "stdout",
     "output_type": "stream",
     "text": [
      "{'name': 'T-Mobile', 'acquisition': {'price_amount': 39000000000, 'price_currency_code': 'USD', 'term_code': None, 'source_url': 'http://techcrunch.com/2011/03/20/in-the-race-for-more-spectrum-att-is-acquiring-t-mobile-for-39-billion/', 'source_description': 'In The Race For More Spectrum, AT&T Is Acquiring T-Mobile For $39 Billion', 'acquired_year': 2011, 'acquired_month': 3, 'acquired_day': 20, 'acquiring_company': {'name': 'AT&T', 'permalink': 'at-t'}}}\n",
      "{'name': 'Goodrich Corporation', 'acquisition': {'price_amount': 18400000000, 'price_currency_code': 'USD', 'term_code': None, 'source_url': 'http://www.masshightech.com/stories/2011/09/19/daily37-UTC-shells-out-184-billion-for-Goodrich.html', 'source_description': 'UTC shells out $18.4 billion for Goodrich', 'acquired_year': 2011, 'acquired_month': 9, 'acquired_day': 22, 'acquiring_company': {'name': 'United Technologies', 'permalink': 'united-technologies'}}}\n",
      "{'name': 'LSI', 'acquisition': {'price_amount': 6600000000, 'price_currency_code': 'USD', 'term_code': 'cash', 'source_url': 'http://dealbook.nytimes.com/2013/12/16/avago-to-buy-lsi-for-6-6-billion/?_r=0', 'source_description': 'Avago to Buy LSI for $6.6 Billion', 'acquired_year': 2013, 'acquired_month': 12, 'acquired_day': 16, 'acquiring_company': {'name': 'Avago Technologies', 'permalink': 'avago-technologies'}}}\n",
      "{'name': 'National Semiconductor', 'acquisition': {'price_amount': 6500000000, 'price_currency_code': 'USD', 'term_code': 'cash', 'source_url': 'http://www.national.com/news/item/0,1735,1522,00.html', 'source_description': 'TI to acquire National Semiconductor Complementary portfolios are foundation for growth', 'acquired_year': 2011, 'acquired_month': 4, 'acquired_day': 4, 'acquiring_company': {'name': 'Texas Instruments', 'permalink': 'texas-instruments'}}}\n",
      "{'name': 'Ariba', 'acquisition': {'price_amount': 4300000000, 'price_currency_code': 'USD', 'term_code': None, 'source_url': 'http://techcrunch.com/2012/05/22/sap-to-acquire-ariba-for-4-3-billion/', 'source_description': 'SAP To Acquire Ariba For $4.3 Billion', 'acquired_year': 2012, 'acquired_month': 5, 'acquired_day': 22, 'acquiring_company': {'name': 'SAP', 'permalink': 'sap'}}}\n",
      "{'name': 'NetLogic Microsystems', 'acquisition': {'price_amount': 3700000000, 'price_currency_code': 'USD', 'term_code': 'cash_and_stock', 'source_url': 'http://techcrunch.com/2011/09/12/broadcom-buys-chipmaker-netlogic-for-3-7-billion/', 'source_description': 'Broadcom Buys Chipmaking Technology Company Netlogic For $3.7 Billion', 'acquired_year': 2011, 'acquired_month': 9, 'acquired_day': 12, 'acquiring_company': {'name': 'Broadcom', 'permalink': 'broadcom'}}}\n",
      "{'name': 'SuccessFactors', 'acquisition': {'price_amount': 3400000000, 'price_currency_code': 'USD', 'term_code': None, 'source_url': 'http://techcrunch.com/2012/02/22/successfactors-sap/', 'source_description': 'After Closing $3.4B Acquisition Of SuccessFactors, SAP Pushes Human Capital Management In The Cloud', 'acquired_year': 2012, 'acquired_month': 2, 'acquired_day': 22, 'acquiring_company': {'name': 'SAP', 'permalink': 'sap'}}}\n",
      "{'name': 'Qualcomm Atheros', 'acquisition': {'price_amount': 3100000000, 'price_currency_code': 'USD', 'term_code': 'stock', 'source_url': 'http://www.sdbj.com/news/2011/may/24/qualcomm-brings-atheros-fold/', 'source_description': 'Qualcomm Brings Atheros Into the Fold', 'acquired_year': 2011, 'acquired_month': 5, 'acquired_day': 5, 'acquiring_company': {'name': 'Qualcomm', 'permalink': 'qualcomm'}}}\n",
      "{'name': 'Global Crossing', 'acquisition': {'price_amount': 3000000000, 'price_currency_code': 'USD', 'term_code': 'stock', 'source_url': 'http://techcrunch.com/2011/04/11/level-3-to-acquire-global-crossing-for-3-billion-in-stock/', 'source_description': 'Level 3 To Acquire Global Crossing For $3 Billion In Stock', 'acquired_year': 2011, 'acquired_month': 4, 'acquired_day': 11, 'acquiring_company': {'name': 'Level 3 Communications', 'permalink': 'level-3'}}}\n",
      "{'name': 'Global Crossing', 'acquisition': {'price_amount': 3000000000, 'price_currency_code': 'USD', 'term_code': 'stock', 'source_url': 'http://techcrunch.com/2011/04/11/level-3-to-acquire-global-crossing-for-3-billion-in-stock/', 'source_description': 'Level 3 To Acquire Global Crossing For $3 Billion In Stock', 'acquired_year': 2011, 'acquired_month': 4, 'acquired_day': 11, 'acquiring_company': {'name': 'Level 3 Communications', 'permalink': 'level-3'}}}\n"
     ]
    }
   ],
   "source": [
    "# Your Code\n",
    "query = {'acquisition.acquired_year':{'$gt': 2010}}\n",
    "cur = db.companies.find(query)\n",
    "data = list(cur.limit(10).sort('acquisition.price_amount', DESCENDING))\n",
    "for company in data:\n",
    "    print({'name': company['name'], 'acquisition': company['acquisition']})"
   ]
  },
  {
   "cell_type": "markdown",
   "metadata": {},
   "source": [
    "### 14. Order the companies by their `founded year`, retrieving only their `name` and `founded year`."
   ]
  },
  {
   "cell_type": "code",
   "execution_count": 234,
   "metadata": {},
   "outputs": [
    {
     "name": "stdout",
     "output_type": "stream",
     "text": [
      "{'name': 'Alstrasoft', 'founded_year': 1800}\n",
      "{'name': 'SmallWorlds', 'founded_year': 1800}\n",
      "{'name': 'US Army', 'founded_year': 1800}\n",
      "{'name': 'DuPont', 'founded_year': 1802}\n",
      "{'name': 'McKesson', 'founded_year': 1833}\n",
      "{'name': 'Bachmann Industries', 'founded_year': 1833}\n",
      "{'name': 'Bertelsmann', 'founded_year': 1835}\n",
      "{'name': 'Accuity', 'founded_year': 1836}\n",
      "{'name': 'CENTRA', 'founded_year': 1839}\n",
      "{'name': 'WeGame', 'founded_year': 1840}\n"
     ]
    }
   ],
   "source": [
    "# Your Code\n",
    "query = {'founded_year':{'$gt': 0}}\n",
    "cur = db.companies.find(query)\n",
    "data = list(cur.limit(10).sort('founded_year', ASCENDING))\n",
    "for company in data:\n",
    "    print({'name': company['name'], 'founded_year': company['founded_year']})"
   ]
  },
  {
   "cell_type": "markdown",
   "metadata": {},
   "source": [
    "### 15. All the companies that have been founded on the first seven days of the month, including the seventh. Sort them by their `acquisition price` in a descending order. Limit the search to 10 documents."
   ]
  },
  {
   "cell_type": "code",
   "execution_count": 238,
   "metadata": {},
   "outputs": [
    {
     "name": "stdout",
     "output_type": "stream",
     "text": [
      "{'name': 'Sun Microsystems', 'founded_month': 2, 'acquisition': 7400000000}\n",
      "{'name': 'Siebel Systems', 'founded_month': 1, 'acquisition': 5850000000}\n",
      "{'name': 'Netscape', 'founded_month': 4, 'acquisition': 4200000000}\n",
      "{'name': 'SuccessFactors', 'founded_month': 5, 'acquisition': 3400000000}\n",
      "{'name': 'YouTube', 'founded_month': 2, 'acquisition': 1650000000}\n",
      "{'name': 'Zappos', 'founded_month': 1, 'acquisition': 1200000000}\n",
      "{'name': 'Meraki', 'founded_month': 4, 'acquisition': 1200000000}\n",
      "{'name': 'Tumblr', 'founded_month': 2, 'acquisition': 1100000000}\n",
      "{'name': 'Alibaba', 'founded_month': 6, 'acquisition': 1000000000}\n",
      "{'name': 'Kiva Systems', 'founded_month': 1, 'acquisition': 775000000}\n"
     ]
    }
   ],
   "source": [
    "# Your Code\n",
    "query = {'founded_month':{'$lte': 7}}\n",
    "cur = db.companies.find(query)\n",
    "data = list(cur.limit(10).sort('acquisition.price_amount', DESCENDING))\n",
    "for company in data:\n",
    "    print({'name': company['name'], 'founded_month':company['founded_month'], 'acquisition': company['acquisition']['price_amount']})"
   ]
  },
  {
   "cell_type": "markdown",
   "metadata": {},
   "source": [
    "### 16. All the companies on the 'web' `category` that have more than 4000 employees. Sort them by the amount of employees in ascending order."
   ]
  },
  {
   "cell_type": "code",
   "execution_count": 240,
   "metadata": {},
   "outputs": [
    {
     "name": "stdout",
     "output_type": "stream",
     "text": [
      "{'name': 'FeVote', 'category_code': 'web', 'number_of_employees': 1}\n",
      "{'name': 'Mixercast', 'category_code': 'web', 'number_of_employees': 1}\n",
      "{'name': 'eGenerations', 'category_code': 'web', 'number_of_employees': 1}\n",
      "{'name': 'eBurl', 'category_code': 'web', 'number_of_employees': 1}\n",
      "{'name': 'Pixel Qi', 'category_code': 'web', 'number_of_employees': 1}\n",
      "{'name': 'Blogonize', 'category_code': 'web', 'number_of_employees': 1}\n",
      "{'name': 'Bizak', 'category_code': 'web', 'number_of_employees': 1}\n",
      "{'name': 'ZiFiMusic', 'category_code': 'web', 'number_of_employees': 1}\n",
      "{'name': 'Taunt Media', 'category_code': 'web', 'number_of_employees': 1}\n",
      "{'name': 'tomatic', 'category_code': 'web', 'number_of_employees': 1}\n"
     ]
    }
   ],
   "source": [
    "# Your Code\n",
    "query = {'$and':[{'category_code':{'$eq':'web'},'number_of_employees':{'$gt': 0}}]}\n",
    "cur = db.companies.find(query)\n",
    "data = list(cur.limit(10).sort('number_of_employees', ASCENDING))\n",
    "for company in data:\n",
    "    print({'name': company['name'], 'category_code':company['category_code'], 'number_of_employees': company['number_of_employees']})"
   ]
  },
  {
   "cell_type": "markdown",
   "metadata": {},
   "source": [
    "### 17. All the companies whose acquisition amount is more than 10.000.000, and currency is 'EUR'."
   ]
  },
  {
   "cell_type": "code",
   "execution_count": 241,
   "metadata": {},
   "outputs": [
    {
     "name": "stdout",
     "output_type": "stream",
     "text": [
      "{'name': 'ZYB', 'acquisition price amount': 31500000, 'currency': 'EUR'}\n",
      "{'name': 'Apertio', 'acquisition price amount': 140000000, 'currency': 'EUR'}\n",
      "{'name': 'Greenfield Online', 'acquisition price amount': 40000000, 'currency': 'EUR'}\n",
      "{'name': 'Webedia', 'acquisition price amount': 70000000, 'currency': 'EUR'}\n",
      "{'name': 'Wayfinder', 'acquisition price amount': 24000000, 'currency': 'EUR'}\n",
      "{'name': 'Tuenti Technologies', 'acquisition price amount': 70000000, 'currency': 'EUR'}\n",
      "{'name': 'BioMed Central', 'acquisition price amount': 43400000, 'currency': 'EUR'}\n"
     ]
    }
   ],
   "source": [
    "# Your Code\n",
    "query = {'$and':[{'acquisition.price_amount':{'$gt':10000000},'acquisition.price_currency_code':{'$eq': 'EUR'}}]}\n",
    "cur = db.companies.find(query)\n",
    "data = list(cur.limit(10))\n",
    "for company in data:\n",
    "     print({'name': company['name'], 'acquisition price amount':company['acquisition']['price_amount'], 'currency': company['acquisition']['price_currency_code']})   "
   ]
  },
  {
   "cell_type": "markdown",
   "metadata": {},
   "source": [
    "### 18. All the companies that have been acquired on the first trimester of the year. Limit the search to 10 companies, and retrieve only their `name` and `acquisition` fields."
   ]
  },
  {
   "cell_type": "code",
   "execution_count": 242,
   "metadata": {},
   "outputs": [
    {
     "name": "stdout",
     "output_type": "stream",
     "text": [
      "{'name': 'Kyte', 'acquisition': {'price_amount': None, 'price_currency_code': 'USD', 'term_code': None, 'source_url': 'http://techcrunch.com/2011/01/31/exclusive-kit-digital-acquires-kickapps-kewego-and-kyte-for-77-2-million/', 'source_description': 'KIT digital Acquires KickApps, Kewego AND Kyte For $77.2 Million', 'acquired_year': 2011, 'acquired_month': 1, 'acquired_day': 31, 'acquiring_company': {'name': 'KIT digital', 'permalink': 'kit-digital'}}}\n",
      "{'name': 'NetRatings', 'acquisition': {'price_amount': 327000000, 'price_currency_code': 'USD', 'term_code': 'cash', 'source_url': 'http://login.vnuemedia.com/hr/login/login_subscribe.jsp?id=0oqDem1gYIfIclz9i2%2Ffqj5NxCp2AC5DPbVnyT2da8GyV2mXjasabE128n69OrmcAh52%2FGE3pSG%2F%0AEKRYD9vh9EhrJrxukmUzh532fSMTZXL42gwPB80UWVtF1NwJ5UZSM%2BCkLU1mpYBoHFgiH%2Fi0f6Ax%0A9yMIVxt47t%2BHamhEQ0nkOEK24L', 'source_description': 'Nielsen buys rest of NetRatings', 'acquired_year': 2007, 'acquired_month': 2, 'acquired_day': None, 'acquiring_company': {'name': 'Nielsen', 'permalink': 'nielsen'}}}\n",
      "{'name': 'blogTV', 'acquisition': {'price_amount': None, 'price_currency_code': 'USD', 'term_code': None, 'source_url': 'http://techcrunch.com/2013/03/13/younow-buys-blogtv/', 'source_description': 'Live Social Video Network YouNow Acquires Streaming Service BlogTV', 'acquired_year': 2013, 'acquired_month': 3, 'acquired_day': 13, 'acquiring_company': {'name': 'YouNow', 'permalink': 'younow'}}}\n",
      "{'name': 'Livestream', 'acquisition': {'price_amount': None, 'price_currency_code': 'USD', 'term_code': 'cash_and_stock', 'source_url': '', 'source_description': 'company', 'acquired_year': 2008, 'acquired_month': 1, 'acquired_day': 1, 'acquiring_company': {'name': 'Adviqo', 'permalink': 'adviqo'}}}\n",
      "{'name': 'iContact', 'acquisition': {'price_amount': 169000000, 'price_currency_code': 'USD', 'term_code': 'cash_and_stock', 'source_url': 'http://techcrunch.com/2012/02/28/vocus-buys-email-marketing-company-icontact-for-169-million/', 'source_description': 'Vocus Buys Email Marketing Company iContact For $169 Million', 'acquired_year': 2012, 'acquired_month': 2, 'acquired_day': 28, 'acquiring_company': {'name': 'Vocus', 'permalink': 'vocus'}}}\n",
      "{'name': 'Coghead', 'acquisition': {'price_amount': None, 'price_currency_code': 'USD', 'term_code': None, 'source_url': 'http://www.techcrunch.com/2009/02/19/sap-acquires-cogheads-technology-as-it-looks-towards-the-cloud/', 'source_description': 'SAP Acquires Cogheadâ€™s Technology As It Looks Towards The Cloud', 'acquired_year': 2009, 'acquired_month': 2, 'acquired_day': 19, 'acquiring_company': {'name': 'SAP', 'permalink': 'sap'}}}\n",
      "{'name': 'Dailymotion', 'acquisition': {'price_amount': 168000000, 'price_currency_code': 'USD', 'term_code': None, 'source_url': 'http://techcrunch.com/2013/02/22/orange-acquired-dailymotion-for-168-million-by-buying-out-the-remaining-51-stake/', 'source_description': 'Orange Acquired Dailymotion For $168 Million By Buying Out Remaining 51% Stake [Update: Orange Confirms]', 'acquired_year': 2013, 'acquired_month': 2, 'acquired_day': 22, 'acquiring_company': {'name': 'Orange', 'permalink': 'orange'}}}\n",
      "{'name': 'Netvibes', 'acquisition': {'price_amount': None, 'price_currency_code': 'USD', 'term_code': None, 'source_url': 'http://www.marketwatch.com/story/dassault-systemes-acquires-netvibes-2012-02-09', 'source_description': 'Dassault Systemes Acquires Netvibes', 'acquired_year': 2012, 'acquired_month': 2, 'acquired_day': 9, 'acquiring_company': {'name': 'Dassault Systemes', 'permalink': 'dassault'}}}\n",
      "{'name': 'BabyCenter', 'acquisition': {'price_amount': None, 'price_currency_code': 'USD', 'term_code': None, 'source_url': 'http://www.investor.jnj.com/releasedetail.cfm?releaseid=63836', 'source_description': 'Johnson & Johnson Acquires BabyCenter From eToys, Inc. Leading Online Destination for Parents Plans for Continued Expansion of Operations', 'acquired_year': 2001, 'acquired_month': 3, 'acquired_day': 2, 'acquiring_company': {'name': 'Johnson & Johnson', 'permalink': 'johnson-johnson'}}}\n",
      "{'name': 'Flickr', 'acquisition': {'price_amount': None, 'price_currency_code': 'USD', 'term_code': 'cash_and_stock', 'source_url': 'http://news.cnet.com/Yahoo-buys-photo-sharing-site-Flickr/2100-1038_3-5627640.html?tag=mncol;txt', 'source_description': 'CNET', 'acquired_year': 2005, 'acquired_month': 3, 'acquired_day': None, 'acquiring_company': {'name': 'Yahoo!', 'permalink': 'yahoo'}}}\n"
     ]
    }
   ],
   "source": [
    "# Your Code\n",
    "query = {'acquisition.acquired_month':{'$lte':3}}\n",
    "cur = db.companies.find(query)\n",
    "data = list(cur.limit(10))\n",
    "for company in data:\n",
    "     print({'name': company['name'], 'acquisition':company['acquisition']})   "
   ]
  },
  {
   "cell_type": "markdown",
   "metadata": {},
   "source": [
    "# Bonus\n",
    "### 19. All the companies that have been founded between 2000 and 2010, but have not been acquired before 2011."
   ]
  },
  {
   "cell_type": "code",
   "execution_count": 246,
   "metadata": {},
   "outputs": [
    {
     "name": "stdout",
     "output_type": "stream",
     "text": [
      "{'name': 'Wetpaint', 'founded_year': 2005, 'acquisition': 2013}\n",
      "{'name': 'Digg', 'founded_year': 2004, 'acquisition': 2012}\n",
      "{'name': 'Geni', 'founded_year': 2006, 'acquisition': 2012}\n",
      "{'name': 'Kyte', 'founded_year': 2006, 'acquisition': 2011}\n",
      "{'name': 'Jingle Networks', 'founded_year': 2005, 'acquisition': 2011}\n",
      "{'name': 'blogTV', 'founded_year': 2006, 'acquisition': 2013}\n",
      "{'name': 'Revision3', 'founded_year': 2005, 'acquisition': 2012}\n",
      "{'name': 'delicious', 'founded_year': 2003, 'acquisition': 2011}\n",
      "{'name': 'iContact', 'founded_year': 2003, 'acquisition': 2012}\n",
      "{'name': 'Mashery', 'founded_year': 2006, 'acquisition': 2013}\n"
     ]
    }
   ],
   "source": [
    "# Your Code\n",
    "query = {'$and':[{'founded_year':{'$in':list(range(2000, 2010))}, 'acquisition.acquired_year':{'$gte':2011}}]}\n",
    "cur = db.companies.find(query)\n",
    "data = list(cur.limit(10))\n",
    "for company in data:\n",
    "     print({'name': company['name'], 'founded_year': company['founded_year'], 'acquisition':company['acquisition']['acquired_year']})   "
   ]
  },
  {
   "cell_type": "markdown",
   "metadata": {},
   "source": [
    "### 20. All the companies that have been 'deadpooled' after the third year."
   ]
  },
  {
   "cell_type": "code",
   "execution_count": 248,
   "metadata": {},
   "outputs": [
    {
     "name": "stdout",
     "output_type": "stream",
     "text": [
      "{'name': 'Omnidrive', 'deadpooled_year': 2008}\n",
      "{'name': 'Babelgum', 'deadpooled_year': 2013}\n",
      "{'name': 'Sparter', 'deadpooled_year': 2008}\n",
      "{'name': 'Mercora', 'deadpooled_year': 2008}\n",
      "{'name': 'Thoof', 'deadpooled_year': 2013}\n",
      "{'name': 'Wesabe', 'deadpooled_year': 2010}\n",
      "{'name': 'Jangl SMS', 'deadpooled_year': 2008}\n",
      "{'name': 'Stickam', 'deadpooled_year': 2013}\n",
      "{'name': 'AllPeers', 'deadpooled_year': 2008}\n",
      "{'name': 'AllofMP3', 'deadpooled_year': 2007}\n"
     ]
    }
   ],
   "source": [
    "# Your Code\n",
    "query = {'deadpooled_year':{'$gt': 3}}\n",
    "cur = db.companies.find(query)\n",
    "data = list(cur.limit(10))\n",
    "for company in data:\n",
    "     print({'name': company['name'], 'deadpooled_year': company['deadpooled_year']})   "
   ]
  },
  {
   "cell_type": "code",
   "execution_count": null,
   "metadata": {},
   "outputs": [],
   "source": []
  }
 ],
 "metadata": {
  "kernelspec": {
   "display_name": "Python 3",
   "language": "python",
   "name": "python3"
  },
  "language_info": {
   "codemirror_mode": {
    "name": "ipython",
    "version": 3
   },
   "file_extension": ".py",
   "mimetype": "text/x-python",
   "name": "python",
   "nbconvert_exporter": "python",
   "pygments_lexer": "ipython3",
   "version": "3.7.6"
  }
 },
 "nbformat": 4,
 "nbformat_minor": 2
}
