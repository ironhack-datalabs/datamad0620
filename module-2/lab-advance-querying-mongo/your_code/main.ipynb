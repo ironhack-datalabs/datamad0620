{
 "cells": [
  {
   "cell_type": "markdown",
   "metadata": {},
   "source": [
    "# Advanced Querying Mongo"
   ]
  },
  {
   "cell_type": "markdown",
   "metadata": {},
   "source": [
    "Importing libraries and setting up connection"
   ]
  },
  {
   "cell_type": "code",
   "execution_count": 74,
   "metadata": {},
   "outputs": [],
   "source": [
    "from pymongo import MongoClient\n",
    "from pymongo import ASCENDING, DESCENDING\n"
   ]
  },
  {
   "cell_type": "code",
   "execution_count": 136,
   "metadata": {},
   "outputs": [],
   "source": [
    "#el nombre del db no coincide con companies porque lo he hecho a mano directamente importandolo desde Mongodb compass y le puse ese nombre\n",
    "dbName = \"Crunchbase_Dataset\"\n",
    "mongodbURL = f\"mongodb://localhost/{dbName}\"\n",
    "client = MongoClient(mongodbURL, connectTimeoutMS=2000, serverSelectionTimeoutMS=2000)\n",
    "db = client.get_database()"
   ]
  },
  {
   "cell_type": "markdown",
   "metadata": {},
   "source": [
    "### 1. All the companies whose name match 'Babelgum'. Retrieve only their `name` field."
   ]
  },
  {
   "cell_type": "code",
   "execution_count": 76,
   "metadata": {},
   "outputs": [
    {
     "name": "stdout",
     "output_type": "stream",
     "text": [
      "Babelgum\n"
     ]
    }
   ],
   "source": [
    "cursor = db.companies.find({'name':'Babelgum'}, {\"name\":1})\n",
    "for e in cursor:\n",
    "    print(e['name'])"
   ]
  },
  {
   "cell_type": "markdown",
   "metadata": {},
   "source": [
    "### 2. All the companies that have more than 5000 employees. Limit the search to 20 companies and sort them by **number of employees**."
   ]
  },
  {
   "cell_type": "code",
   "execution_count": 111,
   "metadata": {},
   "outputs": [
    {
     "name": "stdout",
     "output_type": "stream",
     "text": [
      "Facebook\n",
      "eBay\n",
      "Cisco\n",
      "Yahoo!\n",
      "Google\n",
      "Intel\n",
      "Nintendo\n",
      "Adobe Systems\n",
      "Sony\n",
      "PayPal\n"
     ]
    }
   ],
   "source": [
    "cursor = db.companies.find({\"number_of_employees\":{\"$gt\":5000}}).limit(10)\n",
    "for e in cursor:\n",
    "    print(e['name'])"
   ]
  },
  {
   "cell_type": "markdown",
   "metadata": {},
   "source": [
    "### 3. All the companies founded between 2000 and 2005, both years included. Retrieve only the `name` and `founded_year` fields."
   ]
  },
  {
   "cell_type": "code",
   "execution_count": 78,
   "metadata": {},
   "outputs": [
    {
     "name": "stdout",
     "output_type": "stream",
     "text": [
      "Wetpaint 2005\n",
      "Zoho 2005\n",
      "Digg 2004\n",
      "Facebook 2004\n",
      "Omnidrive 2005\n",
      "StumbleUpon 2002\n",
      "Gizmoz 2003\n",
      "Helio 2005\n",
      "Plaxo 2002\n",
      "Technorati 2002\n"
     ]
    }
   ],
   "source": [
    "years = list(range(2000, 2006))\n",
    "cursor = db.companies.find({\"founded_year\":{\"$in\":years}}, {'name':1, 'founded_year': 1}).limit(10)\n",
    "for e in cursor:\n",
    "    print(e['name'], e['founded_year'])"
   ]
  },
  {
   "cell_type": "markdown",
   "metadata": {},
   "source": [
    "### 4. All the companies that had a Valuation Amount of more than 100.000.000 and have been founded before 2010. Retrieve only the `name` and `ipo` fields."
   ]
  },
  {
   "cell_type": "code",
   "execution_count": 110,
   "metadata": {},
   "outputs": [
    {
     "name": "stdout",
     "output_type": "stream",
     "text": [
      "Facebook {'valuation_amount': 104000000000, 'valuation_currency_code': 'USD', 'pub_year': 2012, 'pub_month': 5, 'pub_day': 18, 'stock_symbol': 'NASDAQ:FB'}\n",
      "Twitter {'valuation_amount': 18100000000, 'valuation_currency_code': 'USD', 'pub_year': 2013, 'pub_month': 11, 'pub_day': 7, 'stock_symbol': 'NYSE:TWTR'}\n",
      "Yelp {'valuation_amount': 1300000000, 'valuation_currency_code': 'USD', 'pub_year': 2012, 'pub_month': 3, 'pub_day': 2, 'stock_symbol': 'NYSE:YELP'}\n"
     ]
    }
   ],
   "source": [
    "cursor = db.companies.find({'$and':[{'ipo.valuation_amount':{'$gt': 100000000}},\n",
    "                                    {'founded_year':{'$lt':2010}}]}, \n",
    "                           {'name':1,'ipo':1}).limit(3)\n",
    "for e in (cursor):\n",
    "    print(e['name'], e['ipo'])"
   ]
  },
  {
   "cell_type": "markdown",
   "metadata": {},
   "source": [
    "### 5. All the companies that have less than 1000 employees and have been founded before 2005. Order them by the number of employees and limit the search to 10 companies."
   ]
  },
  {
   "cell_type": "code",
   "execution_count": 81,
   "metadata": {},
   "outputs": [
    {
     "name": "stdout",
     "output_type": "stream",
     "text": [
      "Infinera Corporation 974\n",
      "NorthPoint Communications Group 948\n",
      "888 Holdings 931\n",
      "Forrester Research 903\n",
      "SonicWALL 900\n",
      "Webmetrics 900\n",
      "Cornerstone OnDemand 881\n",
      "Yelp 800\n",
      "MySpace 800\n",
      "ZoomInfo 800\n"
     ]
    }
   ],
   "source": [
    "cursor = db.companies.find({'$and':[{'number_of_employees':{'$lt': 1000}},\n",
    "                                    {'founded_year':{'$lt':2005}}]}, \n",
    "                           {'number_of_employees':1,'name':1}).limit(10).sort([('number_of_employees',DESCENDING)])\n",
    "for i in cursor:\n",
    "    print(i['name'],i['number_of_employees'],)"
   ]
  },
  {
   "cell_type": "markdown",
   "metadata": {},
   "source": [
    "### 6. All the companies that don't include the `partners` field."
   ]
  },
  {
   "cell_type": "code",
   "execution_count": 83,
   "metadata": {},
   "outputs": [
    {
     "name": "stdout",
     "output_type": "stream",
     "text": [
      "Wetpaint\n",
      "AdventNet\n",
      "Zoho\n",
      "Digg\n",
      "Facebook\n",
      "Omnidrive\n",
      "Postini\n",
      "Geni\n",
      "Flektor\n",
      "Fox Interactive Media\n",
      "Twitter\n",
      "StumbleUpon\n",
      "Gizmoz\n",
      "Scribd\n",
      "Slacker\n",
      "Lala\n",
      "Helio\n",
      "eBay\n",
      "MeetMoi\n",
      "Joost\n"
     ]
    }
   ],
   "source": [
    "cursor = db.companies.find({'partners':{'$exists':'false'}}).limit(20)\n",
    "for e in cursor:\n",
    "    print(e['name'])"
   ]
  },
  {
   "cell_type": "markdown",
   "metadata": {},
   "source": [
    "### 7. All the companies that have a null type of value on the `category_code` field."
   ]
  },
  {
   "cell_type": "code",
   "execution_count": 85,
   "metadata": {},
   "outputs": [
    {
     "name": "stdout",
     "output_type": "stream",
     "text": [
      "Collective\n",
      "Snimmer\n",
      "KoolIM\n",
      "Level9 Media\n",
      "VidKing\n",
      "Drigg\n",
      "SpaceTime\n",
      "Touch Clarity\n",
      "MMDAYS\n",
      "Inside Group\n"
     ]
    }
   ],
   "source": [
    "curse = db.companies.find({'category_code': 'null'}).limit(10)\n",
    "for i in curse:\n",
    "    print(i['name'])"
   ]
  },
  {
   "cell_type": "markdown",
   "metadata": {},
   "source": [
    "### 8. All the companies that have at least 100 employees but less than 1000. Retrieve only the `name` and `number of employees` fields."
   ]
  },
  {
   "cell_type": "code",
   "execution_count": 98,
   "metadata": {},
   "outputs": [
    {
     "name": "stdout",
     "output_type": "stream",
     "text": [
      "AdventNet 600\n",
      "AddThis 120\n",
      "OpenX 305\n",
      "LifeLock 644\n",
      "Jajah 110\n",
      "Livestream 120\n",
      "Ustream 250\n",
      "iContact 300\n",
      "Yelp 800\n",
      "Dailymotion 120\n"
     ]
    }
   ],
   "source": [
    "cur =db.companies.find(\n",
    "    {'$and':[{'number_of_employees':{'$gt':100}},{'number_of_employees':{'$lt':1000}}]},\n",
    "                               {'name':1,'number_of_employees':1}\n",
    ").limit(10)\n",
    "for i in cur:\n",
    "    print(i['name'],i['number_of_employees'])\n"
   ]
  },
  {
   "cell_type": "markdown",
   "metadata": {},
   "source": [
    "### 9. Order all the companies by their IPO price in a descending order."
   ]
  },
  {
   "cell_type": "code",
   "execution_count": 109,
   "metadata": {},
   "outputs": [
    {
     "name": "stdout",
     "output_type": "stream",
     "text": [
      "GREE {'valuation_amount': 108960000000, 'valuation_currency_code': 'JPY', 'pub_year': 2008, 'pub_month': 12, 'pub_day': 17, 'stock_symbol': '3632'}\n",
      "Facebook {'valuation_amount': 104000000000, 'valuation_currency_code': 'USD', 'pub_year': 2012, 'pub_month': 5, 'pub_day': 18, 'stock_symbol': 'NASDAQ:FB'}\n",
      "Amazon {'valuation_amount': 100000000000, 'valuation_currency_code': 'USD', 'pub_year': 1997, 'pub_month': 5, 'pub_day': None, 'stock_symbol': 'NASDAQ:AMZN'}\n"
     ]
    }
   ],
   "source": [
    "cur = db.companies.find({'ipo.valuation_amount': {'$exists': 'true'}}).sort([('ipo.valuation_amount',DESCENDING)]).limit(3)\n",
    "for e in cur:\n",
    "    print(e['name'],e['ipo'])"
   ]
  },
  {
   "cell_type": "markdown",
   "metadata": {},
   "source": [
    "### 10. Retrieve the 10 companies with more employees, order by the `number of employees`"
   ]
  },
  {
   "cell_type": "code",
   "execution_count": 115,
   "metadata": {},
   "outputs": [
    {
     "name": "stdout",
     "output_type": "stream",
     "text": [
      "Siemens 405000\n",
      "IBM 388000\n",
      "Toyota 320000\n",
      "PayPal 300000\n",
      "Nippon Telegraph and Telephone Corporation 227000\n",
      "Samsung Electronics 221726\n",
      "Accenture 205000\n",
      "Tata Consultancy Services 200300\n",
      "Flextronics International 200000\n",
      "Safeway 186000\n"
     ]
    }
   ],
   "source": [
    "cur = db.companies.find().sort([('number_of_employees', DESCENDING)]).limit(10)\n",
    "for e in cur:\n",
    "    print(e['name'],e['number_of_employees'])"
   ]
  },
  {
   "cell_type": "markdown",
   "metadata": {},
   "source": [
    "### 11. All the companies founded on the second semester of the year. Limit your search to 1000 companies."
   ]
  },
  {
   "cell_type": "code",
   "execution_count": 119,
   "metadata": {},
   "outputs": [
    {
     "name": "stdout",
     "output_type": "stream",
     "text": [
      "Wetpaint 10\n",
      "Zoho 9\n",
      "Digg 10\n",
      "Omnidrive 11\n",
      "Postini 6\n",
      "Geni 6\n",
      "Fox Interactive Media 6\n",
      "eBay 9\n",
      "Joost 10\n",
      "Plaxo 11\n"
     ]
    }
   ],
   "source": [
    "cur = db.companies.find({'$and':[{\"founded_month\":{\"$gte\":6}}, {\"founded_month\":{\"$lte\":12}}]}).limit(10)\n",
    "for e in cur:\n",
    "    print(e['name'],e['founded_month'])\n",
    "                        "
   ]
  },
  {
   "cell_type": "markdown",
   "metadata": {},
   "source": [
    "### 12. All the companies founded before 2000 that have an acquisition amount of more than 10.000.00"
   ]
  },
  {
   "cell_type": "code",
   "execution_count": 125,
   "metadata": {},
   "outputs": [
    {
     "name": "stdout",
     "output_type": "stream",
     "text": [
      "BEA Systems 1995 {'price_amount': 8500000000.0, 'price_currency_code': 'USD', 'term_code': 'null', 'source_url': 'http://www.oracle.com/corporate/press/2008_jan/bea.html', 'source_description': 'Oracle to Acquire BEA Systems', 'acquired_year': 2008, 'acquired_month': 1, 'acquired_day': 16, 'acquiring_company': {'name': 'Oracle Corporation', 'permalink': 'oracle'}}\n",
      "Navteq 1985 {'price_amount': 8100000000.0, 'price_currency_code': 'USD', 'term_code': 'null', 'source_url': 'http://www.businessweek.com/stories/2007-10-01/nokia-to-pay-8-dot-1-billion-for-navteqbusinessweek-business-news-stock-market-and-financial-advice', 'source_description': 'Press Release', 'acquired_year': 2008, 'acquired_month': 7, 'acquired_day': 10, 'acquiring_company': {'name': 'Nokia', 'permalink': 'nokia'}}\n",
      "Sun Microsystems 1982 {'price_amount': 7400000000.0, 'price_currency_code': 'USD', 'term_code': 'cash', 'source_url': 'http://www.techcrunch.com/2009/04/20/oracle-to-buy-sun-hold-on-to-your-hats/', 'source_description': 'Oracle To Buy Sun For Approximately $7.4 Billion - Hold On To Your Hats', 'acquired_year': 2009, 'acquired_month': 4, 'acquired_day': 20, 'acquiring_company': {'name': 'Oracle Corporation', 'permalink': 'oracle'}}\n",
      "Pixar 1986 {'price_amount': 7400000000.0, 'price_currency_code': 'USD', 'term_code': 'stock', 'source_url': 'http://www.pixar.com/companyinfo/about_us/overview.htm', 'source_description': 'Pixar About Page', 'acquired_year': 2006, 'acquired_month': 1, 'acquired_day': 24, 'acquiring_company': {'name': 'The Walt Disney Company', 'permalink': 'the-walt-disney-company'}}\n",
      "LSI 1980 {'price_amount': 6600000000.0, 'price_currency_code': 'USD', 'term_code': 'cash', 'source_url': 'http://dealbook.nytimes.com/2013/12/16/avago-to-buy-lsi-for-6-6-billion/?_r=0', 'source_description': 'Avago to Buy LSI for $6.6 Billion', 'acquired_year': 2013, 'acquired_month': 12, 'acquired_day': 16, 'acquiring_company': {'name': 'Avago Technologies', 'permalink': 'avago-technologies'}}\n"
     ]
    }
   ],
   "source": [
    "cur = db.companies.find({'$and':[{\"founded_year\":{\"$lte\":2000}}, {\"acquisition.price_amount\":{\"$gte\":10000}}]}).limit(10).sort([('acquisition.price_amount',DESCENDING)]).limit(5)\n",
    "for e in cur:\n",
    "    print(e['name'],e['founded_year'],e['acquisition'])"
   ]
  },
  {
   "cell_type": "markdown",
   "metadata": {},
   "source": [
    "### 13. All the companies that have been acquired after 2010, order by the acquisition amount, and retrieve only their `name` and `acquisition` field."
   ]
  },
  {
   "cell_type": "code",
   "execution_count": 126,
   "metadata": {},
   "outputs": [
    {
     "name": "stdout",
     "output_type": "stream",
     "text": [
      "T-Mobile {'price_amount': 39000000000.0, 'price_currency_code': 'USD', 'term_code': 'null', 'source_url': 'http://techcrunch.com/2011/03/20/in-the-race-for-more-spectrum-att-is-acquiring-t-mobile-for-39-billion/', 'source_description': 'In The Race For More Spectrum, AT&T Is Acquiring T-Mobile For $39 Billion', 'acquired_year': 2011, 'acquired_month': 3, 'acquired_day': 20, 'acquiring_company': {'name': 'AT&T', 'permalink': 'at-t'}}\n",
      "Goodrich Corporation {'price_amount': 18400000000.0, 'price_currency_code': 'USD', 'term_code': 'null', 'source_url': 'http://www.masshightech.com/stories/2011/09/19/daily37-UTC-shells-out-184-billion-for-Goodrich.html', 'source_description': 'UTC shells out $18.4 billion for Goodrich', 'acquired_year': 2011, 'acquired_month': 9, 'acquired_day': 22, 'acquiring_company': {'name': 'United Technologies', 'permalink': 'united-technologies'}}\n",
      "LSI {'price_amount': 6600000000.0, 'price_currency_code': 'USD', 'term_code': 'cash', 'source_url': 'http://dealbook.nytimes.com/2013/12/16/avago-to-buy-lsi-for-6-6-billion/?_r=0', 'source_description': 'Avago to Buy LSI for $6.6 Billion', 'acquired_year': 2013, 'acquired_month': 12, 'acquired_day': 16, 'acquiring_company': {'name': 'Avago Technologies', 'permalink': 'avago-technologies'}}\n",
      "National Semiconductor {'price_amount': 6500000000.0, 'price_currency_code': 'USD', 'term_code': 'cash', 'source_url': 'http://www.national.com/news/item/0,1735,1522,00.html', 'source_description': 'TI to acquire National Semiconductor Complementary portfolios are foundation for growth', 'acquired_year': 2011, 'acquired_month': 4, 'acquired_day': 4, 'acquiring_company': {'name': 'Texas Instruments', 'permalink': 'texas-instruments'}}\n",
      "Sybase {'price_amount': 5800000000.0, 'price_currency_code': 'USD', 'term_code': 'cash', 'source_url': 'http://techcrunch.com/2010/05/12/confirmed-sap-to-acquire-sybase-for-5-8-billion/', 'source_description': 'SAP To Acquire Sybase For $5.8 Billion To Compete With Oracle', 'acquired_year': 2010, 'acquired_month': 5, 'acquired_day': 12, 'acquiring_company': {'name': 'SAP', 'permalink': 'sap'}}\n"
     ]
    }
   ],
   "source": [
    "cur = db.companies.find({\"acquisition.acquired_year\":{\"$gte\":2010}}).limit(10).sort([('acquisition.price_amount',DESCENDING)]).limit(5)\n",
    "for e in cur:\n",
    "    print(e['name'],e['acquisition'])"
   ]
  },
  {
   "cell_type": "markdown",
   "metadata": {},
   "source": [
    "### 14. Order the companies by their `founded year`, retrieving only their `name` and `founded year`."
   ]
  },
  {
   "cell_type": "code",
   "execution_count": 127,
   "metadata": {},
   "outputs": [
    {
     "name": "stdout",
     "output_type": "stream",
     "text": [
      "Fixya 2013\n",
      "Wamba 2013\n",
      "Advaliant 2013\n",
      "Fluc 2013\n",
      "iBazar 2013\n"
     ]
    }
   ],
   "source": [
    "cur = db.companies.find().sort([('founded_year', DESCENDING)]).limit(5)\n",
    "for e in cur:\n",
    "    print(e['name'],e['founded_year'])"
   ]
  },
  {
   "cell_type": "markdown",
   "metadata": {},
   "source": [
    "### 15. All the companies that have been founded on the first seven days of the month, including the seventh. Sort them by their `acquisition price` in a descending order. Limit the search to 10 documents."
   ]
  },
  {
   "cell_type": "code",
   "execution_count": 130,
   "metadata": {},
   "outputs": [
    {
     "name": "stdout",
     "output_type": "stream",
     "text": [
      "Sun Microsystems\n",
      "Siebel Systems\n",
      "Netscape\n",
      "SuccessFactors\n",
      "YouTube\n",
      "Zappos\n",
      "Meraki\n",
      "Tumblr\n",
      "Alibaba\n",
      "Kiva Systems\n"
     ]
    }
   ],
   "source": [
    "cur = db.companies.find({'founded_month': {'$lte': 7}}).sort([('acquisition.price_amount', DESCENDING)]).limit(10)\n",
    "for e in cur:\n",
    "    print(e['name'])"
   ]
  },
  {
   "cell_type": "markdown",
   "metadata": {},
   "source": [
    "### 16. All the companies on the 'web' `category` that have more than 4000 employees. Sort them by the amount of employees in ascending order."
   ]
  },
  {
   "cell_type": "code",
   "execution_count": 135,
   "metadata": {},
   "outputs": [
    {
     "name": "stdout",
     "output_type": "stream",
     "text": [
      "Expedia 4400\n",
      "AOL 8000\n",
      "Webkinz 8657\n",
      "Rakuten 10000\n",
      "Los Angeles Times Media Group 10000\n"
     ]
    }
   ],
   "source": [
    "cur = db.companies.find({'$and':[{'category_code': {'$eq':'web'}},{'number_of_employees':{'$gte':4000}}]}).sort([('number_of_employees',ASCENDING)]).limit(5)\n",
    "for i in cur:\n",
    "    print(i['name'],i['number_of_employees'])"
   ]
  },
  {
   "cell_type": "markdown",
   "metadata": {},
   "source": [
    "### 17. All the companies whose acquisition amount is more than 10.000.000, and currency is 'EUR'."
   ]
  },
  {
   "cell_type": "code",
   "execution_count": 140,
   "metadata": {},
   "outputs": [
    {
     "name": "stdout",
     "output_type": "stream",
     "text": [
      "ZYB {'price_amount': 31500000, 'price_currency_code': 'EUR', 'term_code': 'cash', 'source_url': 'http://www.techcrunch.com/2008/05/16/danish-mobile-social-network-zyb-acquired-by-vodafone-for-e315-million/', 'source_description': 'Danish Network ZYB Acquired By Vodafone For â‚¬31.5 million', 'acquired_year': 2008, 'acquired_month': 5, 'acquired_day': 16, 'acquiring_company': {'name': 'Vodafone', 'permalink': 'vodafone'}}\n",
      "Apertio {'price_amount': 140000000, 'price_currency_code': 'EUR', 'term_code': 'null', 'source_url': 'http://www.techcrunch.com/2008/01/03/nokia-siemens-acquires-apertio-for-e140m/', 'source_description': 'Nokia Siemens Acquires Apertio For â‚¬140m', 'acquired_year': 2008, 'acquired_month': 1, 'acquired_day': 3, 'acquiring_company': {'name': 'Nokia Siemens Networks', 'permalink': 'nokia-siemens-networks'}}\n",
      "Greenfield Online {'price_amount': 40000000, 'price_currency_code': 'EUR', 'term_code': 'null', 'source_url': 'http://www.research-live.com/news/m-and-a/toluna-buys-greenfield-online-survey-business-for-$40m/4000346.article', 'source_description': 'Toluna buys Greenfield Online survey business for $40m', 'acquired_year': 2009, 'acquired_month': 6, 'acquired_day': 26, 'acquiring_company': {'name': 'Toluna', 'permalink': 'toluna'}}\n"
     ]
    }
   ],
   "source": [
    "cur = db.companies.find({'$and':[{'acquisition.price_amount': {'$gte': 10000000}},{'acquisition.price_currency_code':{'$eq':'EUR'}}]}).limit(3)\n",
    "for e in cur:\n",
    "    print(e['name'],e['acquisition'])\n"
   ]
  },
  {
   "cell_type": "markdown",
   "metadata": {},
   "source": [
    "### 18. All the companies that have been acquired on the first trimester of the year. Limit the search to 10 companies, and retrieve only their `name` and `acquisition` fields."
   ]
  },
  {
   "cell_type": "code",
   "execution_count": 144,
   "metadata": {},
   "outputs": [
    {
     "name": "stdout",
     "output_type": "stream",
     "text": [
      "Kyte {'price_amount': nan, 'price_currency_code': 'USD', 'term_code': 'null', 'source_url': 'http://techcrunch.com/2011/01/31/exclusive-kit-digital-acquires-kickapps-kewego-and-kyte-for-77-2-million/', 'source_description': 'KIT digital Acquires KickApps, Kewego AND Kyte For $77.2 Million', 'acquired_year': 2011, 'acquired_month': 1, 'acquired_day': 31, 'acquiring_company': {'name': 'KIT digital', 'permalink': 'kit-digital'}}\n",
      "NetRatings {'price_amount': 327000000, 'price_currency_code': 'USD', 'term_code': 'cash', 'source_url': 'http://login.vnuemedia.com/hr/login/login_subscribe.jsp?id=0oqDem1gYIfIclz9i2%2Ffqj5NxCp2AC5DPbVnyT2da8GyV2mXjasabE128n69OrmcAh52%2FGE3pSG%2F%0AEKRYD9vh9EhrJrxukmUzh532fSMTZXL42gwPB80UWVtF1NwJ5UZSM%2BCkLU1mpYBoHFgiH%2Fi0f6Ax%0A9yMIVxt47t%2BHamhEQ0nkOEK24L', 'source_description': 'Nielsen buys rest of NetRatings', 'acquired_year': 2007, 'acquired_month': 2, 'acquired_day': nan, 'acquiring_company': {'name': 'Nielsen', 'permalink': 'nielsen'}}\n",
      "blogTV {'price_amount': nan, 'price_currency_code': 'USD', 'term_code': 'null', 'source_url': 'http://techcrunch.com/2013/03/13/younow-buys-blogtv/', 'source_description': 'Live Social Video Network YouNow Acquires Streaming Service BlogTV', 'acquired_year': 2013, 'acquired_month': 3, 'acquired_day': 13, 'acquiring_company': {'name': 'YouNow', 'permalink': 'younow'}}\n"
     ]
    }
   ],
   "source": [
    "cur = db.companies.find({'acquisition.acquired_month':{'$lte': 3}}).limit(3)\n",
    "                                                        \n",
    "for e in cur:\n",
    "    print(e['name'],e['acquisition'])"
   ]
  },
  {
   "cell_type": "markdown",
   "metadata": {},
   "source": [
    "# Bonus\n",
    "### 19. All the companies that have been founded between 2000 and 2010, but have not been acquired before 2011."
   ]
  },
  {
   "cell_type": "code",
   "execution_count": 154,
   "metadata": {},
   "outputs": [
    {
     "ename": "TypeError",
     "evalue": "string indices must be integers",
     "output_type": "error",
     "traceback": [
      "\u001b[0;31m---------------------------------------------------------------------------\u001b[0m",
      "\u001b[0;31mTypeError\u001b[0m                                 Traceback (most recent call last)",
      "\u001b[0;32m<ipython-input-154-e280d23fdb44>\u001b[0m in \u001b[0;36m<module>\u001b[0;34m\u001b[0m\n\u001b[1;32m      1\u001b[0m \u001b[0myear\u001b[0m \u001b[0;34m=\u001b[0m \u001b[0mlist\u001b[0m\u001b[0;34m(\u001b[0m\u001b[0mrange\u001b[0m\u001b[0;34m(\u001b[0m\u001b[0;36m2000\u001b[0m\u001b[0;34m,\u001b[0m\u001b[0;36m2011\u001b[0m\u001b[0;34m)\u001b[0m\u001b[0;34m)\u001b[0m\u001b[0;34m\u001b[0m\u001b[0;34m\u001b[0m\u001b[0m\n\u001b[0;32m----> 2\u001b[0;31m \u001b[0mcur\u001b[0m \u001b[0;34m=\u001b[0m \u001b[0mdb\u001b[0m\u001b[0;34m.\u001b[0m\u001b[0mcompanies\u001b[0m\u001b[0;34m.\u001b[0m\u001b[0mfind\u001b[0m\u001b[0;34m(\u001b[0m\u001b[0;34m{\u001b[0m\u001b[0;34m'$and'\u001b[0m\u001b[0;34m[\u001b[0m\u001b[0;34m{\u001b[0m\u001b[0;34m'founded_year'\u001b[0m\u001b[0;34m:\u001b[0m \u001b[0;34m{\u001b[0m\u001b[0;34m'$eq'\u001b[0m\u001b[0;34m:\u001b[0m \u001b[0myear\u001b[0m\u001b[0;34m}\u001b[0m\u001b[0;34m}\u001b[0m\u001b[0;34m,\u001b[0m\u001b[0;34m{\u001b[0m\u001b[0;34m'acquisition.acquired_year'\u001b[0m\u001b[0;34m:\u001b[0m\u001b[0;34m{\u001b[0m\u001b[0;34m'$not'\u001b[0m\u001b[0;34m:\u001b[0m\u001b[0;34m{\u001b[0m\u001b[0;34m'$lte'\u001b[0m\u001b[0;34m:\u001b[0m \u001b[0;36m2011\u001b[0m\u001b[0;34m}\u001b[0m\u001b[0;34m}\u001b[0m\u001b[0;34m}\u001b[0m\u001b[0;34m]\u001b[0m\u001b[0;34m}\u001b[0m\u001b[0;34m)\u001b[0m\u001b[0;34m\u001b[0m\u001b[0;34m\u001b[0m\u001b[0m\n\u001b[0m\u001b[1;32m      3\u001b[0m \u001b[0;32mfor\u001b[0m \u001b[0mi\u001b[0m \u001b[0;32min\u001b[0m \u001b[0mcur\u001b[0m\u001b[0;34m:\u001b[0m\u001b[0;34m\u001b[0m\u001b[0;34m\u001b[0m\u001b[0m\n\u001b[1;32m      4\u001b[0m     \u001b[0mprint\u001b[0m\u001b[0;34m(\u001b[0m\u001b[0mi\u001b[0m\u001b[0;34m[\u001b[0m\u001b[0;34m'name'\u001b[0m\u001b[0;34m]\u001b[0m\u001b[0;34m)\u001b[0m\u001b[0;34m\u001b[0m\u001b[0;34m\u001b[0m\u001b[0m\n",
      "\u001b[0;31mTypeError\u001b[0m: string indices must be integers"
     ]
    }
   ],
   "source": [
    "#no lo he conseguido :(\n",
    "year = list(range(2000,2011))\n",
    "cur = db.companies.find({'$and'[{'founded_year': {'$eq': year}},{'acquisition.acquired_year':{'$not':{'$lte': 2011}}}]})\n",
    "for i in cur:\n",
    "    print(i['name'])"
   ]
  },
  {
   "cell_type": "markdown",
   "metadata": {},
   "source": [
    "### 20. All the companies that have been 'deadpooled' after the third year."
   ]
  },
  {
   "cell_type": "code",
   "execution_count": 160,
   "metadata": {},
   "outputs": [
    {
     "ename": "TypeError",
     "evalue": "can only concatenate str (not \"int\") to str",
     "output_type": "error",
     "traceback": [
      "\u001b[0;31m---------------------------------------------------------------------------\u001b[0m",
      "\u001b[0;31mTypeError\u001b[0m                                 Traceback (most recent call last)",
      "\u001b[0;32m<ipython-input-160-4e9236418fe4>\u001b[0m in \u001b[0;36m<module>\u001b[0;34m\u001b[0m\n\u001b[0;32m----> 1\u001b[0;31m \u001b[0mcur\u001b[0m \u001b[0;34m=\u001b[0m \u001b[0mdb\u001b[0m\u001b[0;34m.\u001b[0m\u001b[0mcompanies\u001b[0m\u001b[0;34m.\u001b[0m\u001b[0mfind\u001b[0m\u001b[0;34m(\u001b[0m\u001b[0;34m{\u001b[0m\u001b[0;34m'$and'\u001b[0m\u001b[0;34m[\u001b[0m\u001b[0;34m{\u001b[0m\u001b[0;34m'deadpool_year'\u001b[0m\u001b[0;34m:\u001b[0m\u001b[0;34m{\u001b[0m\u001b[0;34m'$exists'\u001b[0m\u001b[0;34m:\u001b[0m\u001b[0;34m'true'\u001b[0m\u001b[0;34m}\u001b[0m\u001b[0;34m}\u001b[0m\u001b[0;34m,\u001b[0m\u001b[0;34m{\u001b[0m\u001b[0;34m'deadpool_year'\u001b[0m\u001b[0;34m:\u001b[0m\u001b[0;34m{\u001b[0m\u001b[0;34m'$gte'\u001b[0m\u001b[0;34m:\u001b[0m \u001b[0;34m[\u001b[0m\u001b[0;34m'founded_year'\u001b[0m\u001b[0;34m+\u001b[0m\u001b[0;36m3\u001b[0m\u001b[0;34m]\u001b[0m \u001b[0;34m}\u001b[0m\u001b[0;34m}\u001b[0m\u001b[0;34m]\u001b[0m\u001b[0;34m}\u001b[0m\u001b[0;34m)\u001b[0m\u001b[0;34m\u001b[0m\u001b[0;34m\u001b[0m\u001b[0m\n\u001b[0m",
      "\u001b[0;31mTypeError\u001b[0m: can only concatenate str (not \"int\") to str"
     ]
    }
   ],
   "source": [
    "#tampoco lo he conseguido\n",
    "cur = db.companies.find({'$and'[{'deadpool_year':{'$exists':'true'}},{'deadpool_year':{'$gte': ['founded_year'+3] }}]})"
   ]
  },
  {
   "cell_type": "code",
   "execution_count": null,
   "metadata": {},
   "outputs": [],
   "source": []
  }
 ],
 "metadata": {
  "kernelspec": {
   "display_name": "Python 3",
   "language": "python",
   "name": "python3"
  },
  "language_info": {
   "codemirror_mode": {
    "name": "ipython",
    "version": 3
   },
   "file_extension": ".py",
   "mimetype": "text/x-python",
   "name": "python",
   "nbconvert_exporter": "python",
   "pygments_lexer": "ipython3",
   "version": "3.7.7"
  }
 },
 "nbformat": 4,
 "nbformat_minor": 2
}
