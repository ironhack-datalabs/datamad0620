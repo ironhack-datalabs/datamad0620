{
 "cells": [
  {
   "cell_type": "markdown",
   "metadata": {},
   "source": [
    "# Advanced Querying Mongo"
   ]
  },
  {
   "cell_type": "markdown",
   "metadata": {},
   "source": [
    "Importing libraries and setting up connection"
   ]
  },
  {
   "cell_type": "code",
   "execution_count": 1,
   "metadata": {},
   "outputs": [
    {
     "name": "stdout",
     "output_type": "stream",
     "text": [
      "Requirement already satisfied: pymongo in /usr/local/lib/python3.7/site-packages (3.10.1)\r\n"
     ]
    }
   ],
   "source": [
    "!pip3 install pymongo"
   ]
  },
  {
   "cell_type": "code",
   "execution_count": 2,
   "metadata": {},
   "outputs": [],
   "source": [
    "from pymongo import MongoClient\n",
    "\n",
    "dbName = \"datamad0620\"\n",
    "mongodbURL = f\"mongodb://localhost/{dbName}\"\n",
    "\n",
    "client = MongoClient(mongodbURL, connectTimeoutMS=2000, serverSelectionTimeoutMS=2000)\n",
    "db = client.get_database()"
   ]
  },
  {
   "cell_type": "markdown",
   "metadata": {},
   "source": [
    "### 1. All the companies whose name match 'Babelgum'. Retrieve only their `name` field."
   ]
  },
  {
   "cell_type": "code",
   "execution_count": 3,
   "metadata": {},
   "outputs": [
    {
     "data": {
      "text/plain": [
       "[{'name': 'Babelgum'}]"
      ]
     },
     "execution_count": 3,
     "metadata": {},
     "output_type": "execute_result"
    }
   ],
   "source": [
    "# Your Code\n",
    "query = {\n",
    "        \"name\":\n",
    "            {\"$eq\":\"Babelgum\"}\n",
    "}\n",
    "projection = {\"name\":1, \"_id\":0}\n",
    "q1 = db.companies.find(query,projection)\n",
    "list(q1)"
   ]
  },
  {
   "cell_type": "markdown",
   "metadata": {},
   "source": [
    "### 2. All the companies that have more than 5000 employees. Limit the search to 20 companies and sort them by **number of employees**."
   ]
  },
  {
   "cell_type": "code",
   "execution_count": 4,
   "metadata": {},
   "outputs": [],
   "source": [
    "# Your Code\n",
    "from pymongo import ASCENDING, DESCENDING\n",
    "query = {\n",
    "        \"number_of_employees\"\n",
    "        :{\"$gt\":5000}\n",
    "}\n",
    "q2 = db.companies.find(query).limit(20).sort([(\"number_of_employees\",DESCENDING)])\n",
    "q2 = list(q2)"
   ]
  },
  {
   "cell_type": "markdown",
   "metadata": {},
   "source": [
    "### 3. All the companies founded between 2000 and 2005, both years included. Retrieve only the `name` and `founded_year` fields."
   ]
  },
  {
   "cell_type": "code",
   "execution_count": 5,
   "metadata": {},
   "outputs": [],
   "source": [
    "# Your Code\n",
    "\n",
    "query = {\n",
    "    \"$and\":\n",
    "        [{\"founded_year\":{\"$gte\":2000}},\n",
    "         {\"founded_year\":{\"$lte\":2005}}\n",
    "        ]\n",
    "}\n",
    "projection = {\"name\":1, \"founded_year\":1,\"_id\":0}\n",
    "q3 = list(db.companies.find(query, projection))"
   ]
  },
  {
   "cell_type": "markdown",
   "metadata": {},
   "source": [
    "### 4. All the companies that had a Valuation Amount of more than 100.000.000 and have been founded before 2010. Retrieve only the `name` and `ipo` fields."
   ]
  },
  {
   "cell_type": "code",
   "execution_count": 7,
   "metadata": {},
   "outputs": [],
   "source": [
    "# Your Code\n",
    "#{$and:[{\"total_money_raised\":{\"$gte\":\"$100.0M\"}},{\"founded_year\":{\"$lt\":2010}}]}\n",
    "\n",
    "query = {\n",
    "    \"$and\":\n",
    "    [{\"funding_rounds\":{\"$lt\":1000}},\n",
    "     {\"founded_year\":{\"$lt\":2019}}\n",
    "    ]\n",
    "}\n",
    "projection = {\"name\":1, \"ipo\":1,\"_id\":0}\n",
    "q4 = list(db.companies.find(query,projection))"
   ]
  },
  {
   "cell_type": "markdown",
   "metadata": {},
   "source": [
    "### 5. All the companies that have less than 1000 employees and have been founded before 2005. Order them by the number of employees and limit the search to 10 companies."
   ]
  },
  {
   "cell_type": "code",
   "execution_count": 8,
   "metadata": {},
   "outputs": [],
   "source": [
    "# Your Code\n",
    "query = {\n",
    "    \"$and\":\n",
    "    [{\"number_of_employees\":{\"$lt\":1000}},\n",
    "     {\"founded_year\":{\"$lt\":2005}}\n",
    "    ]\n",
    "}\n",
    "\n",
    "q5 = list(db.companies.find(query).limit(10).sort([(\"number_of_employees\",DESCENDING)]))"
   ]
  },
  {
   "cell_type": "markdown",
   "metadata": {},
   "source": [
    "### 6. All the companies that don't include the `partners` field."
   ]
  },
  {
   "cell_type": "code",
   "execution_count": 9,
   "metadata": {},
   "outputs": [],
   "source": [
    "# Your Code\n",
    "query ={ \n",
    "    \"partners\" : { \"$exists\" : \"false\" } \n",
    "}\n",
    "\n",
    "q6 = list(db.companies.find(query))"
   ]
  },
  {
   "cell_type": "markdown",
   "metadata": {},
   "source": [
    "### 7. All the companies that have a null type of value on the `category_code` field."
   ]
  },
  {
   "cell_type": "code",
   "execution_count": 45,
   "metadata": {},
   "outputs": [
    {
     "data": {
      "text/plain": [
       "[]"
      ]
     },
     "execution_count": 45,
     "metadata": {},
     "output_type": "execute_result"
    }
   ],
   "source": [
    "# Your Code\n",
    "query = {\"category_code\":{ \"$type\": \"null\"}}\n",
    "q7= list(db.companies.find(query))\n",
    "q17"
   ]
  },
  {
   "cell_type": "markdown",
   "metadata": {},
   "source": [
    "### 8. All the companies that have at least 100 employees but less than 1000. Retrieve only the `name` and `number of employees` fields."
   ]
  },
  {
   "cell_type": "code",
   "execution_count": 11,
   "metadata": {},
   "outputs": [],
   "source": [
    "# Your Code\n",
    "query = {\n",
    "    \"$and\":\n",
    "    [{\"number_of_employees\":{\"$gte\":100}},\n",
    "     {\"number_of_employees\":{\"$lte\":1000}}\n",
    "    ]\n",
    "}\n",
    "projection = {\"name\":1, \"number_of_employees\":1,\"_id\":0}\n",
    "q8 = list(db.companies.find(query,projection))"
   ]
  },
  {
   "cell_type": "markdown",
   "metadata": {},
   "source": [
    "### 9. Order all the companies by their IPO price in a descending order."
   ]
  },
  {
   "cell_type": "code",
   "execution_count": 12,
   "metadata": {},
   "outputs": [],
   "source": [
    "# Your Code\n",
    "query = {}\n",
    "q9 = db.companies.find(query).sort([(\"ipo\", DESCENDING)])"
   ]
  },
  {
   "cell_type": "markdown",
   "metadata": {},
   "source": [
    "### 10. Retrieve the 10 companies with more employees, order by the `number of employees`"
   ]
  },
  {
   "cell_type": "code",
   "execution_count": 13,
   "metadata": {},
   "outputs": [],
   "source": [
    "# Your Code\n",
    "query = {}\n",
    "q10 = db.companies.find(query).sort([(\"number_of_employees\", DESCENDING)]).limit(10)"
   ]
  },
  {
   "cell_type": "markdown",
   "metadata": {},
   "source": [
    "### 11. All the companies founded on the second semester of the year. Limit your search to 1000 companies."
   ]
  },
  {
   "cell_type": "code",
   "execution_count": 14,
   "metadata": {},
   "outputs": [],
   "source": [
    "# Your Code\n",
    "query = {\"founded_year\":\n",
    "         {\"$gte\":6}\n",
    "        }\n",
    "q10 = list(db.companies.find(query).limit(100))"
   ]
  },
  {
   "cell_type": "markdown",
   "metadata": {},
   "source": [
    "### 12. All the companies founded before 2000 that have an acquisition amount of more than 10.000.00"
   ]
  },
  {
   "cell_type": "code",
   "execution_count": 15,
   "metadata": {},
   "outputs": [
    {
     "data": {
      "text/plain": [
       "[]"
      ]
     },
     "execution_count": 15,
     "metadata": {},
     "output_type": "execute_result"
    }
   ],
   "source": [
    "# Your Code\n",
    "query = {\"$and\":\n",
    "         [{\"founded_year\":{\"$lt\":2000}},\n",
    "          { \"ipo\": {\"valuation_amount\":{\"$gt\":10000}}}\n",
    "         ]\n",
    "        }\n",
    "q12 = list(db.companies.find(query))\n",
    "q12\n",
    "\n",
    "query12 = {\"$and\":[{\"founded_year\":{\"$lte\":2000}},{\"ipo.valuation_amount\":{\"$gte\":10000}}]}\n",
    "list(db[\"companies\"].find(query12,{\"_id\":0,\"name\":1,\"ipo.valuation_amount\":1}).sort(\"number_of_employees\",-1).limit(10))"
   ]
  },
  {
   "cell_type": "markdown",
   "metadata": {},
   "source": [
    "### 13. All the companies that have been acquired after 2010, order by the acquisition amount, and retrieve only their `name` and `acquisition` field."
   ]
  },
  {
   "cell_type": "code",
   "execution_count": 16,
   "metadata": {},
   "outputs": [],
   "source": [
    "# Your Code\n",
    "query = {\"founded_year\":{\"$gt\":2010}}\n",
    "        \n",
    "projection = {\"name\":1, \"acquisition\":1,\"_id\":0}\n",
    "q13 = list(db.companies.find(query,projection).sort([(\"acquisition.price_amount\", DESCENDING)]))\n"
   ]
  },
  {
   "cell_type": "markdown",
   "metadata": {},
   "source": [
    "### 14. Order the companies by their `founded year`, retrieving only their `name` and `founded year`."
   ]
  },
  {
   "cell_type": "code",
   "execution_count": 17,
   "metadata": {},
   "outputs": [],
   "source": [
    "# Your Code\n",
    "query = {}\n",
    "projection = {\"name\":1, \"founded_year\":1,\"_id\":0}\n",
    "q14 = list(db.companies.find(query, projection).sort([(\"founded_year\", DESCENDING)]).limit(50))"
   ]
  },
  {
   "cell_type": "markdown",
   "metadata": {},
   "source": [
    "### 15. All the companies that have been founded on the first seven days of the month, including the seventh. Sort them by their `acquisition price` in a descending order. Limit the search to 10 documents."
   ]
  },
  {
   "cell_type": "code",
   "execution_count": 18,
   "metadata": {},
   "outputs": [],
   "source": [
    "# Your Code\n",
    "query = {\n",
    "        \"founded_day\"\n",
    "        :{\"$lte\":7}\n",
    "}\n",
    "q15 = list(db.companies.find(query).sort([(\"acquisition.price_amount\", DESCENDING)]).limit(10))\n"
   ]
  },
  {
   "cell_type": "markdown",
   "metadata": {},
   "source": [
    "### 16. All the companies on the 'web' `category` that have more than 4000 employees. Sort them by the amount of employees in ascending order."
   ]
  },
  {
   "cell_type": "code",
   "execution_count": 19,
   "metadata": {},
   "outputs": [],
   "source": [
    "# Your Code\n",
    "\n",
    "query = {\"$and\":\n",
    "         [{\"number_of:employees\":{\"$gt\":4000}},\n",
    "          { \"category_code\": {\"$eq\":\"web\"}}\n",
    "         ]\n",
    "        }\n",
    "\n",
    "q16 = list(db.companies.find(query).sort([(\"number_of_employees\", ASCENDING)]))\n"
   ]
  },
  {
   "cell_type": "markdown",
   "metadata": {},
   "source": [
    "### 17. All the companies whose acquisition amount is more than 10.000.000, and currency is 'EUR'."
   ]
  },
  {
   "cell_type": "code",
   "execution_count": 20,
   "metadata": {},
   "outputs": [],
   "source": [
    "# Your Code\n",
    "query = {\"$and\":\n",
    "        [{\"acquisition\": {\"price_amount\":{\"$gt\":10000000}}},\n",
    "         {\"acquisition\": {\"price_currency_code\":{\"$eq\":\"EUR\"}}}\n",
    "        ]\n",
    "}\n",
    "q17 = list(db.companies.find(query))\n"
   ]
  },
  {
   "cell_type": "markdown",
   "metadata": {},
   "source": [
    "### 18. All the companies that have been acquired on the first trimester of the year. Limit the search to 10 companies, and retrieve only their `name` and `acquisition` fields."
   ]
  },
  {
   "cell_type": "code",
   "execution_count": 36,
   "metadata": {},
   "outputs": [],
   "source": [
    "# Your Code\n",
    "query = {\"acquisition\": {\"acquired_year\":{\"$lte\":3}}}\n",
    "projection = {\"name\":1, \"acquisition\":1}\n",
    "\n",
    "q18 = list(db.companies.find(query,projection).limit(10))\n"
   ]
  },
  {
   "cell_type": "markdown",
   "metadata": {},
   "source": [
    "# Bonus\n",
    "### 19. All the companies that have been founded between 2000 and 2010, but have not been acquired before 2011."
   ]
  },
  {
   "cell_type": "code",
   "execution_count": 42,
   "metadata": {},
   "outputs": [],
   "source": [
    "# Your Code\n",
    "\n",
    "query = {\"$and\":\n",
    "           [{\"founded_year\":{\"$gte\":2000}}, \n",
    "            {\"founded_year\":{\"$lte\":2010}}, \n",
    "            {\"acquisition.acquired_year\":{\"$gt\":2011}}]\n",
    "          }\n",
    "       \n",
    "q19 = list(db.companies.find(query))\n"
   ]
  },
  {
   "cell_type": "markdown",
   "metadata": {},
   "source": [
    "### 20. All the companies that have been 'deadpooled' after the third year."
   ]
  },
  {
   "cell_type": "code",
   "execution_count": 46,
   "metadata": {},
   "outputs": [],
   "source": [
    "# Your Code\n",
    "query = {\"deadpooled_year\":{\"$gt\":3}}\n",
    "q20 = list(db.companies.find(query))"
   ]
  },
  {
   "cell_type": "code",
   "execution_count": null,
   "metadata": {},
   "outputs": [],
   "source": []
  }
 ],
 "metadata": {
  "kernelspec": {
   "display_name": "Python 3",
   "language": "python",
   "name": "python3"
  },
  "language_info": {
   "codemirror_mode": {
    "name": "ipython",
    "version": 3
   },
   "file_extension": ".py",
   "mimetype": "text/x-python",
   "name": "python",
   "nbconvert_exporter": "python",
   "pygments_lexer": "ipython3",
   "version": "3.7.4"
  }
 },
 "nbformat": 4,
 "nbformat_minor": 2
}
