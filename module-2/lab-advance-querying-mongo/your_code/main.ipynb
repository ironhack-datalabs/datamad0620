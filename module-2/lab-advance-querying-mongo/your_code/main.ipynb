{
 "cells": [
  {
   "cell_type": "markdown",
   "metadata": {},
   "source": [
    "# Advanced Querying Mongo"
   ]
  },
  {
   "cell_type": "markdown",
   "metadata": {},
   "source": [
    "Importing libraries and setting up connection"
   ]
  },
  {
   "cell_type": "code",
   "execution_count": 28,
   "metadata": {},
   "outputs": [],
   "source": [
    "from pymongo import MongoClient\n",
    "dbName=\"companies\"\n",
    "mongodbURL=f\"mongodb://localhost/{dbName}\"\n",
    "client = MongoClient(mongodbURL, connectTimeoutMS=2000, serverSelectionTimeoutMS=2000)\n",
    "db=client.get_database()"
   ]
  },
  {
   "cell_type": "markdown",
   "metadata": {},
   "source": [
    "### 1. All the companies whose name match 'Babelgum'. Retrieve only their `name` field."
   ]
  },
  {
   "cell_type": "code",
   "execution_count": 29,
   "metadata": {},
   "outputs": [
    {
     "data": {
      "text/plain": [
       "[{'_id': ObjectId('52cdef7c4bab8bd675297da0'), 'name': 'Babelgum'}]"
      ]
     },
     "execution_count": 29,
     "metadata": {},
     "output_type": "execute_result"
    }
   ],
   "source": [
    "query={\"name\":{\"$eq\":\"Babelgum\"}}\n",
    "list(db[\"companies\"].find(query,{\"name\":1}))\n"
   ]
  },
  {
   "cell_type": "markdown",
   "metadata": {},
   "source": [
    "### 2. All the companies that have more than 5000 employees. Limit the search to 20 companies and sort them by **number of employees**."
   ]
  },
  {
   "cell_type": "code",
   "execution_count": 42,
   "metadata": {},
   "outputs": [
    {
     "data": {
      "text/plain": [
       "[{'_id': ObjectId('52cdef7d4bab8bd67529941a'),\n",
       "  'name': 'Siemens',\n",
       "  'number_of_employees': 405000},\n",
       " {'_id': ObjectId('52cdef7c4bab8bd67529856a'),\n",
       "  'name': 'IBM',\n",
       "  'number_of_employees': 388000},\n",
       " {'_id': ObjectId('52cdef7d4bab8bd675299d33'),\n",
       "  'name': 'Toyota',\n",
       "  'number_of_employees': 320000},\n",
       " {'_id': ObjectId('52cdef7c4bab8bd675297e89'),\n",
       "  'name': 'PayPal',\n",
       "  'number_of_employees': 300000},\n",
       " {'_id': ObjectId('52cdef7e4bab8bd67529b0fe'),\n",
       "  'name': 'Nippon Telegraph and Telephone Corporation',\n",
       "  'number_of_employees': 227000},\n",
       " {'_id': ObjectId('52cdef7d4bab8bd675298aa4'),\n",
       "  'name': 'Samsung Electronics',\n",
       "  'number_of_employees': 221726},\n",
       " {'_id': ObjectId('52cdef7d4bab8bd675298b99'),\n",
       "  'name': 'Accenture',\n",
       "  'number_of_employees': 205000},\n",
       " {'_id': ObjectId('52cdef7e4bab8bd67529a657'),\n",
       "  'name': 'Tata Consultancy Services',\n",
       "  'number_of_employees': 200300},\n",
       " {'_id': ObjectId('52cdef7e4bab8bd67529aa51'),\n",
       "  'name': 'Flextronics International',\n",
       "  'number_of_employees': 200000},\n",
       " {'_id': ObjectId('52cdef7d4bab8bd675299156'),\n",
       "  'name': 'Safeway',\n",
       "  'number_of_employees': 186000}]"
      ]
     },
     "execution_count": 42,
     "metadata": {},
     "output_type": "execute_result"
    }
   ],
   "source": [
    "from pymongo import ASCENDING, DESCENDING\n",
    "#pongo solo empleados, nombre y limit 10 para que no te eternices\n",
    "query={\"number_of_employees\":{\"$gt\":5000}}\n",
    "list(db.companies.find(query,{\"name\":1,\"number_of_employees\":1}).sort([(\"number_of_employees\",DESCENDING)]).limit(10))"
   ]
  },
  {
   "cell_type": "markdown",
   "metadata": {},
   "source": [
    "### 3. All the companies founded between 2000 and 2005, both years included. Retrieve only the `name` and `founded_year` fields."
   ]
  },
  {
   "cell_type": "code",
   "execution_count": 49,
   "metadata": {},
   "outputs": [
    {
     "data": {
      "text/plain": [
       "[{'_id': ObjectId('52cdef7c4bab8bd675297d8a'),\n",
       "  'name': 'Wetpaint',\n",
       "  'founded_year': 2005},\n",
       " {'_id': ObjectId('52cdef7c4bab8bd675297d8f'),\n",
       "  'name': 'Omnidrive',\n",
       "  'founded_year': 2005},\n",
       " {'_id': ObjectId('52cdef7c4bab8bd675297d8c'),\n",
       "  'name': 'Zoho',\n",
       "  'founded_year': 2005},\n",
       " {'_id': ObjectId('52cdef7c4bab8bd675297d8d'),\n",
       "  'name': 'Digg',\n",
       "  'founded_year': 2004},\n",
       " {'_id': ObjectId('52cdef7c4bab8bd675297d96'),\n",
       "  'name': 'Gizmoz',\n",
       "  'founded_year': 2003},\n",
       " {'_id': ObjectId('52cdef7c4bab8bd675297d95'),\n",
       "  'name': 'StumbleUpon',\n",
       "  'founded_year': 2002},\n",
       " {'_id': ObjectId('52cdef7c4bab8bd675297d9a'),\n",
       "  'name': 'Helio',\n",
       "  'founded_year': 2005},\n",
       " {'_id': ObjectId('52cdef7c4bab8bd675297d8e'),\n",
       "  'name': 'Facebook',\n",
       "  'founded_year': 2004}]"
      ]
     },
     "execution_count": 49,
     "metadata": {},
     "output_type": "execute_result"
    }
   ],
   "source": [
    "query={\"founded_year\":{\"$gte\": 2000, \"$lte\":2005}}\n",
    "cur=list(db.companies.find(query,{\"name\":1,\"founded_year\":1}))\n",
    "cur[:8]"
   ]
  },
  {
   "cell_type": "markdown",
   "metadata": {},
   "source": [
    "### 4. All the companies that had a Valuation Amount of more than 100.000.000 and have been founded before 2010. Retrieve only the `name` and `ipo` fields."
   ]
  },
  {
   "cell_type": "code",
   "execution_count": 53,
   "metadata": {},
   "outputs": [
    {
     "data": {
      "text/plain": [
       "[{'_id': ObjectId('52cdef7c4bab8bd675297d8e'),\n",
       "  'name': 'Facebook',\n",
       "  'ipo': {'valuation_amount': 104000000000,\n",
       "   'valuation_currency_code': 'USD',\n",
       "   'pub_year': 2012,\n",
       "   'pub_month': 5,\n",
       "   'pub_day': 18,\n",
       "   'stock_symbol': 'NASDAQ:FB'}},\n",
       " {'_id': ObjectId('52cdef7c4bab8bd675297d94'),\n",
       "  'name': 'Twitter',\n",
       "  'ipo': {'valuation_amount': 18100000000,\n",
       "   'valuation_currency_code': 'USD',\n",
       "   'pub_year': 2013,\n",
       "   'pub_month': 11,\n",
       "   'pub_day': 7,\n",
       "   'stock_symbol': 'NYSE:TWTR'}},\n",
       " {'_id': ObjectId('52cdef7c4bab8bd675297de0'),\n",
       "  'name': 'Yelp',\n",
       "  'ipo': {'valuation_amount': 1300000000,\n",
       "   'valuation_currency_code': 'USD',\n",
       "   'pub_year': 2012,\n",
       "   'pub_month': 3,\n",
       "   'pub_day': 2,\n",
       "   'stock_symbol': 'NYSE:YELP'}},\n",
       " {'_id': ObjectId('52cdef7c4bab8bd675297e0c'),\n",
       "  'name': 'LinkedIn',\n",
       "  'ipo': {'valuation_amount': 9310000000,\n",
       "   'valuation_currency_code': 'USD',\n",
       "   'pub_year': 2011,\n",
       "   'pub_month': 7,\n",
       "   'pub_day': 20,\n",
       "   'stock_symbol': 'NYSE:LNKD'}},\n",
       " {'_id': ObjectId('52cdef7c4bab8bd675297e81'),\n",
       "  'name': 'Brightcove',\n",
       "  'ipo': {'valuation_amount': 290000000,\n",
       "   'valuation_currency_code': 'USD',\n",
       "   'pub_year': 2012,\n",
       "   'pub_month': 2,\n",
       "   'pub_day': 17,\n",
       "   'stock_symbol': 'NASDAQ:BCOV'}}]"
      ]
     },
     "execution_count": 53,
     "metadata": {},
     "output_type": "execute_result"
    }
   ],
   "source": [
    "query={\"ipo.valuation_amount\":{\"$gt\":100000000}, \"founded_year\":{\"$lte\": 2010}}\n",
    "cur=list(db.companies.find(query,{\"name\":1,\"ipo\":1}))\n",
    "cur[:5]"
   ]
  },
  {
   "cell_type": "markdown",
   "metadata": {},
   "source": [
    "### 5. All the companies that have less than 1000 employees and have been founded before 2005. Order them by the number of employees and limit the search to 10 companies."
   ]
  },
  {
   "cell_type": "code",
   "execution_count": 61,
   "metadata": {},
   "outputs": [],
   "source": [
    "query={\"number_of_employees\":{\"$gt\":5000},\"founded_year\":{\"$lte\": 2005}}\n",
    "cur=list(db.companies.find(query).sort([(\"number_of_employees\", ASCENDING)]).limit(10))\n",
    "#no te lo ejecuto porque es larguísimo"
   ]
  },
  {
   "cell_type": "markdown",
   "metadata": {},
   "source": [
    "### 6. All the companies that don't include the `partners` field."
   ]
  },
  {
   "cell_type": "code",
   "execution_count": 66,
   "metadata": {},
   "outputs": [
    {
     "data": {
      "text/plain": [
       "[]"
      ]
     },
     "execution_count": 66,
     "metadata": {},
     "output_type": "execute_result"
    }
   ],
   "source": [
    "query={\"partners\":{\"$exists\":False}} \n",
    "list(db.companies.find(query))"
   ]
  },
  {
   "cell_type": "markdown",
   "metadata": {},
   "source": [
    "### 7. All the companies that have a null type of value on the `category_code` field."
   ]
  },
  {
   "cell_type": "code",
   "execution_count": 73,
   "metadata": {},
   "outputs": [
    {
     "data": {
      "text/plain": [
       "[{'_id': ObjectId('52cdef7c4bab8bd6752980f6'),\n",
       "  'name': 'Collective',\n",
       "  'permalink': 'collective',\n",
       "  'crunchbase_url': 'http://www.crunchbase.com/company/collective',\n",
       "  'homepage_url': None,\n",
       "  'blog_url': None,\n",
       "  'blog_feed_url': None,\n",
       "  'twitter_username': None,\n",
       "  'category_code': None,\n",
       "  'number_of_employees': None,\n",
       "  'founded_year': None,\n",
       "  'founded_month': None,\n",
       "  'founded_day': None,\n",
       "  'deadpooled_year': None,\n",
       "  'deadpooled_month': None,\n",
       "  'deadpooled_day': None,\n",
       "  'deadpooled_url': None,\n",
       "  'tag_list': None,\n",
       "  'alias_list': None,\n",
       "  'email_address': None,\n",
       "  'phone_number': None,\n",
       "  'description': None,\n",
       "  'created_at': 'Thu Sep 26 13:15:02 UTC 2013',\n",
       "  'updated_at': 'Thu Sep 26 13:15:02 UTC 2013',\n",
       "  'overview': None,\n",
       "  'image': None,\n",
       "  'products': [],\n",
       "  'relationships': [],\n",
       "  'competitions': [],\n",
       "  'providerships': [],\n",
       "  'total_money_raised': '$0',\n",
       "  'funding_rounds': [],\n",
       "  'investments': [],\n",
       "  'acquisition': None,\n",
       "  'acquisitions': [],\n",
       "  'offices': [],\n",
       "  'milestones': [],\n",
       "  'ipo': None,\n",
       "  'video_embeds': [],\n",
       "  'screenshots': [],\n",
       "  'external_links': [],\n",
       "  'partners': []},\n",
       " {'_id': ObjectId('52cdef7c4bab8bd675298225'),\n",
       "  'name': 'Snimmer',\n",
       "  'permalink': 'snimmer',\n",
       "  'crunchbase_url': 'http://www.crunchbase.com/company/snimmer',\n",
       "  'homepage_url': None,\n",
       "  'blog_url': None,\n",
       "  'blog_feed_url': None,\n",
       "  'twitter_username': None,\n",
       "  'category_code': None,\n",
       "  'number_of_employees': None,\n",
       "  'founded_year': None,\n",
       "  'founded_month': None,\n",
       "  'founded_day': None,\n",
       "  'deadpooled_year': None,\n",
       "  'deadpooled_month': None,\n",
       "  'deadpooled_day': None,\n",
       "  'deadpooled_url': None,\n",
       "  'tag_list': None,\n",
       "  'alias_list': None,\n",
       "  'email_address': None,\n",
       "  'phone_number': None,\n",
       "  'description': None,\n",
       "  'created_at': 'Sat Feb 09 20:35:27 UTC 2008',\n",
       "  'updated_at': 'Mon Mar 10 01:30:14 UTC 2008',\n",
       "  'overview': None,\n",
       "  'image': None,\n",
       "  'products': [],\n",
       "  'relationships': [],\n",
       "  'competitions': [],\n",
       "  'providerships': [],\n",
       "  'total_money_raised': '$0',\n",
       "  'funding_rounds': [],\n",
       "  'investments': [],\n",
       "  'acquisition': None,\n",
       "  'acquisitions': [],\n",
       "  'offices': [],\n",
       "  'milestones': [],\n",
       "  'ipo': None,\n",
       "  'video_embeds': [],\n",
       "  'screenshots': [],\n",
       "  'external_links': [],\n",
       "  'partners': []}]"
      ]
     },
     "execution_count": 73,
     "metadata": {},
     "output_type": "execute_result"
    }
   ],
   "source": [
    "query={\"category_code\":{\"$type\":\"null\"}}\n",
    "cur=list(db.companies.find(query))\n",
    "cur[:2]\n",
    "#es larga, sorry"
   ]
  },
  {
   "cell_type": "markdown",
   "metadata": {},
   "source": [
    "### 8. All the companies that have at least 100 employees but less than 1000. Retrieve only the `name` and `number of employees` fields."
   ]
  },
  {
   "cell_type": "code",
   "execution_count": 76,
   "metadata": {},
   "outputs": [
    {
     "data": {
      "text/plain": [
       "[{'_id': ObjectId('52cdef7c4bab8bd675297d8b'),\n",
       "  'name': 'AdventNet',\n",
       "  'number_of_employees': 600},\n",
       " {'_id': ObjectId('52cdef7c4bab8bd675297da8'),\n",
       "  'name': 'OpenX',\n",
       "  'number_of_employees': 305},\n",
       " {'_id': ObjectId('52cdef7c4bab8bd675297da7'),\n",
       "  'name': 'AddThis',\n",
       "  'number_of_employees': 120},\n",
       " {'_id': ObjectId('52cdef7c4bab8bd675297db5'),\n",
       "  'name': 'LifeLock',\n",
       "  'number_of_employees': 644}]"
      ]
     },
     "execution_count": 76,
     "metadata": {},
     "output_type": "execute_result"
    }
   ],
   "source": [
    "query={\"number_of_employees\":{\"$gte\": 100, \"$lte\":1000}}\n",
    "cur=list(db.companies.find(query,{\"name\":1,\"number_of_employees\":1}))\n",
    "cur[:4]"
   ]
  },
  {
   "cell_type": "markdown",
   "metadata": {},
   "source": [
    "### 9. Order all the companies by their IPO price in a descending order."
   ]
  },
  {
   "cell_type": "code",
   "execution_count": 83,
   "metadata": {},
   "outputs": [],
   "source": [
    "query={}\n",
    "cur=list(db.companies.find(query).sort([(\"ipo.valuation_amount\",DESCENDING)]).limit(4))\n",
    "#Ras es eterno no te lo ejecuto"
   ]
  },
  {
   "cell_type": "markdown",
   "metadata": {},
   "source": [
    "### 10. Retrieve the 10 companies with more employees, order by the `number of employees`"
   ]
  },
  {
   "cell_type": "code",
   "execution_count": 88,
   "metadata": {},
   "outputs": [
    {
     "data": {
      "text/plain": [
       "[{'_id': ObjectId('52cdef7d4bab8bd67529941a'),\n",
       "  'name': 'Siemens',\n",
       "  'number_of_employees': 405000},\n",
       " {'_id': ObjectId('52cdef7c4bab8bd67529856a'),\n",
       "  'name': 'IBM',\n",
       "  'number_of_employees': 388000},\n",
       " {'_id': ObjectId('52cdef7d4bab8bd675299d33'),\n",
       "  'name': 'Toyota',\n",
       "  'number_of_employees': 320000},\n",
       " {'_id': ObjectId('52cdef7c4bab8bd675297e89'),\n",
       "  'name': 'PayPal',\n",
       "  'number_of_employees': 300000},\n",
       " {'_id': ObjectId('52cdef7e4bab8bd67529b0fe'),\n",
       "  'name': 'Nippon Telegraph and Telephone Corporation',\n",
       "  'number_of_employees': 227000}]"
      ]
     },
     "execution_count": 88,
     "metadata": {},
     "output_type": "execute_result"
    }
   ],
   "source": [
    "query={}\n",
    "cur=list(db.companies.find(query,{\"name\":1,\"number_of_employees\":1}).sort([(\"number_of_employees\",DESCENDING)]).limit(10))\n",
    "cur[:5]"
   ]
  },
  {
   "cell_type": "markdown",
   "metadata": {},
   "source": [
    "### 11. All the companies founded on the second semester of the year. Limit your search to 1000 companies."
   ]
  },
  {
   "cell_type": "code",
   "execution_count": 95,
   "metadata": {},
   "outputs": [
    {
     "data": {
      "text/plain": [
       "[{'_id': ObjectId('52cdef7c4bab8bd675297d8a'),\n",
       "  'name': 'Wetpaint',\n",
       "  'founded_month': 10},\n",
       " {'_id': ObjectId('52cdef7c4bab8bd675297d8f'),\n",
       "  'name': 'Omnidrive',\n",
       "  'founded_month': 11},\n",
       " {'_id': ObjectId('52cdef7c4bab8bd675297d8c'),\n",
       "  'name': 'Zoho',\n",
       "  'founded_month': 9},\n",
       " {'_id': ObjectId('52cdef7c4bab8bd675297d8d'),\n",
       "  'name': 'Digg',\n",
       "  'founded_month': 10},\n",
       " {'_id': ObjectId('52cdef7c4bab8bd675297d9d'),\n",
       "  'name': 'Joost',\n",
       "  'founded_month': 10}]"
      ]
     },
     "execution_count": 95,
     "metadata": {},
     "output_type": "execute_result"
    }
   ],
   "source": [
    "query={\"founded_month\":{\"$gt\":6}}\n",
    "cur=list(db.companies.find(query,{\"name\":1,\"founded_month\":1}).limit(1000))\n",
    "cur[:5]"
   ]
  },
  {
   "cell_type": "markdown",
   "metadata": {},
   "source": [
    "### 12. All the companies founded before 2000 that have an acquisition amount of more than 10.000.00"
   ]
  },
  {
   "cell_type": "code",
   "execution_count": 102,
   "metadata": {},
   "outputs": [
    {
     "data": {
      "text/plain": [
       "[{'_id': ObjectId('52cdef7c4bab8bd675297d90'),\n",
       "  'name': 'Postini',\n",
       "  'acquisition': {'price_amount': 625000000,\n",
       "   'price_currency_code': 'USD',\n",
       "   'term_code': 'cash',\n",
       "   'source_url': 'http://www.techcrunch.com/2007/07/09/google-acquires-postini-for-625-million/',\n",
       "   'source_description': 'http://www.techcrunch.com/2007/07/09/google-acquires-postini-for-625-million/',\n",
       "   'acquired_year': 2007,\n",
       "   'acquired_month': 7,\n",
       "   'acquired_day': 9,\n",
       "   'acquiring_company': {'name': 'Google', 'permalink': 'google'}}},\n",
       " {'_id': ObjectId('52cdef7c4bab8bd675297deb'),\n",
       "  'name': 'SideStep',\n",
       "  'acquisition': {'price_amount': 180000000,\n",
       "   'price_currency_code': 'USD',\n",
       "   'term_code': 'cash',\n",
       "   'source_url': 'http://www.xconomy.com/2007/12/21/kayak-sidestep-will-travel-together-in-rare-east-buys-west-acquisition/',\n",
       "   'source_description': 'xconomy',\n",
       "   'acquired_year': 2007,\n",
       "   'acquired_month': 12,\n",
       "   'acquired_day': 1,\n",
       "   'acquiring_company': {'name': 'KAYAK', 'permalink': 'kayak'}}},\n",
       " {'_id': ObjectId('52cdef7c4bab8bd675297e2c'),\n",
       "  'name': 'Recipezaar',\n",
       "  'acquisition': {'price_amount': 25000000,\n",
       "   'price_currency_code': 'USD',\n",
       "   'term_code': 'cash',\n",
       "   'source_url': 'http://blog.seattlepi.nwsource.com/venture/archives/118242.asp',\n",
       "   'source_description': 'seatlepi.com',\n",
       "   'acquired_year': 2007,\n",
       "   'acquired_month': 7,\n",
       "   'acquired_day': 1,\n",
       "   'acquiring_company': {'name': 'Scripps Networks Interactive',\n",
       "    'permalink': 'scripps-networks-interactive'}}}]"
      ]
     },
     "execution_count": 102,
     "metadata": {},
     "output_type": "execute_result"
    }
   ],
   "source": [
    "query={\"founded_year\":{\"$lt\":2000},\"acquisition.price_amount\":{\"$gt\":10000}}\n",
    "cur=list(db.companies.find(query,{\"name\":1,\"acquisition\":1}).limit(5))\n",
    "cur[:3]"
   ]
  },
  {
   "cell_type": "markdown",
   "metadata": {},
   "source": [
    "### 13. All the companies that have been acquired after 2010, order by the acquisition amount, and retrieve only their `name` and `acquisition` field."
   ]
  },
  {
   "cell_type": "code",
   "execution_count": 104,
   "metadata": {},
   "outputs": [
    {
     "data": {
      "text/plain": [
       "[{'_id': ObjectId('52cdef7c4bab8bd675297ea7'),\n",
       "  'name': 'Mokitown',\n",
       "  'acquisition': None},\n",
       " {'_id': ObjectId('52cdef7c4bab8bd675297f78'),\n",
       "  'name': 'CircleUp',\n",
       "  'acquisition': None},\n",
       " {'_id': ObjectId('52cdef7c4bab8bd675297f94'),\n",
       "  'name': 'PeekYou',\n",
       "  'acquisition': None},\n",
       " {'_id': ObjectId('52cdef7c4bab8bd675297fb1'),\n",
       "  'name': 'headr',\n",
       "  'acquisition': None},\n",
       " {'_id': ObjectId('52cdef7c4bab8bd675297fec'),\n",
       "  'name': 'Fixya',\n",
       "  'acquisition': None}]"
      ]
     },
     "execution_count": 104,
     "metadata": {},
     "output_type": "execute_result"
    }
   ],
   "source": [
    "query={\"founded_year\":{\"$gt\":2010}}\n",
    "cur=list(db.companies.find(query,{\"name\":1,\"acquisition\":1}).sort([(\"acquisition.price_amount\",DESCENDING)]).limit(5))\n",
    "cur"
   ]
  },
  {
   "cell_type": "markdown",
   "metadata": {},
   "source": [
    "### 14. Order the companies by their `founded year`, retrieving only their `name` and `founded year`."
   ]
  },
  {
   "cell_type": "code",
   "execution_count": 105,
   "metadata": {},
   "outputs": [
    {
     "data": {
      "text/plain": [
       "[{'_id': ObjectId('52cdef7c4bab8bd675297fec'),\n",
       "  'name': 'Fixya',\n",
       "  'founded_year': 2013},\n",
       " {'_id': ObjectId('52cdef7c4bab8bd67529801f'),\n",
       "  'name': 'Wamba',\n",
       "  'founded_year': 2013},\n",
       " {'_id': ObjectId('52cdef7c4bab8bd6752982d4'),\n",
       "  'name': 'Advaliant',\n",
       "  'founded_year': 2013},\n",
       " {'_id': ObjectId('52cdef7c4bab8bd67529830a'),\n",
       "  'name': 'Fluc',\n",
       "  'founded_year': 2013},\n",
       " {'_id': ObjectId('52cdef7d4bab8bd675298ea7'),\n",
       "  'name': 'iBazar',\n",
       "  'founded_year': 2013}]"
      ]
     },
     "execution_count": 105,
     "metadata": {},
     "output_type": "execute_result"
    }
   ],
   "source": [
    "query={}\n",
    "list(db.companies.find(query,{\"name\":1,\"founded_year\":1}).sort([(\"founded_year\",DESCENDING)]).limit(5))\n"
   ]
  },
  {
   "cell_type": "markdown",
   "metadata": {},
   "source": [
    "### 15. All the companies that have been founded on the first seven days of the month, including the seventh. Sort them by their `acquisition price` in a descending order. Limit the search to 10 documents."
   ]
  },
  {
   "cell_type": "code",
   "execution_count": 109,
   "metadata": {},
   "outputs": [
    {
     "data": {
      "text/plain": [
       "[{'_id': ObjectId('52cdef7d4bab8bd6752989a1'),\n",
       "  'name': 'Netscape',\n",
       "  'founded_day': 4,\n",
       "  'acquisition': {'price_amount': 4200000000}},\n",
       " {'_id': ObjectId('52cdef7c4bab8bd675297e89'),\n",
       "  'name': 'PayPal',\n",
       "  'founded_day': 1,\n",
       "  'acquisition': {'price_amount': 1500000000}},\n",
       " {'_id': ObjectId('52cdef7c4bab8bd675297efe'),\n",
       "  'name': 'Zappos',\n",
       "  'founded_day': 1,\n",
       "  'acquisition': {'price_amount': 1200000000}},\n",
       " {'_id': ObjectId('52cdef7c4bab8bd675297f0c'),\n",
       "  'name': 'Alibaba',\n",
       "  'founded_day': 1,\n",
       "  'acquisition': {'price_amount': 1000000000}},\n",
       " {'_id': ObjectId('52cdef7c4bab8bd675297d90'),\n",
       "  'name': 'Postini',\n",
       "  'founded_day': 2,\n",
       "  'acquisition': {'price_amount': 625000000}},\n",
       " {'_id': ObjectId('52cdef7c4bab8bd67529831c'),\n",
       "  'name': 'Danger',\n",
       "  'founded_day': 1,\n",
       "  'acquisition': {'price_amount': 500000000}},\n",
       " {'_id': ObjectId('52cdef7c4bab8bd675298651'),\n",
       "  'name': 'Clearwell Systems',\n",
       "  'founded_day': 6,\n",
       "  'acquisition': {'price_amount': 410000000}},\n",
       " {'_id': ObjectId('52cdef7d4bab8bd6752989b8'),\n",
       "  'name': 'PrimeSense',\n",
       "  'founded_day': 1,\n",
       "  'acquisition': {'price_amount': 345000000}}]"
      ]
     },
     "execution_count": 109,
     "metadata": {},
     "output_type": "execute_result"
    }
   ],
   "source": [
    "query={\"founded_day\":{\"$lte\":7}}\n",
    "list(db.companies.find(query,{\"name\":1,\"founded_day\":1,\"acquisition.price_amount\":1}).sort([(\"acquisition.price_amount\",DESCENDING)]).limit(8))"
   ]
  },
  {
   "cell_type": "markdown",
   "metadata": {},
   "source": [
    "### 16. All the companies on the 'web' `category` that have more than 4000 employees. Sort them by the amount of employees in ascending order."
   ]
  },
  {
   "cell_type": "code",
   "execution_count": 116,
   "metadata": {},
   "outputs": [
    {
     "data": {
      "text/plain": [
       "[{'_id': ObjectId('52cdef7c4bab8bd6752982a8'),\n",
       "  'name': 'Experian',\n",
       "  'category_code': 'web',\n",
       "  'number_of_employees': 15500},\n",
       " {'_id': ObjectId('52cdef7c4bab8bd675297d9b'),\n",
       "  'name': 'eBay',\n",
       "  'category_code': 'web',\n",
       "  'number_of_employees': 15000},\n",
       " {'_id': ObjectId('52cdef7c4bab8bd675297da3'),\n",
       "  'name': 'Yahoo!',\n",
       "  'category_code': 'web',\n",
       "  'number_of_employees': 13600},\n",
       " {'_id': ObjectId('52cdef7c4bab8bd675297fcb'),\n",
       "  'name': 'Rakuten',\n",
       "  'category_code': 'web',\n",
       "  'number_of_employees': 10000},\n",
       " {'_id': ObjectId('52cdef7c4bab8bd67529834c'),\n",
       "  'name': 'Los Angeles Times Media Group',\n",
       "  'category_code': 'web',\n",
       "  'number_of_employees': 10000},\n",
       " {'_id': ObjectId('52cdef7d4bab8bd675299d5d'),\n",
       "  'name': 'Groupon',\n",
       "  'category_code': 'web',\n",
       "  'number_of_employees': 10000}]"
      ]
     },
     "execution_count": 116,
     "metadata": {},
     "output_type": "execute_result"
    }
   ],
   "source": [
    "query={\"category_code\":\"web\",\"number_of_employees\":{\"$gt\":4000}}\n",
    "cur=list(db.companies.find(query,{\"name\":1,\"category\":1,\"number_of_employees\":1,\"category_code\":1}).sort([(\"number_of_employees\",DESCENDING)]))\n",
    "cur[:6]"
   ]
  },
  {
   "cell_type": "markdown",
   "metadata": {},
   "source": [
    "### 17. All the companies whose acquisition amount is more than 10.000.000, and currency is 'EUR'."
   ]
  },
  {
   "cell_type": "code",
   "execution_count": 120,
   "metadata": {},
   "outputs": [
    {
     "data": {
      "text/plain": [
       "[{'_id': ObjectId('52cdef7c4bab8bd675297f02'),\n",
       "  'name': 'ZYB',\n",
       "  'acquisition': {'price_amount': 31500000, 'price_currency_code': 'EUR'}},\n",
       " {'_id': ObjectId('52cdef7d4bab8bd675298bf3'),\n",
       "  'name': 'Apertio',\n",
       "  'acquisition': {'price_amount': 140000000, 'price_currency_code': 'EUR'}},\n",
       " {'_id': ObjectId('52cdef7d4bab8bd675298f47'),\n",
       "  'name': 'Greenfield Online',\n",
       "  'acquisition': {'price_amount': 40000000, 'price_currency_code': 'EUR'}},\n",
       " {'_id': ObjectId('52cdef7e4bab8bd67529a536'),\n",
       "  'name': 'Webedia',\n",
       "  'acquisition': {'price_amount': 70000000, 'price_currency_code': 'EUR'}},\n",
       " {'_id': ObjectId('52cdef7e4bab8bd67529a729'),\n",
       "  'name': 'Wayfinder',\n",
       "  'acquisition': {'price_amount': 24000000, 'price_currency_code': 'EUR'}}]"
      ]
     },
     "execution_count": 120,
     "metadata": {},
     "output_type": "execute_result"
    }
   ],
   "source": [
    "query={\"acquisition.price_currency_code\":\"EUR\",\"acquisition.price_amount\":{\"$gt\":10000000}}\n",
    "cur=list(db.companies.find(query,{\"name\":1,\"acquisition.price_currency_code\":1,\"acquisition.price_amount\":1}))\n",
    "cur[:5]"
   ]
  },
  {
   "cell_type": "markdown",
   "metadata": {},
   "source": [
    "### 18. All the companies that have been acquired on the first trimester of the year. Limit the search to 10 companies, and retrieve only their `name` and `acquisition` fields."
   ]
  },
  {
   "cell_type": "code",
   "execution_count": 124,
   "metadata": {},
   "outputs": [
    {
     "data": {
      "text/plain": [
       "[{'_id': ObjectId('52cdef7c4bab8bd675297d8e'),\n",
       "  'name': 'Facebook',\n",
       "  'acquisition': None},\n",
       " {'_id': ObjectId('52cdef7c4bab8bd675297d9e'),\n",
       "  'name': 'CBS',\n",
       "  'acquisition': None},\n",
       " {'_id': ObjectId('52cdef7c4bab8bd675297d94'),\n",
       "  'name': 'Twitter',\n",
       "  'acquisition': None},\n",
       " {'_id': ObjectId('52cdef7c4bab8bd675297d9f'),\n",
       "  'name': 'Viacom',\n",
       "  'acquisition': None},\n",
       " {'_id': ObjectId('52cdef7c4bab8bd675297d9b'),\n",
       "  'name': 'eBay',\n",
       "  'acquisition': None}]"
      ]
     },
     "execution_count": 124,
     "metadata": {},
     "output_type": "execute_result"
    }
   ],
   "source": [
    "query={\"acquisitions.acquired_month\":{\"$lte\":3}}\n",
    "cur=list(db.companies.find(query,{\"name\":1,\"acquisition\":1}).limit(10))\n",
    "cur[:5]"
   ]
  },
  {
   "cell_type": "markdown",
   "metadata": {},
   "source": [
    "# Bonus\n",
    "### 19. All the companies that have been founded between 2000 and 2010, but have not been acquired before 2011."
   ]
  },
  {
   "cell_type": "code",
   "execution_count": null,
   "metadata": {},
   "outputs": [],
   "source": [
    "# Your Code"
   ]
  },
  {
   "cell_type": "markdown",
   "metadata": {},
   "source": [
    "### 20. All the companies that have been 'deadpooled' after the third year."
   ]
  },
  {
   "cell_type": "code",
   "execution_count": null,
   "metadata": {},
   "outputs": [],
   "source": [
    "# Your Code"
   ]
  }
 ],
 "metadata": {
  "kernelspec": {
   "display_name": "Python 3",
   "language": "python",
   "name": "python3"
  },
  "language_info": {
   "codemirror_mode": {
    "name": "ipython",
    "version": 3
   },
   "file_extension": ".py",
   "mimetype": "text/x-python",
   "name": "python",
   "nbconvert_exporter": "python",
   "pygments_lexer": "ipython3",
   "version": "3.7.7"
  }
 },
 "nbformat": 4,
 "nbformat_minor": 2
}
