{
 "cells": [
  {
   "cell_type": "markdown",
   "metadata": {},
   "source": [
    "# Before your start:\n",
    "\n",
    "    Read the README.md file\n",
    "    Comment as much as you can and use the resources (README.md file)\n",
    "    Happy learning!"
   ]
  },
  {
   "cell_type": "markdown",
   "metadata": {},
   "source": [
    "In this exercise, we  will generate random numbers from the continuous disributions we learned in the lesson. There are two ways to generate random numbers:\n",
    "\n",
    "1. Using the numpy library \n",
    "1. using the Scipy library \n",
    "\n",
    "Use either or both of the lbraries in this exercise."
   ]
  },
  {
   "cell_type": "markdown",
   "metadata": {},
   "source": [
    "## Uniform Distribution\n",
    "\n",
    "To generate uniform random numbers between any two given values using scipy, we can either use the following code or the code that we have\n",
    "discussed in class:"
   ]
  },
  {
   "cell_type": "code",
   "execution_count": 2,
   "metadata": {},
   "outputs": [
    {
     "name": "stdout",
     "output_type": "stream",
     "text": [
      "[2.82378176 2.94031224 2.96244732 2.4575891  2.9660734  2.90084317\n",
      " 2.57790993 2.54266356 2.15040349 2.26477723]\n"
     ]
    }
   ],
   "source": [
    "from scipy.stats import uniform\n",
    "x = uniform.rvs(size=10)\n",
    "a = 2\n",
    "b = 3\n",
    "randoms  = a + (b-a)*x\n",
    "print(randoms)"
   ]
  },
  {
   "cell_type": "markdown",
   "metadata": {},
   "source": [
    "**Your task:**\n",
    "\n",
    "1. Based on the code above, write a function that generates uniformly distributed random numbers. There are several requirements for your function:\n",
    "    * It should accept 3 parameters: \n",
    "        * `bottom` - the lower boundary of the generated numbers\n",
    "        * `ceiling` - the upper boundary of the generated numbers\n",
    "        * `count` - how many numbers to generate\n",
    "    * It should return an array of uniformly distributed random numbers\n",
    "\n",
    "1. Call your function with 2 sets of params below:\n",
    "    * bottom=10, ceiling=15, count=100\n",
    "    * bottom=10, ceiling=60, count=1,000\n",
    "\n",
    "1. Plot the uniform distributions generated above using histograms, where x axis is the value and y axis is the count. Let the histogram's number of bins be 10.\n",
    "\n",
    "Your output should look like below:\n",
    "\n",
    "![uniform distribution](ud.png)"
   ]
  },
  {
   "cell_type": "code",
   "execution_count": 35,
   "metadata": {},
   "outputs": [],
   "source": [
    "# your code here\n",
    "def uniformdist (bottom,ceiling,count):\n",
    "    return bottom + (ceiling-bottom)*uniform.rvs(size = count)\n",
    "\n",
    "\n"
   ]
  },
  {
   "cell_type": "code",
   "execution_count": 36,
   "metadata": {
    "scrolled": true
   },
   "outputs": [
    {
     "data": {
      "text/plain": [
       "array([14.50288945, 12.95315529, 12.81657035, 13.70893225, 14.65403253,\n",
       "       11.51010422, 11.88832028, 14.44628568, 10.5030096 , 10.86123593,\n",
       "       11.85102347, 10.12272638, 10.95642566, 11.99501013, 14.81402065,\n",
       "       11.30811209, 12.77504948, 13.07274776, 14.02204786, 14.61724014,\n",
       "       10.29619528, 11.50479246, 13.6919804 , 12.16832794, 10.11984379,\n",
       "       10.33123182, 10.31522504, 12.11897657, 13.06530124, 13.29235266,\n",
       "       10.37077407, 11.71307815, 11.71380404, 10.58769496, 11.41218967,\n",
       "       10.33143562, 11.17722748, 11.76632835, 11.11190455, 13.93903177,\n",
       "       11.5593456 , 11.73745209, 14.30179055, 10.06907273, 13.47652421,\n",
       "       11.97092335, 14.64207007, 12.60226524, 10.7154778 , 11.16465199,\n",
       "       14.32065772, 14.7853703 , 10.33462779, 11.07878773, 13.19994602,\n",
       "       13.76442363, 10.20245226, 13.07534066, 10.73848918, 14.16648504,\n",
       "       12.1394037 , 14.8271436 , 12.69600375, 12.33642334, 10.95165545,\n",
       "       12.74566321, 14.65379745, 11.08360638, 11.47650024, 13.39225833,\n",
       "       11.15206639, 10.87161901, 12.98721794, 14.53191628, 11.48323746,\n",
       "       14.43662406, 11.91121015, 14.34849553, 13.10507372, 13.06431834,\n",
       "       12.93975595, 10.93426402, 12.1712189 , 12.45859394, 12.92079129,\n",
       "       13.01995334, 14.90663592, 14.59957825, 12.14260897, 10.73978858,\n",
       "       12.08384219, 12.52247846, 10.04720462, 10.61624289, 11.94829698,\n",
       "       13.92585236, 10.44517578, 14.05005978, 14.91985382, 14.8959933 ])"
      ]
     },
     "execution_count": 36,
     "metadata": {},
     "output_type": "execute_result"
    }
   ],
   "source": [
    "s = uniformdist(10,15,100)\n"
   ]
  },
  {
   "cell_type": "code",
   "execution_count": 38,
   "metadata": {},
   "outputs": [
    {
     "data": {
      "text/plain": [
       "array([49.16312905, 40.42823427, 49.912957  , 57.92495351, 52.97839741,\n",
       "       29.65743826, 33.46337152, 51.54518768, 37.68115863, 55.42807959,\n",
       "       55.73026987, 40.35717311, 13.31234717, 36.7493397 , 34.58734371,\n",
       "       11.75995349, 31.44756476, 53.64846959, 47.52242675, 18.09178561,\n",
       "       23.66134054, 36.3101375 , 44.82598613, 35.23826624, 54.47044611,\n",
       "       40.35754758, 49.42318485, 56.65339552, 20.62806816, 37.85166558,\n",
       "       54.4843579 , 46.94532087, 31.71074784, 44.60222022, 51.26992119,\n",
       "       26.89465517, 45.1870896 , 18.29707121, 16.48355847, 26.05744537,\n",
       "       26.36178898, 20.3895403 , 34.15522237, 27.72404495, 34.14802208,\n",
       "       19.9488584 , 53.26357948, 40.33257928, 35.17728591, 32.28925186,\n",
       "       57.66489112, 21.70323748, 46.29008119, 23.58405023, 50.23071535,\n",
       "       11.72160366, 39.87296943, 58.25438354, 52.66722014, 20.80995781,\n",
       "       24.24776483, 22.21299264, 56.4587384 , 20.23131115, 52.47174392,\n",
       "       22.87406115, 58.35509799, 32.27721566, 27.99849054, 24.18688844,\n",
       "       59.35465451, 49.52465001, 37.09579102, 18.33450446, 56.38266367,\n",
       "       57.76376469, 24.6415142 , 54.3549429 , 28.74560272, 31.87328028,\n",
       "       29.80200474, 52.57867005, 15.88975203, 17.21081464, 34.3511726 ,\n",
       "       44.5079633 , 15.87275446, 49.31055455, 46.96420155, 42.02800876,\n",
       "       34.31929647, 59.32778252, 47.19099161, 18.00010389, 13.72698707,\n",
       "       41.21857224, 12.21373028, 21.37162048, 47.87584705, 29.6415846 ,\n",
       "       12.06238788, 46.06905378, 22.62826806, 17.92776071, 31.61150012,\n",
       "       51.21075912, 59.79341533, 37.04839007, 58.55569556, 42.71755989,\n",
       "       23.37612934, 16.91202377, 41.56205827, 54.63448442, 40.07033267,\n",
       "       55.17775659, 54.55865691, 22.20073944, 46.23730632, 36.47466355,\n",
       "       58.80353432, 22.99131918, 59.77607095, 12.24983501, 41.05854149,\n",
       "       12.64712589, 38.76569759, 45.0597439 , 48.19886919, 48.47190272,\n",
       "       38.73961727, 31.44022042, 39.79955216, 23.45685848, 19.54642646,\n",
       "       32.64544516, 33.35109103, 21.1823079 , 20.98286526, 46.37175364,\n",
       "       17.16682602, 26.69808911, 53.03152098, 18.24053218, 53.13155822,\n",
       "       16.14608947, 58.00700133, 17.17033223, 13.33097285, 38.81772368,\n",
       "       53.69308602, 40.28229584, 30.42540725, 16.18440509, 16.37756976,\n",
       "       51.66895079, 34.73562533, 53.39597591, 42.17135285, 37.04123395,\n",
       "       24.20215051, 33.84125618, 49.90130843, 58.8283878 , 42.25392988,\n",
       "       18.68856573, 21.14680342, 53.06297653, 35.54388915, 51.0853759 ,\n",
       "       53.7278004 , 14.73776299, 11.26160022, 17.9113128 , 58.38884761,\n",
       "       30.99700075, 51.93649247, 55.867215  , 30.54476745, 38.17073189,\n",
       "       29.46031926, 41.25057858, 10.19314366, 51.83061712, 15.75442716,\n",
       "       17.23995973, 13.48181689, 53.45372341, 44.68167856, 53.01825407,\n",
       "       37.81303351, 29.8458057 , 47.08001256, 32.9130121 , 13.20121075,\n",
       "       44.50733177, 41.34444839, 33.35371665, 11.32052153, 27.68373499,\n",
       "       28.07777029, 17.4339047 , 45.56186171, 23.06941038, 13.66160209,\n",
       "       24.47636868, 56.97572187, 24.29811387, 16.14099645, 55.98923626,\n",
       "       21.90318605, 58.40428606, 36.22839649, 58.08615368, 24.90867373,\n",
       "       38.25278936, 11.4795483 , 52.02765638, 24.58770383, 52.42434654,\n",
       "       43.07524674, 31.29949481, 57.19513597, 59.67312876, 47.12862594,\n",
       "       15.00009586, 33.13536324, 19.99230035, 19.33654696, 58.10371142,\n",
       "       54.38142026, 57.58533693, 30.55624024, 55.33420778, 54.02794675,\n",
       "       34.30952573, 13.79324365, 49.35868383, 31.85322753, 29.39797987,\n",
       "       56.85378198, 27.93055855, 20.945086  , 10.66534501, 56.29210363,\n",
       "       55.99818921, 39.68202098, 20.36428617, 20.18387334, 16.98139435,\n",
       "       35.5219028 , 33.39800728, 22.6749305 , 35.02183272, 31.35803299,\n",
       "       55.35679431, 53.32130654, 20.71352961, 19.39435606, 56.23528183,\n",
       "       51.34569477, 18.81678413, 21.82423571, 25.8053775 , 37.27080188,\n",
       "       48.20121517, 19.00208258, 29.12331835, 41.53856972, 10.67032206,\n",
       "       24.46252275, 17.51018684, 26.87393252, 29.03614063, 58.58942448,\n",
       "       42.99378397, 12.07530847, 53.67621171, 55.93154971, 14.67194827,\n",
       "       24.17336182, 10.52165704, 26.60498281, 47.93700876, 11.82858676,\n",
       "       10.58813408, 15.13157788, 47.57539403, 51.93552858, 38.70878084,\n",
       "       48.16140338, 26.83992064, 36.23766969, 12.61034598, 26.04826793,\n",
       "       51.17782285, 38.44721986, 12.67498821, 41.84925198, 31.20176008,\n",
       "       30.16025985, 58.20815127, 32.58986638, 59.91290388, 18.39977907,\n",
       "       54.89784693, 19.6889143 , 26.37339839, 32.19293056, 14.43863303,\n",
       "       47.85685913, 12.34422954, 33.89068811, 18.14614182, 23.88414237,\n",
       "       40.99083468, 18.66700419, 41.46331285, 22.07766664, 37.10392482,\n",
       "       54.34430733, 30.6504033 , 32.34370395, 47.55388569, 26.05581946,\n",
       "       56.19303511, 15.77781716, 10.65103546, 34.51239498, 11.28963391,\n",
       "       53.35376082, 48.23289648, 35.97720122, 24.36413228, 47.01590992,\n",
       "       58.86951761, 48.67819223, 35.2652572 , 37.32264512, 41.85637726,\n",
       "       32.11414426, 13.47419202, 20.05676864, 55.89415123, 49.66192946,\n",
       "       58.74341363, 50.68272665, 16.97860477, 42.93673694, 31.06348495,\n",
       "       36.82948185, 19.46976204, 32.27541493, 20.73623311, 53.54710249,\n",
       "       48.52030522, 42.10227963, 41.13339768, 53.31966283, 17.29773965,\n",
       "       36.83738751, 35.771514  , 57.30593762, 12.19966362, 31.60746568,\n",
       "       12.60326001, 32.70278069, 53.95370199, 57.96004033, 26.64483306,\n",
       "       19.58410629, 24.79458557, 15.4931481 , 15.39270483, 36.89362119,\n",
       "       46.14555232, 50.48071384, 14.4031887 , 16.58630049, 15.75739981,\n",
       "       59.4507635 , 39.40643922, 19.85481715, 49.26210443, 41.0766268 ,\n",
       "       51.94006443, 21.52465192, 14.09977207, 30.45110699, 24.91715412,\n",
       "       51.91375489, 18.11304805, 39.57530998, 35.83534755, 33.67460953,\n",
       "       17.64199095, 12.61910777, 55.23622697, 42.96367513, 25.47161582,\n",
       "       51.09151709, 48.43962369, 18.13305442, 32.21112701, 51.70456431,\n",
       "       34.63038202, 35.41325684, 20.4431634 , 55.85188457, 47.55444427,\n",
       "       39.73423138, 27.981629  , 59.50761884, 40.99344496, 29.40737012,\n",
       "       14.45209417, 48.28744387, 14.24069362, 25.39287569, 43.6398048 ,\n",
       "       57.82034098, 38.29591723, 36.83470055, 15.35915402, 29.3051934 ,\n",
       "       59.08809471, 34.30815778, 10.88943205, 28.09397299, 16.2261743 ,\n",
       "       41.30813878, 42.49671959, 30.68998703, 46.43202565, 23.63278507,\n",
       "       37.10799721, 27.63176179, 39.28337184, 39.9941219 , 42.32044321,\n",
       "       36.00353806, 46.3131943 , 36.25515135, 50.01422235, 31.45651963,\n",
       "       20.7314466 , 54.74356823, 39.20444926, 11.04917443, 43.92157284,\n",
       "       18.70403064, 49.3205623 , 19.58659664, 47.99563637, 42.65364285,\n",
       "       16.07574203, 14.20135379, 34.84039491, 19.44430077, 19.79949922,\n",
       "       35.4561457 , 40.47288183, 43.65273894, 43.88944313, 24.78564014,\n",
       "       44.09804226, 19.21340128, 26.71038665, 15.96911622, 27.23987945,\n",
       "       57.07568651, 27.6279264 , 44.27791922, 28.8412121 , 54.37538034,\n",
       "       32.73799263, 59.16245514, 53.9433772 , 20.29889257, 47.87368452,\n",
       "       46.33123383, 47.28068006, 15.54934031, 55.95785698, 50.29745083,\n",
       "       28.26471031, 41.63284373, 41.53308676, 30.96670803, 40.53016051,\n",
       "       25.35986022, 18.51739757, 14.33074882, 22.99588022, 47.05888691,\n",
       "       13.03591147, 24.16527504, 16.27810192, 35.48248494, 34.53006442,\n",
       "       28.81058933, 58.02819866, 49.13417192, 35.30035211, 54.82229379,\n",
       "       31.86960547, 25.187499  , 51.20268796, 34.52653835, 25.7571933 ,\n",
       "       55.54200523, 56.94557026, 35.83642218, 40.76535401, 29.85928873,\n",
       "       43.33710381, 48.60340125, 12.29315765, 54.01202914, 24.95725814,\n",
       "       33.21740532, 57.66191252, 43.19771022, 14.89592249, 56.94919085,\n",
       "       54.09600811, 30.51497078, 41.7392288 , 26.25782484, 47.3293453 ,\n",
       "       47.83643235, 57.22638067, 29.63944336, 54.59571067, 27.4202675 ,\n",
       "       41.27360989, 19.62006708, 28.54457681, 35.0639526 , 29.89168746,\n",
       "       36.19313508, 21.25947109, 43.95723831, 15.14802484, 57.25264655,\n",
       "       40.39004196, 13.99301192, 42.81012319, 38.39061143, 18.44947689,\n",
       "       41.55432176, 34.59619901, 48.78828063, 59.5515674 , 28.38813614,\n",
       "       30.35443485, 27.44160521, 37.98487764, 43.34868677, 56.43887488,\n",
       "       21.75634282, 36.40674753, 14.82675266, 26.66878008, 10.43043652,\n",
       "       51.82227196, 14.89608428, 53.46960273, 50.62998296, 25.30282423,\n",
       "       46.84579027, 22.57417019, 52.17178714, 19.13543467, 28.58598611,\n",
       "       46.8801331 , 36.03418353, 49.01670717, 30.13661677, 23.97002399,\n",
       "       29.55522495, 36.3789416 , 38.38477216, 31.52213008, 16.52142757,\n",
       "       56.99307319, 57.55155613, 35.21680082, 34.25322499, 18.03612268,\n",
       "       54.46936658, 49.94513728, 15.78686752, 28.35142266, 17.24079495,\n",
       "       31.35799055, 19.61066781, 38.83086549, 29.42198853, 21.35155212,\n",
       "       15.64959287, 57.58889268, 35.37928602, 22.56989019, 43.15972823,\n",
       "       51.46343744, 37.65531407, 52.8405731 , 29.02495165, 29.09412822,\n",
       "       22.5570805 , 36.01603224, 29.6087005 , 26.64107323, 42.16268682,\n",
       "       52.44893876, 29.16030378, 30.1727088 , 19.55786359, 55.88597126,\n",
       "       31.82629313, 24.77675884, 42.34376063, 59.31770667, 25.91664429,\n",
       "       13.19152017, 12.42553732, 31.88620261, 10.01542697, 51.19637356,\n",
       "       16.18808997, 24.93635761, 50.16512545, 16.07408165, 45.78341104,\n",
       "       50.60365762, 22.7777562 , 44.812572  , 37.77652457, 43.96419343,\n",
       "       32.93718994, 15.9436001 , 36.19515991, 12.99700918, 44.66197842,\n",
       "       35.80619828, 34.37972714, 57.90885648, 59.70597012, 13.57881456,\n",
       "       25.53343526, 53.21119824, 23.77653514, 24.05431213, 33.46856143,\n",
       "       32.66471049, 33.65433623, 26.8043202 , 27.35229331, 38.18443934,\n",
       "       22.92363085, 21.40467258, 26.2745932 , 59.69315166, 19.04278865,\n",
       "       24.18740353, 54.91884732, 22.61093943, 30.84315329, 57.85419154,\n",
       "       44.8901964 , 40.39096391, 51.18682313, 54.29043797, 43.86264325,\n",
       "       35.22400273, 41.61509958, 13.01747429, 27.64656926, 27.3658808 ,\n",
       "       43.88795003, 50.012338  , 25.19086839, 29.78261839, 13.68722814,\n",
       "       15.6299778 , 30.06698366, 12.90771507, 25.23439262, 32.22240958,\n",
       "       39.42664921, 26.95090648, 57.19824595, 38.25666867, 26.99682742,\n",
       "       41.08406748, 50.00423169, 43.30416007, 26.46480268, 50.06973055,\n",
       "       30.55374726, 22.65877917, 50.38121032, 57.74515405, 36.50798664,\n",
       "       56.29457243, 54.23390249, 11.62419711, 45.82426289, 41.54293791,\n",
       "       15.44554443, 31.99001257, 57.51661561, 43.88399158, 41.44698141,\n",
       "       58.64247441, 24.26613548, 13.23922011, 25.20717416, 19.15169017,\n",
       "       50.98042446, 20.40310124, 27.79678291, 28.3852344 , 47.71451528,\n",
       "       53.77093875, 37.88123749, 58.46357121, 33.48522031, 11.72100838,\n",
       "       31.28003532, 48.60074991, 14.02762367, 42.66403079, 56.79894171,\n",
       "       44.87744272, 50.35866555, 55.95355434, 21.39017917, 36.36560163,\n",
       "       34.32978556, 31.96295969, 46.35340355, 24.03242225, 23.18653214,\n",
       "       35.15650828, 24.85741781, 39.71474957, 27.57639638, 16.76742784,\n",
       "       48.35384857, 41.87190533, 24.81590607, 16.22624483, 45.44191746,\n",
       "       49.92796746, 10.63186757, 19.7194597 , 44.03885573, 48.13217314,\n",
       "       56.55519218, 19.21218965, 39.12895056, 26.39660027, 56.25794155,\n",
       "       39.43619602, 46.13147815, 14.27091317, 20.90518788, 29.13966855,\n",
       "       25.74029487, 49.68608871, 29.50807046, 53.39089456, 48.7340632 ,\n",
       "       29.2977422 , 33.83834319, 58.11684331, 57.6740286 , 35.70805099,\n",
       "       26.9723372 , 30.37897038, 49.08274654, 19.2541505 , 22.580085  ,\n",
       "       12.09216257, 16.32532176, 30.28704198, 16.19560931, 27.99317444,\n",
       "       11.41483847, 26.64106091, 20.76805912, 13.35084252, 25.54770978,\n",
       "       41.09275638, 15.45582753, 56.45962358, 15.52780129, 59.19169331,\n",
       "       49.9072657 , 36.52374013, 23.3605981 , 40.76676846, 54.01501463,\n",
       "       15.05426544, 20.04052144, 58.33896246, 46.23112728, 59.21990345,\n",
       "       34.04558147, 38.38427847, 47.0656296 , 20.39820702, 45.16482716,\n",
       "       32.19354672, 57.2219656 , 34.70504875, 27.90773747, 51.91951361,\n",
       "       40.82190123, 40.32356397, 18.26877894, 16.85414965, 24.41966176,\n",
       "       50.10361087, 41.22413088, 59.767414  , 34.722146  , 22.69749504,\n",
       "       39.41230438, 22.09004024, 54.47667854, 30.18988082, 44.04158853,\n",
       "       15.46791442, 22.5237293 , 48.57971332, 52.46309526, 50.67606806,\n",
       "       25.16218065, 48.2652929 , 10.2010699 , 20.59614899, 45.29092129,\n",
       "       44.51060893, 58.04868154, 53.20399557, 26.27967875, 42.44925853,\n",
       "       16.47667984, 34.06801772, 32.3439897 , 22.67785245, 58.25729701,\n",
       "       53.99975234, 19.88465345, 28.72374872, 43.9125685 , 45.66156195,\n",
       "       20.21135928, 39.40296894, 26.28525119, 35.26642037, 50.48879512,\n",
       "       28.63718925, 21.58285488, 31.71654265, 39.84980459, 13.75025316,\n",
       "       24.75664096, 48.63007351, 51.15776127, 16.8404765 , 45.63484132,\n",
       "       11.10617983, 23.07772675, 30.05343126, 57.41085035, 54.99570099,\n",
       "       26.8552941 , 27.86056144, 42.65731402, 11.94283377, 14.24050605,\n",
       "       33.5389107 , 13.1750182 , 49.52075764, 58.4736881 , 35.81176898,\n",
       "       14.46884613, 56.77329876, 57.89237191, 14.2359601 , 48.11655767,\n",
       "       56.0597644 , 44.4458874 , 35.91959433, 19.21213433, 38.94057308,\n",
       "       39.59844621, 37.65177137, 58.07411509, 24.47978557, 43.70991059,\n",
       "       15.78320331, 14.02733684, 57.52747551, 21.49287789, 14.68419895,\n",
       "       26.07177889, 10.39719473, 43.27273324, 40.79389763, 41.97885421,\n",
       "       36.66964924, 40.41206932, 37.08755047, 36.74787639, 26.00235578,\n",
       "       29.75573196, 26.22473681, 57.20125577, 40.59883276, 15.33676751,\n",
       "       43.23303571, 35.28041621, 47.66153822, 10.59408844, 57.97916108,\n",
       "       56.07935597, 23.04744523, 30.63521527, 33.64453135, 42.76960219,\n",
       "       41.83332394, 42.11230766, 21.40729072, 45.85478509, 59.2007636 ,\n",
       "       50.3345142 , 35.35952062, 17.0552212 , 26.92719705, 12.82059055,\n",
       "       52.53496668, 57.31542517, 45.44730913, 22.09661755, 39.75958098,\n",
       "       18.06557867, 17.79225665, 22.33296723, 45.93883781, 21.11562244,\n",
       "       16.91712722, 55.03243938, 48.10144748, 40.2811458 , 41.39513857,\n",
       "       16.29016575, 47.9757377 , 52.83941799, 16.5222144 , 45.75448256,\n",
       "       11.40834387, 24.34791312, 34.87199491, 18.53403083, 33.01747854,\n",
       "       56.01998347, 17.31925496, 41.01595608, 56.87433583, 19.80192403,\n",
       "       33.04421605, 30.56424339, 59.26942384, 10.51429616, 41.08515578,\n",
       "       17.31359407, 12.589724  , 57.75441704, 10.21815695, 49.12662223,\n",
       "       53.68992425, 42.86269419, 42.4438981 , 55.27948103, 29.59737582,\n",
       "       25.33123975, 22.80537718, 44.41256958, 30.51905576, 15.05990327,\n",
       "       29.77443881, 55.58661115, 23.95615687, 59.13018494, 31.38474929])"
      ]
     },
     "execution_count": 38,
     "metadata": {},
     "output_type": "execute_result"
    }
   ],
   "source": [
    "y = uniformdist(10,60,1000)\n",
    "y\n"
   ]
  },
  {
   "cell_type": "code",
   "execution_count": null,
   "metadata": {},
   "outputs": [],
   "source": []
  },
  {
   "cell_type": "code",
   "execution_count": 40,
   "metadata": {},
   "outputs": [
    {
     "data": {
      "text/plain": [
       "(array([ 85., 109., 102., 103., 101.,  96., 106.,  88.,  97., 113.]),\n",
       " array([10.01542697, 15.00517467, 19.99492236, 24.98467005, 29.97441774,\n",
       "        34.96416543, 39.95391312, 44.94366081, 49.9334085 , 54.92315619,\n",
       "        59.91290388]),\n",
       " <a list of 10 Patch objects>)"
      ]
     },
     "execution_count": 40,
     "metadata": {},
     "output_type": "execute_result"
    },
    {
     "data": {
      "image/png": "[encoded data removed]",
      "text/plain": [
       "<Figure size 432x288 with 2 Axes>"
      ]
     },
     "metadata": {
      "needs_background": "light"
     },
     "output_type": "display_data"
    }
   ],
   "source": [
    "import matplotlib.pyplot as plt\n",
    "plt.subplot(1,2,1)\n",
    "plt.hist(s,bins = 10)\n",
    "\n",
    "plt.subplot(1,2,2)\n",
    "plt.hist(y, bins = 10)"
   ]
  },
  {
   "cell_type": "markdown",
   "metadata": {},
   "source": [
    "How are the two distributions different?"
   ]
  },
  {
   "cell_type": "code",
   "execution_count": null,
   "metadata": {},
   "outputs": [],
   "source": [
    "# your answer below"
   ]
  },
  {
   "cell_type": "markdown",
   "metadata": {},
   "source": [
    "## Normal Distribution\n",
    "\n",
    "1. In the same way in the Uniform Distribution challenge, write a function that generates normally distributed random numbers.\n",
    "1. Generate 1,000 normally distributed numbers with the average of 10 and standard deviation of 1\n",
    "1. Generate 1,000 normally distributed numbers with the average of 10 and standard deviation of 50\n",
    "2. Plot the distributions of the data generated.\n",
    "\n",
    "Expected output:\n",
    "\n",
    "![normal distribution](nd.png)"
   ]
  },
  {
   "cell_type": "code",
   "execution_count": 56,
   "metadata": {},
   "outputs": [],
   "source": [
    "from scipy.stats import norm\n",
    "import numpy as np\n",
    "import random\n",
    "\n",
    "def generatednormaldist(mu,std,size):\n",
    "    return np.random.normal(loc= mu, scale = std,size=size)\n"
   ]
  },
  {
   "cell_type": "code",
   "execution_count": 65,
   "metadata": {},
   "outputs": [
    {
     "data": {
      "text/plain": [
       "(array([ 1.,  0.,  0.,  1.,  0.,  0.,  0.,  0.,  0.,  2.,  0.,  1.,  0.,\n",
       "         4.,  1.,  2.,  2.,  0.,  0.,  2.,  2.,  4.,  2.,  1.,  1.,  6.,\n",
       "         6.,  6.,  1.,  4.,  8.,  3.,  7.,  6., 11., 12., 14., 10., 12.,\n",
       "        18., 14., 16., 17., 28., 21., 23., 21., 31., 29., 27., 31., 31.,\n",
       "        21., 29., 22., 18., 35., 35., 25., 24., 14., 23., 28., 17., 23.,\n",
       "        22., 24., 19., 22., 22., 14., 10., 13., 11., 12.,  9.,  9., 10.,\n",
       "         9.,  6.,  4.,  3.,  6.,  5.,  3.,  3.,  2.,  0.,  0.,  1.,  1.,\n",
       "         3.,  0.,  1.,  0.,  1.,  0.,  0.,  0.,  2.]),\n",
       " array([ 6.2977796 ,  6.36530308,  6.43282655,  6.50035003,  6.56787351,\n",
       "         6.63539699,  6.70292047,  6.77044395,  6.83796742,  6.9054909 ,\n",
       "         6.97301438,  7.04053786,  7.10806134,  7.17558481,  7.24310829,\n",
       "         7.31063177,  7.37815525,  7.44567873,  7.51320221,  7.58072568,\n",
       "         7.64824916,  7.71577264,  7.78329612,  7.8508196 ,  7.91834308,\n",
       "         7.98586655,  8.05339003,  8.12091351,  8.18843699,  8.25596047,\n",
       "         8.32348395,  8.39100742,  8.4585309 ,  8.52605438,  8.59357786,\n",
       "         8.66110134,  8.72862482,  8.79614829,  8.86367177,  8.93119525,\n",
       "         8.99871873,  9.06624221,  9.13376568,  9.20128916,  9.26881264,\n",
       "         9.33633612,  9.4038596 ,  9.47138308,  9.53890655,  9.60643003,\n",
       "         9.67395351,  9.74147699,  9.80900047,  9.87652395,  9.94404742,\n",
       "        10.0115709 , 10.07909438, 10.14661786, 10.21414134, 10.28166482,\n",
       "        10.34918829, 10.41671177, 10.48423525, 10.55175873, 10.61928221,\n",
       "        10.68680569, 10.75432916, 10.82185264, 10.88937612, 10.9568996 ,\n",
       "        11.02442308, 11.09194655, 11.15947003, 11.22699351, 11.29451699,\n",
       "        11.36204047, 11.42956395, 11.49708742, 11.5646109 , 11.63213438,\n",
       "        11.69965786, 11.76718134, 11.83470482, 11.90222829, 11.96975177,\n",
       "        12.03727525, 12.10479873, 12.17232221, 12.23984569, 12.30736916,\n",
       "        12.37489264, 12.44241612, 12.5099396 , 12.57746308, 12.64498656,\n",
       "        12.71251003, 12.78003351, 12.84755699, 12.91508047, 12.98260395,\n",
       "        13.05012742]),\n",
       " <a list of 100 Patch objects>)"
      ]
     },
     "execution_count": 65,
     "metadata": {},
     "output_type": "execute_result"
    },
    {
     "data": {
      "image/png": "[encoded data removed]",
      "text/plain": [
       "<Figure size 432x288 with 1 Axes>"
      ]
     },
     "metadata": {
      "needs_background": "light"
     },
     "output_type": "display_data"
    }
   ],
   "source": [
    "plt.hist(generatednormaldist(10,1,1000), bins = 100)"
   ]
  },
  {
   "cell_type": "code",
   "execution_count": null,
   "metadata": {},
   "outputs": [],
   "source": []
  },
  {
   "cell_type": "code",
   "execution_count": 67,
   "metadata": {},
   "outputs": [
    {
     "data": {
      "text/plain": [
       "(array([ 2.,  0.,  0.,  0.,  0.,  0.,  0.,  0.,  0.,  0.,  0.,  0.,  0.,\n",
       "         1.,  4.,  1.,  1.,  0.,  3.,  3.,  4.,  5.,  4.,  4.,  2.,  1.,\n",
       "         5., 11.,  2., 12.,  9., 14.,  8., 15., 13., 20., 13., 20., 28.,\n",
       "        16., 16., 23., 15., 16., 24., 31., 28., 23., 22., 29., 26., 31.,\n",
       "        26., 24., 29., 33., 24., 16., 22., 25., 23., 26., 25., 21., 17.,\n",
       "        18., 11., 21., 14., 17., 14., 11., 13.,  7.,  4.,  9.,  9.,  2.,\n",
       "         6.,  3.,  4.,  3.,  5.,  3.,  2.,  2.,  2.,  0.,  0.,  1.,  0.,\n",
       "         0.,  0.,  0.,  1.,  1.,  0.,  0.,  0.,  1.]),\n",
       " array([-167.8353044 , -164.40388023, -160.97245607, -157.5410319 ,\n",
       "        -154.10960774, -150.67818357, -147.24675941, -143.81533524,\n",
       "        -140.38391107, -136.95248691, -133.52106274, -130.08963858,\n",
       "        -126.65821441, -123.22679025, -119.79536608, -116.36394192,\n",
       "        -112.93251775, -109.50109359, -106.06966942, -102.63824525,\n",
       "         -99.20682109,  -95.77539692,  -92.34397276,  -88.91254859,\n",
       "         -85.48112443,  -82.04970026,  -78.6182761 ,  -75.18685193,\n",
       "         -71.75542777,  -68.3240036 ,  -64.89257943,  -61.46115527,\n",
       "         -58.0297311 ,  -54.59830694,  -51.16688277,  -47.73545861,\n",
       "         -44.30403444,  -40.87261028,  -37.44118611,  -34.00976194,\n",
       "         -30.57833778,  -27.14691361,  -23.71548945,  -20.28406528,\n",
       "         -16.85264112,  -13.42121695,   -9.98979279,   -6.55836862,\n",
       "          -3.12694446,    0.30447971,    3.73590388,    7.16732804,\n",
       "          10.59875221,   14.03017637,   17.46160054,   20.8930247 ,\n",
       "          24.32444887,   27.75587303,   31.1872972 ,   34.61872136,\n",
       "          38.05014553,   41.4815697 ,   44.91299386,   48.34441803,\n",
       "          51.77584219,   55.20726636,   58.63869052,   62.07011469,\n",
       "          65.50153885,   68.93296302,   72.36438718,   75.79581135,\n",
       "          79.22723552,   82.65865968,   86.09008385,   89.52150801,\n",
       "          92.95293218,   96.38435634,   99.81578051,  103.24720467,\n",
       "         106.67862884,  110.110053  ,  113.54147717,  116.97290134,\n",
       "         120.4043255 ,  123.83574967,  127.26717383,  130.698598  ,\n",
       "         134.13002216,  137.56144633,  140.99287049,  144.42429466,\n",
       "         147.85571882,  151.28714299,  154.71856716,  158.14999132,\n",
       "         161.58141549,  165.01283965,  168.44426382,  171.87568798,\n",
       "         175.30711215]),\n",
       " <a list of 100 Patch objects>)"
      ]
     },
     "execution_count": 67,
     "metadata": {},
     "output_type": "execute_result"
    },
    {
     "data": {
      "image/png": "[encoded data removed]",
      "text/plain": [
       "<Figure size 432x288 with 1 Axes>"
      ]
     },
     "metadata": {
      "needs_background": "light"
     },
     "output_type": "display_data"
    }
   ],
   "source": [
    "plt.hist(generatednormaldist(10,50,1000),bins = 100)"
   ]
  },
  {
   "cell_type": "code",
   "execution_count": null,
   "metadata": {},
   "outputs": [],
   "source": []
  },
  {
   "cell_type": "markdown",
   "metadata": {},
   "source": [
    "How are the two distributions different?"
   ]
  },
  {
   "cell_type": "code",
   "execution_count": null,
   "metadata": {},
   "outputs": [],
   "source": [
    "# your answer below"
   ]
  },
  {
   "cell_type": "markdown",
   "metadata": {},
   "source": [
    "## Normal Distribution of Real Data\n",
    "\n",
    "In this challenge we are going to take a look the real data. We will use vehicles.csv file for this exercise"
   ]
  },
  {
   "cell_type": "code",
   "execution_count": 73,
   "metadata": {},
   "outputs": [
    {
     "data": {
      "text/html": [
       "<div>\n",
       "<style scoped>\n",
       "    .dataframe tbody tr th:only-of-type {\n",
       "        vertical-align: middle;\n",
       "    }\n",
       "\n",
       "    .dataframe tbody tr th {\n",
       "        vertical-align: top;\n",
       "    }\n",
       "\n",
       "    .dataframe thead th {\n",
       "        text-align: right;\n",
       "    }\n",
       "</style>\n",
       "<table border=\"1\" class=\"dataframe\">\n",
       "  <thead>\n",
       "    <tr style=\"text-align: right;\">\n",
       "      <th></th>\n",
       "      <th>Make</th>\n",
       "      <th>Model</th>\n",
       "      <th>Year</th>\n",
       "      <th>Engine Displacement</th>\n",
       "      <th>Cylinders</th>\n",
       "      <th>Transmission</th>\n",
       "      <th>Drivetrain</th>\n",
       "      <th>Vehicle Class</th>\n",
       "      <th>Fuel Type</th>\n",
       "      <th>Fuel Barrels/Year</th>\n",
       "      <th>City MPG</th>\n",
       "      <th>Highway MPG</th>\n",
       "      <th>Combined MPG</th>\n",
       "      <th>CO2 Emission Grams/Mile</th>\n",
       "      <th>Fuel Cost/Year</th>\n",
       "    </tr>\n",
       "  </thead>\n",
       "  <tbody>\n",
       "    <tr>\n",
       "      <th>0</th>\n",
       "      <td>AM General</td>\n",
       "      <td>DJ Po Vehicle 2WD</td>\n",
       "      <td>1984</td>\n",
       "      <td>2.5</td>\n",
       "      <td>4.0</td>\n",
       "      <td>Automatic 3-spd</td>\n",
       "      <td>2-Wheel Drive</td>\n",
       "      <td>Special Purpose Vehicle 2WD</td>\n",
       "      <td>Regular</td>\n",
       "      <td>19.388824</td>\n",
       "      <td>18</td>\n",
       "      <td>17</td>\n",
       "      <td>17</td>\n",
       "      <td>522.764706</td>\n",
       "      <td>1950</td>\n",
       "    </tr>\n",
       "    <tr>\n",
       "      <th>1</th>\n",
       "      <td>AM General</td>\n",
       "      <td>FJ8c Post Office</td>\n",
       "      <td>1984</td>\n",
       "      <td>4.2</td>\n",
       "      <td>6.0</td>\n",
       "      <td>Automatic 3-spd</td>\n",
       "      <td>2-Wheel Drive</td>\n",
       "      <td>Special Purpose Vehicle 2WD</td>\n",
       "      <td>Regular</td>\n",
       "      <td>25.354615</td>\n",
       "      <td>13</td>\n",
       "      <td>13</td>\n",
       "      <td>13</td>\n",
       "      <td>683.615385</td>\n",
       "      <td>2550</td>\n",
       "    </tr>\n",
       "    <tr>\n",
       "      <th>2</th>\n",
       "      <td>AM General</td>\n",
       "      <td>Post Office DJ5 2WD</td>\n",
       "      <td>1985</td>\n",
       "      <td>2.5</td>\n",
       "      <td>4.0</td>\n",
       "      <td>Automatic 3-spd</td>\n",
       "      <td>Rear-Wheel Drive</td>\n",
       "      <td>Special Purpose Vehicle 2WD</td>\n",
       "      <td>Regular</td>\n",
       "      <td>20.600625</td>\n",
       "      <td>16</td>\n",
       "      <td>17</td>\n",
       "      <td>16</td>\n",
       "      <td>555.437500</td>\n",
       "      <td>2100</td>\n",
       "    </tr>\n",
       "    <tr>\n",
       "      <th>3</th>\n",
       "      <td>AM General</td>\n",
       "      <td>Post Office DJ8 2WD</td>\n",
       "      <td>1985</td>\n",
       "      <td>4.2</td>\n",
       "      <td>6.0</td>\n",
       "      <td>Automatic 3-spd</td>\n",
       "      <td>Rear-Wheel Drive</td>\n",
       "      <td>Special Purpose Vehicle 2WD</td>\n",
       "      <td>Regular</td>\n",
       "      <td>25.354615</td>\n",
       "      <td>13</td>\n",
       "      <td>13</td>\n",
       "      <td>13</td>\n",
       "      <td>683.615385</td>\n",
       "      <td>2550</td>\n",
       "    </tr>\n",
       "    <tr>\n",
       "      <th>4</th>\n",
       "      <td>ASC Incorporated</td>\n",
       "      <td>GNX</td>\n",
       "      <td>1987</td>\n",
       "      <td>3.8</td>\n",
       "      <td>6.0</td>\n",
       "      <td>Automatic 4-spd</td>\n",
       "      <td>Rear-Wheel Drive</td>\n",
       "      <td>Midsize Cars</td>\n",
       "      <td>Premium</td>\n",
       "      <td>20.600625</td>\n",
       "      <td>14</td>\n",
       "      <td>21</td>\n",
       "      <td>16</td>\n",
       "      <td>555.437500</td>\n",
       "      <td>2550</td>\n",
       "    </tr>\n",
       "    <tr>\n",
       "      <th>...</th>\n",
       "      <td>...</td>\n",
       "      <td>...</td>\n",
       "      <td>...</td>\n",
       "      <td>...</td>\n",
       "      <td>...</td>\n",
       "      <td>...</td>\n",
       "      <td>...</td>\n",
       "      <td>...</td>\n",
       "      <td>...</td>\n",
       "      <td>...</td>\n",
       "      <td>...</td>\n",
       "      <td>...</td>\n",
       "      <td>...</td>\n",
       "      <td>...</td>\n",
       "      <td>...</td>\n",
       "    </tr>\n",
       "    <tr>\n",
       "      <th>35947</th>\n",
       "      <td>smart</td>\n",
       "      <td>fortwo coupe</td>\n",
       "      <td>2013</td>\n",
       "      <td>1.0</td>\n",
       "      <td>3.0</td>\n",
       "      <td>Auto(AM5)</td>\n",
       "      <td>Rear-Wheel Drive</td>\n",
       "      <td>Two Seaters</td>\n",
       "      <td>Premium</td>\n",
       "      <td>9.155833</td>\n",
       "      <td>34</td>\n",
       "      <td>38</td>\n",
       "      <td>36</td>\n",
       "      <td>244.000000</td>\n",
       "      <td>1100</td>\n",
       "    </tr>\n",
       "    <tr>\n",
       "      <th>35948</th>\n",
       "      <td>smart</td>\n",
       "      <td>fortwo coupe</td>\n",
       "      <td>2014</td>\n",
       "      <td>1.0</td>\n",
       "      <td>3.0</td>\n",
       "      <td>Auto(AM5)</td>\n",
       "      <td>Rear-Wheel Drive</td>\n",
       "      <td>Two Seaters</td>\n",
       "      <td>Premium</td>\n",
       "      <td>9.155833</td>\n",
       "      <td>34</td>\n",
       "      <td>38</td>\n",
       "      <td>36</td>\n",
       "      <td>243.000000</td>\n",
       "      <td>1100</td>\n",
       "    </tr>\n",
       "    <tr>\n",
       "      <th>35949</th>\n",
       "      <td>smart</td>\n",
       "      <td>fortwo coupe</td>\n",
       "      <td>2015</td>\n",
       "      <td>1.0</td>\n",
       "      <td>3.0</td>\n",
       "      <td>Auto(AM5)</td>\n",
       "      <td>Rear-Wheel Drive</td>\n",
       "      <td>Two Seaters</td>\n",
       "      <td>Premium</td>\n",
       "      <td>9.155833</td>\n",
       "      <td>34</td>\n",
       "      <td>38</td>\n",
       "      <td>36</td>\n",
       "      <td>244.000000</td>\n",
       "      <td>1100</td>\n",
       "    </tr>\n",
       "    <tr>\n",
       "      <th>35950</th>\n",
       "      <td>smart</td>\n",
       "      <td>fortwo coupe</td>\n",
       "      <td>2016</td>\n",
       "      <td>0.9</td>\n",
       "      <td>3.0</td>\n",
       "      <td>Auto(AM6)</td>\n",
       "      <td>Rear-Wheel Drive</td>\n",
       "      <td>Two Seaters</td>\n",
       "      <td>Premium</td>\n",
       "      <td>9.155833</td>\n",
       "      <td>34</td>\n",
       "      <td>39</td>\n",
       "      <td>36</td>\n",
       "      <td>246.000000</td>\n",
       "      <td>1100</td>\n",
       "    </tr>\n",
       "    <tr>\n",
       "      <th>35951</th>\n",
       "      <td>smart</td>\n",
       "      <td>fortwo coupe</td>\n",
       "      <td>2016</td>\n",
       "      <td>0.9</td>\n",
       "      <td>3.0</td>\n",
       "      <td>Manual 5-spd</td>\n",
       "      <td>Rear-Wheel Drive</td>\n",
       "      <td>Two Seaters</td>\n",
       "      <td>Premium</td>\n",
       "      <td>9.417429</td>\n",
       "      <td>32</td>\n",
       "      <td>39</td>\n",
       "      <td>35</td>\n",
       "      <td>255.000000</td>\n",
       "      <td>1150</td>\n",
       "    </tr>\n",
       "  </tbody>\n",
       "</table>\n",
       "<p>35952 rows × 15 columns</p>\n",
       "</div>"
      ],
      "text/plain": [
       "                   Make                Model  Year  Engine Displacement  \\\n",
       "0            AM General    DJ Po Vehicle 2WD  1984                  2.5   \n",
       "1            AM General     FJ8c Post Office  1984                  4.2   \n",
       "2            AM General  Post Office DJ5 2WD  1985                  2.5   \n",
       "3            AM General  Post Office DJ8 2WD  1985                  4.2   \n",
       "4      ASC Incorporated                  GNX  1987                  3.8   \n",
       "...                 ...                  ...   ...                  ...   \n",
       "35947             smart         fortwo coupe  2013                  1.0   \n",
       "35948             smart         fortwo coupe  2014                  1.0   \n",
       "35949             smart         fortwo coupe  2015                  1.0   \n",
       "35950             smart         fortwo coupe  2016                  0.9   \n",
       "35951             smart         fortwo coupe  2016                  0.9   \n",
       "\n",
       "       Cylinders     Transmission        Drivetrain  \\\n",
       "0            4.0  Automatic 3-spd     2-Wheel Drive   \n",
       "1            6.0  Automatic 3-spd     2-Wheel Drive   \n",
       "2            4.0  Automatic 3-spd  Rear-Wheel Drive   \n",
       "3            6.0  Automatic 3-spd  Rear-Wheel Drive   \n",
       "4            6.0  Automatic 4-spd  Rear-Wheel Drive   \n",
       "...          ...              ...               ...   \n",
       "35947        3.0        Auto(AM5)  Rear-Wheel Drive   \n",
       "35948        3.0        Auto(AM5)  Rear-Wheel Drive   \n",
       "35949        3.0        Auto(AM5)  Rear-Wheel Drive   \n",
       "35950        3.0        Auto(AM6)  Rear-Wheel Drive   \n",
       "35951        3.0     Manual 5-spd  Rear-Wheel Drive   \n",
       "\n",
       "                     Vehicle Class Fuel Type  Fuel Barrels/Year  City MPG  \\\n",
       "0      Special Purpose Vehicle 2WD   Regular          19.388824        18   \n",
       "1      Special Purpose Vehicle 2WD   Regular          25.354615        13   \n",
       "2      Special Purpose Vehicle 2WD   Regular          20.600625        16   \n",
       "3      Special Purpose Vehicle 2WD   Regular          25.354615        13   \n",
       "4                     Midsize Cars   Premium          20.600625        14   \n",
       "...                            ...       ...                ...       ...   \n",
       "35947                  Two Seaters   Premium           9.155833        34   \n",
       "35948                  Two Seaters   Premium           9.155833        34   \n",
       "35949                  Two Seaters   Premium           9.155833        34   \n",
       "35950                  Two Seaters   Premium           9.155833        34   \n",
       "35951                  Two Seaters   Premium           9.417429        32   \n",
       "\n",
       "       Highway MPG  Combined MPG  CO2 Emission Grams/Mile  Fuel Cost/Year  \n",
       "0               17            17               522.764706            1950  \n",
       "1               13            13               683.615385            2550  \n",
       "2               17            16               555.437500            2100  \n",
       "3               13            13               683.615385            2550  \n",
       "4               21            16               555.437500            2550  \n",
       "...            ...           ...                      ...             ...  \n",
       "35947           38            36               244.000000            1100  \n",
       "35948           38            36               243.000000            1100  \n",
       "35949           38            36               244.000000            1100  \n",
       "35950           39            36               246.000000            1100  \n",
       "35951           39            35               255.000000            1150  \n",
       "\n",
       "[35952 rows x 15 columns]"
      ]
     },
     "execution_count": 73,
     "metadata": {},
     "output_type": "execute_result"
    }
   ],
   "source": [
    "df = pd.read_csv(\"vehicles.csv\")\n",
    "df"
   ]
  },
  {
   "cell_type": "markdown",
   "metadata": {},
   "source": [
    "First import vehicles.csv.\n",
    "Then plot the histograms for the following variables:\n",
    "\n",
    "1. Fuel Barrels/Year"
   ]
  },
  {
   "cell_type": "code",
   "execution_count": 74,
   "metadata": {},
   "outputs": [
    {
     "data": {
      "text/plain": [
       "<matplotlib.axes._subplots.AxesSubplot at 0x1279ae850>"
      ]
     },
     "execution_count": 74,
     "metadata": {},
     "output_type": "execute_result"
    },
    {
     "data": {
      "image/png": "[encoded data removed]",
      "text/plain": [
       "<Figure size 432x288 with 1 Axes>"
      ]
     },
     "metadata": {
      "needs_background": "light"
     },
     "output_type": "display_data"
    }
   ],
   "source": [
    "import seaborn as sns\n",
    "df['Fuel Barrels/Year'].hist(bins=100)"
   ]
  },
  {
   "cell_type": "markdown",
   "metadata": {},
   "source": [
    "2. CO2 Emission Grams/Mile "
   ]
  },
  {
   "cell_type": "code",
   "execution_count": 75,
   "metadata": {},
   "outputs": [
    {
     "data": {
      "text/plain": [
       "<matplotlib.axes._subplots.AxesSubplot at 0x127a26850>"
      ]
     },
     "execution_count": 75,
     "metadata": {},
     "output_type": "execute_result"
    },
    {
     "data": {
      "image/png": "[encoded data removed]",
      "text/plain": [
       "<Figure size 432x288 with 1 Axes>"
      ]
     },
     "metadata": {
      "needs_background": "light"
     },
     "output_type": "display_data"
    }
   ],
   "source": [
    "df['CO2 Emission Grams/Mile'].hist(bins=100)"
   ]
  },
  {
   "cell_type": "markdown",
   "metadata": {},
   "source": [
    "3. Combined MPG"
   ]
  },
  {
   "cell_type": "code",
   "execution_count": 76,
   "metadata": {},
   "outputs": [
    {
     "data": {
      "text/plain": [
       "<matplotlib.axes._subplots.AxesSubplot at 0x127d220d0>"
      ]
     },
     "execution_count": 76,
     "metadata": {},
     "output_type": "execute_result"
    },
    {
     "data": {
      "image/png": "[encoded data removed]",
      "text/plain": [
       "<Figure size 432x288 with 1 Axes>"
      ]
     },
     "metadata": {
      "needs_background": "light"
     },
     "output_type": "display_data"
    }
   ],
   "source": [
    "df['Combined MPG'].hist(bins=100)"
   ]
  },
  {
   "cell_type": "markdown",
   "metadata": {},
   "source": [
    "Which one(s) of the variables are nearly normally distributed? How do you know?"
   ]
  },
  {
   "cell_type": "code",
   "execution_count": null,
   "metadata": {},
   "outputs": [],
   "source": [
    "Fuel Barrels Year"
   ]
  },
  {
   "cell_type": "markdown",
   "metadata": {},
   "source": [
    "## Exponential Distribution"
   ]
  },
  {
   "cell_type": "markdown",
   "metadata": {},
   "source": [
    "1. Using `numpy.random.exponential`, create a function that returns a list of numbers exponentially distributed with the mean of 10. \n",
    "\n",
    "1. Use the function to generate two number sequences with the size of 10 and 100.\n",
    "\n",
    "1. Plot the distributions as histograms with the nubmer of bins as 100.\n",
    "\n",
    "Your output should look like below:\n",
    "\n",
    "![exponential distribution](ed.png)"
   ]
  },
  {
   "cell_type": "code",
   "execution_count": null,
   "metadata": {},
   "outputs": [],
   "source": [
    "\n",
    "    "
   ]
  },
  {
   "cell_type": "markdown",
   "metadata": {},
   "source": [
    "How are the two distributions different?"
   ]
  },
  {
   "cell_type": "code",
   "execution_count": null,
   "metadata": {},
   "outputs": [],
   "source": [
    "# your answer here"
   ]
  },
  {
   "cell_type": "markdown",
   "metadata": {},
   "source": [
    "## Exponential Distribution of Real Data\n",
    "\n",
    "Suppose that the amount of time one spends in a bank is exponentially distributed with mean as 10 minutes (i.e. λ = 1/10). What is the probability that a customer will spend less than fifteen minutes in the bank? \n",
    "\n",
    "Write a code in python to solve this problem"
   ]
  },
  {
   "cell_type": "code",
   "execution_count": null,
   "metadata": {},
   "outputs": [],
   "source": [
    "# your answer here\n",
    "# Hint: This is same as saying P(x<15)"
   ]
  },
  {
   "cell_type": "markdown",
   "metadata": {},
   "source": [
    "What is the probability that the customer will spend more than 15 minutes"
   ]
  },
  {
   "cell_type": "code",
   "execution_count": null,
   "metadata": {},
   "outputs": [],
   "source": [
    "# your answer here"
   ]
  },
  {
   "cell_type": "code",
   "execution_count": null,
   "metadata": {},
   "outputs": [],
   "source": []
  }
 ],
 "metadata": {
  "kernelspec": {
   "display_name": "Python 3",
   "language": "python",
   "name": "python3"
  },
  "language_info": {
   "codemirror_mode": {
    "name": "ipython",
    "version": 3
   },
   "file_extension": ".py",
   "mimetype": "text/x-python",
   "name": "python",
   "nbconvert_exporter": "python",
   "pygments_lexer": "ipython3",
   "version": "3.7.7"
  }
 },
 "nbformat": 4,
 "nbformat_minor": 2
}
