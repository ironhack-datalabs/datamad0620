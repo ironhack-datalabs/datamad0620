{
 "cells": [
  {
   "cell_type": "markdown",
   "metadata": {},
   "source": [
    "# Before your start:\n",
    "\n",
    "    Read the README.md file\n",
    "    Comment as much as you can and use the resources (README.md file)\n",
    "    Happy learning!"
   ]
  },
  {
   "cell_type": "markdown",
   "metadata": {},
   "source": [
    "In this exercise, we  will generate random numbers from the continuous disributions we learned in the lesson. There are two ways to generate random numbers:\n",
    "\n",
    "1. Using the numpy library \n",
    "1. using the Scipy library \n",
    "\n",
    "Use either or both of the lbraries in this exercise."
   ]
  },
  {
   "cell_type": "markdown",
   "metadata": {},
   "source": [
    "## Uniform Distribution\n",
    "\n",
    "To generate uniform random numbers between any two given values using scipy, we can either use the following code or the code that we have\n",
    "discussed in class:"
   ]
  },
  {
   "cell_type": "code",
   "execution_count": 1,
   "metadata": {},
   "outputs": [
    {
     "name": "stdout",
     "output_type": "stream",
     "text": [
      "[2.15612048 2.2114661  2.50580908 2.00303612 2.59283277 2.48631167\n",
      " 2.12557489 2.2089862  2.29462431 2.7777231 ]\n"
     ]
    }
   ],
   "source": [
    "from scipy.stats import uniform\n",
    "x = uniform.rvs(size=10)\n",
    "a = 2\n",
    "b = 3\n",
    "randoms  = a + (b-a)*x\n",
    "print(randoms)"
   ]
  },
  {
   "cell_type": "markdown",
   "metadata": {},
   "source": [
    "**Your task:**\n",
    "\n",
    "1. Based on the code above, write a function that generates uniformly distributed random numbers. There are several requirements for your function:\n",
    "    * It should accept 3 parameters: \n",
    "        * `bottom` - the lower boundary of the generated numbers\n",
    "        * `ceiling` - the upper boundary of the generated numbers\n",
    "        * `count` - how many numbers to generate\n",
    "    * It should return an array of uniformly distributed random numbers\n",
    "\n",
    "1. Call your function with 2 sets of params below:\n",
    "    * bottom=10, ceiling=15, count=100\n",
    "    * bottom=10, ceiling=60, count=1,000\n",
    "\n",
    "1. Plot the uniform distributions generated above using histograms, where x axis is the value and y axis is the count. Let the histogram's number of bins be 10.\n",
    "\n",
    "Your output should look like below:\n",
    "\n",
    "![uniform distribution](ud.png)"
   ]
  },
  {
   "cell_type": "code",
   "execution_count": 7,
   "metadata": {},
   "outputs": [],
   "source": [
    "def unidif(bottom, ceiling, count):\n",
    "    from scipy.stats import uniform\n",
    "    x = uniform.rvs(size=count)\n",
    "    a = bottom\n",
    "    b = ceiling\n",
    "    randoms  = a + (b-a)*x\n",
    "    return randoms\n",
    "nums1= unidif(10,15,100)\n",
    "nums2=unidif(10,60,1000)"
   ]
  },
  {
   "cell_type": "code",
   "execution_count": 9,
   "metadata": {},
   "outputs": [
    {
     "data": {
      "text/plain": [
       "(array([ 86., 100.,  92., 111.,  85., 110., 105., 104., 104., 103.]),\n",
       " array([10.02849418, 15.0216199 , 20.01474561, 25.00787133, 30.00099704,\n",
       "        34.99412276, 39.98724848, 44.98037419, 49.97349991, 54.96662562,\n",
       "        59.95975134]),\n",
       " <a list of 10 Patch objects>)"
      ]
     },
     "execution_count": 9,
     "metadata": {},
     "output_type": "execute_result"
    },
    {
     "data": {
      "image/png": "[encoded data removed]",
      "text/plain": [
       "<Figure size 432x288 with 2 Axes>"
      ]
     },
     "metadata": {
      "needs_background": "light"
     },
     "output_type": "display_data"
    }
   ],
   "source": [
    "f, (ax1, ax2) = plt.subplots(1, 2)\n",
    "ax1.hist(nums1)\n",
    "ax2.hist(nums2)"
   ]
  },
  {
   "cell_type": "markdown",
   "metadata": {},
   "source": [
    "How are the two distributions different?"
   ]
  },
  {
   "cell_type": "code",
   "execution_count": null,
   "metadata": {},
   "outputs": [],
   "source": [
    "#Hay menos diferencia entre las columnas del grafico de la derecha."
   ]
  },
  {
   "cell_type": "markdown",
   "metadata": {},
   "source": [
    "## Normal Distribution\n",
    "\n",
    "1. In the same way in the Uniform Distribution challenge, write a function that generates normally distributed random numbers.\n",
    "1. Generate 1,000 normally distributed numbers with the average of 10 and standard deviation of 1\n",
    "1. Generate 1,000 normally distributed numbers with the average of 10 and standard deviation of 50\n",
    "2. Plot the distributions of the data generated.\n",
    "\n",
    "Expected output:\n",
    "\n",
    "![normal distribution](nd.png)"
   ]
  },
  {
   "cell_type": "code",
   "execution_count": 30,
   "metadata": {},
   "outputs": [
    {
     "data": {
      "text/plain": [
       "(array([ 3.,  0.,  1.,  0.,  0.,  1.,  0.,  0.,  0.,  0.,  2.,  3.,  0.,\n",
       "         0.,  3.,  6.,  3.,  4.,  5.,  5.,  5.,  6.,  7., 10., 11.,  3.,\n",
       "         7., 12.,  4., 10.,  5.,  8., 16., 12., 23., 20., 11., 21., 15.,\n",
       "        16., 25., 24., 32., 19., 25., 24., 27., 19., 31., 30., 34., 21.,\n",
       "        16., 21., 20., 27., 28., 21., 18., 17., 22., 21., 24., 12., 15.,\n",
       "        13., 13., 16., 12., 17., 11.,  5.,  9.,  8.,  9., 11.,  8.,  3.,\n",
       "         7.,  6.,  3.,  3.,  1.,  3.,  4.,  1.,  0.,  3.,  0.,  0.,  0.,\n",
       "         0.,  1.,  1.,  0.,  0.,  0.,  0.,  0.,  1.]),\n",
       " array([-150.55540281, -147.34718849, -144.13897417, -140.93075985,\n",
       "        -137.72254553, -134.51433121, -131.30611688, -128.09790256,\n",
       "        -124.88968824, -121.68147392, -118.4732596 , -115.26504528,\n",
       "        -112.05683096, -108.84861664, -105.64040232, -102.432188  ,\n",
       "         -99.22397367,  -96.01575935,  -92.80754503,  -89.59933071,\n",
       "         -86.39111639,  -83.18290207,  -79.97468775,  -76.76647343,\n",
       "         -73.55825911,  -70.35004479,  -67.14183047,  -63.93361614,\n",
       "         -60.72540182,  -57.5171875 ,  -54.30897318,  -51.10075886,\n",
       "         -47.89254454,  -44.68433022,  -41.4761159 ,  -38.26790158,\n",
       "         -35.05968726,  -31.85147293,  -28.64325861,  -25.43504429,\n",
       "         -22.22682997,  -19.01861565,  -15.81040133,  -12.60218701,\n",
       "          -9.39397269,   -6.18575837,   -2.97754405,    0.23067028,\n",
       "           3.4388846 ,    6.64709892,    9.85531324,   13.06352756,\n",
       "          16.27174188,   19.4799562 ,   22.68817052,   25.89638484,\n",
       "          29.10459916,   32.31281349,   35.52102781,   38.72924213,\n",
       "          41.93745645,   45.14567077,   48.35388509,   51.56209941,\n",
       "          54.77031373,   57.97852805,   61.18674237,   64.39495669,\n",
       "          67.60317102,   70.81138534,   74.01959966,   77.22781398,\n",
       "          80.4360283 ,   83.64424262,   86.85245694,   90.06067126,\n",
       "          93.26888558,   96.4770999 ,   99.68531423,  102.89352855,\n",
       "         106.10174287,  109.30995719,  112.51817151,  115.72638583,\n",
       "         118.93460015,  122.14281447,  125.35102879,  128.55924311,\n",
       "         131.76745744,  134.97567176,  138.18388608,  141.3921004 ,\n",
       "         144.60031472,  147.80852904,  151.01674336,  154.22495768,\n",
       "         157.433172  ,  160.64138632,  163.84960065,  167.05781497,\n",
       "         170.26602929]),\n",
       " <a list of 100 Patch objects>)"
      ]
     },
     "execution_count": 30,
     "metadata": {},
     "output_type": "execute_result"
    },
    {
     "data": {
      "image/png": "[encoded data removed]",
      "text/plain": [
       "<Figure size 720x360 with 2 Axes>"
      ]
     },
     "metadata": {
      "needs_background": "light"
     },
     "output_type": "display_data"
    }
   ],
   "source": [
    "\n",
    "# your code here\n",
    "from scipy.stats import norm\n",
    "plt.figure(figsize=(10,5))\n",
    "plt.subplot(1,2,1)\n",
    "data_normal = norm.rvs(size=1000,loc=10,scale=1)\n",
    "plt.hist(data_normal, bins=100)\n",
    "\n",
    "plt.subplot(1,2,2)\n",
    "data_normal2 = norm.rvs(size=1000,loc=10,scale=50)\n",
    "plt.hist(data_normal2,bins=100)"
   ]
  },
  {
   "cell_type": "markdown",
   "metadata": {},
   "source": [
    "How are the two distributions different?"
   ]
  },
  {
   "cell_type": "code",
   "execution_count": null,
   "metadata": {},
   "outputs": [],
   "source": [
    "#Lo veo parecido...."
   ]
  },
  {
   "cell_type": "markdown",
   "metadata": {},
   "source": [
    "## Normal Distribution of Real Data\n",
    "\n",
    "In this challenge we are going to take a look the real data. We will use vehicles.csv file for this exercise"
   ]
  },
  {
   "cell_type": "markdown",
   "metadata": {},
   "source": [
    "First import vehicles.csv.\n",
    "Then plot the histograms for the following variables:\n",
    "\n",
    "1. Fuel Barrels/Year"
   ]
  },
  {
   "cell_type": "code",
   "execution_count": 25,
   "metadata": {},
   "outputs": [
    {
     "data": {
      "text/plain": [
       "(array([6.000e+01, 3.000e+00, 2.000e+00, 8.000e+00, 8.000e+00, 1.000e+01,\n",
       "        2.500e+01, 4.200e+01, 1.600e+02, 1.370e+02, 4.210e+02, 7.050e+02,\n",
       "        1.754e+03, 2.305e+03, 1.580e+03, 4.020e+03, 3.167e+03, 3.092e+03,\n",
       "        3.231e+03, 3.529e+03, 2.308e+03, 2.305e+03, 6.500e+01, 2.348e+03,\n",
       "        1.940e+03, 8.600e+01, 1.245e+03, 3.000e+01, 5.000e+00, 7.300e+02,\n",
       "        0.000e+00, 4.390e+02, 0.000e+00, 0.000e+00, 1.300e+02, 0.000e+00,\n",
       "        0.000e+00, 0.000e+00, 3.600e+01, 0.000e+00, 0.000e+00, 0.000e+00,\n",
       "        0.000e+00, 2.100e+01, 0.000e+00, 0.000e+00, 0.000e+00, 0.000e+00,\n",
       "        0.000e+00, 5.000e+00]),\n",
       " array([ 0.06      ,  1.00054286,  1.94108571,  2.88162857,  3.82217143,\n",
       "         4.76271429,  5.70325714,  6.6438    ,  7.58434286,  8.52488571,\n",
       "         9.46542857, 10.40597143, 11.34651429, 12.28705714, 13.2276    ,\n",
       "        14.16814286, 15.10868571, 16.04922857, 16.98977143, 17.93031429,\n",
       "        18.87085714, 19.8114    , 20.75194286, 21.69248571, 22.63302857,\n",
       "        23.57357143, 24.51411429, 25.45465714, 26.3952    , 27.33574286,\n",
       "        28.27628571, 29.21682857, 30.15737143, 31.09791429, 32.03845714,\n",
       "        32.979     , 33.91954286, 34.86008571, 35.80062857, 36.74117143,\n",
       "        37.68171429, 38.62225714, 39.5628    , 40.50334286, 41.44388571,\n",
       "        42.38442857, 43.32497143, 44.26551429, 45.20605714, 46.1466    ,\n",
       "        47.08714286]),\n",
       " <a list of 50 Patch objects>)"
      ]
     },
     "execution_count": 25,
     "metadata": {},
     "output_type": "execute_result"
    },
    {
     "data": {
      "image/png": "[encoded data removed]",
      "text/plain": [
       "<Figure size 432x288 with 1 Axes>"
      ]
     },
     "metadata": {
      "needs_background": "light"
     },
     "output_type": "display_data"
    }
   ],
   "source": [
    "import pandas as pd\n",
    "\n",
    "df = pd.read_csv('vehicles.csv')\n",
    "plt.hist('Fuel Barrels/Year',data=df, bins=50)"
   ]
  },
  {
   "cell_type": "markdown",
   "metadata": {},
   "source": [
    "2. CO2 Emission Grams/Mile "
   ]
  },
  {
   "cell_type": "code",
   "execution_count": 26,
   "metadata": {},
   "outputs": [
    {
     "data": {
      "text/plain": [
       "(array([5.000e+00, 4.000e+00, 7.000e+00, 1.400e+01, 4.000e+00, 2.400e+01,\n",
       "        5.400e+01, 1.590e+02, 1.480e+02, 4.470e+02, 1.061e+03, 1.349e+03,\n",
       "        2.219e+03, 1.797e+03, 3.779e+03, 3.264e+03, 3.145e+03, 3.232e+03,\n",
       "        3.499e+03, 2.271e+03, 2.450e+02, 2.214e+03, 2.276e+03, 1.460e+02,\n",
       "        1.944e+03, 3.600e+01, 1.225e+03, 3.700e+01, 7.090e+02, 3.000e+00,\n",
       "        6.000e+00, 4.370e+02, 3.000e+00, 0.000e+00, 1.270e+02, 0.000e+00,\n",
       "        0.000e+00, 0.000e+00, 3.600e+01, 0.000e+00, 0.000e+00, 0.000e+00,\n",
       "        0.000e+00, 2.100e+01, 0.000e+00, 0.000e+00, 0.000e+00, 0.000e+00,\n",
       "        0.000e+00, 5.000e+00]),\n",
       " array([  37.        ,   61.65142857,   86.30285714,  110.95428571,\n",
       "         135.60571429,  160.25714286,  184.90857143,  209.56      ,\n",
       "         234.21142857,  258.86285714,  283.51428571,  308.16571429,\n",
       "         332.81714286,  357.46857143,  382.12      ,  406.77142857,\n",
       "         431.42285714,  456.07428571,  480.72571429,  505.37714286,\n",
       "         530.02857143,  554.68      ,  579.33142857,  603.98285714,\n",
       "         628.63428571,  653.28571429,  677.93714286,  702.58857143,\n",
       "         727.24      ,  751.89142857,  776.54285714,  801.19428571,\n",
       "         825.84571429,  850.49714286,  875.14857143,  899.8       ,\n",
       "         924.45142857,  949.10285714,  973.75428571,  998.40571429,\n",
       "        1023.05714286, 1047.70857143, 1072.36      , 1097.01142857,\n",
       "        1121.66285714, 1146.31428571, 1170.96571429, 1195.61714286,\n",
       "        1220.26857143, 1244.92      , 1269.57142857]),\n",
       " <a list of 50 Patch objects>)"
      ]
     },
     "execution_count": 26,
     "metadata": {},
     "output_type": "execute_result"
    },
    {
     "data": {
      "image/png": "[encoded data removed]",
      "text/plain": [
       "<Figure size 432x288 with 1 Axes>"
      ]
     },
     "metadata": {
      "needs_background": "light"
     },
     "output_type": "display_data"
    }
   ],
   "source": [
    "plt.hist('CO2 Emission Grams/Mile',data=df, bins=50)"
   ]
  },
  {
   "cell_type": "markdown",
   "metadata": {},
   "source": [
    "3. Combined MPG"
   ]
  },
  {
   "cell_type": "code",
   "execution_count": 28,
   "metadata": {},
   "outputs": [
    {
     "data": {
      "text/plain": [
       "(array([5.000e+00, 2.100e+01, 4.000e+01, 1.310e+02, 4.410e+02, 7.410e+02,\n",
       "        1.255e+03, 1.947e+03, 2.241e+03, 2.315e+03, 2.420e+03, 3.559e+03,\n",
       "        3.282e+03, 3.093e+03, 3.158e+03, 2.247e+03, 1.794e+03, 1.546e+03,\n",
       "        1.278e+03, 1.067e+03, 6.920e+02, 6.390e+02, 4.530e+02, 3.710e+02,\n",
       "        2.610e+02, 1.690e+02, 1.760e+02, 1.620e+02, 7.100e+01, 5.800e+01,\n",
       "        4.100e+01, 4.300e+01, 2.300e+01, 6.500e+01, 3.800e+01, 3.700e+01,\n",
       "        7.000e+00, 5.000e+00, 5.000e+00, 1.100e+01, 1.600e+01, 2.000e+00,\n",
       "        0.000e+00, 1.500e+01, 0.000e+00, 5.000e+00, 4.000e+00, 0.000e+00,\n",
       "        0.000e+00, 2.000e+00]),\n",
       " array([ 7.  ,  7.98,  8.96,  9.94, 10.92, 11.9 , 12.88, 13.86, 14.84,\n",
       "        15.82, 16.8 , 17.78, 18.76, 19.74, 20.72, 21.7 , 22.68, 23.66,\n",
       "        24.64, 25.62, 26.6 , 27.58, 28.56, 29.54, 30.52, 31.5 , 32.48,\n",
       "        33.46, 34.44, 35.42, 36.4 , 37.38, 38.36, 39.34, 40.32, 41.3 ,\n",
       "        42.28, 43.26, 44.24, 45.22, 46.2 , 47.18, 48.16, 49.14, 50.12,\n",
       "        51.1 , 52.08, 53.06, 54.04, 55.02, 56.  ]),\n",
       " <a list of 50 Patch objects>)"
      ]
     },
     "execution_count": 28,
     "metadata": {},
     "output_type": "execute_result"
    },
    {
     "data": {
      "image/png": "[encoded data removed]",
      "text/plain": [
       "<Figure size 432x288 with 1 Axes>"
      ]
     },
     "metadata": {
      "needs_background": "light"
     },
     "output_type": "display_data"
    }
   ],
   "source": [
    "plt.hist('Combined MPG',data=df, bins=50)\n",
    "#como hago para que no salgan los arrays?"
   ]
  },
  {
   "cell_type": "markdown",
   "metadata": {},
   "source": [
    "Which one(s) of the variables are nearly normally distributed? How do you know?"
   ]
  },
  {
   "cell_type": "code",
   "execution_count": null,
   "metadata": {},
   "outputs": [],
   "source": [
    "#yo diría que conbined  MPG"
   ]
  },
  {
   "cell_type": "markdown",
   "metadata": {},
   "source": [
    "## Exponential Distribution"
   ]
  },
  {
   "cell_type": "markdown",
   "metadata": {},
   "source": [
    "1. Using `numpy.random.exponential`, create a function that returns a list of numbers exponentially distributed with the mean of 10. \n",
    "\n",
    "1. Use the function to generate two number sequences with the size of 10 and 100.\n",
    "\n",
    "1. Plot the distributions as histograms with the nubmer of bins as 100.\n",
    "\n",
    "Your output should look like below:\n",
    "\n",
    "![exponential distribution](ed.png)"
   ]
  },
  {
   "cell_type": "code",
   "execution_count": null,
   "metadata": {},
   "outputs": [],
   "source": []
  },
  {
   "cell_type": "markdown",
   "metadata": {},
   "source": [
    "How are the two distributions different?"
   ]
  },
  {
   "cell_type": "code",
   "execution_count": null,
   "metadata": {},
   "outputs": [],
   "source": [
    "# your answer here"
   ]
  },
  {
   "cell_type": "markdown",
   "metadata": {},
   "source": [
    "## Exponential Distribution of Real Data\n",
    "\n",
    "Suppose that the amount of time one spends in a bank is exponentially distributed with mean as 10 minutes (i.e. λ = 1/10). What is the probability that a customer will spend less than fifteen minutes in the bank? \n",
    "\n",
    "Write a code in python to solve this problem"
   ]
  },
  {
   "cell_type": "code",
   "execution_count": null,
   "metadata": {},
   "outputs": [],
   "source": [
    "# your answer here\n",
    "# Hint: This is same as saying P(x<15)"
   ]
  },
  {
   "cell_type": "markdown",
   "metadata": {},
   "source": [
    "What is the probability that the customer will spend more than 15 minutes"
   ]
  },
  {
   "cell_type": "code",
   "execution_count": null,
   "metadata": {},
   "outputs": [],
   "source": [
    "# your answer here"
   ]
  },
  {
   "cell_type": "code",
   "execution_count": null,
   "metadata": {},
   "outputs": [],
   "source": []
  }
 ],
 "metadata": {
  "kernelspec": {
   "display_name": "Python 3",
   "language": "python",
   "name": "python3"
  },
  "language_info": {
   "codemirror_mode": {
    "name": "ipython",
    "version": 3
   },
   "file_extension": ".py",
   "mimetype": "text/x-python",
   "name": "python",
   "nbconvert_exporter": "python",
   "pygments_lexer": "ipython3",
   "version": "3.8.2"
  }
 },
 "nbformat": 4,
 "nbformat_minor": 2
}
