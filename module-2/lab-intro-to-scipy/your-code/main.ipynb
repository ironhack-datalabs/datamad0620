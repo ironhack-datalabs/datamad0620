{
 "cells": [
  {
   "cell_type": "markdown",
   "metadata": {},
   "source": [
    "# Before your start:\n",
    "- Read the README.md file\n",
    "- Comment as much as you can and use the resources (README.md file)\n",
    "- Happy learning!"
   ]
  },
  {
   "cell_type": "code",
   "execution_count": 2,
   "metadata": {},
   "outputs": [],
   "source": [
    "#import numpy and pandas\n",
    "import numpy as np\n",
    "import pandas as pd\n"
   ]
  },
  {
   "cell_type": "markdown",
   "metadata": {},
   "source": [
    "# Challenge 1 - The `stats` Submodule\n",
    "\n",
    "This submodule contains statistical functions for conducting hypothesis tests, producing various distributions and other useful tools. Let's examine this submodule using the KickStarter dataset. We will load the dataset below."
   ]
  },
  {
   "cell_type": "code",
   "execution_count": 3,
   "metadata": {},
   "outputs": [],
   "source": [
    "# Run this code:\n",
    "\n",
    "kickstarter = pd.read_csv('../ks-projects-201801.csv')"
   ]
  },
  {
   "cell_type": "markdown",
   "metadata": {},
   "source": [
    "Now print the `head` function to examine the dataset."
   ]
  },
  {
   "cell_type": "code",
   "execution_count": 4,
   "metadata": {},
   "outputs": [
    {
     "data": {
      "text/html": [
       "<div>\n",
       "<style scoped>\n",
       "    .dataframe tbody tr th:only-of-type {\n",
       "        vertical-align: middle;\n",
       "    }\n",
       "\n",
       "    .dataframe tbody tr th {\n",
       "        vertical-align: top;\n",
       "    }\n",
       "\n",
       "    .dataframe thead th {\n",
       "        text-align: right;\n",
       "    }\n",
       "</style>\n",
       "<table border=\"1\" class=\"dataframe\">\n",
       "  <thead>\n",
       "    <tr style=\"text-align: right;\">\n",
       "      <th></th>\n",
       "      <th>ID</th>\n",
       "      <th>name</th>\n",
       "      <th>category</th>\n",
       "      <th>main_category</th>\n",
       "      <th>currency</th>\n",
       "      <th>deadline</th>\n",
       "      <th>goal</th>\n",
       "      <th>launched</th>\n",
       "      <th>pledged</th>\n",
       "      <th>state</th>\n",
       "      <th>backers</th>\n",
       "      <th>country</th>\n",
       "      <th>usd pledged</th>\n",
       "      <th>usd_pledged_real</th>\n",
       "      <th>usd_goal_real</th>\n",
       "    </tr>\n",
       "  </thead>\n",
       "  <tbody>\n",
       "    <tr>\n",
       "      <th>0</th>\n",
       "      <td>1000002330</td>\n",
       "      <td>The Songs of Adelaide &amp; Abullah</td>\n",
       "      <td>Poetry</td>\n",
       "      <td>Publishing</td>\n",
       "      <td>GBP</td>\n",
       "      <td>2015-10-09</td>\n",
       "      <td>1000.0</td>\n",
       "      <td>2015-08-11 12:12:28</td>\n",
       "      <td>0.0</td>\n",
       "      <td>failed</td>\n",
       "      <td>0</td>\n",
       "      <td>GB</td>\n",
       "      <td>0.0</td>\n",
       "      <td>0.0</td>\n",
       "      <td>1533.95</td>\n",
       "    </tr>\n",
       "    <tr>\n",
       "      <th>1</th>\n",
       "      <td>1000003930</td>\n",
       "      <td>Greeting From Earth: ZGAC Arts Capsule For ET</td>\n",
       "      <td>Narrative Film</td>\n",
       "      <td>Film &amp; Video</td>\n",
       "      <td>USD</td>\n",
       "      <td>2017-11-01</td>\n",
       "      <td>30000.0</td>\n",
       "      <td>2017-09-02 04:43:57</td>\n",
       "      <td>2421.0</td>\n",
       "      <td>failed</td>\n",
       "      <td>15</td>\n",
       "      <td>US</td>\n",
       "      <td>100.0</td>\n",
       "      <td>2421.0</td>\n",
       "      <td>30000.00</td>\n",
       "    </tr>\n",
       "    <tr>\n",
       "      <th>2</th>\n",
       "      <td>1000004038</td>\n",
       "      <td>Where is Hank?</td>\n",
       "      <td>Narrative Film</td>\n",
       "      <td>Film &amp; Video</td>\n",
       "      <td>USD</td>\n",
       "      <td>2013-02-26</td>\n",
       "      <td>45000.0</td>\n",
       "      <td>2013-01-12 00:20:50</td>\n",
       "      <td>220.0</td>\n",
       "      <td>failed</td>\n",
       "      <td>3</td>\n",
       "      <td>US</td>\n",
       "      <td>220.0</td>\n",
       "      <td>220.0</td>\n",
       "      <td>45000.00</td>\n",
       "    </tr>\n",
       "    <tr>\n",
       "      <th>3</th>\n",
       "      <td>1000007540</td>\n",
       "      <td>ToshiCapital Rekordz Needs Help to Complete Album</td>\n",
       "      <td>Music</td>\n",
       "      <td>Music</td>\n",
       "      <td>USD</td>\n",
       "      <td>2012-04-16</td>\n",
       "      <td>5000.0</td>\n",
       "      <td>2012-03-17 03:24:11</td>\n",
       "      <td>1.0</td>\n",
       "      <td>failed</td>\n",
       "      <td>1</td>\n",
       "      <td>US</td>\n",
       "      <td>1.0</td>\n",
       "      <td>1.0</td>\n",
       "      <td>5000.00</td>\n",
       "    </tr>\n",
       "    <tr>\n",
       "      <th>4</th>\n",
       "      <td>1000011046</td>\n",
       "      <td>Community Film Project: The Art of Neighborhoo...</td>\n",
       "      <td>Film &amp; Video</td>\n",
       "      <td>Film &amp; Video</td>\n",
       "      <td>USD</td>\n",
       "      <td>2015-08-29</td>\n",
       "      <td>19500.0</td>\n",
       "      <td>2015-07-04 08:35:03</td>\n",
       "      <td>1283.0</td>\n",
       "      <td>canceled</td>\n",
       "      <td>14</td>\n",
       "      <td>US</td>\n",
       "      <td>1283.0</td>\n",
       "      <td>1283.0</td>\n",
       "      <td>19500.00</td>\n",
       "    </tr>\n",
       "  </tbody>\n",
       "</table>\n",
       "</div>"
      ],
      "text/plain": [
       "           ID                                               name  \\\n",
       "0  1000002330                    The Songs of Adelaide & Abullah   \n",
       "1  1000003930      Greeting From Earth: ZGAC Arts Capsule For ET   \n",
       "2  1000004038                                     Where is Hank?   \n",
       "3  1000007540  ToshiCapital Rekordz Needs Help to Complete Album   \n",
       "4  1000011046  Community Film Project: The Art of Neighborhoo...   \n",
       "\n",
       "         category main_category currency    deadline     goal  \\\n",
       "0          Poetry    Publishing      GBP  2015-10-09   1000.0   \n",
       "1  Narrative Film  Film & Video      USD  2017-11-01  30000.0   \n",
       "2  Narrative Film  Film & Video      USD  2013-02-26  45000.0   \n",
       "3           Music         Music      USD  2012-04-16   5000.0   \n",
       "4    Film & Video  Film & Video      USD  2015-08-29  19500.0   \n",
       "\n",
       "              launched  pledged     state  backers country  usd pledged  \\\n",
       "0  2015-08-11 12:12:28      0.0    failed        0      GB          0.0   \n",
       "1  2017-09-02 04:43:57   2421.0    failed       15      US        100.0   \n",
       "2  2013-01-12 00:20:50    220.0    failed        3      US        220.0   \n",
       "3  2012-03-17 03:24:11      1.0    failed        1      US          1.0   \n",
       "4  2015-07-04 08:35:03   1283.0  canceled       14      US       1283.0   \n",
       "\n",
       "   usd_pledged_real  usd_goal_real  \n",
       "0               0.0        1533.95  \n",
       "1            2421.0       30000.00  \n",
       "2             220.0       45000.00  \n",
       "3               1.0        5000.00  \n",
       "4            1283.0       19500.00  "
      ]
     },
     "execution_count": 4,
     "metadata": {},
     "output_type": "execute_result"
    }
   ],
   "source": [
    "# Your code here:\n",
    "\n",
    "kickstarter.head()"
   ]
  },
  {
   "cell_type": "markdown",
   "metadata": {},
   "source": [
    "Import the `mode` function from `scipy.stats` and find the mode of the `country` and `currency` column."
   ]
  },
  {
   "cell_type": "code",
   "execution_count": 5,
   "metadata": {},
   "outputs": [
    {
     "data": {
      "text/plain": [
       "(378661, 15)"
      ]
     },
     "execution_count": 5,
     "metadata": {},
     "output_type": "execute_result"
    }
   ],
   "source": [
    "kickstarter.shape"
   ]
  },
  {
   "cell_type": "code",
   "execution_count": 6,
   "metadata": {},
   "outputs": [],
   "source": [
    "# Your code here:\n",
    "from scipy import stats\n",
    "mode_country = stats.mode(kickstarter['country'], axis=None)\n",
    "currency_country = stats.mode(kickstarter['currency'], axis=None)"
   ]
  },
  {
   "cell_type": "code",
   "execution_count": 7,
   "metadata": {},
   "outputs": [
    {
     "name": "stdout",
     "output_type": "stream",
     "text": [
      "ModeResult(mode=array(['US'], dtype=object), count=array([292627]))\n",
      "ModeResult(mode=array(['USD'], dtype=object), count=array([295365]))\n"
     ]
    }
   ],
   "source": [
    "print(mode_country)\n",
    "print(currency_country)"
   ]
  },
  {
   "cell_type": "markdown",
   "metadata": {},
   "source": [
    "The trimmed mean is a function that computes the mean of the data with observations removed. The most common way to compute a trimmed mean is by specifying a percentage and then removing elements from both ends. However, we can also specify a threshold on both ends. The goal of this function is to create a more robust method of computing the mean that is less influenced by outliers. SciPy contains a function called `tmean` for computing the trimmed mean. \n",
    "\n",
    "In the cell below, import the `tmean` function and then find the 75th percentile of the `goal` column. Compute the trimmed mean between 0 and the 75th percentile of the column. Read more about the `tmean` function [here](https://docs.scipy.org/doc/scipy/reference/generated/scipy.stats.tmean.html#scipy.stats.tmean)."
   ]
  },
  {
   "cell_type": "code",
   "execution_count": 8,
   "metadata": {},
   "outputs": [
    {
     "name": "stdout",
     "output_type": "stream",
     "text": [
      "4874.150287106898\n"
     ]
    }
   ],
   "source": [
    "# Your code here:\n",
    "from scipy.stats import tmean\n",
    "perc75 = np.percentile(kickstarter['goal'], 75)\n",
    "print(stats.tmean(kickstarter['goal'], (0,perc75)))"
   ]
  },
  {
   "cell_type": "markdown",
   "metadata": {},
   "source": [
    "#### SciPy contains various statistical tests. One of the tests is Fisher's exact test. This test is used for contingency tables. \n",
    "\n",
    "The test originates from the \"Lady Tasting Tea\" experiment. In 1935, Fisher published the results of the experiment in his book. The experiment was based on a claim by Muriel Bristol that she can taste whether tea or milk was first poured into the cup. Fisher devised this test to disprove her claim. The null hypothesis is that the treatments do not affect outcomes, while the alternative hypothesis is that the treatment does affect outcome. To read more about Fisher's exact test, click [here](https://en.wikipedia.org/wiki/Fisher%27s_exact_test).\n",
    "\n",
    "Let's perform Fisher's exact test on our KickStarter data. We intend to test the hypothesis that the choice of currency has an impact on meeting the pledge goal. We'll start by creating two derived columns in our dataframe. The first will contain 1 if the amount of money in `usd_pledged_real` is greater than the amount of money in `usd_goal_real`. We can compute this by using the `np.where` function. If the amount in one column is greater than the other, enter a value of 1, otherwise enter a value of zero. Add this column to the dataframe and name it `goal_met`."
   ]
  },
  {
   "cell_type": "code",
   "execution_count": 9,
   "metadata": {},
   "outputs": [
    {
     "data": {
      "text/plain": [
       "0    245815\n",
       "1    132846\n",
       "Name: goal_met, dtype: int64"
      ]
     },
     "execution_count": 9,
     "metadata": {},
     "output_type": "execute_result"
    }
   ],
   "source": [
    "# Your code here:\n",
    "kickstarter['goal_met'] = np.where(kickstarter['usd_pledged_real'] > kickstarter['usd_goal_real'], 1,0)\n",
    "kickstarter['goal_met'].value_counts()"
   ]
  },
  {
   "cell_type": "markdown",
   "metadata": {},
   "source": [
    "Next, create a column that checks whether the currency of the project is in US Dollars. Create a column called `usd` using the `np.where` function where if the currency is US Dollars, assign a value of 1 to the row and 0 otherwise."
   ]
  },
  {
   "cell_type": "code",
   "execution_count": 10,
   "metadata": {},
   "outputs": [],
   "source": [
    "# Your code here:\n",
    "kickstarter['usd']= np.where(kickstarter['currency'] == 'USD',1,0)"
   ]
  },
  {
   "cell_type": "markdown",
   "metadata": {},
   "source": [
    "Now create a contingency table using the `pd.crosstab` function in the cell below to compare the `goal_met` and `usd` columns."
   ]
  },
  {
   "cell_type": "markdown",
   "metadata": {},
   "source": [
    "Import the `fisher_exact` function from `scipy.stats` and conduct the hypothesis test on the contingency table that you have generated above. You can read more about the `fisher_exact` function [here](https://docs.scipy.org/doc/scipy/reference/generated/scipy.stats.fisher_exact.html#scipy.stats.fisher_exact). The output of the function should be the odds ratio and the p-value. The p-value will provide you with the outcome of the test."
   ]
  },
  {
   "cell_type": "code",
   "execution_count": 11,
   "metadata": {},
   "outputs": [
    {
     "name": "stdout",
     "output_type": "stream",
     "text": [
      "1.3791838163150314 9.78e-321\n"
     ]
    }
   ],
   "source": [
    "# Your code here:\n",
    "\n",
    "fisher_hyp = pd.crosstab(kickstarter['goal_met'], kickstarter['usd'])\n",
    "oddsratio, pvalue = stats.fisher_exact(fisher_hyp)\n",
    "print(oddsratio, pvalue)"
   ]
  },
  {
   "cell_type": "markdown",
   "metadata": {},
   "source": [
    "# Challenge 2 - The `linalg` submodule\n",
    "\n",
    "This submodule allows us to perform various linear algebra calculations. \n",
    "\n",
    "Using the solve function, find the solution of the equation system 5x + 2y = 3 and 3x + y = 2 in the cell below."
   ]
  },
  {
   "cell_type": "code",
   "execution_count": 12,
   "metadata": {},
   "outputs": [
    {
     "name": "stdout",
     "output_type": "stream",
     "text": [
      "La solucion es -> X:0.5 Y:0.25\n"
     ]
    }
   ],
   "source": [
    "# Your code here:\n",
    "from scipy import linalg\n",
    "a =np.asarray([[5,2],\n",
    "              [3,2]])\n",
    "\n",
    "b= np.asarray([[3],\n",
    "               [2]])\n",
    "\n",
    "sol = linalg.solve(a,b)\n",
    "[x],[y]= sol # Unpack\n",
    "print(f\"La solucion es -> X:{round(x,2)} Y:{round(y,2)}\")"
   ]
  },
  {
   "cell_type": "markdown",
   "metadata": {},
   "source": [
    "# Challenge 3 - The `interpolate` submodule\n",
    "\n",
    "This submodule allows us to interpolate between two points and create a continuous distribution based on the observed data.\n",
    "\n",
    "In the cell below, import the `interp1d` function and first take a sample of 10 rows from `kickstarter`. "
   ]
  },
  {
   "cell_type": "code",
   "execution_count": 13,
   "metadata": {},
   "outputs": [
    {
     "data": {
      "text/html": [
       "<div>\n",
       "<style scoped>\n",
       "    .dataframe tbody tr th:only-of-type {\n",
       "        vertical-align: middle;\n",
       "    }\n",
       "\n",
       "    .dataframe tbody tr th {\n",
       "        vertical-align: top;\n",
       "    }\n",
       "\n",
       "    .dataframe thead th {\n",
       "        text-align: right;\n",
       "    }\n",
       "</style>\n",
       "<table border=\"1\" class=\"dataframe\">\n",
       "  <thead>\n",
       "    <tr style=\"text-align: right;\">\n",
       "      <th></th>\n",
       "      <th>ID</th>\n",
       "      <th>name</th>\n",
       "      <th>category</th>\n",
       "      <th>main_category</th>\n",
       "      <th>currency</th>\n",
       "      <th>deadline</th>\n",
       "      <th>goal</th>\n",
       "      <th>launched</th>\n",
       "      <th>pledged</th>\n",
       "      <th>state</th>\n",
       "      <th>backers</th>\n",
       "      <th>country</th>\n",
       "      <th>usd pledged</th>\n",
       "      <th>usd_pledged_real</th>\n",
       "      <th>usd_goal_real</th>\n",
       "      <th>goal_met</th>\n",
       "      <th>usd</th>\n",
       "    </tr>\n",
       "  </thead>\n",
       "  <tbody>\n",
       "    <tr>\n",
       "      <th>290415</th>\n",
       "      <td>547660818</td>\n",
       "      <td>Science Fiction Thrillers</td>\n",
       "      <td>Fiction</td>\n",
       "      <td>Publishing</td>\n",
       "      <td>USD</td>\n",
       "      <td>2016-08-08</td>\n",
       "      <td>27000.0</td>\n",
       "      <td>2016-07-09 07:36:18</td>\n",
       "      <td>286.00</td>\n",
       "      <td>canceled</td>\n",
       "      <td>5</td>\n",
       "      <td>US</td>\n",
       "      <td>25.00</td>\n",
       "      <td>286.0</td>\n",
       "      <td>27000.00</td>\n",
       "      <td>0</td>\n",
       "      <td>1</td>\n",
       "    </tr>\n",
       "    <tr>\n",
       "      <th>115831</th>\n",
       "      <td>1588106729</td>\n",
       "      <td>The Rock Dairy- ready to become a reality!</td>\n",
       "      <td>Food</td>\n",
       "      <td>Food</td>\n",
       "      <td>USD</td>\n",
       "      <td>2014-06-05</td>\n",
       "      <td>85000.0</td>\n",
       "      <td>2014-05-12 19:02:57</td>\n",
       "      <td>645.00</td>\n",
       "      <td>failed</td>\n",
       "      <td>7</td>\n",
       "      <td>US</td>\n",
       "      <td>645.00</td>\n",
       "      <td>645.0</td>\n",
       "      <td>85000.00</td>\n",
       "      <td>0</td>\n",
       "      <td>1</td>\n",
       "    </tr>\n",
       "    <tr>\n",
       "      <th>189261</th>\n",
       "      <td>1963168087</td>\n",
       "      <td>VC music, just the beginning!</td>\n",
       "      <td>Music</td>\n",
       "      <td>Music</td>\n",
       "      <td>USD</td>\n",
       "      <td>2014-11-14</td>\n",
       "      <td>25000.0</td>\n",
       "      <td>2014-10-01 17:34:02</td>\n",
       "      <td>25405.00</td>\n",
       "      <td>successful</td>\n",
       "      <td>121</td>\n",
       "      <td>US</td>\n",
       "      <td>25405.00</td>\n",
       "      <td>25405.0</td>\n",
       "      <td>25000.00</td>\n",
       "      <td>1</td>\n",
       "      <td>1</td>\n",
       "    </tr>\n",
       "    <tr>\n",
       "      <th>319593</th>\n",
       "      <td>697713591</td>\n",
       "      <td>Movie Inspired by Actual Events</td>\n",
       "      <td>Documentary</td>\n",
       "      <td>Film &amp; Video</td>\n",
       "      <td>USD</td>\n",
       "      <td>2010-09-10</td>\n",
       "      <td>25000.0</td>\n",
       "      <td>2010-08-11 22:31:31</td>\n",
       "      <td>0.00</td>\n",
       "      <td>failed</td>\n",
       "      <td>0</td>\n",
       "      <td>US</td>\n",
       "      <td>0.00</td>\n",
       "      <td>0.0</td>\n",
       "      <td>25000.00</td>\n",
       "      <td>0</td>\n",
       "      <td>1</td>\n",
       "    </tr>\n",
       "    <tr>\n",
       "      <th>32598</th>\n",
       "      <td>1165575746</td>\n",
       "      <td>Sticky Italian Audio Vocabulary Lessons With N...</td>\n",
       "      <td>Academic</td>\n",
       "      <td>Publishing</td>\n",
       "      <td>USD</td>\n",
       "      <td>2014-09-10</td>\n",
       "      <td>1000.0</td>\n",
       "      <td>2014-08-11 20:47:27</td>\n",
       "      <td>30.00</td>\n",
       "      <td>failed</td>\n",
       "      <td>4</td>\n",
       "      <td>US</td>\n",
       "      <td>30.00</td>\n",
       "      <td>30.0</td>\n",
       "      <td>1000.00</td>\n",
       "      <td>0</td>\n",
       "      <td>1</td>\n",
       "    </tr>\n",
       "    <tr>\n",
       "      <th>139410</th>\n",
       "      <td>170811077</td>\n",
       "      <td>Plan V: The Story of the 2nd Vermont Republic</td>\n",
       "      <td>Documentary</td>\n",
       "      <td>Film &amp; Video</td>\n",
       "      <td>USD</td>\n",
       "      <td>2016-12-26</td>\n",
       "      <td>23285.0</td>\n",
       "      <td>2016-11-04 01:20:47</td>\n",
       "      <td>3608.00</td>\n",
       "      <td>failed</td>\n",
       "      <td>13</td>\n",
       "      <td>US</td>\n",
       "      <td>1478.00</td>\n",
       "      <td>3608.0</td>\n",
       "      <td>23285.00</td>\n",
       "      <td>0</td>\n",
       "      <td>1</td>\n",
       "    </tr>\n",
       "    <tr>\n",
       "      <th>272372</th>\n",
       "      <td>455844792</td>\n",
       "      <td>BaileyBear Productions</td>\n",
       "      <td>Film &amp; Video</td>\n",
       "      <td>Film &amp; Video</td>\n",
       "      <td>USD</td>\n",
       "      <td>2013-07-21</td>\n",
       "      <td>450.0</td>\n",
       "      <td>2013-06-04 06:09:30</td>\n",
       "      <td>31.00</td>\n",
       "      <td>failed</td>\n",
       "      <td>2</td>\n",
       "      <td>US</td>\n",
       "      <td>31.00</td>\n",
       "      <td>31.0</td>\n",
       "      <td>450.00</td>\n",
       "      <td>0</td>\n",
       "      <td>1</td>\n",
       "    </tr>\n",
       "    <tr>\n",
       "      <th>311664</th>\n",
       "      <td>657543536</td>\n",
       "      <td>Dr. Oblivion's Guide to Teenage Dating GN Vol. 1</td>\n",
       "      <td>Comics</td>\n",
       "      <td>Comics</td>\n",
       "      <td>USD</td>\n",
       "      <td>2015-05-02</td>\n",
       "      <td>2500.0</td>\n",
       "      <td>2015-04-01 08:48:51</td>\n",
       "      <td>2765.00</td>\n",
       "      <td>successful</td>\n",
       "      <td>61</td>\n",
       "      <td>US</td>\n",
       "      <td>2765.00</td>\n",
       "      <td>2765.0</td>\n",
       "      <td>2500.00</td>\n",
       "      <td>1</td>\n",
       "      <td>1</td>\n",
       "    </tr>\n",
       "    <tr>\n",
       "      <th>191346</th>\n",
       "      <td>1973716158</td>\n",
       "      <td>Heldentaufe - the adventure board game for the...</td>\n",
       "      <td>Tabletop Games</td>\n",
       "      <td>Games</td>\n",
       "      <td>CHF</td>\n",
       "      <td>2016-03-05</td>\n",
       "      <td>34000.0</td>\n",
       "      <td>2016-02-13 19:59:52</td>\n",
       "      <td>50276.52</td>\n",
       "      <td>successful</td>\n",
       "      <td>869</td>\n",
       "      <td>CH</td>\n",
       "      <td>51630.69</td>\n",
       "      <td>50928.4</td>\n",
       "      <td>34440.84</td>\n",
       "      <td>1</td>\n",
       "      <td>0</td>\n",
       "    </tr>\n",
       "    <tr>\n",
       "      <th>264389</th>\n",
       "      <td>414695327</td>\n",
       "      <td>Here's the Story, a full season of storytelling!</td>\n",
       "      <td>Performance Art</td>\n",
       "      <td>Art</td>\n",
       "      <td>USD</td>\n",
       "      <td>2012-10-09</td>\n",
       "      <td>5000.0</td>\n",
       "      <td>2012-08-28 09:09:12</td>\n",
       "      <td>5537.00</td>\n",
       "      <td>successful</td>\n",
       "      <td>57</td>\n",
       "      <td>US</td>\n",
       "      <td>5537.00</td>\n",
       "      <td>5537.0</td>\n",
       "      <td>5000.00</td>\n",
       "      <td>1</td>\n",
       "      <td>1</td>\n",
       "    </tr>\n",
       "  </tbody>\n",
       "</table>\n",
       "</div>"
      ],
      "text/plain": [
       "                ID                                               name  \\\n",
       "290415   547660818                          Science Fiction Thrillers   \n",
       "115831  1588106729         The Rock Dairy- ready to become a reality!   \n",
       "189261  1963168087                      VC music, just the beginning!   \n",
       "319593   697713591                    Movie Inspired by Actual Events   \n",
       "32598   1165575746  Sticky Italian Audio Vocabulary Lessons With N...   \n",
       "139410   170811077      Plan V: The Story of the 2nd Vermont Republic   \n",
       "272372   455844792                             BaileyBear Productions   \n",
       "311664   657543536   Dr. Oblivion's Guide to Teenage Dating GN Vol. 1   \n",
       "191346  1973716158  Heldentaufe - the adventure board game for the...   \n",
       "264389   414695327   Here's the Story, a full season of storytelling!   \n",
       "\n",
       "               category main_category currency    deadline     goal  \\\n",
       "290415          Fiction    Publishing      USD  2016-08-08  27000.0   \n",
       "115831             Food          Food      USD  2014-06-05  85000.0   \n",
       "189261            Music         Music      USD  2014-11-14  25000.0   \n",
       "319593      Documentary  Film & Video      USD  2010-09-10  25000.0   \n",
       "32598          Academic    Publishing      USD  2014-09-10   1000.0   \n",
       "139410      Documentary  Film & Video      USD  2016-12-26  23285.0   \n",
       "272372     Film & Video  Film & Video      USD  2013-07-21    450.0   \n",
       "311664           Comics        Comics      USD  2015-05-02   2500.0   \n",
       "191346   Tabletop Games         Games      CHF  2016-03-05  34000.0   \n",
       "264389  Performance Art           Art      USD  2012-10-09   5000.0   \n",
       "\n",
       "                   launched   pledged       state  backers country  \\\n",
       "290415  2016-07-09 07:36:18    286.00    canceled        5      US   \n",
       "115831  2014-05-12 19:02:57    645.00      failed        7      US   \n",
       "189261  2014-10-01 17:34:02  25405.00  successful      121      US   \n",
       "319593  2010-08-11 22:31:31      0.00      failed        0      US   \n",
       "32598   2014-08-11 20:47:27     30.00      failed        4      US   \n",
       "139410  2016-11-04 01:20:47   3608.00      failed       13      US   \n",
       "272372  2013-06-04 06:09:30     31.00      failed        2      US   \n",
       "311664  2015-04-01 08:48:51   2765.00  successful       61      US   \n",
       "191346  2016-02-13 19:59:52  50276.52  successful      869      CH   \n",
       "264389  2012-08-28 09:09:12   5537.00  successful       57      US   \n",
       "\n",
       "        usd pledged  usd_pledged_real  usd_goal_real  goal_met  usd  \n",
       "290415        25.00             286.0       27000.00         0    1  \n",
       "115831       645.00             645.0       85000.00         0    1  \n",
       "189261     25405.00           25405.0       25000.00         1    1  \n",
       "319593         0.00               0.0       25000.00         0    1  \n",
       "32598         30.00              30.0        1000.00         0    1  \n",
       "139410      1478.00            3608.0       23285.00         0    1  \n",
       "272372        31.00              31.0         450.00         0    1  \n",
       "311664      2765.00            2765.0        2500.00         1    1  \n",
       "191346     51630.69           50928.4       34440.84         1    0  \n",
       "264389      5537.00            5537.0        5000.00         1    1  "
      ]
     },
     "metadata": {},
     "output_type": "display_data"
    }
   ],
   "source": [
    "# Your code here:\n",
    "from scipy.interpolate import interp1d\n",
    "# funcion aleatoria  -> random_state=20 va a cojer siempre los mismos valores\n",
    "# mismos datos, misma muestra\n",
    "subset_kickstarter = kickstarter.sample(n=10, random_state=20)\n",
    "display(subset_kickstarter)"
   ]
  },
  {
   "cell_type": "markdown",
   "metadata": {},
   "source": [
    "Next, create a linear interpolation of the backers as a function of `usd_pledged_real`. Create a function `f` that generates a linear interpolation of backers as predicted by the amount of real pledged dollars."
   ]
  },
  {
   "cell_type": "code",
   "execution_count": 14,
   "metadata": {},
   "outputs": [
    {
     "name": "stdout",
     "output_type": "stream",
     "text": [
      "<scipy.interpolate.interpolate.interp1d object at 0x7f61db5fee90>\n"
     ]
    }
   ],
   "source": [
    "# Your code here:\n",
    "\n",
    "f = interp1d(subset_kickstarter['backers'], subset_kickstarter['usd_pledged_real'], kind=\"linear\")\n",
    "print(f)"
   ]
  },
  {
   "cell_type": "markdown",
   "metadata": {},
   "source": [
    "Now create a new variable called `x_new`. This variable will contain all integers between the minimum number of backers in our sample and the maximum number of backers. The goal here is to take the dataset that contains few obeservations due to sampling and fill all observations with a value using the interpolation function. \n",
    "\n",
    "Hint: one option is the `np.arange` function."
   ]
  },
  {
   "cell_type": "code",
   "execution_count": 15,
   "metadata": {},
   "outputs": [
    {
     "data": {
      "text/html": [
       "<div>\n",
       "<style scoped>\n",
       "    .dataframe tbody tr th:only-of-type {\n",
       "        vertical-align: middle;\n",
       "    }\n",
       "\n",
       "    .dataframe tbody tr th {\n",
       "        vertical-align: top;\n",
       "    }\n",
       "\n",
       "    .dataframe thead th {\n",
       "        text-align: right;\n",
       "    }\n",
       "</style>\n",
       "<table border=\"1\" class=\"dataframe\">\n",
       "  <thead>\n",
       "    <tr style=\"text-align: right;\">\n",
       "      <th></th>\n",
       "      <th>ID</th>\n",
       "      <th>name</th>\n",
       "      <th>category</th>\n",
       "      <th>main_category</th>\n",
       "      <th>currency</th>\n",
       "      <th>deadline</th>\n",
       "      <th>goal</th>\n",
       "      <th>launched</th>\n",
       "      <th>pledged</th>\n",
       "      <th>state</th>\n",
       "      <th>backers</th>\n",
       "      <th>country</th>\n",
       "      <th>usd pledged</th>\n",
       "      <th>usd_pledged_real</th>\n",
       "      <th>usd_goal_real</th>\n",
       "      <th>goal_met</th>\n",
       "      <th>usd</th>\n",
       "    </tr>\n",
       "  </thead>\n",
       "  <tbody>\n",
       "    <tr>\n",
       "      <th>290415</th>\n",
       "      <td>547660818</td>\n",
       "      <td>Science Fiction Thrillers</td>\n",
       "      <td>Fiction</td>\n",
       "      <td>Publishing</td>\n",
       "      <td>USD</td>\n",
       "      <td>2016-08-08</td>\n",
       "      <td>27000.0</td>\n",
       "      <td>2016-07-09 07:36:18</td>\n",
       "      <td>286.00</td>\n",
       "      <td>canceled</td>\n",
       "      <td>5</td>\n",
       "      <td>US</td>\n",
       "      <td>25.00</td>\n",
       "      <td>286.0</td>\n",
       "      <td>27000.00</td>\n",
       "      <td>0</td>\n",
       "      <td>1</td>\n",
       "    </tr>\n",
       "    <tr>\n",
       "      <th>115831</th>\n",
       "      <td>1588106729</td>\n",
       "      <td>The Rock Dairy- ready to become a reality!</td>\n",
       "      <td>Food</td>\n",
       "      <td>Food</td>\n",
       "      <td>USD</td>\n",
       "      <td>2014-06-05</td>\n",
       "      <td>85000.0</td>\n",
       "      <td>2014-05-12 19:02:57</td>\n",
       "      <td>645.00</td>\n",
       "      <td>failed</td>\n",
       "      <td>7</td>\n",
       "      <td>US</td>\n",
       "      <td>645.00</td>\n",
       "      <td>645.0</td>\n",
       "      <td>85000.00</td>\n",
       "      <td>0</td>\n",
       "      <td>1</td>\n",
       "    </tr>\n",
       "    <tr>\n",
       "      <th>189261</th>\n",
       "      <td>1963168087</td>\n",
       "      <td>VC music, just the beginning!</td>\n",
       "      <td>Music</td>\n",
       "      <td>Music</td>\n",
       "      <td>USD</td>\n",
       "      <td>2014-11-14</td>\n",
       "      <td>25000.0</td>\n",
       "      <td>2014-10-01 17:34:02</td>\n",
       "      <td>25405.00</td>\n",
       "      <td>successful</td>\n",
       "      <td>121</td>\n",
       "      <td>US</td>\n",
       "      <td>25405.00</td>\n",
       "      <td>25405.0</td>\n",
       "      <td>25000.00</td>\n",
       "      <td>1</td>\n",
       "      <td>1</td>\n",
       "    </tr>\n",
       "    <tr>\n",
       "      <th>319593</th>\n",
       "      <td>697713591</td>\n",
       "      <td>Movie Inspired by Actual Events</td>\n",
       "      <td>Documentary</td>\n",
       "      <td>Film &amp; Video</td>\n",
       "      <td>USD</td>\n",
       "      <td>2010-09-10</td>\n",
       "      <td>25000.0</td>\n",
       "      <td>2010-08-11 22:31:31</td>\n",
       "      <td>0.00</td>\n",
       "      <td>failed</td>\n",
       "      <td>0</td>\n",
       "      <td>US</td>\n",
       "      <td>0.00</td>\n",
       "      <td>0.0</td>\n",
       "      <td>25000.00</td>\n",
       "      <td>0</td>\n",
       "      <td>1</td>\n",
       "    </tr>\n",
       "    <tr>\n",
       "      <th>32598</th>\n",
       "      <td>1165575746</td>\n",
       "      <td>Sticky Italian Audio Vocabulary Lessons With N...</td>\n",
       "      <td>Academic</td>\n",
       "      <td>Publishing</td>\n",
       "      <td>USD</td>\n",
       "      <td>2014-09-10</td>\n",
       "      <td>1000.0</td>\n",
       "      <td>2014-08-11 20:47:27</td>\n",
       "      <td>30.00</td>\n",
       "      <td>failed</td>\n",
       "      <td>4</td>\n",
       "      <td>US</td>\n",
       "      <td>30.00</td>\n",
       "      <td>30.0</td>\n",
       "      <td>1000.00</td>\n",
       "      <td>0</td>\n",
       "      <td>1</td>\n",
       "    </tr>\n",
       "    <tr>\n",
       "      <th>139410</th>\n",
       "      <td>170811077</td>\n",
       "      <td>Plan V: The Story of the 2nd Vermont Republic</td>\n",
       "      <td>Documentary</td>\n",
       "      <td>Film &amp; Video</td>\n",
       "      <td>USD</td>\n",
       "      <td>2016-12-26</td>\n",
       "      <td>23285.0</td>\n",
       "      <td>2016-11-04 01:20:47</td>\n",
       "      <td>3608.00</td>\n",
       "      <td>failed</td>\n",
       "      <td>13</td>\n",
       "      <td>US</td>\n",
       "      <td>1478.00</td>\n",
       "      <td>3608.0</td>\n",
       "      <td>23285.00</td>\n",
       "      <td>0</td>\n",
       "      <td>1</td>\n",
       "    </tr>\n",
       "    <tr>\n",
       "      <th>272372</th>\n",
       "      <td>455844792</td>\n",
       "      <td>BaileyBear Productions</td>\n",
       "      <td>Film &amp; Video</td>\n",
       "      <td>Film &amp; Video</td>\n",
       "      <td>USD</td>\n",
       "      <td>2013-07-21</td>\n",
       "      <td>450.0</td>\n",
       "      <td>2013-06-04 06:09:30</td>\n",
       "      <td>31.00</td>\n",
       "      <td>failed</td>\n",
       "      <td>2</td>\n",
       "      <td>US</td>\n",
       "      <td>31.00</td>\n",
       "      <td>31.0</td>\n",
       "      <td>450.00</td>\n",
       "      <td>0</td>\n",
       "      <td>1</td>\n",
       "    </tr>\n",
       "    <tr>\n",
       "      <th>311664</th>\n",
       "      <td>657543536</td>\n",
       "      <td>Dr. Oblivion's Guide to Teenage Dating GN Vol. 1</td>\n",
       "      <td>Comics</td>\n",
       "      <td>Comics</td>\n",
       "      <td>USD</td>\n",
       "      <td>2015-05-02</td>\n",
       "      <td>2500.0</td>\n",
       "      <td>2015-04-01 08:48:51</td>\n",
       "      <td>2765.00</td>\n",
       "      <td>successful</td>\n",
       "      <td>61</td>\n",
       "      <td>US</td>\n",
       "      <td>2765.00</td>\n",
       "      <td>2765.0</td>\n",
       "      <td>2500.00</td>\n",
       "      <td>1</td>\n",
       "      <td>1</td>\n",
       "    </tr>\n",
       "    <tr>\n",
       "      <th>191346</th>\n",
       "      <td>1973716158</td>\n",
       "      <td>Heldentaufe - the adventure board game for the...</td>\n",
       "      <td>Tabletop Games</td>\n",
       "      <td>Games</td>\n",
       "      <td>CHF</td>\n",
       "      <td>2016-03-05</td>\n",
       "      <td>34000.0</td>\n",
       "      <td>2016-02-13 19:59:52</td>\n",
       "      <td>50276.52</td>\n",
       "      <td>successful</td>\n",
       "      <td>869</td>\n",
       "      <td>CH</td>\n",
       "      <td>51630.69</td>\n",
       "      <td>50928.4</td>\n",
       "      <td>34440.84</td>\n",
       "      <td>1</td>\n",
       "      <td>0</td>\n",
       "    </tr>\n",
       "    <tr>\n",
       "      <th>264389</th>\n",
       "      <td>414695327</td>\n",
       "      <td>Here's the Story, a full season of storytelling!</td>\n",
       "      <td>Performance Art</td>\n",
       "      <td>Art</td>\n",
       "      <td>USD</td>\n",
       "      <td>2012-10-09</td>\n",
       "      <td>5000.0</td>\n",
       "      <td>2012-08-28 09:09:12</td>\n",
       "      <td>5537.00</td>\n",
       "      <td>successful</td>\n",
       "      <td>57</td>\n",
       "      <td>US</td>\n",
       "      <td>5537.00</td>\n",
       "      <td>5537.0</td>\n",
       "      <td>5000.00</td>\n",
       "      <td>1</td>\n",
       "      <td>1</td>\n",
       "    </tr>\n",
       "  </tbody>\n",
       "</table>\n",
       "</div>"
      ],
      "text/plain": [
       "                ID                                               name  \\\n",
       "290415   547660818                          Science Fiction Thrillers   \n",
       "115831  1588106729         The Rock Dairy- ready to become a reality!   \n",
       "189261  1963168087                      VC music, just the beginning!   \n",
       "319593   697713591                    Movie Inspired by Actual Events   \n",
       "32598   1165575746  Sticky Italian Audio Vocabulary Lessons With N...   \n",
       "139410   170811077      Plan V: The Story of the 2nd Vermont Republic   \n",
       "272372   455844792                             BaileyBear Productions   \n",
       "311664   657543536   Dr. Oblivion's Guide to Teenage Dating GN Vol. 1   \n",
       "191346  1973716158  Heldentaufe - the adventure board game for the...   \n",
       "264389   414695327   Here's the Story, a full season of storytelling!   \n",
       "\n",
       "               category main_category currency    deadline     goal  \\\n",
       "290415          Fiction    Publishing      USD  2016-08-08  27000.0   \n",
       "115831             Food          Food      USD  2014-06-05  85000.0   \n",
       "189261            Music         Music      USD  2014-11-14  25000.0   \n",
       "319593      Documentary  Film & Video      USD  2010-09-10  25000.0   \n",
       "32598          Academic    Publishing      USD  2014-09-10   1000.0   \n",
       "139410      Documentary  Film & Video      USD  2016-12-26  23285.0   \n",
       "272372     Film & Video  Film & Video      USD  2013-07-21    450.0   \n",
       "311664           Comics        Comics      USD  2015-05-02   2500.0   \n",
       "191346   Tabletop Games         Games      CHF  2016-03-05  34000.0   \n",
       "264389  Performance Art           Art      USD  2012-10-09   5000.0   \n",
       "\n",
       "                   launched   pledged       state  backers country  \\\n",
       "290415  2016-07-09 07:36:18    286.00    canceled        5      US   \n",
       "115831  2014-05-12 19:02:57    645.00      failed        7      US   \n",
       "189261  2014-10-01 17:34:02  25405.00  successful      121      US   \n",
       "319593  2010-08-11 22:31:31      0.00      failed        0      US   \n",
       "32598   2014-08-11 20:47:27     30.00      failed        4      US   \n",
       "139410  2016-11-04 01:20:47   3608.00      failed       13      US   \n",
       "272372  2013-06-04 06:09:30     31.00      failed        2      US   \n",
       "311664  2015-04-01 08:48:51   2765.00  successful       61      US   \n",
       "191346  2016-02-13 19:59:52  50276.52  successful      869      CH   \n",
       "264389  2012-08-28 09:09:12   5537.00  successful       57      US   \n",
       "\n",
       "        usd pledged  usd_pledged_real  usd_goal_real  goal_met  usd  \n",
       "290415        25.00             286.0       27000.00         0    1  \n",
       "115831       645.00             645.0       85000.00         0    1  \n",
       "189261     25405.00           25405.0       25000.00         1    1  \n",
       "319593         0.00               0.0       25000.00         0    1  \n",
       "32598         30.00              30.0        1000.00         0    1  \n",
       "139410      1478.00            3608.0       23285.00         0    1  \n",
       "272372        31.00              31.0         450.00         0    1  \n",
       "311664      2765.00            2765.0        2500.00         1    1  \n",
       "191346     51630.69           50928.4       34440.84         1    0  \n",
       "264389      5537.00            5537.0        5000.00         1    1  "
      ]
     },
     "metadata": {},
     "output_type": "display_data"
    },
    {
     "name": "stdout",
     "output_type": "stream",
     "text": [
      "ModeResult(mode=array([0]), count=array([1]))\n"
     ]
    }
   ],
   "source": [
    "# Your code here:\n",
    "x_new = np.arange(min(subset_kickstarter['backers']), max(subset_kickstarter['backers']))\n",
    "display(subset_kickstarter.head(10))\n",
    "print(stats.mode(subset_kickstarter['backers']))"
   ]
  },
  {
   "cell_type": "markdown",
   "metadata": {},
   "source": [
    "Plot function f for all values of `x_new`. Run the code below."
   ]
  },
  {
   "cell_type": "code",
   "execution_count": 16,
   "metadata": {},
   "outputs": [
    {
     "data": {
      "text/plain": [
       "[<matplotlib.lines.Line2D at 0x7f61daf6fad0>]"
      ]
     },
     "execution_count": 16,
     "metadata": {},
     "output_type": "execute_result"
    },
    {
     "data": {
      "image/png": "[encoded data removed]",
      "text/plain": [
       "<Figure size 432x288 with 1 Axes>"
      ]
     },
     "metadata": {
      "needs_background": "light"
     },
     "output_type": "display_data"
    }
   ],
   "source": [
    "# Run this code:\n",
    "\n",
    "%matplotlib inline\n",
    "import matplotlib.pyplot as plt\n",
    "\n",
    "plt.plot(x_new, f(x_new))"
   ]
  },
  {
   "cell_type": "markdown",
   "metadata": {},
   "source": [
    "Next create a function that will generate a cubic interpolation function. Name the function `g`"
   ]
  },
  {
   "cell_type": "code",
   "execution_count": 17,
   "metadata": {},
   "outputs": [],
   "source": [
    "# Your code here:\n",
    "\n",
    "g = interp1d(subset_kickstarter['backers'], subset_kickstarter['usd_pledged_real'], kind= 'cubic')"
   ]
  },
  {
   "cell_type": "code",
   "execution_count": 18,
   "metadata": {},
   "outputs": [
    {
     "data": {
      "text/plain": [
       "[<matplotlib.lines.Line2D at 0x7f61d35e1250>]"
      ]
     },
     "execution_count": 18,
     "metadata": {},
     "output_type": "execute_result"
    },
    {
     "data": {
      "image/png": "[encoded data removed]",
      "text/plain": [
       "<Figure size 432x288 with 1 Axes>"
      ]
     },
     "metadata": {
      "needs_background": "light"
     },
     "output_type": "display_data"
    }
   ],
   "source": [
    "# Run this code:\n",
    "\n",
    "plt.plot(x_new, g(x_new))"
   ]
  },
  {
   "cell_type": "markdown",
   "metadata": {},
   "source": [
    "# Bonus Challenge - The Binomial Distribution\n",
    "\n",
    "The binomial distribution allows us to calculate the probability of k successes in n trials for a random variable with two possible outcomes (which we typically label success and failure).  \n",
    "\n",
    "The probability of success is typically denoted by p and the probability of failure is denoted by 1-p.\n",
    "\n",
    "The `scipy.stats` submodule contains a `binom` function for computing the probabilites of a random variable with the binomial distribution. You may read more about the binomial distribution [here](https://en.wikipedia.org/wiki/Binomial_distribution) and about the `binom` function [here](https://docs.scipy.org/doc/scipy/reference/generated/scipy.stats.binom.html#scipy.stats.binom).\n",
    "\n",
    "In the cell below, compute the probability that a die lands on 5 exactly 3 times in 8 tries.\n",
    "\n",
    "Hint: the probability of rolling a 5 is 1/6."
   ]
  },
  {
   "cell_type": "code",
   "execution_count": 21,
   "metadata": {},
   "outputs": [
    {
     "data": {
      "text/plain": [
       "0.10419048163389728"
      ]
     },
     "execution_count": 21,
     "metadata": {},
     "output_type": "execute_result"
    }
   ],
   "source": [
    "# Your code here:\n",
    "# p(k=3) =(8!/3!)p*3(1-p)*8-3\n",
    "prob = stats.binom.pmf(3,8,1/6)\n",
    "prob"
   ]
  },
  {
   "cell_type": "code",
   "execution_count": null,
   "metadata": {},
   "outputs": [],
   "source": []
  },
  {
   "cell_type": "code",
   "execution_count": null,
   "metadata": {},
   "outputs": [],
   "source": []
  }
 ],
 "metadata": {
  "kernelspec": {
   "display_name": "Python 3",
   "language": "python",
   "name": "python3"
  },
  "language_info": {
   "codemirror_mode": {
    "name": "ipython",
    "version": 3
   },
   "file_extension": ".py",
   "mimetype": "text/x-python",
   "name": "python",
   "nbconvert_exporter": "python",
   "pygments_lexer": "ipython3",
   "version": "3.7.6"
  }
 },
 "nbformat": 4,
 "nbformat_minor": 2
}
