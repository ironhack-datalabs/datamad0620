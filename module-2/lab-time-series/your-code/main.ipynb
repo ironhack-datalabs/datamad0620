{
 "cells": [
  {
   "cell_type": "markdown",
   "metadata": {},
   "source": [
    "# Before your start:\n",
    "- Read the README.md file\n",
    "- Comment as much as you can and use the resources (README.md file)\n",
    "- Happy learning!"
   ]
  },
  {
   "cell_type": "code",
   "execution_count": 74,
   "metadata": {},
   "outputs": [],
   "source": [
    "# Import numpy and pandas\n",
    "import numpy as np\n",
    "import pandas as pd\n",
    "import matplotlib.pyplot as plt\n",
    "from statsmodels.tsa.stattools import adfuller\n",
    "from statsmodels.tsa.arima_model import ARMA\n",
    "import statsmodels.api as sm\n",
    "from sklearn.metrics import mean_squared_error\n"
   ]
  },
  {
   "cell_type": "markdown",
   "metadata": {},
   "source": [
    "# Challenge 1 - Loading and Evaluating The Data\n",
    "\n",
    "In this lab, we will look at a dataset of sensor data from a cellular phone. The phone was carried in the subject's pocket for a few minutes while they walked around.\n",
    "\n",
    "To load the data, run the code below."
   ]
  },
  {
   "cell_type": "code",
   "execution_count": 2,
   "metadata": {},
   "outputs": [],
   "source": [
    "# Run this code:\n",
    "\n",
    "sensor = pd.read_csv('../sub_1.csv')\n",
    "sensor.drop(columns=['Unnamed: 0'], inplace=True)"
   ]
  },
  {
   "cell_type": "markdown",
   "metadata": {},
   "source": [
    "Examine the data using the `head` function."
   ]
  },
  {
   "cell_type": "code",
   "execution_count": 3,
   "metadata": {},
   "outputs": [
    {
     "data": {
      "text/html": [
       "<div>\n",
       "<style scoped>\n",
       "    .dataframe tbody tr th:only-of-type {\n",
       "        vertical-align: middle;\n",
       "    }\n",
       "\n",
       "    .dataframe tbody tr th {\n",
       "        vertical-align: top;\n",
       "    }\n",
       "\n",
       "    .dataframe thead th {\n",
       "        text-align: right;\n",
       "    }\n",
       "</style>\n",
       "<table border=\"1\" class=\"dataframe\">\n",
       "  <thead>\n",
       "    <tr style=\"text-align: right;\">\n",
       "      <th></th>\n",
       "      <th>attitude.roll</th>\n",
       "      <th>attitude.pitch</th>\n",
       "      <th>attitude.yaw</th>\n",
       "      <th>gravity.x</th>\n",
       "      <th>gravity.y</th>\n",
       "      <th>gravity.z</th>\n",
       "      <th>rotationRate.x</th>\n",
       "      <th>rotationRate.y</th>\n",
       "      <th>rotationRate.z</th>\n",
       "      <th>userAcceleration.x</th>\n",
       "      <th>userAcceleration.y</th>\n",
       "      <th>userAcceleration.z</th>\n",
       "    </tr>\n",
       "  </thead>\n",
       "  <tbody>\n",
       "    <tr>\n",
       "      <th>0</th>\n",
       "      <td>1.528132</td>\n",
       "      <td>-0.733896</td>\n",
       "      <td>0.696372</td>\n",
       "      <td>0.741895</td>\n",
       "      <td>0.669768</td>\n",
       "      <td>-0.031672</td>\n",
       "      <td>0.316738</td>\n",
       "      <td>0.778180</td>\n",
       "      <td>1.082764</td>\n",
       "      <td>0.294894</td>\n",
       "      <td>-0.184493</td>\n",
       "      <td>0.377542</td>\n",
       "    </tr>\n",
       "    <tr>\n",
       "      <th>1</th>\n",
       "      <td>1.527992</td>\n",
       "      <td>-0.716987</td>\n",
       "      <td>0.677762</td>\n",
       "      <td>0.753099</td>\n",
       "      <td>0.657116</td>\n",
       "      <td>-0.032255</td>\n",
       "      <td>0.842032</td>\n",
       "      <td>0.424446</td>\n",
       "      <td>0.643574</td>\n",
       "      <td>0.219405</td>\n",
       "      <td>0.035846</td>\n",
       "      <td>0.114866</td>\n",
       "    </tr>\n",
       "    <tr>\n",
       "      <th>2</th>\n",
       "      <td>1.527765</td>\n",
       "      <td>-0.706999</td>\n",
       "      <td>0.670951</td>\n",
       "      <td>0.759611</td>\n",
       "      <td>0.649555</td>\n",
       "      <td>-0.032707</td>\n",
       "      <td>-0.138143</td>\n",
       "      <td>-0.040741</td>\n",
       "      <td>0.343563</td>\n",
       "      <td>0.010714</td>\n",
       "      <td>0.134701</td>\n",
       "      <td>-0.167808</td>\n",
       "    </tr>\n",
       "    <tr>\n",
       "      <th>3</th>\n",
       "      <td>1.516768</td>\n",
       "      <td>-0.704678</td>\n",
       "      <td>0.675735</td>\n",
       "      <td>0.760709</td>\n",
       "      <td>0.647788</td>\n",
       "      <td>-0.041140</td>\n",
       "      <td>-0.025005</td>\n",
       "      <td>-1.048717</td>\n",
       "      <td>0.035860</td>\n",
       "      <td>-0.008389</td>\n",
       "      <td>0.136788</td>\n",
       "      <td>0.094958</td>\n",
       "    </tr>\n",
       "    <tr>\n",
       "      <th>4</th>\n",
       "      <td>1.493941</td>\n",
       "      <td>-0.703918</td>\n",
       "      <td>0.672994</td>\n",
       "      <td>0.760062</td>\n",
       "      <td>0.647210</td>\n",
       "      <td>-0.058530</td>\n",
       "      <td>0.114253</td>\n",
       "      <td>-0.912890</td>\n",
       "      <td>0.047341</td>\n",
       "      <td>0.199441</td>\n",
       "      <td>0.353996</td>\n",
       "      <td>-0.044299</td>\n",
       "    </tr>\n",
       "  </tbody>\n",
       "</table>\n",
       "</div>"
      ],
      "text/plain": [
       "   attitude.roll  attitude.pitch  attitude.yaw  gravity.x  gravity.y  \\\n",
       "0       1.528132       -0.733896      0.696372   0.741895   0.669768   \n",
       "1       1.527992       -0.716987      0.677762   0.753099   0.657116   \n",
       "2       1.527765       -0.706999      0.670951   0.759611   0.649555   \n",
       "3       1.516768       -0.704678      0.675735   0.760709   0.647788   \n",
       "4       1.493941       -0.703918      0.672994   0.760062   0.647210   \n",
       "\n",
       "   gravity.z  rotationRate.x  rotationRate.y  rotationRate.z  \\\n",
       "0  -0.031672        0.316738        0.778180        1.082764   \n",
       "1  -0.032255        0.842032        0.424446        0.643574   \n",
       "2  -0.032707       -0.138143       -0.040741        0.343563   \n",
       "3  -0.041140       -0.025005       -1.048717        0.035860   \n",
       "4  -0.058530        0.114253       -0.912890        0.047341   \n",
       "\n",
       "   userAcceleration.x  userAcceleration.y  userAcceleration.z  \n",
       "0            0.294894           -0.184493            0.377542  \n",
       "1            0.219405            0.035846            0.114866  \n",
       "2            0.010714            0.134701           -0.167808  \n",
       "3           -0.008389            0.136788            0.094958  \n",
       "4            0.199441            0.353996           -0.044299  "
      ]
     },
     "execution_count": 3,
     "metadata": {},
     "output_type": "execute_result"
    }
   ],
   "source": [
    "# Your code here:\n",
    "\n",
    "sensor.head()"
   ]
  },
  {
   "cell_type": "code",
   "execution_count": 4,
   "metadata": {},
   "outputs": [
    {
     "data": {
      "text/plain": [
       "(1751, 12)"
      ]
     },
     "execution_count": 4,
     "metadata": {},
     "output_type": "execute_result"
    }
   ],
   "source": [
    "sensor.shape"
   ]
  },
  {
   "cell_type": "markdown",
   "metadata": {},
   "source": [
    "Check whether there is any missing data. If there is any missing data, remove the rows containing missing data."
   ]
  },
  {
   "cell_type": "code",
   "execution_count": 5,
   "metadata": {},
   "outputs": [
    {
     "data": {
      "text/plain": [
       "(1751, 12)"
      ]
     },
     "execution_count": 5,
     "metadata": {},
     "output_type": "execute_result"
    }
   ],
   "source": [
    "# Your code here:\n",
    "\n",
    "sensor.dropna(axis = 0, how ='any',inplace=True) \n",
    "sensor.shape"
   ]
  },
  {
   "cell_type": "markdown",
   "metadata": {},
   "source": [
    "How many rows and columns are in our data?"
   ]
  },
  {
   "cell_type": "code",
   "execution_count": 6,
   "metadata": {},
   "outputs": [],
   "source": [
    "# Your code here:\n",
    "\n",
    "#1751 rows 12 columns"
   ]
  },
  {
   "cell_type": "markdown",
   "metadata": {},
   "source": [
    "To perform time series analysis on the data, we must change the index from a range index to a time series index. In the cell below, create a time series index using the `pd.date_range` function. Create a time series index starting at 1/1/2018 00:00:00 and ending at 1/1/2018 00:29:10. The number of periods is equal to the number of rows in `sensor`. The frequency should be set to `infer`."
   ]
  },
  {
   "cell_type": "code",
   "execution_count": 7,
   "metadata": {},
   "outputs": [
    {
     "data": {
      "text/plain": [
       "Index(['01/01/2018, 00:00:00', '01/01/2018, 00:00:00', '01/01/2018, 00:00:01',\n",
       "       '01/01/2018, 00:00:02', '01/01/2018, 00:00:03', '01/01/2018, 00:00:04',\n",
       "       '01/01/2018, 00:00:05', '01/01/2018, 00:00:06', '01/01/2018, 00:00:07',\n",
       "       '01/01/2018, 00:00:08',\n",
       "       ...\n",
       "       '01/01/2018, 00:28:51', '01/01/2018, 00:28:52', '01/01/2018, 00:28:53',\n",
       "       '01/01/2018, 00:28:54', '01/01/2018, 00:28:55', '01/01/2018, 00:28:56',\n",
       "       '01/01/2018, 00:28:57', '01/01/2018, 00:28:58', '01/01/2018, 00:28:59',\n",
       "       '01/01/2018, 00:29:00'],\n",
       "      dtype='object', length=1751)"
      ]
     },
     "execution_count": 7,
     "metadata": {},
     "output_type": "execute_result"
    }
   ],
   "source": [
    "dr = pd.date_range(start= '1-1-2018 00:00:00',end = '1-1-2018 00:29:00', periods= sensor.shape[0]).strftime(\"%m/%d/%Y, %H:%M:%S\")\n",
    "dr"
   ]
  },
  {
   "cell_type": "markdown",
   "metadata": {},
   "source": [
    "Assign the time series index to the dataframe's index."
   ]
  },
  {
   "cell_type": "code",
   "execution_count": 8,
   "metadata": {},
   "outputs": [
    {
     "data": {
      "text/html": [
       "<div>\n",
       "<style scoped>\n",
       "    .dataframe tbody tr th:only-of-type {\n",
       "        vertical-align: middle;\n",
       "    }\n",
       "\n",
       "    .dataframe tbody tr th {\n",
       "        vertical-align: top;\n",
       "    }\n",
       "\n",
       "    .dataframe thead th {\n",
       "        text-align: right;\n",
       "    }\n",
       "</style>\n",
       "<table border=\"1\" class=\"dataframe\">\n",
       "  <thead>\n",
       "    <tr style=\"text-align: right;\">\n",
       "      <th></th>\n",
       "      <th>attitude.roll</th>\n",
       "      <th>attitude.pitch</th>\n",
       "      <th>attitude.yaw</th>\n",
       "      <th>gravity.x</th>\n",
       "      <th>gravity.y</th>\n",
       "      <th>gravity.z</th>\n",
       "      <th>rotationRate.x</th>\n",
       "      <th>rotationRate.y</th>\n",
       "      <th>rotationRate.z</th>\n",
       "      <th>userAcceleration.x</th>\n",
       "      <th>userAcceleration.y</th>\n",
       "      <th>userAcceleration.z</th>\n",
       "    </tr>\n",
       "  </thead>\n",
       "  <tbody>\n",
       "    <tr>\n",
       "      <th>01/01/2018, 00:00:00</th>\n",
       "      <td>1.528132</td>\n",
       "      <td>-0.733896</td>\n",
       "      <td>0.696372</td>\n",
       "      <td>0.741895</td>\n",
       "      <td>0.669768</td>\n",
       "      <td>-0.031672</td>\n",
       "      <td>0.316738</td>\n",
       "      <td>0.778180</td>\n",
       "      <td>1.082764</td>\n",
       "      <td>0.294894</td>\n",
       "      <td>-0.184493</td>\n",
       "      <td>0.377542</td>\n",
       "    </tr>\n",
       "    <tr>\n",
       "      <th>01/01/2018, 00:00:00</th>\n",
       "      <td>1.527992</td>\n",
       "      <td>-0.716987</td>\n",
       "      <td>0.677762</td>\n",
       "      <td>0.753099</td>\n",
       "      <td>0.657116</td>\n",
       "      <td>-0.032255</td>\n",
       "      <td>0.842032</td>\n",
       "      <td>0.424446</td>\n",
       "      <td>0.643574</td>\n",
       "      <td>0.219405</td>\n",
       "      <td>0.035846</td>\n",
       "      <td>0.114866</td>\n",
       "    </tr>\n",
       "    <tr>\n",
       "      <th>01/01/2018, 00:00:01</th>\n",
       "      <td>1.527765</td>\n",
       "      <td>-0.706999</td>\n",
       "      <td>0.670951</td>\n",
       "      <td>0.759611</td>\n",
       "      <td>0.649555</td>\n",
       "      <td>-0.032707</td>\n",
       "      <td>-0.138143</td>\n",
       "      <td>-0.040741</td>\n",
       "      <td>0.343563</td>\n",
       "      <td>0.010714</td>\n",
       "      <td>0.134701</td>\n",
       "      <td>-0.167808</td>\n",
       "    </tr>\n",
       "    <tr>\n",
       "      <th>01/01/2018, 00:00:02</th>\n",
       "      <td>1.516768</td>\n",
       "      <td>-0.704678</td>\n",
       "      <td>0.675735</td>\n",
       "      <td>0.760709</td>\n",
       "      <td>0.647788</td>\n",
       "      <td>-0.041140</td>\n",
       "      <td>-0.025005</td>\n",
       "      <td>-1.048717</td>\n",
       "      <td>0.035860</td>\n",
       "      <td>-0.008389</td>\n",
       "      <td>0.136788</td>\n",
       "      <td>0.094958</td>\n",
       "    </tr>\n",
       "    <tr>\n",
       "      <th>01/01/2018, 00:00:03</th>\n",
       "      <td>1.493941</td>\n",
       "      <td>-0.703918</td>\n",
       "      <td>0.672994</td>\n",
       "      <td>0.760062</td>\n",
       "      <td>0.647210</td>\n",
       "      <td>-0.058530</td>\n",
       "      <td>0.114253</td>\n",
       "      <td>-0.912890</td>\n",
       "      <td>0.047341</td>\n",
       "      <td>0.199441</td>\n",
       "      <td>0.353996</td>\n",
       "      <td>-0.044299</td>\n",
       "    </tr>\n",
       "    <tr>\n",
       "      <th>...</th>\n",
       "      <td>...</td>\n",
       "      <td>...</td>\n",
       "      <td>...</td>\n",
       "      <td>...</td>\n",
       "      <td>...</td>\n",
       "      <td>...</td>\n",
       "      <td>...</td>\n",
       "      <td>...</td>\n",
       "      <td>...</td>\n",
       "      <td>...</td>\n",
       "      <td>...</td>\n",
       "      <td>...</td>\n",
       "    </tr>\n",
       "    <tr>\n",
       "      <th>01/01/2018, 00:28:56</th>\n",
       "      <td>1.797120</td>\n",
       "      <td>-0.562324</td>\n",
       "      <td>2.445889</td>\n",
       "      <td>0.824443</td>\n",
       "      <td>0.533154</td>\n",
       "      <td>0.189844</td>\n",
       "      <td>-0.123211</td>\n",
       "      <td>0.909536</td>\n",
       "      <td>-0.379757</td>\n",
       "      <td>-0.268367</td>\n",
       "      <td>0.006733</td>\n",
       "      <td>-0.064874</td>\n",
       "    </tr>\n",
       "    <tr>\n",
       "      <th>01/01/2018, 00:28:57</th>\n",
       "      <td>1.814297</td>\n",
       "      <td>-0.569719</td>\n",
       "      <td>2.449655</td>\n",
       "      <td>0.817212</td>\n",
       "      <td>0.539396</td>\n",
       "      <td>0.203020</td>\n",
       "      <td>-0.057641</td>\n",
       "      <td>0.723118</td>\n",
       "      <td>-0.437812</td>\n",
       "      <td>-0.102444</td>\n",
       "      <td>-0.060666</td>\n",
       "      <td>-0.229738</td>\n",
       "    </tr>\n",
       "    <tr>\n",
       "      <th>01/01/2018, 00:28:58</th>\n",
       "      <td>1.830821</td>\n",
       "      <td>-0.578367</td>\n",
       "      <td>2.447967</td>\n",
       "      <td>0.809207</td>\n",
       "      <td>0.546658</td>\n",
       "      <td>0.215288</td>\n",
       "      <td>0.343238</td>\n",
       "      <td>0.997236</td>\n",
       "      <td>-0.338155</td>\n",
       "      <td>-0.085590</td>\n",
       "      <td>-0.030209</td>\n",
       "      <td>-0.087740</td>\n",
       "    </tr>\n",
       "    <tr>\n",
       "      <th>01/01/2018, 00:28:59</th>\n",
       "      <td>1.849557</td>\n",
       "      <td>-0.586962</td>\n",
       "      <td>2.439458</td>\n",
       "      <td>0.800485</td>\n",
       "      <td>0.553834</td>\n",
       "      <td>0.229110</td>\n",
       "      <td>0.470144</td>\n",
       "      <td>1.227937</td>\n",
       "      <td>-0.332223</td>\n",
       "      <td>-0.048105</td>\n",
       "      <td>0.029555</td>\n",
       "      <td>0.060441</td>\n",
       "    </tr>\n",
       "    <tr>\n",
       "      <th>01/01/2018, 00:29:00</th>\n",
       "      <td>1.869375</td>\n",
       "      <td>-0.596783</td>\n",
       "      <td>2.433775</td>\n",
       "      <td>0.790551</td>\n",
       "      <td>0.561984</td>\n",
       "      <td>0.243315</td>\n",
       "      <td>0.291873</td>\n",
       "      <td>1.102207</td>\n",
       "      <td>-0.436925</td>\n",
       "      <td>-0.065011</td>\n",
       "      <td>-0.042575</td>\n",
       "      <td>0.046052</td>\n",
       "    </tr>\n",
       "  </tbody>\n",
       "</table>\n",
       "<p>1751 rows × 12 columns</p>\n",
       "</div>"
      ],
      "text/plain": [
       "                      attitude.roll  attitude.pitch  attitude.yaw  gravity.x  \\\n",
       "01/01/2018, 00:00:00       1.528132       -0.733896      0.696372   0.741895   \n",
       "01/01/2018, 00:00:00       1.527992       -0.716987      0.677762   0.753099   \n",
       "01/01/2018, 00:00:01       1.527765       -0.706999      0.670951   0.759611   \n",
       "01/01/2018, 00:00:02       1.516768       -0.704678      0.675735   0.760709   \n",
       "01/01/2018, 00:00:03       1.493941       -0.703918      0.672994   0.760062   \n",
       "...                             ...             ...           ...        ...   \n",
       "01/01/2018, 00:28:56       1.797120       -0.562324      2.445889   0.824443   \n",
       "01/01/2018, 00:28:57       1.814297       -0.569719      2.449655   0.817212   \n",
       "01/01/2018, 00:28:58       1.830821       -0.578367      2.447967   0.809207   \n",
       "01/01/2018, 00:28:59       1.849557       -0.586962      2.439458   0.800485   \n",
       "01/01/2018, 00:29:00       1.869375       -0.596783      2.433775   0.790551   \n",
       "\n",
       "                      gravity.y  gravity.z  rotationRate.x  rotationRate.y  \\\n",
       "01/01/2018, 00:00:00   0.669768  -0.031672        0.316738        0.778180   \n",
       "01/01/2018, 00:00:00   0.657116  -0.032255        0.842032        0.424446   \n",
       "01/01/2018, 00:00:01   0.649555  -0.032707       -0.138143       -0.040741   \n",
       "01/01/2018, 00:00:02   0.647788  -0.041140       -0.025005       -1.048717   \n",
       "01/01/2018, 00:00:03   0.647210  -0.058530        0.114253       -0.912890   \n",
       "...                         ...        ...             ...             ...   \n",
       "01/01/2018, 00:28:56   0.533154   0.189844       -0.123211        0.909536   \n",
       "01/01/2018, 00:28:57   0.539396   0.203020       -0.057641        0.723118   \n",
       "01/01/2018, 00:28:58   0.546658   0.215288        0.343238        0.997236   \n",
       "01/01/2018, 00:28:59   0.553834   0.229110        0.470144        1.227937   \n",
       "01/01/2018, 00:29:00   0.561984   0.243315        0.291873        1.102207   \n",
       "\n",
       "                      rotationRate.z  userAcceleration.x  userAcceleration.y  \\\n",
       "01/01/2018, 00:00:00        1.082764            0.294894           -0.184493   \n",
       "01/01/2018, 00:00:00        0.643574            0.219405            0.035846   \n",
       "01/01/2018, 00:00:01        0.343563            0.010714            0.134701   \n",
       "01/01/2018, 00:00:02        0.035860           -0.008389            0.136788   \n",
       "01/01/2018, 00:00:03        0.047341            0.199441            0.353996   \n",
       "...                              ...                 ...                 ...   \n",
       "01/01/2018, 00:28:56       -0.379757           -0.268367            0.006733   \n",
       "01/01/2018, 00:28:57       -0.437812           -0.102444           -0.060666   \n",
       "01/01/2018, 00:28:58       -0.338155           -0.085590           -0.030209   \n",
       "01/01/2018, 00:28:59       -0.332223           -0.048105            0.029555   \n",
       "01/01/2018, 00:29:00       -0.436925           -0.065011           -0.042575   \n",
       "\n",
       "                      userAcceleration.z  \n",
       "01/01/2018, 00:00:00            0.377542  \n",
       "01/01/2018, 00:00:00            0.114866  \n",
       "01/01/2018, 00:00:01           -0.167808  \n",
       "01/01/2018, 00:00:02            0.094958  \n",
       "01/01/2018, 00:00:03           -0.044299  \n",
       "...                                  ...  \n",
       "01/01/2018, 00:28:56           -0.064874  \n",
       "01/01/2018, 00:28:57           -0.229738  \n",
       "01/01/2018, 00:28:58           -0.087740  \n",
       "01/01/2018, 00:28:59            0.060441  \n",
       "01/01/2018, 00:29:00            0.046052  \n",
       "\n",
       "[1751 rows x 12 columns]"
      ]
     },
     "execution_count": 8,
     "metadata": {},
     "output_type": "execute_result"
    }
   ],
   "source": [
    "# Your code here:\n",
    "df = sensor.set_index(dr)\n",
    "df"
   ]
  },
  {
   "cell_type": "markdown",
   "metadata": {},
   "source": [
    "Our next step is to decompose the time series and evaluate the patterns in the data. Load the `statsmodels.api` submodule and plot the decomposed plot of `userAcceleration.x`. Set `freq=60` in the `seasonal_decompose` function. Your graph should look like the one below.\n",
    "\n",
    "![time series decomposition](../images/tsa_decompose.png)"
   ]
  },
  {
   "cell_type": "code",
   "execution_count": null,
   "metadata": {},
   "outputs": [],
   "source": [
    "# Your code here:\n",
    "res = sm.tsa.seasonal_decompose(df['userAcceleration.x'],freq = 60)\n",
    "res.plot()"
   ]
  },
  {
   "cell_type": "markdown",
   "metadata": {},
   "source": [
    "Plot the decomposed time series of `rotationRate.x` also with a frequency of 60."
   ]
  },
  {
   "cell_type": "code",
   "execution_count": null,
   "metadata": {},
   "outputs": [],
   "source": [
    "\n",
    "res_rot = sm.tsa.seasonal_decompose(df['rotationRate.x'],period = 60)\n",
    "res_rot.plot"
   ]
  },
  {
   "cell_type": "markdown",
   "metadata": {},
   "source": [
    "# Challenge 2 - Modelling the Data\n",
    "\n",
    "To model our data, we should look at a few assumptions. First, let's plot the `lag_plot` to detect any autocorrelation. Do this for `userAcceleration.x`"
   ]
  },
  {
   "cell_type": "code",
   "execution_count": 10,
   "metadata": {},
   "outputs": [
    {
     "data": {
      "text/plain": [
       "<matplotlib.axes._subplots.AxesSubplot at 0x12cd5ee50>"
      ]
     },
     "execution_count": 10,
     "metadata": {},
     "output_type": "execute_result"
    },
    {
     "data": {
      "image/png": "[encoded data removed]",
      "text/plain": [
       "<Figure size 432x288 with 1 Axes>"
      ]
     },
     "metadata": {
      "needs_background": "light"
     },
     "output_type": "display_data"
    }
   ],
   "source": [
    "# Your code here:\n",
    "\n",
    "pd.plotting.lag_plot(df[\"userAcceleration.x\"])"
   ]
  },
  {
   "cell_type": "markdown",
   "metadata": {},
   "source": [
    "Create a lag plot for `rotationRate.x`"
   ]
  },
  {
   "cell_type": "code",
   "execution_count": 11,
   "metadata": {},
   "outputs": [
    {
     "data": {
      "text/plain": [
       "<matplotlib.axes._subplots.AxesSubplot at 0x12ceee790>"
      ]
     },
     "execution_count": 11,
     "metadata": {},
     "output_type": "execute_result"
    },
    {
     "data": {
      "image/png": "[encoded data removed]",
      "text/plain": [
       "<Figure size 432x288 with 1 Axes>"
      ]
     },
     "metadata": {
      "needs_background": "light"
     },
     "output_type": "display_data"
    }
   ],
   "source": [
    "# Your code here:\n",
    "pd.plotting.lag_plot(df[\"rotationRate.x\"])\n"
   ]
  },
  {
   "cell_type": "markdown",
   "metadata": {},
   "source": [
    "What are your conclusions from both visualizations?"
   ]
  },
  {
   "cell_type": "code",
   "execution_count": 64,
   "metadata": {},
   "outputs": [],
   "source": [
    "# Your conclusions here:\n",
    "# Parece que  el time series no es aleatorio en ninguno de los dos casos\n",
    "#userAcceleration.x tiene una relationshop mas fuerte porque sus puntos están más concentrados\n"
   ]
  },
  {
   "cell_type": "markdown",
   "metadata": {},
   "source": [
    "The next step will be to test both variables for stationarity. Perform the Augmented Dickey Fuller test on both variables below."
   ]
  },
  {
   "cell_type": "code",
   "execution_count": 13,
   "metadata": {},
   "outputs": [
    {
     "name": "stdout",
     "output_type": "stream",
     "text": [
      "[('attitude.roll', 'Stationary'), ('attitude.pitch', 'Not-Stationary'), ('attitude.yaw', 'Stationary'), ('gravity.x', 'Not-Stationary'), ('gravity.y', 'Not-Stationary'), ('gravity.z', 'Stationary'), ('rotationRate.x', 'Stationary'), ('rotationRate.y', 'Stationary'), ('rotationRate.z', 'Stationary'), ('userAcceleration.x', 'Stationary'), ('userAcceleration.y', 'Stationary'), ('userAcceleration.z', 'Stationary')]\n"
     ]
    },
    {
     "data": {
      "text/plain": [
       "'Stationary'"
      ]
     },
     "execution_count": 13,
     "metadata": {},
     "output_type": "execute_result"
    }
   ],
   "source": [
    "# Your code here:\n",
    "\n",
    "stationaryCheck = lambda X: \"Not-Stationary\" if adfuller(X)[1] > 0.05 else \"Stationary\"\n",
    "\n",
    "q = df._get_numeric_data()\n",
    "print([(col,stationaryCheck(q[col])) for col in q.columns])\n",
    "stationaryCheck(np.random.random(100))"
   ]
  },
  {
   "cell_type": "markdown",
   "metadata": {},
   "source": [
    "What are your conclusions from this test?"
   ]
  },
  {
   "cell_type": "code",
   "execution_count": 14,
   "metadata": {},
   "outputs": [],
   "source": [
    "# Your conclusions here:\n",
    "\n"
   ]
  },
  {
   "cell_type": "markdown",
   "metadata": {},
   "source": [
    "Finally, we'll create an ARMA model for `userAcceleration.x`. Load the `ARMA` function from `statsmodels`. The order of the model is (2, 1). Split the data to train and test. Use the last 10 observations as the test set and all other observations as the training set. "
   ]
  },
  {
   "cell_type": "code",
   "execution_count": 66,
   "metadata": {},
   "outputs": [],
   "source": [
    "train = df[\"userAcceleration.x\"][:-10]\n",
    "\n",
    "test = df[\"userAcceleration.x\"][-10:]"
   ]
  },
  {
   "cell_type": "code",
   "execution_count": null,
   "metadata": {},
   "outputs": [],
   "source": []
  },
  {
   "cell_type": "markdown",
   "metadata": {},
   "source": [
    "To compare our predictions with the observed data, we can compute the RMSE (Root Mean Squared Error) from the submodule `statsmodels.tools.eval_measures`. You can read more about this function [here](https://www.statsmodels.org/dev/generated/statsmodels.tools.eval_measures.rmse.html). Compute the RMSE for the last 10 rows of the data by comparing the observed and predicted data for the `userAcceleration.x` column."
   ]
  },
  {
   "cell_type": "code",
   "execution_count": 68,
   "metadata": {},
   "outputs": [
    {
     "name": "stderr",
     "output_type": "stream",
     "text": [
      "/usr/local/lib/python3.7/site-packages/statsmodels/tsa/base/tsa_model.py:218: ValueWarning: A date index has been provided, but it has no associated frequency information and so will be ignored when e.g. forecasting.\n",
      "  ' ignored when e.g. forecasting.', ValueWarning)\n",
      "/usr/local/lib/python3.7/site-packages/statsmodels/tsa/base/tsa_model.py:583: ValueWarning: No supported index is available. Prediction results will be given with an integer index beginning at `start`.\n",
      "  ValueWarning)\n"
     ]
    },
    {
     "data": {
      "text/plain": [
       "array([0.1731485 , 0.14289567, 0.10052194, 0.07010617, 0.0560991 ,\n",
       "       0.05377815, 0.05679033, 0.06064626, 0.06331584, 0.06449342])"
      ]
     },
     "execution_count": 68,
     "metadata": {},
     "output_type": "execute_result"
    }
   ],
   "source": [
    "data = df[\"userAcceleration.x\"]\n",
    "train = data[0:-10]# todas las filas de la columna menos las 10 ultimas\n",
    "test = data[-10:] # ultimas 10 filas\n",
    "model = ARMA(train, order=(2,1)) # order model is (2,1)\n",
    "arma_results = model.fit()\n",
    "y_pred = arma_results.predict(start=len(train),end=len(train)+len(test)-1, dynamic=False) # predecimos los valores de las ultimas 10 filas(test)\n",
    "y_pred.values"
   ]
  },
  {
   "cell_type": "code",
   "execution_count": 51,
   "metadata": {},
   "outputs": [
    {
     "data": {
      "text/plain": [
       "Index(['01/01/2018, 00:28:51', '01/01/2018, 00:28:52', '01/01/2018, 00:28:53',\n",
       "       '01/01/2018, 00:28:54', '01/01/2018, 00:28:55', '01/01/2018, 00:28:56',\n",
       "       '01/01/2018, 00:28:57', '01/01/2018, 00:28:58', '01/01/2018, 00:28:59',\n",
       "       '01/01/2018, 00:29:00'],\n",
       "      dtype='object')"
      ]
     },
     "execution_count": 51,
     "metadata": {},
     "output_type": "execute_result"
    }
   ],
   "source": [
    "x = df[\"userAcceleration.x\"][-10:].tail(10).index\n",
    "x"
   ]
  },
  {
   "cell_type": "code",
   "execution_count": 78,
   "metadata": {
    "scrolled": false
   },
   "outputs": [
    {
     "data": {
      "text/html": [
       "<div>\n",
       "<style scoped>\n",
       "    .dataframe tbody tr th:only-of-type {\n",
       "        vertical-align: middle;\n",
       "    }\n",
       "\n",
       "    .dataframe tbody tr th {\n",
       "        vertical-align: top;\n",
       "    }\n",
       "\n",
       "    .dataframe thead th {\n",
       "        text-align: right;\n",
       "    }\n",
       "</style>\n",
       "<table border=\"1\" class=\"dataframe\">\n",
       "  <thead>\n",
       "    <tr style=\"text-align: right;\">\n",
       "      <th></th>\n",
       "      <th>test</th>\n",
       "      <th>prediction</th>\n",
       "      <th>diff</th>\n",
       "    </tr>\n",
       "  </thead>\n",
       "  <tbody>\n",
       "    <tr>\n",
       "      <th>01/01/2018, 00:28:51</th>\n",
       "      <td>0.149749</td>\n",
       "      <td>0.173149</td>\n",
       "      <td>-0.023400</td>\n",
       "    </tr>\n",
       "    <tr>\n",
       "      <th>01/01/2018, 00:28:52</th>\n",
       "      <td>0.038461</td>\n",
       "      <td>0.142896</td>\n",
       "      <td>-0.104435</td>\n",
       "    </tr>\n",
       "    <tr>\n",
       "      <th>01/01/2018, 00:28:53</th>\n",
       "      <td>-0.169175</td>\n",
       "      <td>0.100522</td>\n",
       "      <td>-0.269697</td>\n",
       "    </tr>\n",
       "    <tr>\n",
       "      <th>01/01/2018, 00:28:54</th>\n",
       "      <td>-0.300361</td>\n",
       "      <td>0.070106</td>\n",
       "      <td>-0.370467</td>\n",
       "    </tr>\n",
       "    <tr>\n",
       "      <th>01/01/2018, 00:28:55</th>\n",
       "      <td>-0.270174</td>\n",
       "      <td>0.056099</td>\n",
       "      <td>-0.326273</td>\n",
       "    </tr>\n",
       "    <tr>\n",
       "      <th>01/01/2018, 00:28:56</th>\n",
       "      <td>-0.268367</td>\n",
       "      <td>0.053778</td>\n",
       "      <td>-0.322145</td>\n",
       "    </tr>\n",
       "    <tr>\n",
       "      <th>01/01/2018, 00:28:57</th>\n",
       "      <td>-0.102444</td>\n",
       "      <td>0.056790</td>\n",
       "      <td>-0.159234</td>\n",
       "    </tr>\n",
       "    <tr>\n",
       "      <th>01/01/2018, 00:28:58</th>\n",
       "      <td>-0.085590</td>\n",
       "      <td>0.060646</td>\n",
       "      <td>-0.146236</td>\n",
       "    </tr>\n",
       "    <tr>\n",
       "      <th>01/01/2018, 00:28:59</th>\n",
       "      <td>-0.048105</td>\n",
       "      <td>0.063316</td>\n",
       "      <td>-0.111421</td>\n",
       "    </tr>\n",
       "    <tr>\n",
       "      <th>01/01/2018, 00:29:00</th>\n",
       "      <td>-0.065011</td>\n",
       "      <td>0.064493</td>\n",
       "      <td>-0.129504</td>\n",
       "    </tr>\n",
       "  </tbody>\n",
       "</table>\n",
       "</div>"
      ],
      "text/plain": [
       "                          test  prediction      diff\n",
       "01/01/2018, 00:28:51  0.149749    0.173149 -0.023400\n",
       "01/01/2018, 00:28:52  0.038461    0.142896 -0.104435\n",
       "01/01/2018, 00:28:53 -0.169175    0.100522 -0.269697\n",
       "01/01/2018, 00:28:54 -0.300361    0.070106 -0.370467\n",
       "01/01/2018, 00:28:55 -0.270174    0.056099 -0.326273\n",
       "01/01/2018, 00:28:56 -0.268367    0.053778 -0.322145\n",
       "01/01/2018, 00:28:57 -0.102444    0.056790 -0.159234\n",
       "01/01/2018, 00:28:58 -0.085590    0.060646 -0.146236\n",
       "01/01/2018, 00:28:59 -0.048105    0.063316 -0.111421\n",
       "01/01/2018, 00:29:00 -0.065011    0.064493 -0.129504"
      ]
     },
     "execution_count": 78,
     "metadata": {},
     "output_type": "execute_result"
    }
   ],
   "source": [
    "results = pd.DataFrame({ \n",
    "    \"test\":test,\n",
    "    \"prediction\":y_pred.values,\n",
    "    \"diff\": test - y_pred.values\n",
    "    })\n",
    "    \n",
    "results.set_index(x)"
   ]
  },
  {
   "cell_type": "markdown",
   "metadata": {},
   "source": [
    "To compare our predictions with the observed data, we can compute the RMSE (Root Mean Squared Error) from the submodule statsmodels.tools.eval_measures. You can read more about this function here. Compute the RMSE for the last 10 rows of the data by comparing the observed and predicted data for the userAcceleration.x column."
   ]
  },
  {
   "cell_type": "code",
   "execution_count": 77,
   "metadata": {},
   "outputs": [
    {
     "name": "stdout",
     "output_type": "stream",
     "text": [
      "MSE =  0.05076\n",
      "RMSE =  0.22529863455816979\n"
     ]
    }
   ],
   "source": [
    "print(\"MSE = \",round(mean_squared_error(test,y_pred.values),5))\n",
    "print(\"RMSE = \",np.sqrt(mean_squared_error(test,y_pred)))"
   ]
  },
  {
   "cell_type": "code",
   "execution_count": null,
   "metadata": {},
   "outputs": [],
   "source": []
  }
 ],
 "metadata": {
  "kernelspec": {
   "display_name": "Python 3",
   "language": "python",
   "name": "python3"
  },
  "language_info": {
   "codemirror_mode": {
    "name": "ipython",
    "version": 3
   },
   "file_extension": ".py",
   "mimetype": "text/x-python",
   "name": "python",
   "nbconvert_exporter": "python",
   "pygments_lexer": "ipython3",
   "version": "3.7.7"
  }
 },
 "nbformat": 4,
 "nbformat_minor": 2
}
