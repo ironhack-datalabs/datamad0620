{
 "cells": [
  {
   "cell_type": "markdown",
   "metadata": {},
   "source": [
    "Crea una tupla con \"I\". Recuerda que lleva una coma al final"
   ]
  },
  {
   "cell_type": "code",
   "execution_count": null,
   "metadata": {},
   "outputs": [],
   "source": [
    "\n",
    "# Your code here\n",
    "unatupla = (\"I\",)"
   ]
  },
  {
   "cell_type": "markdown",
   "metadata": {},
   "source": [
    "Añade esta lista añadidos= [\"r\", \"o\", \"n\", \"h\", \"a\", \"c\", \"k\"] a la tupla (\"I\",)\n",
    "Recuerda que al ser tupla hay que pasarlo a lista."
   ]
  },
  {
   "cell_type": "code",
   "execution_count": 5,
   "metadata": {},
   "outputs": [
    {
     "name": "stdout",
     "output_type": "stream",
     "text": [
      "['I', 'r', 'o', 'n', 'h', 'a', 'c', 'k']\n"
     ]
    }
   ],
   "source": [
    "unatupla = (\"I\",)\n",
    "añadidos= [\"r\", \"o\", \"n\", \"h\", \"a\", \"c\", \"k\"]\n",
    "\n",
    "\n",
    "lista=list(unatupla)\n",
    "lista.extend(añadidos) \n",
    "print(lista)\n"
   ]
  },
  {
   "cell_type": "markdown",
   "metadata": {},
   "source": [
    "Reasigna los elementos [\"r\", \"o\", \"n\", \"h\", \"a\", \"c\", \"k\"] a una tupla"
   ]
  },
  {
   "cell_type": "code",
   "execution_count": 6,
   "metadata": {},
   "outputs": [
    {
     "name": "stdout",
     "output_type": "stream",
     "text": [
      "('I', 'r', 'o', 'n', 'h', 'a', 'c', 'k')\n"
     ]
    }
   ],
   "source": [
    "tupla=tuple(lista)\n",
    "print(tupla)"
   ]
  },
  {
   "cell_type": "markdown",
   "metadata": {},
   "source": [
    "Conta la tupla en 2 tuplas, para que tupla 1, quede (\"I\", \"r\", \"o\", \"n\") ay tupla 2(\"h\", \"a\", \"c\", \"k\")."
   ]
  },
  {
   "cell_type": "code",
   "execution_count": 9,
   "metadata": {},
   "outputs": [
    {
     "name": "stdout",
     "output_type": "stream",
     "text": [
      "('I', 'r', 'o', 'n')\n",
      "('h', 'a', 'c', 'k')\n"
     ]
    }
   ],
   "source": [
    "print(tupla[:4])\n",
    "print(tupla[-4:])"
   ]
  },
  {
   "cell_type": "markdown",
   "metadata": {},
   "source": [
    "Suma de tuplas 1 y 2 para formar una llamada 3"
   ]
  },
  {
   "cell_type": "code",
   "execution_count": 14,
   "metadata": {},
   "outputs": [
    {
     "name": "stdout",
     "output_type": "stream",
     "text": [
      "('I', 'r', 'o', 'n', 'h', 'a', 'c', 'k')\n"
     ]
    }
   ],
   "source": [
    "tupla3= tupla[:4] + tupla[-4:]\n",
    "print(tupla3)"
   ]
  },
  {
   "cell_type": "markdown",
   "metadata": {},
   "source": [
    "Si fuera una lista se haría igual. Hazlo"
   ]
  },
  {
   "cell_type": "code",
   "execution_count": 16,
   "metadata": {},
   "outputs": [
    {
     "name": "stdout",
     "output_type": "stream",
     "text": [
      "['I', 'r', 'o', 'n', 'h', 'a', 'c', 'k']\n"
     ]
    }
   ],
   "source": [
    "t1=['I', 'r', 'o', 'n']\n",
    "t2=['h', 'a', 'c', 'k']\n",
    "t3=t1+t2\n",
    "print(t3)\n"
   ]
  },
  {
   "cell_type": "markdown",
   "metadata": {},
   "source": [
    "Cuenta el numero de elentos en la tupla 3"
   ]
  },
  {
   "cell_type": "code",
   "execution_count": 17,
   "metadata": {},
   "outputs": [
    {
     "name": "stdout",
     "output_type": "stream",
     "text": [
      "8\n"
     ]
    }
   ],
   "source": [
    "print(len(t3))"
   ]
  },
  {
   "cell_type": "markdown",
   "metadata": {},
   "source": [
    "Cual es el índice de la letra \"h\"en t3? \n",
    "['I', 'r', 'o', 'n', 'h', 'a', 'c', 'k']"
   ]
  },
  {
   "cell_type": "code",
   "execution_count": 31,
   "metadata": {},
   "outputs": [
    {
     "name": "stdout",
     "output_type": "stream",
     "text": [
      "4\n"
     ]
    }
   ],
   "source": [
    "t3= ['I', 'r', 'o', 'n', 'h', 'a', 'c', 'k']\n",
    "#una forma\n",
    "print(t3.index(\"h\"))"
   ]
  },
  {
   "cell_type": "code",
   "execution_count": 24,
   "metadata": {},
   "outputs": [],
   "source": [
    "#Tambien puedo decirle de donde a donde quiero que lo busque . \n",
    "list=['I', 'r', 'o', 'n', 'h', 'a', 'c', 'k',\"I\"]\n",
    "    # 0    1    2      3   4    5     6   7    8\n",
    "             # 0      1    2   3     4    5    6\n",
    "#Vamos  aponer que queremos buscar de 2 a 8 \n",
    "#¿que indice tendra el primer i que se encuentre?\n"
   ]
  },
  {
   "cell_type": "code",
   "execution_count": 30,
   "metadata": {},
   "outputs": [
    {
     "name": "stdout",
     "output_type": "stream",
     "text": [
      "8\n"
     ]
    }
   ],
   "source": [
    "print(list.index(\"I\",2,9))\n",
    "#print(list.index(\"I\",2,8))  aqui dara un error 'I' is not in list xk el ultimo numero no cuenta,\n",
    "#contaría hasta \"k\""
   ]
  },
  {
   "cell_type": "markdown",
   "metadata": {},
   "source": [
    "Otra forma de encontrar el index de \"I\" en ['I', 'r', 'o', 'n', 'h', 'a', 'c', 'k']"
   ]
  },
  {
   "cell_type": "code",
   "execution_count": 34,
   "metadata": {},
   "outputs": [
    {
     "name": "stdout",
     "output_type": "stream",
     "text": [
      "The index number of 'h' is 4\n"
     ]
    }
   ],
   "source": [
    "list_otra=['I', 'r', 'o', 'n', 'h', 'a', 'c', 'k']\n",
    "for i in range(len(list_otra)):\n",
    "    if list[i]==\"h\":\n",
    "        print (\"The index number of 'h' is\", i)      #hay que ponerle len ,porque no puedes hacer el ranage de una lista, eso es para integers"
   ]
  },
  {
   "cell_type": "markdown",
   "metadata": {},
   "source": [
    "¿que letras de la lista letters = [\"a\", \"b\", \"c\", \"d\", \"e\"] estan en t3= ['I', 'r', 'o', 'n', 'h', 'a', 'c', 'k']"
   ]
  },
  {
   "cell_type": "code",
   "execution_count": 1,
   "metadata": {},
   "outputs": [
    {
     "name": "stdout",
     "output_type": "stream",
     "text": [
      "1\n",
      "2\n"
     ]
    }
   ],
   "source": [
    "letters =[\"a\", \"b\", \"c\", \"d\", \"e\"]\n",
    "t3= ['I', 'r', 'o', 'n', 'h', 'a', 'c', 'k']\n",
    "\n",
    "coincidencias_letras=0\n",
    "for i in letters:\n",
    "    if i in t3:\n",
    "        coincidencias_letras +=1\n",
    "        print(coincidencias_letras)\n",
    "    "
   ]
  },
  {
   "cell_type": "markdown",
   "metadata": {},
   "source": [
    "Ahora queremos hacer que las que coincidan hagan una lista"
   ]
  },
  {
   "cell_type": "code",
   "execution_count": 2,
   "metadata": {},
   "outputs": [
    {
     "name": "stdout",
     "output_type": "stream",
     "text": [
      "['a']\n",
      "['a', 'c']\n"
     ]
    }
   ],
   "source": [
    "coincidencias=[]\n",
    "\n",
    "for i in letters:\n",
    "    if i in t3:\n",
    "        coincidencias.append(i)\n",
    "        print(coincidencias)"
   ]
  },
  {
   "cell_type": "code",
   "execution_count": 6,
   "metadata": {},
   "outputs": [
    {
     "name": "stdout",
     "output_type": "stream",
     "text": [
      "['a', 'c']\n"
     ]
    }
   ],
   "source": [
    "\n",
    "coincidencias=[]\n",
    "for i in letters:\n",
    "    for x in t3:\n",
    "        if i == x:                               #aqui si\n",
    "            coincidencias.append(i)\n",
    "print(coincidencias)"
   ]
  },
  {
   "cell_type": "code",
   "execution_count": 8,
   "metadata": {},
   "outputs": [
    {
     "name": "stdout",
     "output_type": "stream",
     "text": [
      "['a']\n",
      "['a', 'c']\n"
     ]
    }
   ],
   "source": [
    "\n",
    "lista_final = []\n",
    "for i in letters:\n",
    "    if (i not in lista_final) and (i in t3):   #tampoco es lo que buscamos\n",
    "        lista_final.append(i)\n",
    "        print(lista_final)"
   ]
  },
  {
   "cell_type": "code",
   "execution_count": 12,
   "metadata": {},
   "outputs": [
    {
     "data": {
      "text/plain": [
       "[2, 5]"
      ]
     },
     "execution_count": 12,
     "metadata": {},
     "output_type": "execute_result"
    }
   ],
   "source": [
    "lista = [1,2,3,2,4,5]\n",
    "lista2 = [7,2,5,8,10]\n",
    "list(set(lista).intersection(lista2))"
   ]
  },
  {
   "cell_type": "markdown",
   "metadata": {},
   "source": [
    "First, import the Python random libary"
   ]
  },
  {
   "cell_type": "code",
   "execution_count": 13,
   "metadata": {},
   "outputs": [],
   "source": [
    "import random"
   ]
  },
  {
   "cell_type": "markdown",
   "metadata": {},
   "source": [
    "Crear una lista de 80 valores random entre 0 y 100 y que cada valor sea unico"
   ]
  },
  {
   "cell_type": "code",
   "execution_count": 15,
   "metadata": {},
   "outputs": [
    {
     "name": "stdout",
     "output_type": "stream",
     "text": [
      "[46, 91, 87, 60, 74, 92, 11, 4, 3, 48, 25, 82, 52, 43, 56, 50, 37, 0, 13, 90, 84, 72, 39, 76, 5, 36, 19, 66, 29, 34, 95, 7, 44, 17, 31, 33, 57, 49, 47, 20, 26, 59, 24, 38, 86, 80, 55, 30, 41, 75, 32, 53, 10, 70, 96, 23, 67, 93, 2, 97, 62, 35, 54, 28, 18, 68, 69, 64, 89, 81, 79, 63, 98, 85, 58, 61, 51, 73, 21, 40]\n",
      "80\n"
     ]
    }
   ],
   "source": [
    "\n",
    "# una forma\n",
    "sample_list=random.sample(range(100),k=80)  \n",
    "print(sample_list)\n",
    "\n",
    "print(len(sample_list))                          #random.randin si repite elementos\n",
    "#aList = [20, 40, 80, 100, 120]\n",
    "#sampled_list = random.sample(aList, 3)\n",
    "#sample tiene dos argumentos obligatorios . 1-una lista 2-los elementos randoms que se quieran elegir."
   ]
  },
  {
   "cell_type": "markdown",
   "metadata": {},
   "source": [
    "Convierte a lista a set . Imprime la longitud ¿sigue siento la misma?"
   ]
  },
  {
   "cell_type": "code",
   "execution_count": 26,
   "metadata": {},
   "outputs": [
    {
     "name": "stdout",
     "output_type": "stream",
     "text": [
      "80\n",
      "{0, 2, 3, 4, 5, 7, 10, 11, 13, 17, 18, 19, 20, 21, 23, 24, 25, 26, 28, 29, 30, 31, 32, 33, 34, 35, 36, 37, 38, 39, 40, 41, 43, 44, 46, 47, 48, 49, 50, 51, 52, 53, 54, 55, 56, 57, 58, 59, 60, 61, 62, 63, 64, 66, 67, 68, 69, 70, 72, 73, 74, 75, 76, 79, 80, 81, 82, 84, 85, 86, 87, 89, 90, 91, 92, 93, 95, 96, 97, 98}\n"
     ]
    }
   ],
   "source": [
    "set_1=set(sample_list)\n",
    "print(len(set_1))\n"
   ]
  },
  {
   "cell_type": "markdown",
   "metadata": {},
   "source": [
    "Crear una lista de 80 valores random entre 0 y 100 y los valores no tienen porque ser únicos"
   ]
  },
  {
   "cell_type": "code",
   "execution_count": null,
   "metadata": {},
   "outputs": [],
   "source": [
    "sample_list_2 = []\n",
    "for i in range(80):\n",
    "    sample_list_2.append(random.randint(0,100))\n",
    "print(sample_list_2)\n",
    "\n",
    "#random randin se utiliza para rangos ¡no d elistas! da error  , se le especifica de donde a donde \n",
    "#la eleccion, ambos incluidos.\n",
    "\n",
    "#EN RANDOM.RANDRAGE(DE DONDE, A DONDE, QUE SALTOS), EL ADONDE NO VA INCLUIDO SI ES DE 0-20, 20 NO SALDRÁ.\n"
   ]
  },
  {
   "cell_type": "markdown",
   "metadata": {},
   "source": [
    "¿Y si queremos crear un numero random de un string? "
   ]
  },
  {
   "cell_type": "code",
   "execution_count": 23,
   "metadata": {},
   "outputs": [
    {
     "name": "stdout",
     "output_type": "stream",
     "text": [
      "xxx\n"
     ]
    }
   ],
   "source": [
    "print(random.choice(('xxx', 'yyy', 'zzz')))"
   ]
  },
  {
   "cell_type": "code",
   "execution_count": 24,
   "metadata": {},
   "outputs": [
    {
     "name": "stdout",
     "output_type": "stream",
     "text": [
      "b\n"
     ]
    }
   ],
   "source": [
    "print(random.choice('abcde'))\n"
   ]
  },
  {
   "cell_type": "markdown",
   "metadata": {},
   "source": [
    "\n",
    "Identify the elements present in set1 but not in set2.\n",
    "Identify the elements present in set2 but not in set1.\n",
    "Identify the elements shared between set1 and set2"
   ]
  },
  {
   "cell_type": "code",
   "execution_count": null,
   "metadata": {},
   "outputs": [],
   "source": [
    "\n",
    "set1={0, 2, 3, 4, 5, 7, 10, 11, 13, 17}\n",
    "set=2{18, 19, 7, 68, 69, 70, 13, 5, 74}\n",
    "\n",
    "\n",
    "set3=set1.difference(set2)\n",
    "set4=set2.difference(set1)\n"
   ]
  }
 ],
 "metadata": {
  "kernelspec": {
   "display_name": "Python 3",
   "language": "python",
   "name": "python3"
  },
  "language_info": {
   "codemirror_mode": {
    "name": "ipython",
    "version": 3
   },
   "file_extension": ".py",
   "mimetype": "text/x-python",
   "name": "python",
   "nbconvert_exporter": "python",
   "pygments_lexer": "ipython3",
   "version": "3.6.9"
  }
 },
 "nbformat": 4,
 "nbformat_minor": 4
}
