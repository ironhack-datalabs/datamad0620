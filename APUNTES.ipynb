{
 "cells": [
  {
   "cell_type": "markdown",
   "metadata": {},
   "source": [
    "#        ######################## SUM ####################"
   ]
  },
  {
   "cell_type": "code",
   "execution_count": 21,
   "metadata": {},
   "outputs": [
    {
     "name": "stdout",
     "output_type": "stream",
     "text": [
      "115.2\n",
      "115\n",
      "115\n",
      "115\n",
      "1118192146\n",
      "1-2-4-1\n"
     ]
    }
   ],
   "source": [
    "                                         ######SUM####\n",
    "                                       #se usa para sumar valores d euna lista, set, dict, o tupla .\n",
    "                                        #estos valores pueden ser numeros enteros o float no string\n",
    "        \n",
    "        \n",
    "#List\n",
    "\n",
    "listA = [\n",
    "    11.2,\n",
    "    18,\n",
    "    19,\n",
    "    21,\n",
    "    46\n",
    "]\n",
    "\n",
    "print(sum(listA))\n",
    "\n",
    "#tupla\n",
    "tupA = (\n",
    "    11,\n",
    "    18,\n",
    "    19,\n",
    "    21,\n",
    "    46\n",
    ")\n",
    "\n",
    "print(sum(tupA))\n",
    "\n",
    "#set\n",
    "setA = {\n",
    "    11,\n",
    "    18,\n",
    "    19,\n",
    "    21,\n",
    "    46\n",
    "}\n",
    "\n",
    "print(sum(setA))\n",
    "\n",
    "#dict\n",
    "dictA = {\n",
    "    11: 'Eleven',\n",
    "    18: 'Dustin',\n",
    "    19: 'Mike',\n",
    "    21: 'Lucas',\n",
    "    46: 'Noah'\n",
    "}\n",
    "\n",
    "print(sum(dictA))\n",
    "\n",
    "dictA = {\n",
    "    '11': 'Eleven',\n",
    "    '18': 'Dustin',\n",
    "    '19': 'Mike',\n",
    "    '21': 'Lucas',\n",
    "    '46': 'Noah'\n",
    "}\n",
    "\n",
    "print(\"\".join(dictA))\n",
    "\n",
    "\n",
    "                                                    #si lo que s equiere unir son string, utilizar join.\n",
    "#otro ejemplo de join aunque no viene al caso\n",
    "print('-'.join(['1','2','4','1']))\n"
   ]
  },
  {
   "cell_type": "markdown",
   "metadata": {},
   "source": [
    "# APPEND"
   ]
  },
  {
   "cell_type": "code",
   "execution_count": null,
   "metadata": {},
   "outputs": [],
   "source": [
    "#sirve para añadir elementos"
   ]
  },
  {
   "cell_type": "code",
   "execution_count": null,
   "metadata": {},
   "outputs": [],
   "source": [
    "# BOOLEAN"
   ]
  },
  {
   "cell_type": "code",
   "execution_count": null,
   "metadata": {},
   "outputs": [],
   "source": [
    "# STRING"
   ]
  },
  {
   "cell_type": "code",
   "execution_count": null,
   "metadata": {},
   "outputs": [],
   "source": [
    "# LISTS"
   ]
  },
  {
   "cell_type": "code",
   "execution_count": null,
   "metadata": {},
   "outputs": [],
   "source": [
    "# TUPLES"
   ]
  },
  {
   "cell_type": "code",
   "execution_count": null,
   "metadata": {},
   "outputs": [],
   "source": [
    "# DICTS"
   ]
  },
  {
   "cell_type": "code",
   "execution_count": null,
   "metadata": {},
   "outputs": [],
   "source": [
    "# SETS"
   ]
  },
  {
   "cell_type": "markdown",
   "metadata": {},
   "source": [
    "#        ######################## LEN ####################"
   ]
  },
  {
   "cell_type": "code",
   "execution_count": null,
   "metadata": {},
   "outputs": [],
   "source": [
    "# INTEGER"
   ]
  },
  {
   "cell_type": "code",
   "execution_count": null,
   "metadata": {},
   "outputs": [],
   "source": [
    "# FLOAT"
   ]
  },
  {
   "cell_type": "code",
   "execution_count": null,
   "metadata": {},
   "outputs": [],
   "source": [
    "# BOOLEAN"
   ]
  },
  {
   "cell_type": "code",
   "execution_count": null,
   "metadata": {},
   "outputs": [],
   "source": [
    "# STRING"
   ]
  },
  {
   "cell_type": "code",
   "execution_count": null,
   "metadata": {},
   "outputs": [],
   "source": [
    "# LISTS"
   ]
  },
  {
   "cell_type": "code",
   "execution_count": null,
   "metadata": {},
   "outputs": [],
   "source": [
    "# TUPLES"
   ]
  },
  {
   "cell_type": "code",
   "execution_count": null,
   "metadata": {},
   "outputs": [],
   "source": [
    "# DICTS"
   ]
  },
  {
   "cell_type": "code",
   "execution_count": null,
   "metadata": {},
   "outputs": [],
   "source": [
    "# SETS"
   ]
  },
  {
   "cell_type": "code",
   "execution_count": 58,
   "metadata": {},
   "outputs": [
    {
     "name": "stdout",
     "output_type": "stream",
     "text": [
      "3\n"
     ]
    }
   ],
   "source": [
    "\n",
    "n = [\"Marta\",\"Ana\",\"Laura\"]\n",
    "\n",
    "print(len(n))\n",
    "\n",
    "\n",
    "\n",
    "\n"
   ]
  },
  {
   "cell_type": "code",
   "execution_count": 38,
   "metadata": {},
   "outputs": [
    {
     "name": "stdout",
     "output_type": "stream",
     "text": [
      "1\n",
      "2\n",
      "3\n",
      "4\n"
     ]
    }
   ],
   "source": [
    "nombres = [1,2,3,4]\n",
    "\n",
    "for i in range(len(nombres)):\n",
    "    print(nombres[i])"
   ]
  },
  {
   "cell_type": "code",
   "execution_count": 67,
   "metadata": {},
   "outputs": [
    {
     "name": "stdout",
     "output_type": "stream",
     "text": [
      "Marta\n",
      "Ana\n",
      "Laura\n",
      "0 Marta\n",
      "0 ['Marta', 'Ana', 'Laura']\n",
      "1 Ana\n",
      "1 ['Marta', 'Ana', 'Laura']\n",
      "2 Laura\n",
      "2 ['Marta', 'Ana', 'Laura']\n"
     ]
    }
   ],
   "source": [
    "\n",
    "n = [\"Marta\",\"Ana\",\"Laura\"]\n",
    "\n",
    "for e in n:\n",
    "    print(e)\n",
    "\n",
    "# Index iteration\n",
    "for i in range(len(n)):\n",
    "    print(i,n[i])\n",
    "    print(i,n)"
   ]
  },
  {
   "cell_type": "code",
   "execution_count": null,
   "metadata": {},
   "outputs": [],
   "source": []
  }
 ],
 "metadata": {
  "kernelspec": {
   "display_name": "Python 3",
   "language": "python",
   "name": "python3"
  },
  "language_info": {
   "codemirror_mode": {
    "name": "ipython",
    "version": 3
   },
   "file_extension": ".py",
   "mimetype": "text/x-python",
   "name": "python",
   "nbconvert_exporter": "python",
   "pygments_lexer": "ipython3",
   "version": "3.6.9"
  }
 },
 "nbformat": 4,
 "nbformat_minor": 4
}
