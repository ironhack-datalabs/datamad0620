{
 "cells": [
  {
   "cell_type": "code",
   "execution_count": 7,
   "metadata": {},
   "outputs": [
    {
     "name": "stdout",
     "output_type": "stream",
     "text": [
      "0\n",
      "1\n",
      "2\n",
      "3\n"
     ]
    }
   ],
   "source": [
    "nombres = [\"Pepe\",\"Marta\",\"Ana\", \"Juan\"]\n",
    "apellidos = [\"Garcia\",\"Lopez\",\"Perez\"]\n",
    "notas = [[5,3],[2,5,9],[3]]\n",
    "\n",
    "for i, alumno in enumerate(nombres):\n",
    "    print(i)\n",
    "    \n"
   ]
  },
  {
   "cell_type": "code",
   "execution_count": 6,
   "metadata": {},
   "outputs": [
    {
     "name": "stdout",
     "output_type": "stream",
     "text": [
      "0 Pepe Garcia [5, 3]\n",
      "1 Marta Lopez [2, 5, 9]\n",
      "2 Ana Perez [3]\n"
     ]
    }
   ],
   "source": [
    "\n",
    "nombres = [\"Pepe\",\"Marta\",\"Ana\"]\n",
    "apellidos = [\"Garcia\",\"Lopez\",\"Perez\"]\n",
    "notas = [[5,3],[2,5,9],[3]]\n",
    "\n",
    "for i, alumno in enumerate(nombres):\n",
    "    print(i, alumno, apellidos[i], notas[i])"
   ]
  },
  {
   "cell_type": "code",
   "execution_count": 3,
   "metadata": {},
   "outputs": [
    {
     "name": "stdout",
     "output_type": "stream",
     "text": [
      "2850\n"
     ]
    }
   ],
   "source": [
    "num=76\n",
    "\n",
    "def summation(num):\n",
    "    # This function returns 1+2+3+....+num    \n",
    "    # Your code here:\n",
    "    return sum(range(num))\n",
    "print(summation(num))\n"
   ]
  },
  {
   "cell_type": "code",
   "execution_count": 4,
   "metadata": {},
   "outputs": [
    {
     "name": "stdout",
     "output_type": "stream",
     "text": [
      "2850\n"
     ]
    }
   ],
   "source": [
    "\n",
    "def summation(num):\n",
    "    # This function returns 1+2+3+....+num    \n",
    "    # Your code here:\n",
    "    return sum(list(range(num)))\n",
    "print(summation(num))"
   ]
  },
  {
   "cell_type": "code",
   "execution_count": null,
   "metadata": {},
   "outputs": [],
   "source": []
  }
 ],
 "metadata": {
  "kernelspec": {
   "display_name": "Python 3",
   "language": "python",
   "name": "python3"
  },
  "language_info": {
   "codemirror_mode": {
    "name": "ipython",
    "version": 3
   },
   "file_extension": ".py",
   "mimetype": "text/x-python",
   "name": "python",
   "nbconvert_exporter": "python",
   "pygments_lexer": "ipython3",
   "version": "3.6.9"
  }
 },
 "nbformat": 4,
 "nbformat_minor": 4
}
